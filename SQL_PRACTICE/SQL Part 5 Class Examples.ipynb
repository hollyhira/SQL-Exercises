{
    "metadata": {
        "kernelspec": {
            "name": "SQL",
            "display_name": "SQL",
            "language": "sql"
        },
        "language_info": {
            "name": "sql",
            "version": ""
        }
    },
    "nbformat_minor": 2,
    "nbformat": 4,
    "cells": [
        {
            "cell_type": "markdown",
            "source": [
                "**Creating a New Table**"
            ],
            "metadata": {
                "azdata_cell_guid": "e80fc66b-4b15-4d84-ac71-e5541c14bddc"
            },
            "attachments": {}
        },
        {
            "cell_type": "code",
            "source": [
                "CREATE TABLE instructor_mar_22.flavors (\r\n",
                "    flavor_id INT PRIMARY KEY IDENTITY(2,2),\r\n",
                "    flavor_name VARCHAR(50) NOT NULL\r\n",
                ")"
            ],
            "metadata": {
                "language": "sql",
                "azdata_cell_guid": "61d83b50-7ba3-4274-bbf4-a2d88e38d747",
                "tags": []
            },
            "outputs": [
                {
                    "output_type": "display_data",
                    "data": {
                        "text/html": "Commands completed successfully."
                    },
                    "metadata": {}
                },
                {
                    "output_type": "display_data",
                    "data": {
                        "text/html": "Total execution time: 00:00:00.298"
                    },
                    "metadata": {}
                }
            ],
            "execution_count": 80
        },
        {
            "cell_type": "code",
            "source": [
                "SELECT \r\n",
                "    *\r\n",
                "FROM\r\n",
                "    JunkDB_STL_March2022.instructor_mar_22.flavors"
            ],
            "metadata": {
                "language": "sql",
                "azdata_cell_guid": "62ba3908-7074-4ff8-9bf3-800116eaaf14"
            },
            "outputs": [
                {
                    "output_type": "display_data",
                    "data": {
                        "text/html": "(0 rows affected)"
                    },
                    "metadata": {}
                },
                {
                    "output_type": "display_data",
                    "data": {
                        "text/html": "Total execution time: 00:00:00.079"
                    },
                    "metadata": {}
                },
                {
                    "output_type": "execute_result",
                    "metadata": {},
                    "execution_count": 53,
                    "data": {
                        "application/vnd.dataresource+json": {
                            "schema": {
                                "fields": [
                                    {
                                        "name": "flavor_id"
                                    },
                                    {
                                        "name": "flavor_name"
                                    }
                                ]
                            },
                            "data": []
                        },
                        "text/html": [
                            "<table>",
                            "<tr><th>flavor_id</th><th>flavor_name</th></tr>",
                            "</table>"
                        ]
                    }
                }
            ],
            "execution_count": 53
        },
        {
            "cell_type": "code",
            "source": [
                "CREATE TABLE instructor_mar_22.ice_cream (\r\n",
                "    ice_cream_id INT PRIMARY KEY IDENTITY(1,1),\r\n",
                "    flavor_id INT NOT NULL,\r\n",
                "    creator VARCHAR(50),\r\n",
                "    rating DECIMAL(2, 1) CONSTRAINT limited_rating CHECK(rating <= 10), --e.g can be 7.5\r\n",
                "    creation_date DATE,\r\n",
                "    release DATETIME,\r\n",
                "    CONSTRAINT reasonable_realease_date CHECK(release > creation_date), -- can't release a flavor before it is created!\r\n",
                "    FOREIGN KEY (flavor_id) REFERENCES instructor_mar_22.flavors (flavor_id)\r\n",
                ")"
            ],
            "metadata": {
                "azdata_cell_guid": "7a5c13fa-2dcf-4930-97c7-23fd7c078d70",
                "language": "sql",
                "tags": []
            },
            "outputs": [
                {
                    "output_type": "display_data",
                    "data": {
                        "text/html": "Commands completed successfully."
                    },
                    "metadata": {}
                },
                {
                    "output_type": "display_data",
                    "data": {
                        "text/html": "Total execution time: 00:00:00.069"
                    },
                    "metadata": {}
                }
            ],
            "execution_count": 81
        },
        {
            "cell_type": "code",
            "source": [
                "SELECT \r\n",
                "    *\r\n",
                "FROM \r\n",
                "    instructor_mar_22.ice_cream"
            ],
            "metadata": {
                "azdata_cell_guid": "673d0339-37e7-41d9-a444-9c17d8ffa767",
                "language": "sql",
                "tags": []
            },
            "outputs": [
                {
                    "output_type": "display_data",
                    "data": {
                        "text/html": "(0 rows affected)"
                    },
                    "metadata": {}
                },
                {
                    "output_type": "display_data",
                    "data": {
                        "text/html": "Total execution time: 00:00:00.093"
                    },
                    "metadata": {}
                },
                {
                    "output_type": "execute_result",
                    "metadata": {},
                    "execution_count": 55,
                    "data": {
                        "application/vnd.dataresource+json": {
                            "schema": {
                                "fields": [
                                    {
                                        "name": "ice_cream_id"
                                    },
                                    {
                                        "name": "flavor_id"
                                    },
                                    {
                                        "name": "creator"
                                    },
                                    {
                                        "name": "rating"
                                    },
                                    {
                                        "name": "creation_date"
                                    },
                                    {
                                        "name": "release"
                                    }
                                ]
                            },
                            "data": []
                        },
                        "text/html": [
                            "<table>",
                            "<tr><th>ice_cream_id</th><th>flavor_id</th><th>creator</th><th>rating</th><th>creation_date</th><th>release</th></tr>",
                            "</table>"
                        ]
                    }
                }
            ],
            "execution_count": 55
        },
        {
            "cell_type": "markdown",
            "source": [
                "**Adding Records to a Table**"
            ],
            "metadata": {
                "azdata_cell_guid": "b1dfae4a-5355-4e7b-a38e-33b1b2399516"
            },
            "attachments": {}
        },
        {
            "cell_type": "code",
            "source": [
                "INSERT INTO instructor_mar_22.ice_cream (flavor_id, creator, rating, creation_date, release)\r\n",
                "VALUES (10, 'Emily Lynn', 8.5, '2020-07-10', '2022-07-10 12:00:00')"
            ],
            "metadata": {
                "azdata_cell_guid": "fa8ccfc8-a7dc-41bd-b751-6ad3678a7e7f",
                "language": "sql",
                "tags": []
            },
            "outputs": [
                {
                    "output_type": "error",
                    "evalue": "Msg 547, Level 16, State 0, Line 1\r\nThe INSERT statement conflicted with the FOREIGN KEY constraint \"FK__ice_cream__flavo__3587F3E0\". The conflict occurred in database \"JunkDB_STL_March2022\", table \"instructor_mar_22.flavors\", column 'flavor_id'.",
                    "ename": "",
                    "traceback": []
                },
                {
                    "output_type": "display_data",
                    "data": {
                        "text/html": "The statement has been terminated."
                    },
                    "metadata": {}
                },
                {
                    "output_type": "display_data",
                    "data": {
                        "text/html": "Total execution time: 00:00:00.073"
                    },
                    "metadata": {}
                }
            ],
            "execution_count": 56
        },
        {
            "cell_type": "code",
            "source": [
                "INSERT INTO instructor_mar_22.flavors\r\n",
                "VALUES ('cookies and cream')"
            ],
            "metadata": {
                "language": "sql",
                "azdata_cell_guid": "a37ddca8-f694-455f-98a4-4b2ade288875",
                "tags": []
            },
            "outputs": [
                {
                    "output_type": "display_data",
                    "data": {
                        "text/html": "(1 row affected)"
                    },
                    "metadata": {}
                },
                {
                    "output_type": "display_data",
                    "data": {
                        "text/html": "Total execution time: 00:00:00.079"
                    },
                    "metadata": {}
                }
            ],
            "execution_count": 82
        },
        {
            "cell_type": "code",
            "source": [
                "SELECT\r\n",
                "    *\r\n",
                "FROM\r\n",
                "    instructor_mar_22.flavors"
            ],
            "metadata": {
                "language": "sql",
                "azdata_cell_guid": "ec0f9560-faa9-4d06-b149-d420515608e5",
                "tags": []
            },
            "outputs": [
                {
                    "output_type": "display_data",
                    "data": {
                        "text/html": "(1 row affected)"
                    },
                    "metadata": {}
                },
                {
                    "output_type": "display_data",
                    "data": {
                        "text/html": "Total execution time: 00:00:00.065"
                    },
                    "metadata": {}
                },
                {
                    "output_type": "execute_result",
                    "metadata": {},
                    "execution_count": 58,
                    "data": {
                        "application/vnd.dataresource+json": {
                            "schema": {
                                "fields": [
                                    {
                                        "name": "flavor_id"
                                    },
                                    {
                                        "name": "flavor_name"
                                    }
                                ]
                            },
                            "data": [
                                {
                                    "0": "2",
                                    "1": "cookies and cream"
                                }
                            ]
                        },
                        "text/html": [
                            "<table>",
                            "<tr><th>flavor_id</th><th>flavor_name</th></tr>",
                            "<tr><td>2</td><td>cookies and cream</td></tr>",
                            "</table>"
                        ]
                    }
                }
            ],
            "execution_count": 58
        },
        {
            "cell_type": "code",
            "source": [
                "INSERT INTO instructor_mar_22.flavors\r\n",
                "VALUES ('4', 'chocolate')"
            ],
            "metadata": {
                "language": "sql",
                "azdata_cell_guid": "c5de89db-545b-4f8b-95dd-8e72e8dcd780",
                "tags": []
            },
            "outputs": [
                {
                    "output_type": "error",
                    "evalue": "Msg 8101, Level 16, State 1, Line 1\r\nAn explicit value for the identity column in table 'instructor_mar_22.flavors' can only be specified when a column list is used and IDENTITY_INSERT is ON.",
                    "ename": "",
                    "traceback": []
                },
                {
                    "output_type": "display_data",
                    "data": {
                        "text/html": "Total execution time: 00:00:00.084"
                    },
                    "metadata": {}
                }
            ],
            "execution_count": 59
        },
        {
            "cell_type": "code",
            "source": [
                "INSERT INTO instructor_mar_22.flavors\r\n",
                "VALUES\r\n",
                "    ('chocolate'),\r\n",
                "    ('vanilla'),\r\n",
                "    ('strawberry'),\r\n",
                "    ('moose tracks'),\r\n",
                "    ('cotten candy')"
            ],
            "metadata": {
                "language": "sql",
                "azdata_cell_guid": "a98f480a-99fc-4b62-86b8-a9a88ff0466a",
                "tags": []
            },
            "outputs": [
                {
                    "output_type": "display_data",
                    "data": {
                        "text/html": "(5 rows affected)"
                    },
                    "metadata": {}
                },
                {
                    "output_type": "display_data",
                    "data": {
                        "text/html": "Total execution time: 00:00:00.103"
                    },
                    "metadata": {}
                }
            ],
            "execution_count": 83
        },
        {
            "cell_type": "code",
            "source": [
                "SELECT\r\n",
                "    *\r\n",
                "FROM\r\n",
                "    instructor_mar_22.flavors"
            ],
            "metadata": {
                "language": "sql",
                "azdata_cell_guid": "9adfa7fe-cc16-4796-8178-ee2074f2efd8",
                "tags": []
            },
            "outputs": [
                {
                    "output_type": "display_data",
                    "data": {
                        "text/html": "(6 rows affected)"
                    },
                    "metadata": {}
                },
                {
                    "output_type": "display_data",
                    "data": {
                        "text/html": "Total execution time: 00:00:00.069"
                    },
                    "metadata": {}
                },
                {
                    "output_type": "execute_result",
                    "metadata": {},
                    "execution_count": 61,
                    "data": {
                        "application/vnd.dataresource+json": {
                            "schema": {
                                "fields": [
                                    {
                                        "name": "flavor_id"
                                    },
                                    {
                                        "name": "flavor_name"
                                    }
                                ]
                            },
                            "data": [
                                {
                                    "0": "2",
                                    "1": "cookies and cream"
                                },
                                {
                                    "0": "4",
                                    "1": "chocolate"
                                },
                                {
                                    "0": "6",
                                    "1": "vanilla"
                                },
                                {
                                    "0": "8",
                                    "1": "strawberry"
                                },
                                {
                                    "0": "10",
                                    "1": "moose tracks"
                                },
                                {
                                    "0": "12",
                                    "1": "cotten candy"
                                }
                            ]
                        },
                        "text/html": [
                            "<table>",
                            "<tr><th>flavor_id</th><th>flavor_name</th></tr>",
                            "<tr><td>2</td><td>cookies and cream</td></tr>",
                            "<tr><td>4</td><td>chocolate</td></tr>",
                            "<tr><td>6</td><td>vanilla</td></tr>",
                            "<tr><td>8</td><td>strawberry</td></tr>",
                            "<tr><td>10</td><td>moose tracks</td></tr>",
                            "<tr><td>12</td><td>cotten candy</td></tr>",
                            "</table>"
                        ]
                    }
                }
            ],
            "execution_count": 61
        },
        {
            "cell_type": "code",
            "source": [
                "INSERT INTO instructor_mar_22.ice_cream (flavor_id, creator, rating, creation_date, release)\r\n",
                "VALUES (10, 'Emily Lynn', 8.5, '2020-07-10', '2022-07-10 12:00:00')"
            ],
            "metadata": {
                "language": "sql",
                "azdata_cell_guid": "22b64f84-11ec-4553-9e06-e57481f5ac2b",
                "tags": []
            },
            "outputs": [
                {
                    "output_type": "display_data",
                    "data": {
                        "text/html": "(1 row affected)"
                    },
                    "metadata": {}
                },
                {
                    "output_type": "display_data",
                    "data": {
                        "text/html": "Total execution time: 00:00:00.077"
                    },
                    "metadata": {}
                }
            ],
            "execution_count": 62
        },
        {
            "cell_type": "code",
            "source": [
                "SELECT \r\n",
                "    *\r\n",
                "FROM\r\n",
                "    instructor_mar_22.ice_cream"
            ],
            "metadata": {
                "language": "sql",
                "azdata_cell_guid": "351d8d0e-e9d1-414f-aa99-c2985ddb1a3b",
                "tags": []
            },
            "outputs": [
                {
                    "output_type": "display_data",
                    "data": {
                        "text/html": "(1 row affected)"
                    },
                    "metadata": {}
                },
                {
                    "output_type": "display_data",
                    "data": {
                        "text/html": "Total execution time: 00:00:00.079"
                    },
                    "metadata": {}
                },
                {
                    "output_type": "execute_result",
                    "metadata": {},
                    "execution_count": 63,
                    "data": {
                        "application/vnd.dataresource+json": {
                            "schema": {
                                "fields": [
                                    {
                                        "name": "ice_cream_id"
                                    },
                                    {
                                        "name": "flavor_id"
                                    },
                                    {
                                        "name": "creator"
                                    },
                                    {
                                        "name": "rating"
                                    },
                                    {
                                        "name": "creation_date"
                                    },
                                    {
                                        "name": "release"
                                    }
                                ]
                            },
                            "data": [
                                {
                                    "0": "2",
                                    "1": "10",
                                    "2": "Emily Lynn",
                                    "3": "8.5",
                                    "4": "2020-07-10",
                                    "5": "2022-07-10 12:00:00.000"
                                }
                            ]
                        },
                        "text/html": [
                            "<table>",
                            "<tr><th>ice_cream_id</th><th>flavor_id</th><th>creator</th><th>rating</th><th>creation_date</th><th>release</th></tr>",
                            "<tr><td>2</td><td>10</td><td>Emily Lynn</td><td>8.5</td><td>2020-07-10</td><td>2022-07-10 12:00:00.000</td></tr>",
                            "</table>"
                        ]
                    }
                }
            ],
            "execution_count": 63
        },
        {
            "cell_type": "markdown",
            "source": [
                "Notice the ice\\_cream\\_id..."
            ],
            "metadata": {
                "language": "sql",
                "azdata_cell_guid": "1445c0dc-aa68-4e8f-9fa5-1d347938299e"
            },
            "attachments": {}
        },
        {
            "cell_type": "code",
            "source": [
                "INSERT INTO instructor_mar_22.ice_cream (flavor_id, creator, rating, creation_date, release)\r\n",
                "VALUES (8, 'John Smith', 6, '2023-07-10', '2022-07-10 12:00:00')"
            ],
            "metadata": {
                "language": "sql",
                "azdata_cell_guid": "79eb027b-5545-444e-b55e-eb8227800457",
                "tags": []
            },
            "outputs": [
                {
                    "output_type": "error",
                    "evalue": "Msg 547, Level 16, State 0, Line 1\r\nThe INSERT statement conflicted with the CHECK constraint \"CK__ice_cream__3493CFA7\". The conflict occurred in database \"JunkDB_STL_March2022\", table \"instructor_mar_22.ice_cream\".",
                    "ename": "",
                    "traceback": []
                },
                {
                    "output_type": "display_data",
                    "data": {
                        "text/html": "The statement has been terminated."
                    },
                    "metadata": {}
                },
                {
                    "output_type": "display_data",
                    "data": {
                        "text/html": "Total execution time: 00:00:00.089"
                    },
                    "metadata": {}
                }
            ],
            "execution_count": 64
        },
        {
            "cell_type": "code",
            "source": [
                "INSERT INTO instructor_mar_22.ice_cream \r\n",
                "VALUES \r\n",
                "    (6, 'Jonas Campos', 8.3, '2013-05-06', '2014-07-10 12:00:00'),\r\n",
                "    (4, 'Harper Bryan', 9, '2019-01-01', '2020-07-10 12:00:00'),\r\n",
                "    (2, 'Lea Lamatina', 9.5, '2015-12-30', '2016-07-10 12:00:00'),\r\n",
                "    (12, 'Ronisha Harvey', 7.5, '2021-03-15', '2022-07-10 12:00:00')"
            ],
            "metadata": {
                "language": "sql",
                "azdata_cell_guid": "101cb4ff-469a-45b8-915e-d89524b7ea5f",
                "tags": []
            },
            "outputs": [
                {
                    "output_type": "display_data",
                    "data": {
                        "text/html": "(4 rows affected)"
                    },
                    "metadata": {}
                },
                {
                    "output_type": "display_data",
                    "data": {
                        "text/html": "Total execution time: 00:00:00.104"
                    },
                    "metadata": {}
                }
            ],
            "execution_count": 84
        },
        {
            "cell_type": "code",
            "source": [
                "SELECT\r\n",
                "    *\r\n",
                "FROM\r\n",
                "    instructor_mar_22.ice_cream"
            ],
            "metadata": {
                "language": "sql",
                "azdata_cell_guid": "6109df2a-7c8c-40f1-8579-5a8d1de67d25",
                "tags": []
            },
            "outputs": [
                {
                    "output_type": "display_data",
                    "data": {
                        "text/html": "(5 rows affected)"
                    },
                    "metadata": {}
                },
                {
                    "output_type": "display_data",
                    "data": {
                        "text/html": "Total execution time: 00:00:00.097"
                    },
                    "metadata": {}
                },
                {
                    "output_type": "execute_result",
                    "metadata": {},
                    "execution_count": 66,
                    "data": {
                        "application/vnd.dataresource+json": {
                            "schema": {
                                "fields": [
                                    {
                                        "name": "ice_cream_id"
                                    },
                                    {
                                        "name": "flavor_id"
                                    },
                                    {
                                        "name": "creator"
                                    },
                                    {
                                        "name": "rating"
                                    },
                                    {
                                        "name": "creation_date"
                                    },
                                    {
                                        "name": "release"
                                    }
                                ]
                            },
                            "data": [
                                {
                                    "0": "2",
                                    "1": "10",
                                    "2": "Emily Lynn",
                                    "3": "8.5",
                                    "4": "2020-07-10",
                                    "5": "2022-07-10 12:00:00.000"
                                },
                                {
                                    "0": "4",
                                    "1": "6",
                                    "2": "Jonas Campos",
                                    "3": "8.3",
                                    "4": "2013-05-06",
                                    "5": "2014-07-10 12:00:00.000"
                                },
                                {
                                    "0": "5",
                                    "1": "4",
                                    "2": "Harper Bryan",
                                    "3": "9.0",
                                    "4": "2019-01-01",
                                    "5": "2020-07-10 12:00:00.000"
                                },
                                {
                                    "0": "6",
                                    "1": "2",
                                    "2": "Lea Lamatina",
                                    "3": "9.5",
                                    "4": "2015-12-30",
                                    "5": "2016-07-10 12:00:00.000"
                                },
                                {
                                    "0": "7",
                                    "1": "12",
                                    "2": "Ronisha Harvey",
                                    "3": "7.5",
                                    "4": "2021-03-15",
                                    "5": "2022-07-10 12:00:00.000"
                                }
                            ]
                        },
                        "text/html": [
                            "<table>",
                            "<tr><th>ice_cream_id</th><th>flavor_id</th><th>creator</th><th>rating</th><th>creation_date</th><th>release</th></tr>",
                            "<tr><td>2</td><td>10</td><td>Emily Lynn</td><td>8.5</td><td>2020-07-10</td><td>2022-07-10 12:00:00.000</td></tr>",
                            "<tr><td>4</td><td>6</td><td>Jonas Campos</td><td>8.3</td><td>2013-05-06</td><td>2014-07-10 12:00:00.000</td></tr>",
                            "<tr><td>5</td><td>4</td><td>Harper Bryan</td><td>9.0</td><td>2019-01-01</td><td>2020-07-10 12:00:00.000</td></tr>",
                            "<tr><td>6</td><td>2</td><td>Lea Lamatina</td><td>9.5</td><td>2015-12-30</td><td>2016-07-10 12:00:00.000</td></tr>",
                            "<tr><td>7</td><td>12</td><td>Ronisha Harvey</td><td>7.5</td><td>2021-03-15</td><td>2022-07-10 12:00:00.000</td></tr>",
                            "</table>"
                        ]
                    }
                }
            ],
            "execution_count": 66
        },
        {
            "cell_type": "markdown",
            "source": [
                "**Creating a Table Based on Another Table**"
            ],
            "metadata": {
                "azdata_cell_guid": "9b48a0aa-f043-413b-a36e-fefab542d2f5"
            },
            "attachments": {}
        },
        {
            "cell_type": "code",
            "source": [
                "SELECT\r\n",
                "    creator AS ice_cream_aficionado\r\n",
                "INTO \r\n",
                "    instructor_mar_22.creators\r\n",
                "FROM\r\n",
                "    instructor_mar_22.ice_cream"
            ],
            "metadata": {
                "azdata_cell_guid": "49afb3b8-037e-46e1-a223-5137697a5e16",
                "language": "sql",
                "tags": []
            },
            "outputs": [
                {
                    "output_type": "display_data",
                    "data": {
                        "text/html": "(5 rows affected)"
                    },
                    "metadata": {}
                },
                {
                    "output_type": "display_data",
                    "data": {
                        "text/html": "Total execution time: 00:00:00.208"
                    },
                    "metadata": {}
                }
            ],
            "execution_count": 67
        },
        {
            "cell_type": "code",
            "source": [
                "SELECT\r\n",
                "    *\r\n",
                "FROM    \r\n",
                "    instructor_mar_22.creators"
            ],
            "metadata": {
                "language": "sql",
                "azdata_cell_guid": "6ebf3414-a4d6-4bf8-90b6-558fd9a9eacd",
                "tags": []
            },
            "outputs": [
                {
                    "output_type": "display_data",
                    "data": {
                        "text/html": "(5 rows affected)"
                    },
                    "metadata": {}
                },
                {
                    "output_type": "display_data",
                    "data": {
                        "text/html": "Total execution time: 00:00:00.084"
                    },
                    "metadata": {}
                },
                {
                    "output_type": "execute_result",
                    "metadata": {},
                    "execution_count": 68,
                    "data": {
                        "application/vnd.dataresource+json": {
                            "schema": {
                                "fields": [
                                    {
                                        "name": "ice_cream_aficionado"
                                    }
                                ]
                            },
                            "data": [
                                {
                                    "0": "Emily Lynn"
                                },
                                {
                                    "0": "Jonas Campos"
                                },
                                {
                                    "0": "Harper Bryan"
                                },
                                {
                                    "0": "Lea Lamatina"
                                },
                                {
                                    "0": "Ronisha Harvey"
                                }
                            ]
                        },
                        "text/html": [
                            "<table>",
                            "<tr><th>ice_cream_aficionado</th></tr>",
                            "<tr><td>Emily Lynn</td></tr>",
                            "<tr><td>Jonas Campos</td></tr>",
                            "<tr><td>Harper Bryan</td></tr>",
                            "<tr><td>Lea Lamatina</td></tr>",
                            "<tr><td>Ronisha Harvey</td></tr>",
                            "</table>"
                        ]
                    }
                }
            ],
            "execution_count": 68
        },
        {
            "cell_type": "markdown",
            "source": [
                "**Editing an Existing Record**"
            ],
            "metadata": {
                "azdata_cell_guid": "4969a313-1217-42e9-85a6-b3e2c0226efa"
            },
            "attachments": {}
        },
        {
            "cell_type": "code",
            "source": [
                "UPDATE \r\n",
                "    instructor_mar_22.ice_cream\r\n",
                "SET\r\n",
                "    rating = 5.4\r\n",
                "WHERE\r\n",
                "    ice_cream_id = 2"
            ],
            "metadata": {
                "azdata_cell_guid": "5c42efd7-e8b1-4239-95a9-873a71b0495a",
                "language": "sql",
                "tags": []
            },
            "outputs": [
                {
                    "output_type": "display_data",
                    "data": {
                        "text/html": "(1 row affected)"
                    },
                    "metadata": {}
                },
                {
                    "output_type": "display_data",
                    "data": {
                        "text/html": "Total execution time: 00:00:00.307"
                    },
                    "metadata": {}
                }
            ],
            "execution_count": 69
        },
        {
            "cell_type": "code",
            "source": [
                "SELECT\r\n",
                "    *\r\n",
                "FROM\r\n",
                "    instructor_mar_22.ice_cream"
            ],
            "metadata": {
                "language": "sql",
                "azdata_cell_guid": "c67ae5a6-090c-4195-9d88-a0a341926bc5",
                "tags": []
            },
            "outputs": [
                {
                    "output_type": "display_data",
                    "data": {
                        "text/html": "(5 rows affected)"
                    },
                    "metadata": {}
                },
                {
                    "output_type": "display_data",
                    "data": {
                        "text/html": "Total execution time: 00:00:00.164"
                    },
                    "metadata": {}
                },
                {
                    "output_type": "execute_result",
                    "metadata": {},
                    "execution_count": 70,
                    "data": {
                        "application/vnd.dataresource+json": {
                            "schema": {
                                "fields": [
                                    {
                                        "name": "ice_cream_id"
                                    },
                                    {
                                        "name": "flavor_id"
                                    },
                                    {
                                        "name": "creator"
                                    },
                                    {
                                        "name": "rating"
                                    },
                                    {
                                        "name": "creation_date"
                                    },
                                    {
                                        "name": "release"
                                    }
                                ]
                            },
                            "data": [
                                {
                                    "0": "2",
                                    "1": "10",
                                    "2": "Emily Lynn",
                                    "3": "5.4",
                                    "4": "2020-07-10",
                                    "5": "2022-07-10 12:00:00.000"
                                },
                                {
                                    "0": "4",
                                    "1": "6",
                                    "2": "Jonas Campos",
                                    "3": "8.3",
                                    "4": "2013-05-06",
                                    "5": "2014-07-10 12:00:00.000"
                                },
                                {
                                    "0": "5",
                                    "1": "4",
                                    "2": "Harper Bryan",
                                    "3": "9.0",
                                    "4": "2019-01-01",
                                    "5": "2020-07-10 12:00:00.000"
                                },
                                {
                                    "0": "6",
                                    "1": "2",
                                    "2": "Lea Lamatina",
                                    "3": "9.5",
                                    "4": "2015-12-30",
                                    "5": "2016-07-10 12:00:00.000"
                                },
                                {
                                    "0": "7",
                                    "1": "12",
                                    "2": "Ronisha Harvey",
                                    "3": "7.5",
                                    "4": "2021-03-15",
                                    "5": "2022-07-10 12:00:00.000"
                                }
                            ]
                        },
                        "text/html": [
                            "<table>",
                            "<tr><th>ice_cream_id</th><th>flavor_id</th><th>creator</th><th>rating</th><th>creation_date</th><th>release</th></tr>",
                            "<tr><td>2</td><td>10</td><td>Emily Lynn</td><td>5.4</td><td>2020-07-10</td><td>2022-07-10 12:00:00.000</td></tr>",
                            "<tr><td>4</td><td>6</td><td>Jonas Campos</td><td>8.3</td><td>2013-05-06</td><td>2014-07-10 12:00:00.000</td></tr>",
                            "<tr><td>5</td><td>4</td><td>Harper Bryan</td><td>9.0</td><td>2019-01-01</td><td>2020-07-10 12:00:00.000</td></tr>",
                            "<tr><td>6</td><td>2</td><td>Lea Lamatina</td><td>9.5</td><td>2015-12-30</td><td>2016-07-10 12:00:00.000</td></tr>",
                            "<tr><td>7</td><td>12</td><td>Ronisha Harvey</td><td>7.5</td><td>2021-03-15</td><td>2022-07-10 12:00:00.000</td></tr>",
                            "</table>"
                        ]
                    }
                }
            ],
            "execution_count": 70
        },
        {
            "cell_type": "markdown",
            "source": [
                "**Deleting Records From a Table**"
            ],
            "metadata": {
                "azdata_cell_guid": "03bc3351-e378-41e8-b5b8-f5cacfa0bb6a"
            },
            "attachments": {}
        },
        {
            "cell_type": "code",
            "source": [
                "DELETE FROM \r\n",
                "    instructor_mar_22.ice_cream\r\n",
                "WHERE\r\n",
                "    creator = 'Emily Lynn'"
            ],
            "metadata": {
                "azdata_cell_guid": "d223df52-f0b9-4c87-95fb-43229245e538",
                "language": "sql",
                "tags": []
            },
            "outputs": [
                {
                    "output_type": "display_data",
                    "data": {
                        "text/html": "(1 row affected)"
                    },
                    "metadata": {}
                },
                {
                    "output_type": "display_data",
                    "data": {
                        "text/html": "Total execution time: 00:00:00.116"
                    },
                    "metadata": {}
                }
            ],
            "execution_count": 71
        },
        {
            "cell_type": "code",
            "source": [
                "SELECT\r\n",
                "    *\r\n",
                "FROM\r\n",
                "    instructor_mar_22.ice_cream"
            ],
            "metadata": {
                "language": "sql",
                "azdata_cell_guid": "2cbdf8e1-e345-438a-98f6-252867259323",
                "tags": []
            },
            "outputs": [
                {
                    "output_type": "display_data",
                    "data": {
                        "text/html": "(4 rows affected)"
                    },
                    "metadata": {}
                },
                {
                    "output_type": "display_data",
                    "data": {
                        "text/html": "Total execution time: 00:00:00.099"
                    },
                    "metadata": {}
                },
                {
                    "output_type": "execute_result",
                    "metadata": {},
                    "execution_count": 72,
                    "data": {
                        "application/vnd.dataresource+json": {
                            "schema": {
                                "fields": [
                                    {
                                        "name": "ice_cream_id"
                                    },
                                    {
                                        "name": "flavor_id"
                                    },
                                    {
                                        "name": "creator"
                                    },
                                    {
                                        "name": "rating"
                                    },
                                    {
                                        "name": "creation_date"
                                    },
                                    {
                                        "name": "release"
                                    }
                                ]
                            },
                            "data": [
                                {
                                    "0": "4",
                                    "1": "6",
                                    "2": "Jonas Campos",
                                    "3": "8.3",
                                    "4": "2013-05-06",
                                    "5": "2014-07-10 12:00:00.000"
                                },
                                {
                                    "0": "5",
                                    "1": "4",
                                    "2": "Harper Bryan",
                                    "3": "9.0",
                                    "4": "2019-01-01",
                                    "5": "2020-07-10 12:00:00.000"
                                },
                                {
                                    "0": "6",
                                    "1": "2",
                                    "2": "Lea Lamatina",
                                    "3": "9.5",
                                    "4": "2015-12-30",
                                    "5": "2016-07-10 12:00:00.000"
                                },
                                {
                                    "0": "7",
                                    "1": "12",
                                    "2": "Ronisha Harvey",
                                    "3": "7.5",
                                    "4": "2021-03-15",
                                    "5": "2022-07-10 12:00:00.000"
                                }
                            ]
                        },
                        "text/html": [
                            "<table>",
                            "<tr><th>ice_cream_id</th><th>flavor_id</th><th>creator</th><th>rating</th><th>creation_date</th><th>release</th></tr>",
                            "<tr><td>4</td><td>6</td><td>Jonas Campos</td><td>8.3</td><td>2013-05-06</td><td>2014-07-10 12:00:00.000</td></tr>",
                            "<tr><td>5</td><td>4</td><td>Harper Bryan</td><td>9.0</td><td>2019-01-01</td><td>2020-07-10 12:00:00.000</td></tr>",
                            "<tr><td>6</td><td>2</td><td>Lea Lamatina</td><td>9.5</td><td>2015-12-30</td><td>2016-07-10 12:00:00.000</td></tr>",
                            "<tr><td>7</td><td>12</td><td>Ronisha Harvey</td><td>7.5</td><td>2021-03-15</td><td>2022-07-10 12:00:00.000</td></tr>",
                            "</table>"
                        ]
                    }
                }
            ],
            "execution_count": 72
        },
        {
            "cell_type": "markdown",
            "source": [
                "**Deleting a Table**"
            ],
            "metadata": {
                "azdata_cell_guid": "e93a5682-c194-4b2f-bec4-e092e0c6d839"
            },
            "attachments": {}
        },
        {
            "cell_type": "code",
            "source": [
                "DROP TABLE instructor_mar_22.ice_cream"
            ],
            "metadata": {
                "azdata_cell_guid": "4d41bd04-29c6-4d6a-b9bb-4f26b85f3fd8",
                "language": "sql",
                "tags": [
                    "hide_input"
                ]
            },
            "outputs": [
                {
                    "output_type": "display_data",
                    "data": {
                        "text/html": "Commands completed successfully."
                    },
                    "metadata": {}
                },
                {
                    "output_type": "display_data",
                    "data": {
                        "text/html": "Total execution time: 00:00:00.082"
                    },
                    "metadata": {}
                }
            ],
            "execution_count": 73
        },
        {
            "cell_type": "code",
            "source": [
                "SELECT\r\n",
                "    *\r\n",
                "FROM    \r\n",
                "    instructor_mar_22.ice_cream"
            ],
            "metadata": {
                "language": "sql",
                "azdata_cell_guid": "d87aba6c-0790-4705-9dfd-a7a6e2b91245",
                "tags": []
            },
            "outputs": [
                {
                    "output_type": "error",
                    "evalue": "Msg 208, Level 16, State 1, Line 1\r\nInvalid object name 'instructor_mar_22.ice_cream'.",
                    "ename": "",
                    "traceback": []
                },
                {
                    "output_type": "display_data",
                    "data": {
                        "text/html": "Total execution time: 00:00:00.087"
                    },
                    "metadata": {}
                }
            ],
            "execution_count": 74
        },
        {
            "cell_type": "code",
            "source": [
                "TRUNCATE TABLE instructor_mar_22.flavors"
            ],
            "metadata": {
                "language": "sql",
                "azdata_cell_guid": "807f1fc1-a4f7-4358-a260-103dfe926021",
                "tags": [
                    "hide_input"
                ]
            },
            "outputs": [
                {
                    "output_type": "display_data",
                    "data": {
                        "text/html": "Commands completed successfully."
                    },
                    "metadata": {}
                },
                {
                    "output_type": "display_data",
                    "data": {
                        "text/html": "Total execution time: 00:00:00.134"
                    },
                    "metadata": {}
                }
            ],
            "execution_count": 75
        },
        {
            "cell_type": "code",
            "source": [
                "SELECT\r\n",
                "    *\r\n",
                "FROM\r\n",
                "    instructor_mar_22.flavors"
            ],
            "metadata": {
                "language": "sql",
                "azdata_cell_guid": "12344c03-b701-48b4-aa5c-b342a3a16478",
                "tags": []
            },
            "outputs": [
                {
                    "output_type": "display_data",
                    "data": {
                        "text/html": "(0 rows affected)"
                    },
                    "metadata": {}
                },
                {
                    "output_type": "display_data",
                    "data": {
                        "text/html": "Total execution time: 00:00:00.095"
                    },
                    "metadata": {}
                },
                {
                    "output_type": "execute_result",
                    "metadata": {},
                    "execution_count": 76,
                    "data": {
                        "application/vnd.dataresource+json": {
                            "schema": {
                                "fields": [
                                    {
                                        "name": "flavor_id"
                                    },
                                    {
                                        "name": "flavor_name"
                                    }
                                ]
                            },
                            "data": []
                        },
                        "text/html": [
                            "<table>",
                            "<tr><th>flavor_id</th><th>flavor_name</th></tr>",
                            "</table>"
                        ]
                    }
                }
            ],
            "execution_count": 76
        },
        {
            "cell_type": "code",
            "source": [
                "DROP TABLE instructor_mar_22.flavors"
            ],
            "metadata": {
                "language": "sql",
                "azdata_cell_guid": "cf35f598-8b3f-4ae8-b600-c888e2d594c6",
                "tags": [
                    "hide_input"
                ]
            },
            "outputs": [
                {
                    "output_type": "display_data",
                    "data": {
                        "text/html": "Commands completed successfully."
                    },
                    "metadata": {}
                },
                {
                    "output_type": "display_data",
                    "data": {
                        "text/html": "Total execution time: 00:00:00.155"
                    },
                    "metadata": {}
                }
            ],
            "execution_count": 77
        },
        {
            "cell_type": "code",
            "source": [
                "SELECT\r\n",
                "    *\r\n",
                "FROM\r\n",
                "    instructor_mar_22.flavors"
            ],
            "metadata": {
                "language": "sql",
                "azdata_cell_guid": "d96c7700-c96a-415c-a712-5a37ab3526b0"
            },
            "outputs": [
                {
                    "output_type": "error",
                    "evalue": "Msg 208, Level 16, State 1, Line 1\r\nInvalid object name 'instructor_mar_22.flavors'.",
                    "ename": "",
                    "traceback": []
                },
                {
                    "output_type": "display_data",
                    "data": {
                        "text/html": "Total execution time: 00:00:00.065"
                    },
                    "metadata": {}
                }
            ],
            "execution_count": 78
        },
        {
            "cell_type": "markdown",
            "source": [
                "**Temporary Tables**"
            ],
            "metadata": {
                "azdata_cell_guid": "6450c9fc-9539-43c8-b618-6935e70272f8"
            },
            "attachments": {}
        },
        {
            "cell_type": "code",
            "source": [
                "SELECT \r\n",
                "    *\r\n",
                "INTO\r\n",
                "    #recent_ice_cream\r\n",
                "FROM\r\n",
                "    instructor_mar_22.ice_cream\r\n",
                "WHERE\r\n",
                "    release > '2020-01-01'"
            ],
            "metadata": {
                "azdata_cell_guid": "d4991101-f615-4627-8501-7515218f4b3a",
                "language": "sql",
                "tags": []
            },
            "outputs": [
                {
                    "output_type": "display_data",
                    "data": {
                        "text/html": "(2 rows affected)"
                    },
                    "metadata": {}
                },
                {
                    "output_type": "display_data",
                    "data": {
                        "text/html": "Total execution time: 00:00:00.087"
                    },
                    "metadata": {}
                }
            ],
            "execution_count": 85
        },
        {
            "cell_type": "code",
            "source": [
                "SELECT\r\n",
                "    *\r\n",
                "FROM\r\n",
                "    #recent_ice_cream"
            ],
            "metadata": {
                "language": "sql",
                "azdata_cell_guid": "5b0fedee-0d3d-416b-8c6b-0c9fa47efa40",
                "tags": []
            },
            "outputs": [
                {
                    "output_type": "display_data",
                    "data": {
                        "text/html": "(2 rows affected)"
                    },
                    "metadata": {}
                },
                {
                    "output_type": "display_data",
                    "data": {
                        "text/html": "Total execution time: 00:00:00.106"
                    },
                    "metadata": {}
                },
                {
                    "output_type": "execute_result",
                    "metadata": {},
                    "execution_count": 86,
                    "data": {
                        "application/vnd.dataresource+json": {
                            "schema": {
                                "fields": [
                                    {
                                        "name": "ice_cream_id"
                                    },
                                    {
                                        "name": "flavor_id"
                                    },
                                    {
                                        "name": "creator"
                                    },
                                    {
                                        "name": "rating"
                                    },
                                    {
                                        "name": "creation_date"
                                    },
                                    {
                                        "name": "release"
                                    }
                                ]
                            },
                            "data": [
                                {
                                    "0": "2",
                                    "1": "4",
                                    "2": "Harper Bryan",
                                    "3": "9.0",
                                    "4": "2019-01-01",
                                    "5": "2020-07-10 12:00:00.000"
                                },
                                {
                                    "0": "4",
                                    "1": "12",
                                    "2": "Ronisha Harvey",
                                    "3": "7.5",
                                    "4": "2021-03-15",
                                    "5": "2022-07-10 12:00:00.000"
                                }
                            ]
                        },
                        "text/html": [
                            "<table>",
                            "<tr><th>ice_cream_id</th><th>flavor_id</th><th>creator</th><th>rating</th><th>creation_date</th><th>release</th></tr>",
                            "<tr><td>2</td><td>4</td><td>Harper Bryan</td><td>9.0</td><td>2019-01-01</td><td>2020-07-10 12:00:00.000</td></tr>",
                            "<tr><td>4</td><td>12</td><td>Ronisha Harvey</td><td>7.5</td><td>2021-03-15</td><td>2022-07-10 12:00:00.000</td></tr>",
                            "</table>"
                        ]
                    }
                }
            ],
            "execution_count": 86
        }
    ]
}