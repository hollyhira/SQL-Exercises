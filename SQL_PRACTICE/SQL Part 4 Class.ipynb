{
 "cells": [
  {
   "cell_type": "markdown",
   "id": "67d54d97-a2ff-41fa-acaf-fe8e1fdda400",
   "metadata": {},
   "source": [
    "# SQL Part 3: Non-JOIN Ways to Combine Data"
   ]
  },
  {
   "cell_type": "markdown",
   "id": "f39f19a4-c20a-48b5-ab41-f9d79da1f2ab",
   "metadata": {},
   "source": [
    "<img src=\"https://media3.giphy.com/media/UqeH2KKx0U65oETdDR/source.gif\" width=\"300\" height=\"300\" />"
   ]
  },
  {
   "cell_type": "markdown",
   "id": "77ccac05-291f-44bb-adf1-9490b4d63c76",
   "metadata": {},
   "source": [
    "**What makes a database 'relational'?**"
   ]
  },
  {
   "cell_type": "markdown",
   "id": "315903a9-3957-48f9-a00c-0e3bea33bd55",
   "metadata": {},
   "source": [
    "*There are relationships between the data in different tables*"
   ]
  },
  {
   "cell_type": "markdown",
   "id": "d699438b-32ee-4fe2-8313-1c59bac799a0",
   "metadata": {},
   "source": [
    "**What is a primary key?**"
   ]
  },
  {
   "cell_type": "markdown",
   "id": "bf7ed79d-0a00-45cb-9a94-722e14046079",
   "metadata": {},
   "source": [
    "*The column in a table that has a unique value for every record/row*"
   ]
  },
  {
   "cell_type": "markdown",
   "id": "b3ba7523-f294-46df-a1df-143c02a2e2ce",
   "metadata": {},
   "source": [
    "**What is a foreign key?**"
   ]
  },
  {
   "cell_type": "markdown",
   "id": "ea15c484-0223-4d2a-ab06-4a1b7f1e379c",
   "metadata": {},
   "source": [
    "*A column in a table that has values from the primary key column in another table*"
   ]
  },
  {
   "cell_type": "markdown",
   "id": "e1b00672-bc49-495c-8369-e35e0ca06f66",
   "metadata": {},
   "source": [
    "**Which type of JOIN is illustrated here?**"
   ]
  },
  {
   "cell_type": "markdown",
   "id": "f8691cf7-d21b-413c-bc83-22006690e556",
   "metadata": {},
   "source": [
    "<img src=\"Inner Join Quiz Pic.png\" width=\"700\" height=\"700\" />"
   ]
  },
  {
   "cell_type": "markdown",
   "id": "1097aa83-6577-4763-a4d1-29de80ad4497",
   "metadata": {},
   "source": [
    "*INNER JOIN : returns a table that includes only the records/rows that share the same values for the columns you are joining on*"
   ]
  },
  {
   "cell_type": "markdown",
   "id": "af58150f-75da-4ec7-a77f-6f78a9761a49",
   "metadata": {},
   "source": [
    "**Which type of JOIN is illustrated here?**"
   ]
  },
  {
   "cell_type": "markdown",
   "id": "99f2af48-9916-442f-af44-f7f6f8c9fc94",
   "metadata": {},
   "source": [
    "<img src=\"Left Join Quiz Pic.png\" width=\"700\" height=\"700\" />"
   ]
  },
  {
   "cell_type": "markdown",
   "id": "9d760efb-cc64-4190-85e6-7648b0c9d9e9",
   "metadata": {},
   "source": [
    "*LEFT JOIN : returns a table that includes all of the records/rows from one table (the 'left' one), and only the records from the other table (the 'right' one) that match up to the rows on the first table*"
   ]
  },
  {
   "cell_type": "markdown",
   "id": "8e98a34f-411b-41f1-be40-40bbed30a263",
   "metadata": {},
   "source": [
    "**Which type of JOIN is illustrated here?**"
   ]
  },
  {
   "cell_type": "markdown",
   "id": "4eacc86d-8812-4071-8a98-0627233bdc7a",
   "metadata": {},
   "source": [
    "<img src=\"Full Join Quiz Pic.png\" width=\"700\" height=\"700\" />"
   ]
  },
  {
   "cell_type": "markdown",
   "id": "ca34441a-1a17-4a96-a2a5-320fd077e43b",
   "metadata": {},
   "source": [
    "*FULL JOIN : returns a table that includes all of the records/rows from both tables, matched up when possible*"
   ]
  },
  {
   "cell_type": "markdown",
   "id": "27d7c457-d3fd-418f-8018-486326ce7cf5",
   "metadata": {},
   "source": [
    "So generally, we can see that, in general, JOINs are used in queries where the resulting table has columns from both tables being joined. But what if we:\n",
    "* Want to take information from a second table into account, but don't plan on including any of its columns in the resulting table? \n",
    "* Want to make a query that can't be done with a JOIN? \n",
    "* Want to combine the *rows* of two different tables, instead of the *columns*? "
   ]
  },
  {
   "cell_type": "markdown",
   "id": "186a24e2-e45b-4e23-a573-a68c842ec6bd",
   "metadata": {},
   "source": [
    "This is where we need different ways to combine and relate data, and that is where subqueries, UNION, INTERSECT, and EXCEPT come into play"
   ]
  },
  {
   "cell_type": "markdown",
   "id": "a7b323ce-ced3-4c97-9ceb-2cdf5960551b",
   "metadata": {},
   "source": [
    "---"
   ]
  },
  {
   "cell_type": "markdown",
   "id": "7a38d665-c6de-4c4a-8d17-fcea70d3877f",
   "metadata": {},
   "source": [
    "# Subqueries"
   ]
  },
  {
   "cell_type": "markdown",
   "id": "df210c4c-d9b7-4517-a594-140d3d77d5c8",
   "metadata": {},
   "source": [
    "**Subquery** : a query that is contained inside of another query, most often in the WHERE clause; also known as an 'inner query'"
   ]
  },
  {
   "cell_type": "markdown",
   "id": "591f53a3-ae19-458e-9f32-8405c0eed919",
   "metadata": {},
   "source": [
    "There are two types of Subqueries:\n",
    "* Self-Contained\n",
    "* Correlated"
   ]
  },
  {
   "cell_type": "markdown",
   "id": "3358d835-2268-4582-a64d-36229df07cdb",
   "metadata": {},
   "source": [
    "Subqueries can also return two types of information:\n",
    "* a single value\n",
    "* multiple values"
   ]
  },
  {
   "cell_type": "markdown",
   "id": "47dc94bd-ca6a-46b5-b7b6-c1ebdffcf6d2",
   "metadata": {},
   "source": [
    "**<span style=\"color:purple\">REMEMBER</span>** : whatever is in the SELECT clause is what is 'returned' by a query. That is the only thing that is going to be used by the outer query"
   ]
  },
  {
   "cell_type": "markdown",
   "id": "67af2b93-d08d-4f34-aec2-2767d695a217",
   "metadata": {},
   "source": [
    "Depending on the type of information that is returned, the subquery can be used in different ways. "
   ]
  },
  {
   "cell_type": "markdown",
   "id": "a05ccfaf-4f7b-4abc-b6f9-d029fd2f702e",
   "metadata": {},
   "source": [
    "<img src=\"Types of Subqueries.png\" width=\"700\" height=\"700\" />"
   ]
  },
  {
   "cell_type": "markdown",
   "id": "2622f16c-fce1-446d-9aa3-11ec9cfba00d",
   "metadata": {},
   "source": [
    "*(image from https://visualizeright.com/2019/03/15/subqueries/)*"
   ]
  },
  {
   "cell_type": "markdown",
   "id": "1ccb3ea9-5f63-452d-b034-916e19be7993",
   "metadata": {},
   "source": [
    "# For Any Type of Subquery..."
   ]
  },
  {
   "cell_type": "markdown",
   "id": "3bf86685-36b4-4ffe-973c-946b3e639120",
   "metadata": {},
   "source": [
    "**When you encounter a question where there seems to be a question within the question, that is probably a situation where you'll want to use a subquery (as long as you don't need to return columns from different tables)**"
   ]
  },
  {
   "cell_type": "markdown",
   "id": "00589f9e-9a83-4aba-b808-aed9d0484892",
   "metadata": {},
   "source": [
    "The question *'Which books have more than the average number of versions?'* requires you to first get the answer to the question *'What is the average number of versions for a book to have?'*. You could go find that answer first with a separate query and then manually plug the answer into a second query, but that leaves room for copying error and you won't have the right answer if later on the information in the table changes and that value for the average is no longer correct"
   ]
  },
  {
   "cell_type": "markdown",
   "id": "ee0314a4-1ebe-4421-8fd8-bea7caa9fd53",
   "metadata": {},
   "source": [
    "**Wherever it is, the subquery must be surrounded by parentheses:**"
   ]
  },
  {
   "cell_type": "code",
   "execution_count": null,
   "id": "15bd9fcc-cd24-49e1-add8-74d385294bbe",
   "metadata": {},
   "outputs": [],
   "source": [
    "SELECT \n",
    "    column1\n",
    "FROM \n",
    "    table1\n",
    "WHERE \n",
    "    column2 IN\n",
    "    (subquery)"
   ]
  },
  {
   "cell_type": "markdown",
   "id": "540fa1bf-95c9-4da8-b68f-a949fa14cf07",
   "metadata": {},
   "source": [
    "**A subquery can go in a lot of different places (SELECT clause, FROM clause, WHERE clause, HAVING clause, etc.). You can even have a subquery inside another subquery! It is usually used in the WHERE clause.**"
   ]
  },
  {
   "cell_type": "code",
   "execution_count": null,
   "id": "c46e7cad-c4ce-48e1-8fbd-1148bae35338",
   "metadata": {},
   "outputs": [],
   "source": [
    "# In the SELECT clause\n",
    "SELECT \n",
    "    (SELECT Aggregate_function(column_name)\n",
    "     FROM table_name) \n",
    "    AS table_alias\n",
    "FROM\n",
    "    table_name"
   ]
  },
  {
   "cell_type": "code",
   "execution_count": null,
   "id": "ad197d5c-97a7-4a24-ae78-580ea9427876",
   "metadata": {},
   "outputs": [],
   "source": [
    "# In the FROM clause (this is also called an inline view or derived table)\n",
    "SELECT \n",
    "    column_name(s)\n",
    "FROM \n",
    "    (SELECT column_name(s) \n",
    "     FROM table_name) \n",
    "    AS table_alias\n",
    "WHERE condition"
   ]
  },
  {
   "cell_type": "code",
   "execution_count": null,
   "id": "af726e78-98a2-44bc-8d9d-9b20f97ac5fc",
   "metadata": {},
   "outputs": [],
   "source": [
    "# In the WHERE clause\n",
    "SELECT \n",
    "    column_name(s)\n",
    "FROM \n",
    "    table_name_1\n",
    "WHERE \n",
    "    column_name expression_operator{=,NOT IN,IN, <,>, etc}\n",
    "    (SELECT column_name(s) \n",
    "     FROM table_name_2)"
   ]
  },
  {
   "cell_type": "code",
   "execution_count": null,
   "id": "54f6e6c6-0d80-42d2-94b4-0adf1c79f805",
   "metadata": {},
   "outputs": [],
   "source": [
    "# In the HAVING clause\n",
    "SELECT \n",
    "    column_name(s)\n",
    "FROM \n",
    "    table_name_1\n",
    "WHERE \n",
    "    condition\n",
    "GROUP BY \n",
    "    column_name(s)\n",
    "HAVING \n",
    "    Aggregate_function(column_name) expression_operator{=,<,>}\n",
    "    (SELECT Aggregate_function(column_name) \n",
    "     FROM table_name_2)"
   ]
  },
  {
   "cell_type": "markdown",
   "id": "597f7fb8-9963-406f-b870-eb2f3d93a5a6",
   "metadata": {},
   "source": [
    "**If you are using a subquery in a WHERE clause, the column name in the WHERE clause must be join-compatible with the column being returned by the the subquery (in the inner SELECT statement)**"
   ]
  },
  {
   "cell_type": "markdown",
   "id": "5a5d4799-c099-44c2-9bd1-544acb6207d8",
   "metadata": {},
   "source": [
    "Don't want to end up with something like 'WHERE datetime IN \\[1, 2, 3, 4, 5\\]'"
   ]
  },
  {
   "cell_type": "markdown",
   "id": "088608db-efb2-4672-a29d-e8c0ca273228",
   "metadata": {},
   "source": [
    "**There should only be one column in the SELECT clause of a subquery, unless you are comparing against multiple columns (or with EXISTS)**"
   ]
  },
  {
   "cell_type": "markdown",
   "id": "3985547f-1e7e-41f3-9002-bd2f18c928c6",
   "metadata": {},
   "source": [
    "Similar to the previous statement. If you are returning two column, you should be comparing them to two columns like below:"
   ]
  },
  {
   "cell_type": "code",
   "execution_count": null,
   "id": "789f05d0-e330-4ddb-9974-42ce14a282df",
   "metadata": {},
   "outputs": [],
   "source": [
    "SELECT \n",
    "    column_names(s)\n",
    "FROM\n",
    "    table_name_1 AS a\n",
    "WHERE\n",
    "    (a.column1, a.column2) IN\n",
    "    (SELECT b.column1, b.column2\n",
    "     FROM table_name_2 AS b)"
   ]
  },
  {
   "cell_type": "markdown",
   "id": "39bd7db8-b357-4820-b3c6-9c854bfeb7ee",
   "metadata": {},
   "source": [
    "**It is always a good idea to use table aliases to keep track of which column belongs to which table, especially if columns have the same name in different tables**"
   ]
  },
  {
   "cell_type": "code",
   "execution_count": null,
   "id": "04ce2227-4031-49c9-aff6-19407e7f6d83",
   "metadata": {},
   "outputs": [],
   "source": [
    "SELECT\n",
    "    a.column1\n",
    "FROM\n",
    "    table1 AS a\n",
    "WHERE \n",
    "    a.column2 IN\n",
    "    (SELECT b.column1\n",
    "     FROM table2 AS b)"
   ]
  },
  {
   "cell_type": "markdown",
   "id": "461c3150-d93e-4bd4-985b-6e761d8d8095",
   "metadata": {},
   "source": [
    "Without aliases, columns are first looked for in the table at the same level as the expression, and then if not found there it will look for the column in a higher level query (the outer query)."
   ]
  },
  {
   "cell_type": "markdown",
   "id": "7ca552a5-4e52-4e7d-a013-a5e64232c846",
   "metadata": {},
   "source": [
    "**You can't reference columns in the outer query from a table that only exists in an inner query**"
   ]
  },
  {
   "cell_type": "markdown",
   "id": "4cc57b26-6756-49ca-9a1f-24b066c83e9f",
   "metadata": {},
   "source": [
    "If a table appears only in a subquery and not in the outer query, you can't reference that table in the outer query. This is why you can't include columns from the inner query table in the outer query SELECT statement. For instance the following query would return an error:"
   ]
  },
  {
   "cell_type": "code",
   "execution_count": null,
   "id": "f3dc85e2-6ff4-4faf-9530-65b7d6b4b3ac",
   "metadata": {},
   "outputs": [],
   "source": [
    "SELECT\n",
    "    a.column1, b.column3\n",
    "FROM \n",
    "    table1 AS a\n",
    "WHERE\n",
    "    a.column2 IN\n",
    "    (SELECT b.column1\n",
    "     FROM table2 AS b)"
   ]
  },
  {
   "cell_type": "markdown",
   "id": "d8283207-b1a8-48f2-9ac6-9299701acffa",
   "metadata": {},
   "source": [
    "If you want to be able to SELECT column from multiple tables, you'll have to use JOINs"
   ]
  },
  {
   "cell_type": "markdown",
   "id": "5566bbe4-de4d-4eee-9b3b-83b24dabd89f",
   "metadata": {},
   "source": [
    "**A JOIN can ALWAYS be expressed as a subquery. A subquery can often, but not always, be expressed as a JOIN.**"
   ]
  },
  {
   "cell_type": "markdown",
   "id": "c46833c1-6336-4efe-946b-83568b7397cb",
   "metadata": {},
   "source": [
    "When switching back and forth between a JOIN and a subquery, the attribute that is compared to the subquery in a WHERE statement is likely the attribute that you are going to be joining on if you wrote it as a JOIN statement"
   ]
  },
  {
   "cell_type": "markdown",
   "id": "9d778f1c-ae6c-4fd4-8aca-1e4664fa019a",
   "metadata": {},
   "source": [
    "# Subqueries That Return One Value"
   ]
  },
  {
   "cell_type": "markdown",
   "id": "74452a0e-f75e-4a45-bd9a-e817beed3ad5",
   "metadata": {},
   "source": [
    "A subquery that returns one value is used with an unmodified comparison operator.\n",
    "\n",
    "**Unmodified Comparison Operator** : compares two single values (e.g. '=' , '>', '<', '<>' etc.)"
   ]
  },
  {
   "cell_type": "markdown",
   "id": "9d479f7e-001b-4119-b011-4cdc954296b9",
   "metadata": {},
   "source": [
    "**<span style=\"color:red\">WARNING</span>** : If the subquery returns more than one value when used with an unmodified comparison operator it will cause the query to raise an error"
   ]
  },
  {
   "cell_type": "markdown",
   "id": "c4acee83-7493-4b99-8fe4-4fd5a5383795",
   "metadata": {},
   "source": [
    "These queries often use aggregate functions (like AVG or MAX) because they guarantee to return only one answer. If you don't use an aggregate function, you must be familiar enough with your data and the nature of the problem to know that the subquery will return exactly one value. "
   ]
  },
  {
   "cell_type": "markdown",
   "id": "b6531a6e-3cd3-4472-bb03-fb5d19a41ee4",
   "metadata": {},
   "source": [
    "# Subqueries That Return Multiple Values"
   ]
  },
  {
   "cell_type": "markdown",
   "id": "c12c4a77-14f4-4362-9d2d-1c664f99a3e6",
   "metadata": {},
   "source": [
    "A subquery that can return multiple values (a list) is used with a modified comparison operator, IN/NOT IN, or EXISTS.\n",
    "\n",
    "* **Modified Comparison Operator** : One that is followed by the keyword ANY or ALL (e.g. ' > ALL \\[list\\] ')\n",
    "    - **ALL** requires that comparison operator is true for every value of the following list (e.g. '3 > ALL \\[1, 2, 5\\]' would evaluate to False because 3 is not greater than 5)\n",
    "    - **ANY** requires that the comparison operator is true for at least on value of the following list (e.g. '3 > ANY \\[1, 2, 5\\]' would evaluate to True because 3 is greater than at least one value in the list)\n",
    "        \n",
    "* **(NOT) IN** : Checks to see whether the preceding value is (not) in the following list (e.g. 'a IN \\[a, b, c, d\\]' would evaluate to True)\n",
    "* **EXISTS** : If anything is returned by the subquery, the expression evaluates to True. If nothing is returned by the subquery, the expression evaluates to FALSE"
   ]
  },
  {
   "cell_type": "markdown",
   "id": "e6ee206e-5ad0-4972-b222-2431e36fff73",
   "metadata": {},
   "source": [
    "# Self-Contained Subqueries"
   ]
  },
  {
   "cell_type": "markdown",
   "id": "938e5a9c-b549-403d-8635-71f471a281b5",
   "metadata": {},
   "source": [
    "**Self-Contained** : The subquery has all the information it needs within itself"
   ]
  },
  {
   "cell_type": "markdown",
   "id": "43b2a5d7-cae0-44cd-92b5-7faacc4e3f1d",
   "metadata": {},
   "source": [
    "If the 'question within the question' has just one answer that is always the same, then the query will likely be a self-contained query. With this type, you can think of the subquery as being a completely independent query that is executed once and then the result is plugged into the outer query"
   ]
  },
  {
   "cell_type": "markdown",
   "id": "079918ea-4a60-48d6-964a-a1c8b5cf716f",
   "metadata": {},
   "source": [
    "# Correlated Subqueries"
   ]
  },
  {
   "cell_type": "markdown",
   "id": "2a514385-b27e-47af-8e2d-20a74b7fe752",
   "metadata": {},
   "source": [
    "**Correlated** : the subquery needs some kind of information from the outer query; also known as 'repeating subqueries'"
   ]
  },
  {
   "cell_type": "markdown",
   "id": "f72fcc8f-10b2-4e1b-b81a-63d3d3eb9496",
   "metadata": {},
   "source": [
    "If the 'question within the question' is different depending on the situation, the query will likely be a correlated query. This type of subquery gets evaluated again and again for every row of the outer query, because the result of the subquery depends on some value from each row of the outer query (i.e. it is *'correlated'* to the outer query)"
   ]
  },
  {
   "cell_type": "markdown",
   "id": "8ca73cc3-0d4f-4d09-987b-9cfb99d3f21d",
   "metadata": {},
   "source": [
    "---"
   ]
  },
  {
   "cell_type": "markdown",
   "id": "b331818e-aa71-4d2a-8834-bf9cfe3fe777",
   "metadata": {},
   "source": [
    "<img src=\"https://studentlife.dal.ca/article/2019/how-to-schedule-the-perfect-finals-week/_jcr_content/root/maincontent/main/article-body/center/contentfragment/par10/image.coreimg.gif/1575042792843/take-a-break.gif\" width=\"500\" height=\"500\" />"
   ]
  },
  {
   "cell_type": "markdown",
   "id": "f7621651-d39d-400c-bb4b-7c97ecdf9243",
   "metadata": {},
   "source": [
    "# Combining Rows from Different Tables"
   ]
  },
  {
   "cell_type": "markdown",
   "id": "c117e7e5-05be-47ff-b36a-af41efbf36b2",
   "metadata": {},
   "source": [
    "We know that JOINs can combine columns from two different tables. What if we want to combine rows from two different tables? Row combinations are done using UNION, INTERSECT, and EXCEPT, which are called Set Operators (because you are combining two groups of rows to create a single set of rows)"
   ]
  },
  {
   "cell_type": "markdown",
   "id": "ebd7c1ff-2123-477b-982f-ae14d79103e0",
   "metadata": {},
   "source": [
    "<img src=\"Row Combinations Visual.png\" width=\"700\" height=\"700\" />"
   ]
  },
  {
   "cell_type": "markdown",
   "id": "60d9e5ae-de8d-421e-b1a3-7882632050ff",
   "metadata": {},
   "source": [
    "*(set operation images from https://essentialsql.com/sql-union-intersect-except/)*"
   ]
  },
  {
   "cell_type": "markdown",
   "id": "f1344dbc-7428-4f2f-8738-881c06401e42",
   "metadata": {},
   "source": [
    "<img src=\"Vertical Venn Diagram.jpeg\" width=\"300\" height=\"300\" />"
   ]
  },
  {
   "cell_type": "markdown",
   "id": "eaf90587-21b9-4657-8d8a-72c70ab46fdd",
   "metadata": {},
   "source": [
    "**<span style=\"color:red\">REQUIREMENTS for all rows combination operations\n",
    ":</span>**\n",
    "* the number of columns must be the same for both SELECT statements\n",
    "* the columns, in order, must be of the same data type (e.g. don't try to create a column where some values are strings and some are integers)"
   ]
  },
  {
   "cell_type": "markdown",
   "id": "7981d379-420c-499e-98e4-8a4aa39acdc8",
   "metadata": {},
   "source": [
    "**For all set operations:**\n",
    "* Think of each query creating its own intermediary table, and then those table being combined according to the set operation\n",
    "* NULL does match NULL (unlike when you explicitely compare NULL = NULL)\n",
    "* Just like for JOINs, the top query is called the 'left' and the bottom is called the 'right'\n",
    "* Because the rows from the different queries need to have the same type of columns, they are often queries on the same table with different filters added"
   ]
  },
  {
   "cell_type": "markdown",
   "id": "dcee7964-0563-4826-8f59-13da9bc3fd3a",
   "metadata": {},
   "source": [
    "# UNION"
   ]
  },
  {
   "cell_type": "markdown",
   "id": "e442cf93-b46a-4f0b-b5e9-57d35709e8ff",
   "metadata": {},
   "source": [
    "When using a UNION between two queries it returns a combination of all of the rows from the results of the queries. Duplicate rows are deleted unless you use the ALL keyword (ALL is like the opposite of DISTINCT)"
   ]
  },
  {
   "cell_type": "markdown",
   "id": "cf99aca5-0fca-460e-87d2-f6c0144b6505",
   "metadata": {},
   "source": [
    "Can think of UNION as the row equivalent of a FULL JOIN "
   ]
  },
  {
   "cell_type": "markdown",
   "id": "7fa99501-c2e9-46c8-9457-602fd0ee3e1b",
   "metadata": {},
   "source": [
    "<img src=\"Anatomy of a Union.png\" width=\"700\" height=\"700\" />"
   ]
  },
  {
   "cell_type": "markdown",
   "id": "fc9ba68f-f021-4bf3-a7ce-a3b7702f9241",
   "metadata": {},
   "source": [
    "### Syntax"
   ]
  },
  {
   "cell_type": "code",
   "execution_count": null,
   "id": "0c5745d9-1ca5-4933-ab24-4110f4f0b75a",
   "metadata": {},
   "outputs": [],
   "source": [
    "SELECT \n",
    "    columnlist1\n",
    "FROM \n",
    "    table1\n",
    "WHERE \n",
    "    conditions1\n",
    "UNION (ALL) # ALL not required\n",
    "SELECT \n",
    "    columnlist2\n",
    "FROM \n",
    "    table2\n",
    "WHERE\n",
    "    conditions2\n",
    "ORDER BY \n",
    "    column # Applies to the combined result"
   ]
  },
  {
   "cell_type": "markdown",
   "id": "d6c23bdc-0181-49a4-b9bc-5269b80e43ef",
   "metadata": {},
   "source": [
    "Which you can think of as:"
   ]
  },
  {
   "cell_type": "code",
   "execution_count": null,
   "id": "b70aee78-001c-4762-868c-709915e2d668",
   "metadata": {},
   "outputs": [],
   "source": [
    "(\n",
    "Query 1\n",
    "UNION\n",
    "Query 2\n",
    ")\n",
    "ORDER BY"
   ]
  },
  {
   "cell_type": "markdown",
   "id": "0dad3614-4218-4fb5-81c6-c3296c23ae6d",
   "metadata": {},
   "source": [
    "Each query creates its own intermediary table, and then those table are combined according to the union"
   ]
  },
  {
   "cell_type": "markdown",
   "id": "ba4db76e-447a-42a6-ac16-f9caa8720382",
   "metadata": {},
   "source": [
    "# INTERSECT"
   ]
  },
  {
   "cell_type": "markdown",
   "id": "c04c7602-2345-4698-92fd-7a1d3d0fac65",
   "metadata": {},
   "source": [
    "When using INTERSECT between two queries it returns the rows that the two queries share in common."
   ]
  },
  {
   "cell_type": "markdown",
   "id": "8af1d4fd-d951-4134-af9c-dca5f7bb52ef",
   "metadata": {},
   "source": [
    "Can think of INTERSECT as the row equivalent of an INNER JOIN"
   ]
  },
  {
   "cell_type": "markdown",
   "id": "1599b53c-f6e0-4d5a-9f11-a68b1a06c25e",
   "metadata": {},
   "source": [
    "<img src=\"Intersect Visual.png\" width=\"700\" height=\"700\" />"
   ]
  },
  {
   "cell_type": "markdown",
   "id": "ab61438a-1a49-45a5-9c0c-b2c7bc90832e",
   "metadata": {},
   "source": [
    "### Syntax"
   ]
  },
  {
   "cell_type": "code",
   "execution_count": null,
   "id": "0f89912a-cef5-42ee-afd1-5015b669ecf6",
   "metadata": {},
   "outputs": [],
   "source": [
    "SELECT \n",
    "    columnlist1\n",
    "FROM \n",
    "    table1\n",
    "WHERE \n",
    "    conditions1\n",
    "INTERSECT\n",
    "SELECT\n",
    "    columnlist2\n",
    "FROM \n",
    "    table2\n",
    "WHERE\n",
    "    conditions2\n",
    "ORDER BY\n",
    "    column"
   ]
  },
  {
   "cell_type": "markdown",
   "id": "c30126cc-fd2e-4606-b848-b2a56e8cc469",
   "metadata": {},
   "source": [
    "# EXCEPT"
   ]
  },
  {
   "cell_type": "markdown",
   "id": "27a896af-c86c-4f6d-83cd-93ef17a046e0",
   "metadata": {},
   "source": [
    "When using EXCEPT between two queries it returns the rows that exist in one query (the left one) but don't exist in the other query (the right one)."
   ]
  },
  {
   "cell_type": "markdown",
   "id": "40711eeb-506d-48a9-8ad8-4a36ccd67557",
   "metadata": {},
   "source": [
    "Can think of EXCEPT as the row equivalent of a LEFT EXCLUSIVE JOIN."
   ]
  },
  {
   "cell_type": "markdown",
   "id": "6e26a92e-7cad-4952-99be-c91a67cf2530",
   "metadata": {},
   "source": [
    "<img src=\"Except Visual.png\" width=\"700\" height=\"700\" />"
   ]
  },
  {
   "cell_type": "markdown",
   "id": "0d664e79-0cec-42c2-b224-1ead7b23a82c",
   "metadata": {},
   "source": [
    "---"
   ]
  },
  {
   "cell_type": "markdown",
   "id": "fa48ff03-274d-41a6-a0e9-bdc824e5834e",
   "metadata": {},
   "source": [
    "# So...which type of query do I use to answer my question??"
   ]
  },
  {
   "cell_type": "markdown",
   "id": "f750c327-0131-4df0-8b07-082f8b4112f3",
   "metadata": {},
   "source": [
    "<img src=\"https://media.giphy.com/media/MdRc6qXSukWsDJfnp9/giphy.gif\" width=\"700\" height=\"700\" />"
   ]
  },
  {
   "cell_type": "markdown",
   "id": "67d87f9a-57a2-4d67-b07a-48db0212208f",
   "metadata": {},
   "source": [
    "You'll find that there is often more than one way to answer a particular question in SQL. You get to pick your approach based on what makes most logical sense to you, what is the most straightforward, what is the easiest to understand, etc."
   ]
  },
  {
   "cell_type": "code",
   "execution_count": null,
   "id": "87aa1135-209f-44b1-bcec-77594b2285ac",
   "metadata": {},
   "outputs": [],
   "source": []
  }
 ],
 "metadata": {
  "kernelspec": {
   "display_name": "Python 3 (ipykernel)",
   "language": "python",
   "name": "python3"
  },
  "language_info": {
   "codemirror_mode": {
    "name": "ipython",
    "version": 3
   },
   "file_extension": ".py",
   "mimetype": "text/x-python",
   "name": "python",
   "nbconvert_exporter": "python",
   "pygments_lexer": "ipython3",
   "version": "3.8.8"
  }
 },
 "nbformat": 4,
 "nbformat_minor": 5
}
