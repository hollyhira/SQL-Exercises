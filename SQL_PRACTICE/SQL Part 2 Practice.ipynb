{
    "metadata": {
        "kernelspec": {
            "name": "SQL",
            "display_name": "SQL",
            "language": "sql"
        },
        "language_info": {
            "name": "sql",
            "version": ""
        }
    },
    "nbformat_minor": 2,
    "nbformat": 4,
    "cells": [
        {
            "cell_type": "markdown",
            "source": [
                "# SQL Practice"
            ],
            "metadata": {
                "azdata_cell_guid": "c782f2a6-34eb-4291-a872-2dfa6406e380"
            }
        },
        {
            "cell_type": "markdown",
            "source": [
                "<mark>LIST OF TABLES</mark>"
            ],
            "metadata": {
                "language": "sql",
                "azdata_cell_guid": "bbc623cf-c451-4d2d-9738-8c07498cbcd4"
            },
            "attachments": {}
        },
        {
            "cell_type": "code",
            "source": [
                "USE BooksDB\r\n",
                "SELECT *\r\n",
                "FROM INFORMATION_SCHEMA.TABLES\r\n",
                "\r\n",
                "\r\n",
                ""
            ],
            "metadata": {
                "language": "sql",
                "azdata_cell_guid": "9e4d2014-c2dc-4bd5-bfff-7404082cfaee"
            },
            "outputs": [
                {
                    "output_type": "display_data",
                    "data": {
                        "text/html": "(5 rows affected)"
                    },
                    "metadata": {}
                },
                {
                    "output_type": "display_data",
                    "data": {
                        "text/html": "Total execution time: 00:00:00.228"
                    },
                    "metadata": {}
                },
                {
                    "output_type": "execute_result",
                    "metadata": {},
                    "execution_count": 2,
                    "data": {
                        "application/vnd.dataresource+json": {
                            "schema": {
                                "fields": [
                                    {
                                        "name": "TABLE_CATALOG"
                                    },
                                    {
                                        "name": "TABLE_SCHEMA"
                                    },
                                    {
                                        "name": "TABLE_NAME"
                                    },
                                    {
                                        "name": "TABLE_TYPE"
                                    }
                                ]
                            },
                            "data": [
                                {
                                    "0": "BooksDB",
                                    "1": "dbo",
                                    "2": "tags",
                                    "3": "BASE TABLE"
                                },
                                {
                                    "0": "BooksDB",
                                    "1": "dbo",
                                    "2": "books",
                                    "3": "BASE TABLE"
                                },
                                {
                                    "0": "BooksDB",
                                    "1": "dbo",
                                    "2": "ratings",
                                    "3": "BASE TABLE"
                                },
                                {
                                    "0": "BooksDB",
                                    "1": "dbo",
                                    "2": "to_read",
                                    "3": "BASE TABLE"
                                },
                                {
                                    "0": "BooksDB",
                                    "1": "dbo",
                                    "2": "book_tags",
                                    "3": "BASE TABLE"
                                }
                            ]
                        },
                        "text/html": [
                            "<table>",
                            "<tr><th>TABLE_CATALOG</th><th>TABLE_SCHEMA</th><th>TABLE_NAME</th><th>TABLE_TYPE</th></tr>",
                            "<tr><td>BooksDB</td><td>dbo</td><td>tags</td><td>BASE TABLE</td></tr>",
                            "<tr><td>BooksDB</td><td>dbo</td><td>books</td><td>BASE TABLE</td></tr>",
                            "<tr><td>BooksDB</td><td>dbo</td><td>ratings</td><td>BASE TABLE</td></tr>",
                            "<tr><td>BooksDB</td><td>dbo</td><td>to_read</td><td>BASE TABLE</td></tr>",
                            "<tr><td>BooksDB</td><td>dbo</td><td>book_tags</td><td>BASE TABLE</td></tr>",
                            "</table>"
                        ]
                    }
                }
            ],
            "execution_count": 2
        },
        {
            "cell_type": "code",
            "source": [
                "USE BooksDB\r\n",
                "Select TOP (2) * from books"
            ],
            "metadata": {
                "azdata_cell_guid": "288bcffb-0968-4ac3-9746-f46693a5a9f3",
                "language": "sql"
            },
            "outputs": [
                {
                    "output_type": "display_data",
                    "data": {
                        "text/html": "(2 rows affected)"
                    },
                    "metadata": {}
                },
                {
                    "output_type": "display_data",
                    "data": {
                        "text/html": "Total execution time: 00:00:00.068"
                    },
                    "metadata": {}
                },
                {
                    "output_type": "execute_result",
                    "execution_count": 5,
                    "data": {
                        "application/vnd.dataresource+json": {
                            "schema": {
                                "fields": [
                                    {
                                        "name": "id"
                                    },
                                    {
                                        "name": "book_id"
                                    },
                                    {
                                        "name": "best_book_id"
                                    },
                                    {
                                        "name": "work_id"
                                    },
                                    {
                                        "name": "books_count"
                                    },
                                    {
                                        "name": "isbn"
                                    },
                                    {
                                        "name": "isbn13"
                                    },
                                    {
                                        "name": "authors"
                                    },
                                    {
                                        "name": "original_publication_year"
                                    },
                                    {
                                        "name": "original_title"
                                    },
                                    {
                                        "name": "title"
                                    },
                                    {
                                        "name": "language_code"
                                    },
                                    {
                                        "name": "average_rating"
                                    },
                                    {
                                        "name": "ratings_count"
                                    },
                                    {
                                        "name": "work_ratings_count"
                                    },
                                    {
                                        "name": "work_text_reviews_count"
                                    },
                                    {
                                        "name": "ratings_1"
                                    },
                                    {
                                        "name": "ratings_2"
                                    },
                                    {
                                        "name": "ratings_3"
                                    },
                                    {
                                        "name": "ratings_4"
                                    },
                                    {
                                        "name": "ratings_5"
                                    },
                                    {
                                        "name": "image_url"
                                    },
                                    {
                                        "name": "small_image_url"
                                    }
                                ]
                            },
                            "data": [
                                {
                                    "0": "1",
                                    "1": "2767052",
                                    "2": "2767052",
                                    "3": "2792775",
                                    "4": "272",
                                    "5": "439023483",
                                    "6": "9780439023480",
                                    "7": "Suzanne Collins",
                                    "8": "2008",
                                    "9": "The Hunger Games",
                                    "10": "The Hunger Games (The Hunger Games, #1)",
                                    "11": "eng",
                                    "12": "4.34",
                                    "13": "4780653",
                                    "14": "4942365",
                                    "15": "155254",
                                    "16": "66715",
                                    "17": "127936",
                                    "18": "560092",
                                    "19": "1481305",
                                    "20": "2706317",
                                    "21": "https://images.gr-assets.com/books/1447303603m/2767052.jpg",
                                    "22": "https://images.gr-assets.com/books/1447303603s/2767052.jpg"
                                },
                                {
                                    "0": "2",
                                    "1": "3",
                                    "2": "3",
                                    "3": "4640799",
                                    "4": "491",
                                    "5": "439554934",
                                    "6": "9780439554930",
                                    "7": "J.K. Rowling, Mary GrandPré",
                                    "8": "1997",
                                    "9": "Harry Potter and the Philosopher's Stone",
                                    "10": "Harry Potter and the Sorcerer's Stone (Harry Potter, #1)",
                                    "11": "eng",
                                    "12": "4.44",
                                    "13": "4602479",
                                    "14": "4800065",
                                    "15": "75867",
                                    "16": "75504",
                                    "17": "101676",
                                    "18": "455024",
                                    "19": "1156318",
                                    "20": "3011543",
                                    "21": "https://images.gr-assets.com/books/1474154022m/3.jpg",
                                    "22": "https://images.gr-assets.com/books/1474154022s/3.jpg"
                                }
                            ]
                        },
                        "text/html": "<table><tr><th>id</th><th>book_id</th><th>best_book_id</th><th>work_id</th><th>books_count</th><th>isbn</th><th>isbn13</th><th>authors</th><th>original_publication_year</th><th>original_title</th><th>title</th><th>language_code</th><th>average_rating</th><th>ratings_count</th><th>work_ratings_count</th><th>work_text_reviews_count</th><th>ratings_1</th><th>ratings_2</th><th>ratings_3</th><th>ratings_4</th><th>ratings_5</th><th>image_url</th><th>small_image_url</th></tr><tr><td>1</td><td>2767052</td><td>2767052</td><td>2792775</td><td>272</td><td>439023483</td><td>9780439023480</td><td>Suzanne Collins</td><td>2008</td><td>The Hunger Games</td><td>The Hunger Games (The Hunger Games, #1)</td><td>eng</td><td>4.34</td><td>4780653</td><td>4942365</td><td>155254</td><td>66715</td><td>127936</td><td>560092</td><td>1481305</td><td>2706317</td><td>https://images.gr-assets.com/books/1447303603m/2767052.jpg</td><td>https://images.gr-assets.com/books/1447303603s/2767052.jpg</td></tr><tr><td>2</td><td>3</td><td>3</td><td>4640799</td><td>491</td><td>439554934</td><td>9780439554930</td><td>J.K. Rowling, Mary GrandPré</td><td>1997</td><td>Harry Potter and the Philosopher's Stone</td><td>Harry Potter and the Sorcerer's Stone (Harry Potter, #1)</td><td>eng</td><td>4.44</td><td>4602479</td><td>4800065</td><td>75867</td><td>75504</td><td>101676</td><td>455024</td><td>1156318</td><td>3011543</td><td>https://images.gr-assets.com/books/1474154022m/3.jpg</td><td>https://images.gr-assets.com/books/1474154022s/3.jpg</td></tr></table>"
                    },
                    "metadata": {}
                }
            ],
            "execution_count": 5
        },
        {
            "cell_type": "markdown",
            "source": [
                "# **<mark>RTRIM-</mark>**<span style=\"background-color: rgb(255, 255, 255); color: rgb(53, 74, 95); font-family: &quot;Lato Extended&quot;, Lato, &quot;Helvetica Neue&quot;, Helvetica, Arial, sans-serif; font-size: 16px;\">Removes whitespaces from the right of the last character</span>\r\n",
                ""
            ],
            "metadata": {
                "language": "sql",
                "azdata_cell_guid": "18298725-91f4-403a-b6b3-f87d3ab8f8c6"
            },
            "attachments": {}
        },
        {
            "cell_type": "markdown",
            "source": [
                ""
            ],
            "metadata": {
                "azdata_cell_guid": "35d94f0e-23db-433b-83e0-badabe1b9de2"
            }
        },
        {
            "cell_type": "code",
            "source": [
                "SELECT RTRIM('Removes trailing spaces.   ');\r\n",
                "\r\n",
                "SELECT RTRIM('Four spaces are after the period in this sentence.    ') + 'Next string.';\r\n",
                "\r\n",
                "\r\n",
                "--The following example demonstrates how to use RTRIM to remove trailing spaces from a character variable.\r\n",
                "DECLARE @string_to_trim VARCHAR(60);  \r\n",
                "SET @string_to_trim = 'Four spaces are after the period in this sentence.    ';  \r\n",
                "SELECT @string_to_trim + ' Next string.';  \r\n",
                "SELECT RTRIM(@string_to_trim) + ' Next string.';  \r\n",
                "GO"
            ],
            "metadata": {
                "language": "sql",
                "azdata_cell_guid": "0c669228-24bc-42f4-a708-52a4dec2a6dc"
            },
            "outputs": [
                {
                    "output_type": "display_data",
                    "data": {
                        "text/html": "(1 row affected)"
                    },
                    "metadata": {}
                },
                {
                    "output_type": "display_data",
                    "data": {
                        "text/html": "(1 row affected)"
                    },
                    "metadata": {}
                },
                {
                    "output_type": "display_data",
                    "data": {
                        "text/html": "(1 row affected)"
                    },
                    "metadata": {}
                },
                {
                    "output_type": "display_data",
                    "data": {
                        "text/html": "(1 row affected)"
                    },
                    "metadata": {}
                },
                {
                    "output_type": "display_data",
                    "data": {
                        "text/html": "Total execution time: 00:00:00.069"
                    },
                    "metadata": {}
                },
                {
                    "output_type": "execute_result",
                    "execution_count": 6,
                    "data": {
                        "application/vnd.dataresource+json": {
                            "schema": {
                                "fields": [
                                    {
                                        "name": "(No column name)"
                                    }
                                ]
                            },
                            "data": [
                                {
                                    "0": "Removes trailing spaces."
                                }
                            ]
                        },
                        "text/html": "<table><tr><th>(No column name)</th></tr><tr><td>Removes trailing spaces.</td></tr></table>"
                    },
                    "metadata": {}
                },
                {
                    "output_type": "execute_result",
                    "execution_count": 6,
                    "data": {
                        "application/vnd.dataresource+json": {
                            "schema": {
                                "fields": [
                                    {
                                        "name": "(No column name)"
                                    }
                                ]
                            },
                            "data": [
                                {
                                    "0": "Four spaces are after the period in this sentence.Next string."
                                }
                            ]
                        },
                        "text/html": "<table><tr><th>(No column name)</th></tr><tr><td>Four spaces are after the period in this sentence.Next string.</td></tr></table>"
                    },
                    "metadata": {}
                },
                {
                    "output_type": "execute_result",
                    "execution_count": 6,
                    "data": {
                        "application/vnd.dataresource+json": {
                            "schema": {
                                "fields": [
                                    {
                                        "name": "(No column name)"
                                    }
                                ]
                            },
                            "data": [
                                {
                                    "0": "Four spaces are after the period in this sentence.     Next string."
                                }
                            ]
                        },
                        "text/html": "<table><tr><th>(No column name)</th></tr><tr><td>Four spaces are after the period in this sentence.     Next string.</td></tr></table>"
                    },
                    "metadata": {}
                },
                {
                    "output_type": "execute_result",
                    "execution_count": 6,
                    "data": {
                        "application/vnd.dataresource+json": {
                            "schema": {
                                "fields": [
                                    {
                                        "name": "(No column name)"
                                    }
                                ]
                            },
                            "data": [
                                {
                                    "0": "Four spaces are after the period in this sentence. Next string."
                                }
                            ]
                        },
                        "text/html": "<table><tr><th>(No column name)</th></tr><tr><td>Four spaces are after the period in this sentence. Next string.</td></tr></table>"
                    },
                    "metadata": {}
                }
            ],
            "execution_count": 6
        },
        {
            "cell_type": "markdown",
            "source": [
                "## <mark>LTRIM-</mark>Removes whitespaces from the left of the first character"
            ],
            "metadata": {
                "language": "sql",
                "azdata_cell_guid": "9c3eb5aa-c352-4f06-8129-6b27f9e93ad8"
            },
            "attachments": {}
        },
        {
            "cell_type": "code",
            "source": [
                "SELECT LTRIM('     Five spaces are at the beginning of this string.');\r\n",
                "\r\n",
                "--LTRIM as variable\r\n",
                "DECLARE @string_to_trim VARCHAR(60);  \r\n",
                "SET @string_to_trim = '     5 spaces are at the beginning of this string.';  \r\n",
                "SELECT \r\n",
                "    @string_to_trim AS 'Original string',\r\n",
                "    LTRIM(@string_to_trim) AS 'Without spaces';  \r\n",
                "GO"
            ],
            "metadata": {
                "language": "sql",
                "azdata_cell_guid": "7fa45e30-f777-4fad-8970-e7ec718a14e0"
            },
            "outputs": [
                {
                    "output_type": "display_data",
                    "data": {
                        "text/html": "(1 row affected)"
                    },
                    "metadata": {}
                },
                {
                    "output_type": "display_data",
                    "data": {
                        "text/html": "(1 row affected)"
                    },
                    "metadata": {}
                },
                {
                    "output_type": "display_data",
                    "data": {
                        "text/html": "Total execution time: 00:00:00.068"
                    },
                    "metadata": {}
                },
                {
                    "output_type": "execute_result",
                    "execution_count": 8,
                    "data": {
                        "application/vnd.dataresource+json": {
                            "schema": {
                                "fields": [
                                    {
                                        "name": "(No column name)"
                                    }
                                ]
                            },
                            "data": [
                                {
                                    "0": "Five spaces are at the beginning of this string."
                                }
                            ]
                        },
                        "text/html": "<table><tr><th>(No column name)</th></tr><tr><td>Five spaces are at the beginning of this string.</td></tr></table>"
                    },
                    "metadata": {}
                },
                {
                    "output_type": "execute_result",
                    "execution_count": 8,
                    "data": {
                        "application/vnd.dataresource+json": {
                            "schema": {
                                "fields": [
                                    {
                                        "name": "Original string"
                                    },
                                    {
                                        "name": "Without spaces"
                                    }
                                ]
                            },
                            "data": [
                                {
                                    "0": "     5 spaces are at the beginning of this string.",
                                    "1": "5 spaces are at the beginning of this string."
                                }
                            ]
                        },
                        "text/html": "<table><tr><th>Original string</th><th>Without spaces</th></tr><tr><td>     5 spaces are at the beginning of this string.</td><td>5 spaces are at the beginning of this string.</td></tr></table>"
                    },
                    "metadata": {}
                }
            ],
            "execution_count": 8
        },
        {
            "cell_type": "markdown",
            "source": [
                "## **<mark>LEFT</mark>**\\-Returns the length of characters starting at provided character index and moving left"
            ],
            "metadata": {
                "language": "sql",
                "azdata_cell_guid": "c3444b00-5948-49fe-bb60-34c9d8d0f14c"
            },
            "attachments": {}
        },
        {
            "cell_type": "code",
            "source": [
                "SELECT LEFT('abcdefg',2);  \r\n",
                "GO\r\n",
                "\r\n",
                "\r\n",
                "\r\n",
                "--Using LEFT with a column\r\n",
                "--The following example returns the five leftmost characters of each title name.--\r\n",
                "\r\n",
                "Use BooksDB\r\n",
                "  \r\n",
                "SELECT TOP (5) LEFT(title, 5)   \r\n",
                "FROM books \r\n",
                "ORDER BY id;"
            ],
            "metadata": {
                "language": "sql",
                "azdata_cell_guid": "e85c2f8d-62dc-4d4b-a18a-4a6adfba5aea"
            },
            "outputs": [
                {
                    "output_type": "display_data",
                    "data": {
                        "text/html": "(1 row affected)"
                    },
                    "metadata": {}
                },
                {
                    "output_type": "display_data",
                    "data": {
                        "text/html": "(5 rows affected)"
                    },
                    "metadata": {}
                },
                {
                    "output_type": "display_data",
                    "data": {
                        "text/html": "Total execution time: 00:00:00.138"
                    },
                    "metadata": {}
                },
                {
                    "output_type": "execute_result",
                    "execution_count": 13,
                    "data": {
                        "application/vnd.dataresource+json": {
                            "schema": {
                                "fields": [
                                    {
                                        "name": "(No column name)"
                                    }
                                ]
                            },
                            "data": [
                                {
                                    "0": "ab"
                                }
                            ]
                        },
                        "text/html": "<table><tr><th>(No column name)</th></tr><tr><td>ab</td></tr></table>"
                    },
                    "metadata": {}
                },
                {
                    "output_type": "execute_result",
                    "execution_count": 13,
                    "data": {
                        "application/vnd.dataresource+json": {
                            "schema": {
                                "fields": [
                                    {
                                        "name": "(No column name)"
                                    }
                                ]
                            },
                            "data": [
                                {
                                    "0": "The H"
                                },
                                {
                                    "0": "Harry"
                                },
                                {
                                    "0": "Twili"
                                },
                                {
                                    "0": "To Ki"
                                },
                                {
                                    "0": "The G"
                                }
                            ]
                        },
                        "text/html": "<table><tr><th>(No column name)</th></tr><tr><td>The H</td></tr><tr><td>Harry</td></tr><tr><td>Twili</td></tr><tr><td>To Ki</td></tr><tr><td>The G</td></tr></table>"
                    },
                    "metadata": {}
                }
            ],
            "execution_count": 13
        },
        {
            "cell_type": "markdown",
            "source": [
                "## <mark>Right</mark>\\- Returns the length of characters starting at provided character index and moving right"
            ],
            "metadata": {
                "language": "sql",
                "azdata_cell_guid": "b0a4e09b-f786-44fc-8518-4a590251e53d"
            },
            "attachments": {}
        },
        {
            "cell_type": "code",
            "source": [
                "SELECT RIGHT ('Hello There!', 3)\r\n",
                "\r\n",
                "\r\n",
                "USE AdventureWorks2019\r\n",
                "SELECT RIGHT(FirstName, 5) AS 'First Name'  \r\n",
                "FROM Person.Person  \r\n",
                "WHERE BusinessEntityID < 5  \r\n",
                "ORDER BY FirstName;  \r\n",
                "GO  \r\n",
                "\r\n",
                ""
            ],
            "metadata": {
                "language": "sql",
                "azdata_cell_guid": "027a4906-e96f-4dc3-a9b7-d76ff4c26129"
            },
            "outputs": [
                {
                    "output_type": "display_data",
                    "data": {
                        "text/html": "(1 row affected)"
                    },
                    "metadata": {}
                },
                {
                    "output_type": "display_data",
                    "data": {
                        "text/html": "(4 rows affected)"
                    },
                    "metadata": {}
                },
                {
                    "output_type": "display_data",
                    "data": {
                        "text/html": "Total execution time: 00:00:00.071"
                    },
                    "metadata": {}
                },
                {
                    "output_type": "execute_result",
                    "execution_count": 17,
                    "data": {
                        "application/vnd.dataresource+json": {
                            "schema": {
                                "fields": [
                                    {
                                        "name": "(No column name)"
                                    }
                                ]
                            },
                            "data": [
                                {
                                    "0": "re!"
                                }
                            ]
                        },
                        "text/html": "<table><tr><th>(No column name)</th></tr><tr><td>re!</td></tr></table>"
                    },
                    "metadata": {}
                },
                {
                    "output_type": "execute_result",
                    "execution_count": 17,
                    "data": {
                        "application/vnd.dataresource+json": {
                            "schema": {
                                "fields": [
                                    {
                                        "name": "First Name"
                                    }
                                ]
                            },
                            "data": [
                                {
                                    "0": "Ken"
                                },
                                {
                                    "0": "Rob"
                                },
                                {
                                    "0": "berto"
                                },
                                {
                                    "0": "Terri"
                                }
                            ]
                        },
                        "text/html": "<table><tr><th>First Name</th></tr><tr><td>Ken</td></tr><tr><td>Rob</td></tr><tr><td>berto</td></tr><tr><td>Terri</td></tr></table>"
                    },
                    "metadata": {}
                }
            ],
            "execution_count": 17
        },
        {
            "cell_type": "markdown",
            "source": [
                "## <mark> Len</mark>- Returns the length of a string based on characters, not including trailing spaces"
            ],
            "metadata": {
                "language": "sql",
                "azdata_cell_guid": "72cb246e-7f32-4a16-8b10-7075c0fd67fb"
            },
            "attachments": {}
        },
        {
            "cell_type": "code",
            "source": [
                "USE AdventureWorks2019  \r\n",
                "SELECT TOP(10) LEN(FirstName) AS Length, FirstName, LastName   \r\n",
                "FROM Sales.vIndividualCustomer  \r\n",
                "WHERE CountryRegionName = 'Australia';  \r\n",
                "GO  \r\n",
                "\r\n",
                "\r\n",
                "SELECT LEN ('Hello Holly F Hiranandani!')"
            ],
            "metadata": {
                "language": "sql",
                "azdata_cell_guid": "a0dc98ae-6816-438c-9df9-55f586853318",
                "tags": []
            },
            "outputs": [
                {
                    "output_type": "display_data",
                    "data": {
                        "text/html": "(10 rows affected)"
                    },
                    "metadata": {}
                },
                {
                    "output_type": "display_data",
                    "data": {
                        "text/html": "(1 row affected)"
                    },
                    "metadata": {}
                },
                {
                    "output_type": "display_data",
                    "data": {
                        "text/html": "Total execution time: 00:00:00.164"
                    },
                    "metadata": {}
                },
                {
                    "output_type": "execute_result",
                    "execution_count": 21,
                    "data": {
                        "application/vnd.dataresource+json": {
                            "schema": {
                                "fields": [
                                    {
                                        "name": "Length"
                                    },
                                    {
                                        "name": "FirstName"
                                    },
                                    {
                                        "name": "LastName"
                                    }
                                ]
                            },
                            "data": [
                                {
                                    "0": "3",
                                    "1": "Jon",
                                    "2": "Yang"
                                },
                                {
                                    "0": "6",
                                    "1": "Eugene",
                                    "2": "Huang"
                                },
                                {
                                    "0": "5",
                                    "1": "Ruben",
                                    "2": "Torres"
                                },
                                {
                                    "0": "7",
                                    "1": "Christy",
                                    "2": "Zhu"
                                },
                                {
                                    "0": "9",
                                    "1": "Elizabeth",
                                    "2": "Johnson"
                                },
                                {
                                    "0": "5",
                                    "1": "Julio",
                                    "2": "Ruiz"
                                },
                                {
                                    "0": "5",
                                    "1": "Janet",
                                    "2": "Alvarez"
                                },
                                {
                                    "0": "5",
                                    "1": "Marco",
                                    "2": "Mehta"
                                },
                                {
                                    "0": "3",
                                    "1": "Rob",
                                    "2": "Verhoff"
                                },
                                {
                                    "0": "7",
                                    "1": "Shannon",
                                    "2": "Carlson"
                                }
                            ]
                        },
                        "text/html": "<table><tr><th>Length</th><th>FirstName</th><th>LastName</th></tr><tr><td>3</td><td>Jon</td><td>Yang</td></tr><tr><td>6</td><td>Eugene</td><td>Huang</td></tr><tr><td>5</td><td>Ruben</td><td>Torres</td></tr><tr><td>7</td><td>Christy</td><td>Zhu</td></tr><tr><td>9</td><td>Elizabeth</td><td>Johnson</td></tr><tr><td>5</td><td>Julio</td><td>Ruiz</td></tr><tr><td>5</td><td>Janet</td><td>Alvarez</td></tr><tr><td>5</td><td>Marco</td><td>Mehta</td></tr><tr><td>3</td><td>Rob</td><td>Verhoff</td></tr><tr><td>7</td><td>Shannon</td><td>Carlson</td></tr></table>"
                    },
                    "metadata": {}
                },
                {
                    "output_type": "execute_result",
                    "execution_count": 21,
                    "data": {
                        "application/vnd.dataresource+json": {
                            "schema": {
                                "fields": [
                                    {
                                        "name": "(No column name)"
                                    }
                                ]
                            },
                            "data": [
                                {
                                    "0": "26"
                                }
                            ]
                        },
                        "text/html": "<table><tr><th>(No column name)</th></tr><tr><td>26</td></tr></table>"
                    },
                    "metadata": {}
                }
            ],
            "execution_count": 21
        },
        {
            "cell_type": "markdown",
            "source": [
                "## <mark>DATA LENGTH</mark>- Returns the length of a string based on bytes, not including trailing spaces"
            ],
            "metadata": {
                "language": "sql",
                "azdata_cell_guid": "c6fb471f-7d7f-4ab9-856b-48e00fc62026"
            },
            "attachments": {}
        },
        {
            "cell_type": "code",
            "source": [
                "SELECT DATALENGTH ('HELLO AGAIN WORLD!')"
            ],
            "metadata": {
                "language": "sql",
                "azdata_cell_guid": "803917e1-809e-4360-b362-dc2f34867213"
            },
            "outputs": [
                {
                    "output_type": "display_data",
                    "data": {
                        "text/html": "(1 row affected)"
                    },
                    "metadata": {}
                },
                {
                    "output_type": "display_data",
                    "data": {
                        "text/html": "Total execution time: 00:00:00.061"
                    },
                    "metadata": {}
                },
                {
                    "output_type": "execute_result",
                    "execution_count": 25,
                    "data": {
                        "application/vnd.dataresource+json": {
                            "schema": {
                                "fields": [
                                    {
                                        "name": "(No column name)"
                                    }
                                ]
                            },
                            "data": [
                                {
                                    "0": "18"
                                }
                            ]
                        },
                        "text/html": "<table><tr><th>(No column name)</th></tr><tr><td>18</td></tr></table>"
                    },
                    "metadata": {}
                }
            ],
            "execution_count": 25
        },
        {
            "cell_type": "markdown",
            "source": [
                "## <mark>CHARINDEX</mark>\\- Can use to find the specific character within a string-- Returns the index location\n",
                "\n",
                "  \n",
                "\n",
                "<span style=\"color: rgb(230, 230, 230); font-family: &quot;Segoe UI&quot;, SegoeUI, &quot;Helvetica Neue&quot;, Helvetica, Arial, sans-serif; font-size: 16px; background-color: rgb(23, 23, 23);\">This function searches for one character expression inside a second character expression, returning the starting position of the first expression if found.</span>"
            ],
            "metadata": {
                "language": "sql",
                "azdata_cell_guid": "0805e50d-e3b4-4f7e-989d-9c89000c037f"
            },
            "attachments": {}
        },
        {
            "cell_type": "code",
            "source": [
                "--This example searches for bicycle in the searched string value variable @document.\r\n",
                "\r\n",
                "DECLARE @document VARCHAR(64);  \r\n",
                "SELECT @document = 'Reflectors are vital safety' +  \r\n",
                "                   ' components of your bicycle.';  \r\n",
                "SELECT CHARINDEX('bicycle', @document);  \r\n",
                "GO  \r\n",
                "\r\n",
                "--This example uses the optional start_location parameter to start the search for vital \r\n",
                "--at the fifth character of the searched string value variable @document.\r\n",
                "\r\n",
                "DECLARE @document VARCHAR(64);  \r\n",
                "  \r\n",
                "SELECT @document = 'Reflectors are vital safety' +  \r\n",
                "                   ' components of your bicycle.';  \r\n",
                "SELECT CHARINDEX('vital', @document, 5);  \r\n",
                "GO  \r\n",
                "\r\n",
                "\r\n",
                "--Performing a case-sensitive search\r\n",
                "--This example shows a case-INsensitive search for the string 'TEST' in searched string 'This is a Test``'.\r\n",
                "\r\n",
                "DECLARE @document VARCHAR(64);  \r\n",
                "  \r\n",
                "SELECT @document = 'Reflectors are vital safety' +  \r\n",
                "                   ' components of your bicycle.';  \r\n",
                "SELECT CHARINDEX('BICYclE', @document COLLATE Latin1_General_CI_AS);  \r\n",
                "GO  \r\n",
                "\r\n",
                "\r\n",
                "--Searching from the start of a string expression\r\n",
                "--This example returns the first location of the string 'is' in string This is a string,\r\n",
                "-- starting from position 1 (the first character) of This is a string.\r\n",
                "\r\n",
                "SELECT CHARINDEX('is', 'This is a string'); \r\n",
                "\r\n",
                "\r\n",
                "--Searching from a position other than the first position\r\n",
                "--This example returns the first location of the string is in string This is a string, \r\n",
                "--starting the search from position 4 (the fourth character).\r\n",
                "\r\n",
                "SELECT CHARINDEX('is', 'This is a string', 4); \r\n",
                ""
            ],
            "metadata": {
                "language": "sql",
                "azdata_cell_guid": "aa37224e-7e33-4674-8c0f-238eed77b1cb",
                "tags": []
            },
            "outputs": [
                {
                    "output_type": "display_data",
                    "data": {
                        "text/html": "(1 row affected)"
                    },
                    "metadata": {}
                },
                {
                    "output_type": "display_data",
                    "data": {
                        "text/html": "(1 row affected)"
                    },
                    "metadata": {}
                },
                {
                    "output_type": "display_data",
                    "data": {
                        "text/html": "(1 row affected)"
                    },
                    "metadata": {}
                },
                {
                    "output_type": "display_data",
                    "data": {
                        "text/html": "(1 row affected)"
                    },
                    "metadata": {}
                },
                {
                    "output_type": "display_data",
                    "data": {
                        "text/html": "(1 row affected)"
                    },
                    "metadata": {}
                },
                {
                    "output_type": "display_data",
                    "data": {
                        "text/html": "Total execution time: 00:00:00.255"
                    },
                    "metadata": {}
                },
                {
                    "output_type": "execute_result",
                    "execution_count": 39,
                    "data": {
                        "application/vnd.dataresource+json": {
                            "schema": {
                                "fields": [
                                    {
                                        "name": "(No column name)"
                                    }
                                ]
                            },
                            "data": [
                                {
                                    "0": "48"
                                }
                            ]
                        },
                        "text/html": "<table><tr><th>(No column name)</th></tr><tr><td>48</td></tr></table>"
                    },
                    "metadata": {}
                },
                {
                    "output_type": "execute_result",
                    "execution_count": 39,
                    "data": {
                        "application/vnd.dataresource+json": {
                            "schema": {
                                "fields": [
                                    {
                                        "name": "(No column name)"
                                    }
                                ]
                            },
                            "data": [
                                {
                                    "0": "16"
                                }
                            ]
                        },
                        "text/html": "<table><tr><th>(No column name)</th></tr><tr><td>16</td></tr></table>"
                    },
                    "metadata": {}
                },
                {
                    "output_type": "execute_result",
                    "execution_count": 39,
                    "data": {
                        "application/vnd.dataresource+json": {
                            "schema": {
                                "fields": [
                                    {
                                        "name": "(No column name)"
                                    }
                                ]
                            },
                            "data": [
                                {
                                    "0": "48"
                                }
                            ]
                        },
                        "text/html": "<table><tr><th>(No column name)</th></tr><tr><td>48</td></tr></table>"
                    },
                    "metadata": {}
                },
                {
                    "output_type": "execute_result",
                    "execution_count": 39,
                    "data": {
                        "application/vnd.dataresource+json": {
                            "schema": {
                                "fields": [
                                    {
                                        "name": "(No column name)"
                                    }
                                ]
                            },
                            "data": [
                                {
                                    "0": "3"
                                }
                            ]
                        },
                        "text/html": "<table><tr><th>(No column name)</th></tr><tr><td>3</td></tr></table>"
                    },
                    "metadata": {}
                },
                {
                    "output_type": "execute_result",
                    "execution_count": 39,
                    "data": {
                        "application/vnd.dataresource+json": {
                            "schema": {
                                "fields": [
                                    {
                                        "name": "(No column name)"
                                    }
                                ]
                            },
                            "data": [
                                {
                                    "0": "6"
                                }
                            ]
                        },
                        "text/html": "<table><tr><th>(No column name)</th></tr><tr><td>6</td></tr></table>"
                    },
                    "metadata": {}
                }
            ],
            "execution_count": 39
        },
        {
            "cell_type": "markdown",
            "source": [
                "## <mark>SUBSTRING</mark>- Returns part of a string--The first number is starting index location and the second number is the ending index location\r\n",
                "\r\n",
                "SUBSTRING ( expression ,start , length )  "
            ],
            "metadata": {
                "language": "sql",
                "azdata_cell_guid": "28c379de-5b04-4468-a4ab-6430c186c6c3"
            },
            "attachments": {}
        },
        {
            "cell_type": "code",
            "source": [
                "SELECT x = SUBSTRING('abcdef', 2, 3);\r\n",
                "\r\n",
                "\r\n",
                "--The following example shows how to return only a part of a character string. From the sys.databases table, \r\n",
                "--this query returns the system database names in the first column, \r\n",
                "--the first letter of the database in the second column, and the third and fourth characters in the final column.\r\n",
                "\r\n",
                "SELECT name, SUBSTRING(name, 1, 1) AS Initial ,\r\n",
                "SUBSTRING(name, 3, 2) AS ThirdAndFourthCharacters\r\n",
                "FROM sys.databases  \r\n",
                "WHERE database_id < 5;"
            ],
            "metadata": {
                "language": "sql",
                "azdata_cell_guid": "de89be52-b05f-4353-befe-46a83240554a"
            },
            "outputs": [
                {
                    "output_type": "display_data",
                    "data": {
                        "text/html": "(1 row affected)"
                    },
                    "metadata": {}
                },
                {
                    "output_type": "display_data",
                    "data": {
                        "text/html": "(4 rows affected)"
                    },
                    "metadata": {}
                },
                {
                    "output_type": "display_data",
                    "data": {
                        "text/html": "Total execution time: 00:00:00.095"
                    },
                    "metadata": {}
                },
                {
                    "output_type": "execute_result",
                    "execution_count": 41,
                    "data": {
                        "application/vnd.dataresource+json": {
                            "schema": {
                                "fields": [
                                    {
                                        "name": "x"
                                    }
                                ]
                            },
                            "data": [
                                {
                                    "0": "bcd"
                                }
                            ]
                        },
                        "text/html": "<table><tr><th>x</th></tr><tr><td>bcd</td></tr></table>"
                    },
                    "metadata": {}
                },
                {
                    "output_type": "execute_result",
                    "execution_count": 41,
                    "data": {
                        "application/vnd.dataresource+json": {
                            "schema": {
                                "fields": [
                                    {
                                        "name": "name"
                                    },
                                    {
                                        "name": "Initial"
                                    },
                                    {
                                        "name": "ThirdAndFourthCharacters"
                                    }
                                ]
                            },
                            "data": [
                                {
                                    "0": "master",
                                    "1": "m",
                                    "2": "st"
                                },
                                {
                                    "0": "tempdb",
                                    "1": "t",
                                    "2": "mp"
                                },
                                {
                                    "0": "model",
                                    "1": "m",
                                    "2": "de"
                                },
                                {
                                    "0": "msdb",
                                    "1": "m",
                                    "2": "db"
                                }
                            ]
                        },
                        "text/html": "<table><tr><th>name</th><th>Initial</th><th>ThirdAndFourthCharacters</th></tr><tr><td>master</td><td>m</td><td>st</td></tr><tr><td>tempdb</td><td>t</td><td>mp</td></tr><tr><td>model</td><td>m</td><td>de</td></tr><tr><td>msdb</td><td>m</td><td>db</td></tr></table>"
                    },
                    "metadata": {}
                }
            ],
            "execution_count": 41
        },
        {
            "cell_type": "markdown",
            "source": [
                "## <mark>REVERSE</mark>--RETURN THE STRING BACKWARDS\r\n",
                "\r\n",
                ""
            ],
            "metadata": {
                "language": "sql",
                "azdata_cell_guid": "363d049c-7fdd-4f65-b7f6-ca266af5e0b9"
            },
            "attachments": {}
        },
        {
            "cell_type": "code",
            "source": [
                "USE AdventureWorks2019\r\n",
                "\r\n",
                "SELECT FirstName, REVERSE(FirstName) AS Reverse  \r\n",
                "FROM Person.Person  \r\n",
                "WHERE BusinessEntityID < 5  \r\n",
                "ORDER BY FirstName;  \r\n",
                "GO  \r\n",
                "\r\n",
                "\r\n",
                "DECLARE @myvar VARCHAR(10);  \r\n",
                "SET @myvar = 'sdrawkcaB';  \r\n",
                "SELECT REVERSE(@myvar) AS Reversed ;  \r\n",
                "GO \r\n",
                "\r\n",
                "--The following example returns names of all databases, and the names with the characters reversed.\r\n",
                "SELECT name, REVERSE(name) FROM sys.databases;  \r\n",
                "GO "
            ],
            "metadata": {
                "language": "sql",
                "azdata_cell_guid": "27bf3ff2-0ce9-4ec7-8c59-7133f47fbb65"
            },
            "outputs": [
                {
                    "output_type": "display_data",
                    "data": {
                        "text/html": "(4 rows affected)"
                    },
                    "metadata": {}
                },
                {
                    "output_type": "display_data",
                    "data": {
                        "text/html": "(1 row affected)"
                    },
                    "metadata": {}
                },
                {
                    "output_type": "display_data",
                    "data": {
                        "text/html": "(9 rows affected)"
                    },
                    "metadata": {}
                },
                {
                    "output_type": "display_data",
                    "data": {
                        "text/html": "Total execution time: 00:00:00.214"
                    },
                    "metadata": {}
                },
                {
                    "output_type": "execute_result",
                    "execution_count": 44,
                    "data": {
                        "application/vnd.dataresource+json": {
                            "schema": {
                                "fields": [
                                    {
                                        "name": "FirstName"
                                    },
                                    {
                                        "name": "Reverse"
                                    }
                                ]
                            },
                            "data": [
                                {
                                    "0": "Ken",
                                    "1": "neK"
                                },
                                {
                                    "0": "Rob",
                                    "1": "boR"
                                },
                                {
                                    "0": "Roberto",
                                    "1": "otreboR"
                                },
                                {
                                    "0": "Terri",
                                    "1": "irreT"
                                }
                            ]
                        },
                        "text/html": "<table><tr><th>FirstName</th><th>Reverse</th></tr><tr><td>Ken</td><td>neK</td></tr><tr><td>Rob</td><td>boR</td></tr><tr><td>Roberto</td><td>otreboR</td></tr><tr><td>Terri</td><td>irreT</td></tr></table>"
                    },
                    "metadata": {}
                },
                {
                    "output_type": "execute_result",
                    "execution_count": 44,
                    "data": {
                        "application/vnd.dataresource+json": {
                            "schema": {
                                "fields": [
                                    {
                                        "name": "Reversed"
                                    }
                                ]
                            },
                            "data": [
                                {
                                    "0": "Backwards"
                                }
                            ]
                        },
                        "text/html": "<table><tr><th>Reversed</th></tr><tr><td>Backwards</td></tr></table>"
                    },
                    "metadata": {}
                },
                {
                    "output_type": "execute_result",
                    "execution_count": 44,
                    "data": {
                        "application/vnd.dataresource+json": {
                            "schema": {
                                "fields": [
                                    {
                                        "name": "name"
                                    },
                                    {
                                        "name": "(No column name)"
                                    }
                                ]
                            },
                            "data": [
                                {
                                    "0": "master",
                                    "1": "retsam"
                                },
                                {
                                    "0": "tempdb",
                                    "1": "bdpmet"
                                },
                                {
                                    "0": "model",
                                    "1": "ledom"
                                },
                                {
                                    "0": "msdb",
                                    "1": "bdsm"
                                },
                                {
                                    "0": "LaborStatisticsDB",
                                    "1": "BDscitsitatSrobaL"
                                },
                                {
                                    "0": "JunkDB_STL_March2022",
                                    "1": "2202hcraM_LTS_BDknuJ"
                                },
                                {
                                    "0": "AdventureWorks2019",
                                    "1": "9102skroWerutnevdA"
                                },
                                {
                                    "0": "RideShareDB",
                                    "1": "BDerahSediR"
                                },
                                {
                                    "0": "BooksDB",
                                    "1": "BDskooB"
                                }
                            ]
                        },
                        "text/html": "<table><tr><th>name</th><th>(No column name)</th></tr><tr><td>master</td><td>retsam</td></tr><tr><td>tempdb</td><td>bdpmet</td></tr><tr><td>model</td><td>ledom</td></tr><tr><td>msdb</td><td>bdsm</td></tr><tr><td>LaborStatisticsDB</td><td>BDscitsitatSrobaL</td></tr><tr><td>JunkDB_STL_March2022</td><td>2202hcraM_LTS_BDknuJ</td></tr><tr><td>AdventureWorks2019</td><td>9102skroWerutnevdA</td></tr><tr><td>RideShareDB</td><td>BDerahSediR</td></tr><tr><td>BooksDB</td><td>BDskooB</td></tr></table>"
                    },
                    "metadata": {}
                }
            ],
            "execution_count": 44
        },
        {
            "cell_type": "markdown",
            "source": [
                "## <mark>UPPER</mark>- RETURNS A STRING IN UPPERCASE LETTERS"
            ],
            "metadata": {
                "language": "sql",
                "azdata_cell_guid": "618d35fb-fb96-40ec-946b-63e20c33f189"
            },
            "attachments": {}
        },
        {
            "cell_type": "code",
            "source": [
                "Use AdventureWorks2019  \r\n",
                "  \r\n",
                "SELECT TOP(5) UPPER(RTRIM(LastName)) + ', ' + FirstName AS Name  \r\n",
                "FROM Person.Person  \r\n",
                "ORDER BY LastName;  \r\n",
                "\r\n",
                "SELECT UPPER('Balloon')"
            ],
            "metadata": {
                "language": "sql",
                "azdata_cell_guid": "ce19bfb6-6ba2-4c57-9861-36c7f09e1ad5"
            },
            "outputs": [
                {
                    "output_type": "display_data",
                    "data": {
                        "text/html": "(5 rows affected)"
                    },
                    "metadata": {}
                },
                {
                    "output_type": "display_data",
                    "data": {
                        "text/html": "(1 row affected)"
                    },
                    "metadata": {}
                },
                {
                    "output_type": "display_data",
                    "data": {
                        "text/html": "Total execution time: 00:00:00.066"
                    },
                    "metadata": {}
                },
                {
                    "output_type": "execute_result",
                    "execution_count": 48,
                    "data": {
                        "application/vnd.dataresource+json": {
                            "schema": {
                                "fields": [
                                    {
                                        "name": "Name"
                                    }
                                ]
                            },
                            "data": [
                                {
                                    "0": "ABBAS, Syed"
                                },
                                {
                                    "0": "ABEL, Catherine"
                                },
                                {
                                    "0": "ABERCROMBIE, Kim"
                                },
                                {
                                    "0": "ABERCROMBIE, Kim"
                                },
                                {
                                    "0": "ABERCROMBIE, Kim"
                                }
                            ]
                        },
                        "text/html": "<table><tr><th>Name</th></tr><tr><td>ABBAS, Syed</td></tr><tr><td>ABEL, Catherine</td></tr><tr><td>ABERCROMBIE, Kim</td></tr><tr><td>ABERCROMBIE, Kim</td></tr><tr><td>ABERCROMBIE, Kim</td></tr></table>"
                    },
                    "metadata": {}
                },
                {
                    "output_type": "execute_result",
                    "execution_count": 48,
                    "data": {
                        "application/vnd.dataresource+json": {
                            "schema": {
                                "fields": [
                                    {
                                        "name": "(No column name)"
                                    }
                                ]
                            },
                            "data": [
                                {
                                    "0": "BALLOON"
                                }
                            ]
                        },
                        "text/html": "<table><tr><th>(No column name)</th></tr><tr><td>BALLOON</td></tr></table>"
                    },
                    "metadata": {}
                }
            ],
            "execution_count": 48
        },
        {
            "cell_type": "markdown",
            "source": [
                "## <mark>LOWER</mark>--Returns a string in all lower case letters"
            ],
            "metadata": {
                "language": "sql",
                "azdata_cell_guid": "c28ed03e-d02d-47a9-8fd1-01de894ef6c3"
            },
            "attachments": {}
        },
        {
            "cell_type": "code",
            "source": [
                "--finding tables with specific column name\r\n",
                "-- SELECT\r\n",
                "--   sys.columns.name AS ColumnName,\r\n",
                "--   tables.name AS TableName\r\n",
                "-- FROM\r\n",
                "--   sys.columns\r\n",
                "-- JOIN sys.tables ON\r\n",
                "--   sys.columns.object_id = tables.object_id\r\n",
                "-- WHERE\r\n",
                "--   sys.columns.name = 'title'\r\n",
                "\r\n",
                "\r\n",
                "\r\n",
                "SELECT LOWER('SQL ROCKS!')"
            ],
            "metadata": {
                "language": "sql",
                "azdata_cell_guid": "cf7bcc7a-d1cb-406c-95d7-6820cca541cf"
            },
            "outputs": [
                {
                    "output_type": "display_data",
                    "data": {
                        "text/html": "(1 row affected)"
                    },
                    "metadata": {}
                },
                {
                    "output_type": "display_data",
                    "data": {
                        "text/html": "Total execution time: 00:00:00.064"
                    },
                    "metadata": {}
                },
                {
                    "output_type": "execute_result",
                    "execution_count": 56,
                    "data": {
                        "application/vnd.dataresource+json": {
                            "schema": {
                                "fields": [
                                    {
                                        "name": "(No column name)"
                                    }
                                ]
                            },
                            "data": [
                                {
                                    "0": "sql rocks!"
                                }
                            ]
                        },
                        "text/html": "<table><tr><th>(No column name)</th></tr><tr><td>sql rocks!</td></tr></table>"
                    },
                    "metadata": {}
                }
            ],
            "execution_count": 56
        },
        {
            "cell_type": "markdown",
            "source": [
                "## <mark>REPLACE</mark>\\-- Replaces part of a string using provided patterns.\n",
                "\n",
                "<span class=\"hljs-keyword\" style=\"box-sizing: inherit; outline-color: inherit; color: rgb(86, 156, 214); font-family: SFMono-Regular, Consolas, &quot;Liberation Mono&quot;, Menlo, Courier, monospace; white-space: pre; background-color: rgb(47, 47, 47);\">REPLACE</span> <span style=\"color: rgb(230, 230, 230); font-family: SFMono-Regular, Consolas, &quot;Liberation Mono&quot;, Menlo, Courier, monospace; white-space: pre; background-color: rgb(47, 47, 47);\"> ( </span> <span class=\"hljs-variable\" style=\"box-sizing: inherit; outline-color: inherit; color: rgb(230, 230, 230); font-family: SFMono-Regular, Consolas, &quot;Liberation Mono&quot;, Menlo, Courier, monospace; white-space: pre; background-color: rgb(47, 47, 47);\">string_expression</span> <span style=\"color: rgb(230, 230, 230); font-family: SFMono-Regular, Consolas, &quot;Liberation Mono&quot;, Menlo, Courier, monospace; white-space: pre; background-color: rgb(47, 47, 47);\"> , </span> <span class=\"hljs-variable\" style=\"box-sizing: inherit; outline-color: inherit; color: rgb(230, 230, 230); font-family: SFMono-Regular, Consolas, &quot;Liberation Mono&quot;, Menlo, Courier, monospace; white-space: pre; background-color: rgb(47, 47, 47);\">string_pattern</span> <span style=\"color: rgb(230, 230, 230); font-family: SFMono-Regular, Consolas, &quot;Liberation Mono&quot;, Menlo, Courier, monospace; white-space: pre; background-color: rgb(47, 47, 47);\"> , </span> <span class=\"hljs-variable\" style=\"box-sizing: inherit; outline-color: inherit; color: rgb(230, 230, 230); font-family: SFMono-Regular, Consolas, &quot;Liberation Mono&quot;, Menlo, Courier, monospace; white-space: pre; background-color: rgb(47, 47, 47);\">string_replacement</span> <span style=\"color: rgb(230, 230, 230); font-family: SFMono-Regular, Consolas, &quot;Liberation Mono&quot;, Menlo, Courier, monospace; white-space: pre; background-color: rgb(47, 47, 47);\"> )</span>"
            ],
            "metadata": {
                "language": "sql",
                "azdata_cell_guid": "1078c3e6-b570-4b41-8da7-d9a3b9030997"
            },
            "attachments": {}
        },
        {
            "cell_type": "code",
            "source": [
                "SELECT REPLACE('abcdefghicde','cde','xxx');  \r\n",
                "GO\r\n",
                "\r\n",
                "SELECT REPLACE('This is a Test'  COLLATE Latin1_General_BIN,  \r\n",
                "'Test', 'desk' );  \r\n",
                "GO\r\n",
                "\r\n",
                "\r\n",
                "DECLARE @STR NVARCHAR(100), @LEN1 INT, @LEN2 INT;\r\n",
                "SET @STR = N'This is a sentence with spaces in it.';\r\n",
                "SET @LEN1 = LEN(@STR);\r\n",
                "SET @STR = REPLACE(@STR, N' ', N'');\r\n",
                "SET @LEN2 = LEN(@STR);\r\n",
                "SELECT N'Number of spaces in the string: ' + CONVERT(NVARCHAR(20), @LEN1 - @LEN2);\r\n",
                "\r\n",
                "GO  "
            ],
            "metadata": {
                "language": "sql",
                "azdata_cell_guid": "7460c860-58c4-4552-b9ee-787e58cf72ed"
            },
            "outputs": [
                {
                    "output_type": "display_data",
                    "data": {
                        "text/html": "(1 row affected)"
                    },
                    "metadata": {}
                },
                {
                    "output_type": "display_data",
                    "data": {
                        "text/html": "(1 row affected)"
                    },
                    "metadata": {}
                },
                {
                    "output_type": "display_data",
                    "data": {
                        "text/html": "(1 row affected)"
                    },
                    "metadata": {}
                },
                {
                    "output_type": "display_data",
                    "data": {
                        "text/html": "Total execution time: 00:00:00.185"
                    },
                    "metadata": {}
                },
                {
                    "output_type": "execute_result",
                    "execution_count": 59,
                    "data": {
                        "application/vnd.dataresource+json": {
                            "schema": {
                                "fields": [
                                    {
                                        "name": "(No column name)"
                                    }
                                ]
                            },
                            "data": [
                                {
                                    "0": "abxxxfghixxx"
                                }
                            ]
                        },
                        "text/html": "<table><tr><th>(No column name)</th></tr><tr><td>abxxxfghixxx</td></tr></table>"
                    },
                    "metadata": {}
                },
                {
                    "output_type": "execute_result",
                    "execution_count": 59,
                    "data": {
                        "application/vnd.dataresource+json": {
                            "schema": {
                                "fields": [
                                    {
                                        "name": "(No column name)"
                                    }
                                ]
                            },
                            "data": [
                                {
                                    "0": "This is a desk"
                                }
                            ]
                        },
                        "text/html": "<table><tr><th>(No column name)</th></tr><tr><td>This is a desk</td></tr></table>"
                    },
                    "metadata": {}
                },
                {
                    "output_type": "execute_result",
                    "execution_count": 59,
                    "data": {
                        "application/vnd.dataresource+json": {
                            "schema": {
                                "fields": [
                                    {
                                        "name": "(No column name)"
                                    }
                                ]
                            },
                            "data": [
                                {
                                    "0": "Number of spaces in the string: 7"
                                }
                            ]
                        },
                        "text/html": "<table><tr><th>(No column name)</th></tr><tr><td>Number of spaces in the string: 7</td></tr></table>"
                    },
                    "metadata": {}
                }
            ],
            "execution_count": 59
        },
        {
            "cell_type": "markdown",
            "source": [
                "## <mark>CONCAT</mark>--Combines strings.  \r\n",
                "\r\n",
                "\r\n",
                "Good for working with null values as seen in example 2."
            ],
            "metadata": {
                "language": "sql",
                "azdata_cell_guid": "eb50b23a-9519-41d5-bc72-f7aca9bd6ca8"
            },
            "attachments": {}
        },
        {
            "cell_type": "code",
            "source": [
                "SELECT CONCAT('DOG', 'PARK', 'TREATS')\r\n",
                "\r\n",
                "SELECT CONCAT('DOG', NULL, 'TREATS')\r\n",
                "\r\n",
                "SELECT CONCAT ( 'Happy ', 'Birthday ', 11, '/', '25' ) AS Result;  "
            ],
            "metadata": {
                "language": "sql",
                "azdata_cell_guid": "8d1ef6d2-d78d-419c-aa8e-a4f62eb08413"
            },
            "outputs": [
                {
                    "output_type": "display_data",
                    "data": {
                        "text/html": "(1 row affected)"
                    },
                    "metadata": {}
                },
                {
                    "output_type": "display_data",
                    "data": {
                        "text/html": "(1 row affected)"
                    },
                    "metadata": {}
                },
                {
                    "output_type": "display_data",
                    "data": {
                        "text/html": "(1 row affected)"
                    },
                    "metadata": {}
                },
                {
                    "output_type": "display_data",
                    "data": {
                        "text/html": "Total execution time: 00:00:00.075"
                    },
                    "metadata": {}
                },
                {
                    "output_type": "execute_result",
                    "execution_count": 62,
                    "data": {
                        "application/vnd.dataresource+json": {
                            "schema": {
                                "fields": [
                                    {
                                        "name": "(No column name)"
                                    }
                                ]
                            },
                            "data": [
                                {
                                    "0": "DOGPARKTREATS"
                                }
                            ]
                        },
                        "text/html": "<table><tr><th>(No column name)</th></tr><tr><td>DOGPARKTREATS</td></tr></table>"
                    },
                    "metadata": {}
                },
                {
                    "output_type": "execute_result",
                    "execution_count": 62,
                    "data": {
                        "application/vnd.dataresource+json": {
                            "schema": {
                                "fields": [
                                    {
                                        "name": "(No column name)"
                                    }
                                ]
                            },
                            "data": [
                                {
                                    "0": "DOGTREATS"
                                }
                            ]
                        },
                        "text/html": "<table><tr><th>(No column name)</th></tr><tr><td>DOGTREATS</td></tr></table>"
                    },
                    "metadata": {}
                },
                {
                    "output_type": "execute_result",
                    "execution_count": 62,
                    "data": {
                        "application/vnd.dataresource+json": {
                            "schema": {
                                "fields": [
                                    {
                                        "name": "Result"
                                    }
                                ]
                            },
                            "data": [
                                {
                                    "0": "Happy Birthday 11/25"
                                }
                            ]
                        },
                        "text/html": "<table><tr><th>Result</th></tr><tr><td>Happy Birthday 11/25</td></tr></table>"
                    },
                    "metadata": {}
                }
            ],
            "execution_count": 62
        },
        {
            "cell_type": "markdown",
            "source": [
                "## <mark>CONCAT WS</mark>- Combines strings with a specified separator value\r\n",
                "\r\n",
                "\r\n",
                "The separator can be anything you want.\r\n",
                "\r\n",
                "\r\n",
                "Works with NULL values like CONCAT"
            ],
            "metadata": {
                "language": "sql",
                "azdata_cell_guid": "c1bf2848-876e-4e45-a808-f77261ba9ed3"
            },
            "attachments": {}
        },
        {
            "cell_type": "code",
            "source": [
                "SELECT CONCAT_WS('--', 'DOG', 'BLUE', 'APPLE')\r\n",
                "\r\n",
                "SELECT CONCAT_WS(',','1 Microsoft Way', NULL, NULL, 'Redmond', 'WA', 98052) AS Address;"
            ],
            "metadata": {
                "language": "sql",
                "azdata_cell_guid": "a3678cfe-5041-4131-a649-96685d7f2600"
            },
            "outputs": [
                {
                    "output_type": "display_data",
                    "data": {
                        "text/html": "(1 row affected)"
                    },
                    "metadata": {}
                },
                {
                    "output_type": "display_data",
                    "data": {
                        "text/html": "(1 row affected)"
                    },
                    "metadata": {}
                },
                {
                    "output_type": "display_data",
                    "data": {
                        "text/html": "Total execution time: 00:00:00.065"
                    },
                    "metadata": {}
                },
                {
                    "output_type": "execute_result",
                    "execution_count": 68,
                    "data": {
                        "application/vnd.dataresource+json": {
                            "schema": {
                                "fields": [
                                    {
                                        "name": "(No column name)"
                                    }
                                ]
                            },
                            "data": [
                                {
                                    "0": "DOG--BLUE--APPLE"
                                }
                            ]
                        },
                        "text/html": "<table><tr><th>(No column name)</th></tr><tr><td>DOG--BLUE--APPLE</td></tr></table>"
                    },
                    "metadata": {}
                },
                {
                    "output_type": "execute_result",
                    "execution_count": 68,
                    "data": {
                        "application/vnd.dataresource+json": {
                            "schema": {
                                "fields": [
                                    {
                                        "name": "Address"
                                    }
                                ]
                            },
                            "data": [
                                {
                                    "0": "1 Microsoft Way,Redmond,WA,98052"
                                }
                            ]
                        },
                        "text/html": "<table><tr><th>Address</th></tr><tr><td>1 Microsoft Way,Redmond,WA,98052</td></tr></table>"
                    },
                    "metadata": {}
                }
            ],
            "execution_count": 68
        },
        {
            "cell_type": "markdown",
            "source": [
                "## <mark>STUFF</mark>-- Inserts string into another string\r\n",
                "\r\n",
                "\r\n",
                "The first number indicates where to insert the new chars. \r\n",
                "\r\n",
                "\r\n",
                "The second number indicates how many original characters will be deleted upon insertion. "
            ],
            "metadata": {
                "language": "sql",
                "azdata_cell_guid": "52759278-2bbc-47a4-875d-77798baca9fd"
            },
            "attachments": {}
        },
        {
            "cell_type": "code",
            "source": [
                "--The following example returns a character string created by deleting three characters from the first string,\r\n",
                "--abcdef, starting at position 2, at b, and inserting the second string at the deletion point.\r\n",
                "\r\n",
                "SELECT STUFF('abcdef', 2, 3, 'ijklmn');  \r\n",
                "GO\r\n",
                "\r\n",
                "SELECT STUFF('Pumpkin Pie', 3, 0, 'AddChars');\r\n",
                "\r\n",
                "SELECT STUFF('Pumpkin Pie', 3, 5, 'Delete Chars');\r\n",
                "\r\n",
                "\r\n",
                "\r\n",
                ""
            ],
            "metadata": {
                "language": "sql",
                "azdata_cell_guid": "12161598-5e41-47da-b803-a84f73364bda"
            },
            "outputs": [
                {
                    "output_type": "display_data",
                    "data": {
                        "text/html": "(1 row affected)"
                    },
                    "metadata": {}
                },
                {
                    "output_type": "display_data",
                    "data": {
                        "text/html": "(1 row affected)"
                    },
                    "metadata": {}
                },
                {
                    "output_type": "display_data",
                    "data": {
                        "text/html": "(1 row affected)"
                    },
                    "metadata": {}
                },
                {
                    "output_type": "display_data",
                    "data": {
                        "text/html": "Total execution time: 00:00:00.131"
                    },
                    "metadata": {}
                },
                {
                    "output_type": "execute_result",
                    "execution_count": 72,
                    "data": {
                        "application/vnd.dataresource+json": {
                            "schema": {
                                "fields": [
                                    {
                                        "name": "(No column name)"
                                    }
                                ]
                            },
                            "data": [
                                {
                                    "0": "aijklmnef"
                                }
                            ]
                        },
                        "text/html": "<table><tr><th>(No column name)</th></tr><tr><td>aijklmnef</td></tr></table>"
                    },
                    "metadata": {}
                },
                {
                    "output_type": "execute_result",
                    "execution_count": 72,
                    "data": {
                        "application/vnd.dataresource+json": {
                            "schema": {
                                "fields": [
                                    {
                                        "name": "(No column name)"
                                    }
                                ]
                            },
                            "data": [
                                {
                                    "0": "PuAddCharsmpkin Pie"
                                }
                            ]
                        },
                        "text/html": "<table><tr><th>(No column name)</th></tr><tr><td>PuAddCharsmpkin Pie</td></tr></table>"
                    },
                    "metadata": {}
                },
                {
                    "output_type": "execute_result",
                    "execution_count": 72,
                    "data": {
                        "application/vnd.dataresource+json": {
                            "schema": {
                                "fields": [
                                    {
                                        "name": "(No column name)"
                                    }
                                ]
                            },
                            "data": [
                                {
                                    "0": "PuDelete Chars Pie"
                                }
                            ]
                        },
                        "text/html": "<table><tr><th>(No column name)</th></tr><tr><td>PuDelete Chars Pie</td></tr></table>"
                    },
                    "metadata": {}
                }
            ],
            "execution_count": 72
        },
        {
            "cell_type": "markdown",
            "source": [
                "# <mark>DATE AND TIME</mark>\r\n",
                "\r\n",
                "## GET DATE- Returns a timestamp that includes the date and time of the server. "
            ],
            "metadata": {
                "language": "sql",
                "azdata_cell_guid": "2024d500-89c5-46f0-9668-e2eda8d52c41"
            },
            "attachments": {}
        },
        {
            "cell_type": "code",
            "source": [
                "SELECT GETDATE()\r\n",
                "\r\n",
                "--GETTING THE CURRENT SYSTEM DATE AND TIME\r\n",
                "SELECT SYSDATETIME()\r\n",
                "    ,SYSDATETIMEOFFSET()\r\n",
                "    ,SYSUTCDATETIME()\r\n",
                "    ,CURRENT_TIMESTAMP\r\n",
                "    ,GETDATE()\r\n",
                "    ,GETUTCDATE();\r\n",
                "\r\n",
                " --GETTING THE CURRENT SYSTEM DATE   \r\n",
                "\r\n",
                "SELECT CONVERT (date, SYSDATETIME())\r\n",
                "    ,CONVERT (date, SYSDATETIMEOFFSET())\r\n",
                "    ,CONVERT (date, SYSUTCDATETIME())\r\n",
                "    ,CONVERT (date, CURRENT_TIMESTAMP)\r\n",
                "    ,CONVERT (date, GETDATE())\r\n",
                "    ,CONVERT (date, GETUTCDATE());\r\n",
                "\r\n",
                "--GETTING THE CURRENT SYSTEM TIME\r\n",
                "SELECT CONVERT (time, SYSDATETIME())\r\n",
                "    ,CONVERT (time, SYSDATETIMEOFFSET())\r\n",
                "    ,CONVERT (time, SYSUTCDATETIME())\r\n",
                "    ,CONVERT (time, CURRENT_TIMESTAMP)\r\n",
                "    ,CONVERT (time, GETDATE())\r\n",
                "    ,CONVERT (time, GETUTCDATE());\r\n",
                "\r\n",
                "\r\n",
                "SELECT SYSDATETIME()\r\n",
                "\r\n",
                "\r\n",
                ""
            ],
            "metadata": {
                "language": "sql",
                "azdata_cell_guid": "faafb482-2b5c-45f3-8499-1e2e54b5214d"
            },
            "outputs": [
                {
                    "output_type": "display_data",
                    "data": {
                        "text/html": "(1 row affected)"
                    },
                    "metadata": {}
                },
                {
                    "output_type": "display_data",
                    "data": {
                        "text/html": "(1 row affected)"
                    },
                    "metadata": {}
                },
                {
                    "output_type": "display_data",
                    "data": {
                        "text/html": "(1 row affected)"
                    },
                    "metadata": {}
                },
                {
                    "output_type": "display_data",
                    "data": {
                        "text/html": "(1 row affected)"
                    },
                    "metadata": {}
                },
                {
                    "output_type": "display_data",
                    "data": {
                        "text/html": "(1 row affected)"
                    },
                    "metadata": {}
                },
                {
                    "output_type": "display_data",
                    "data": {
                        "text/html": "Total execution time: 00:00:00.143"
                    },
                    "metadata": {}
                },
                {
                    "output_type": "execute_result",
                    "execution_count": 76,
                    "data": {
                        "application/vnd.dataresource+json": {
                            "schema": {
                                "fields": [
                                    {
                                        "name": "(No column name)"
                                    }
                                ]
                            },
                            "data": [
                                {
                                    "0": "2022-06-06 20:27:03.170"
                                }
                            ]
                        },
                        "text/html": "<table><tr><th>(No column name)</th></tr><tr><td>2022-06-06 20:27:03.170</td></tr></table>"
                    },
                    "metadata": {}
                },
                {
                    "output_type": "execute_result",
                    "execution_count": 76,
                    "data": {
                        "application/vnd.dataresource+json": {
                            "schema": {
                                "fields": [
                                    {
                                        "name": "(No column name)"
                                    },
                                    {
                                        "name": "(No column name)"
                                    },
                                    {
                                        "name": "(No column name)"
                                    },
                                    {
                                        "name": "(No column name)"
                                    },
                                    {
                                        "name": "(No column name)"
                                    },
                                    {
                                        "name": "(No column name)"
                                    }
                                ]
                            },
                            "data": [
                                {
                                    "0": "2022-06-06 20:27:03.1741025",
                                    "1": "2022-06-06 20:27:03.1741025 +00:00",
                                    "2": "2022-06-06 20:27:03.1741025",
                                    "3": "2022-06-06 20:27:03.170",
                                    "4": "2022-06-06 20:27:03.170",
                                    "5": "2022-06-06 20:27:03.170"
                                }
                            ]
                        },
                        "text/html": "<table><tr><th>(No column name)</th><th>(No column name)</th><th>(No column name)</th><th>(No column name)</th><th>(No column name)</th><th>(No column name)</th></tr><tr><td>2022-06-06 20:27:03.1741025</td><td>2022-06-06 20:27:03.1741025 +00:00</td><td>2022-06-06 20:27:03.1741025</td><td>2022-06-06 20:27:03.170</td><td>2022-06-06 20:27:03.170</td><td>2022-06-06 20:27:03.170</td></tr></table>"
                    },
                    "metadata": {}
                },
                {
                    "output_type": "execute_result",
                    "execution_count": 76,
                    "data": {
                        "application/vnd.dataresource+json": {
                            "schema": {
                                "fields": [
                                    {
                                        "name": "(No column name)"
                                    },
                                    {
                                        "name": "(No column name)"
                                    },
                                    {
                                        "name": "(No column name)"
                                    },
                                    {
                                        "name": "(No column name)"
                                    },
                                    {
                                        "name": "(No column name)"
                                    },
                                    {
                                        "name": "(No column name)"
                                    }
                                ]
                            },
                            "data": [
                                {
                                    "0": "2022-06-06",
                                    "1": "2022-06-06",
                                    "2": "2022-06-06",
                                    "3": "2022-06-06",
                                    "4": "2022-06-06",
                                    "5": "2022-06-06"
                                }
                            ]
                        },
                        "text/html": "<table><tr><th>(No column name)</th><th>(No column name)</th><th>(No column name)</th><th>(No column name)</th><th>(No column name)</th><th>(No column name)</th></tr><tr><td>2022-06-06</td><td>2022-06-06</td><td>2022-06-06</td><td>2022-06-06</td><td>2022-06-06</td><td>2022-06-06</td></tr></table>"
                    },
                    "metadata": {}
                },
                {
                    "output_type": "execute_result",
                    "execution_count": 76,
                    "data": {
                        "application/vnd.dataresource+json": {
                            "schema": {
                                "fields": [
                                    {
                                        "name": "(No column name)"
                                    },
                                    {
                                        "name": "(No column name)"
                                    },
                                    {
                                        "name": "(No column name)"
                                    },
                                    {
                                        "name": "(No column name)"
                                    },
                                    {
                                        "name": "(No column name)"
                                    },
                                    {
                                        "name": "(No column name)"
                                    }
                                ]
                            },
                            "data": [
                                {
                                    "0": "20:27:03.1741025",
                                    "1": "20:27:03.1741025",
                                    "2": "20:27:03.1741025",
                                    "3": "20:27:03.1700000",
                                    "4": "20:27:03.1700000",
                                    "5": "20:27:03.1700000"
                                }
                            ]
                        },
                        "text/html": "<table><tr><th>(No column name)</th><th>(No column name)</th><th>(No column name)</th><th>(No column name)</th><th>(No column name)</th><th>(No column name)</th></tr><tr><td>20:27:03.1741025</td><td>20:27:03.1741025</td><td>20:27:03.1741025</td><td>20:27:03.1700000</td><td>20:27:03.1700000</td><td>20:27:03.1700000</td></tr></table>"
                    },
                    "metadata": {}
                },
                {
                    "output_type": "execute_result",
                    "execution_count": 76,
                    "data": {
                        "application/vnd.dataresource+json": {
                            "schema": {
                                "fields": [
                                    {
                                        "name": "(No column name)"
                                    }
                                ]
                            },
                            "data": [
                                {
                                    "0": "2022-06-06 20:27:03.1741025"
                                }
                            ]
                        },
                        "text/html": "<table><tr><th>(No column name)</th></tr><tr><td>2022-06-06 20:27:03.1741025</td></tr></table>"
                    },
                    "metadata": {}
                }
            ],
            "execution_count": 76
        },
        {
            "cell_type": "markdown",
            "source": [
                "## <mark>DATE ADD</mark>\n",
                "\n",
                "<mark>\n",
                "\n",
                "Adds a time period to a date. \n",
                "\n",
                "In this example, we are increasing the month value from 02 (February) to 03(March)\n",
                "\n",
                "</mark>\n",
                "\n",
                "<mark><span style=\"color: rgb(230, 230, 230); font-family: SFMono-Regular, Consolas, &quot;Liberation Mono&quot;, Menlo, Courier, monospace; white-space: pre; background-color: rgb(47, 47, 47);\">DATEADD (datepart , number , date )</span>  \n",
                "</mark>"
            ],
            "metadata": {
                "language": "sql",
                "azdata_cell_guid": "c29366b6-f5a6-4ca6-8fe5-aadeea9ec30c"
            },
            "attachments": {}
        },
        {
            "cell_type": "code",
            "source": [
                "SELECT DATEADD(month, 1, '20220224');\r\n",
                "\r\n",
                "DECLARE @datetime2 datetime2 = '2007-01-01 13:10:10.1111111';  \r\n",
                "SELECT 'year', DATEADD(year,1,@datetime2)  \r\n",
                "UNION ALL  \r\n",
                "SELECT 'quarter',DATEADD(quarter,1,@datetime2)  \r\n",
                "UNION ALL  \r\n",
                "SELECT 'month',DATEADD(month,1,@datetime2)  \r\n",
                "UNION ALL  \r\n",
                "SELECT 'dayofyear',DATEADD(dayofyear,1,@datetime2)  \r\n",
                "UNION ALL  \r\n",
                "SELECT 'day',DATEADD(day,1,@datetime2)  \r\n",
                "UNION ALL  \r\n",
                "SELECT 'week',DATEADD(week,1,@datetime2)  \r\n",
                "UNION ALL  \r\n",
                "SELECT 'weekday',DATEADD(weekday,1,@datetime2)  \r\n",
                "UNION ALL  \r\n",
                "SELECT 'hour',DATEADD(hour,1,@datetime2)  \r\n",
                "UNION ALL  \r\n",
                "SELECT 'minute',DATEADD(minute,1,@datetime2)  \r\n",
                "UNION ALL  \r\n",
                "SELECT 'second',DATEADD(second,1,@datetime2)  \r\n",
                "UNION ALL  \r\n",
                "SELECT 'millisecond',DATEADD(millisecond,1,@datetime2)  \r\n",
                "UNION ALL  \r\n",
                "SELECT 'microsecond',DATEADD(microsecond,1,@datetime2)  \r\n",
                "UNION ALL  \r\n",
                "SELECT 'nanosecond',DATEADD(nanosecond,1,@datetime2);"
            ],
            "metadata": {
                "language": "sql",
                "azdata_cell_guid": "5cb0c366-aae6-40ed-90a6-8cbfbc0d392b"
            },
            "outputs": [
                {
                    "output_type": "display_data",
                    "data": {
                        "text/html": "(1 row affected)"
                    },
                    "metadata": {}
                },
                {
                    "output_type": "display_data",
                    "data": {
                        "text/html": "(13 rows affected)"
                    },
                    "metadata": {}
                },
                {
                    "output_type": "display_data",
                    "data": {
                        "text/html": "Total execution time: 00:00:00.073"
                    },
                    "metadata": {}
                },
                {
                    "output_type": "execute_result",
                    "execution_count": 79,
                    "data": {
                        "application/vnd.dataresource+json": {
                            "schema": {
                                "fields": [
                                    {
                                        "name": "(No column name)"
                                    }
                                ]
                            },
                            "data": [
                                {
                                    "0": "2022-03-24 00:00:00.000"
                                }
                            ]
                        },
                        "text/html": "<table><tr><th>(No column name)</th></tr><tr><td>2022-03-24 00:00:00.000</td></tr></table>"
                    },
                    "metadata": {}
                },
                {
                    "output_type": "execute_result",
                    "execution_count": 79,
                    "data": {
                        "application/vnd.dataresource+json": {
                            "schema": {
                                "fields": [
                                    {
                                        "name": "(No column name)"
                                    },
                                    {
                                        "name": "(No column name)"
                                    }
                                ]
                            },
                            "data": [
                                {
                                    "0": "year",
                                    "1": "2008-01-01 13:10:10.1111111"
                                },
                                {
                                    "0": "quarter",
                                    "1": "2007-04-01 13:10:10.1111111"
                                },
                                {
                                    "0": "month",
                                    "1": "2007-02-01 13:10:10.1111111"
                                },
                                {
                                    "0": "dayofyear",
                                    "1": "2007-01-02 13:10:10.1111111"
                                },
                                {
                                    "0": "day",
                                    "1": "2007-01-02 13:10:10.1111111"
                                },
                                {
                                    "0": "week",
                                    "1": "2007-01-08 13:10:10.1111111"
                                },
                                {
                                    "0": "weekday",
                                    "1": "2007-01-02 13:10:10.1111111"
                                },
                                {
                                    "0": "hour",
                                    "1": "2007-01-01 14:10:10.1111111"
                                },
                                {
                                    "0": "minute",
                                    "1": "2007-01-01 13:11:10.1111111"
                                },
                                {
                                    "0": "second",
                                    "1": "2007-01-01 13:10:11.1111111"
                                },
                                {
                                    "0": "millisecond",
                                    "1": "2007-01-01 13:10:10.1121111"
                                },
                                {
                                    "0": "microsecond",
                                    "1": "2007-01-01 13:10:10.1111121"
                                },
                                {
                                    "0": "nanosecond",
                                    "1": "2007-01-01 13:10:10.1111111"
                                }
                            ]
                        },
                        "text/html": "<table><tr><th>(No column name)</th><th>(No column name)</th></tr><tr><td>year</td><td>2008-01-01 13:10:10.1111111</td></tr><tr><td>quarter</td><td>2007-04-01 13:10:10.1111111</td></tr><tr><td>month</td><td>2007-02-01 13:10:10.1111111</td></tr><tr><td>dayofyear</td><td>2007-01-02 13:10:10.1111111</td></tr><tr><td>day</td><td>2007-01-02 13:10:10.1111111</td></tr><tr><td>week</td><td>2007-01-08 13:10:10.1111111</td></tr><tr><td>weekday</td><td>2007-01-02 13:10:10.1111111</td></tr><tr><td>hour</td><td>2007-01-01 14:10:10.1111111</td></tr><tr><td>minute</td><td>2007-01-01 13:11:10.1111111</td></tr><tr><td>second</td><td>2007-01-01 13:10:11.1111111</td></tr><tr><td>millisecond</td><td>2007-01-01 13:10:10.1121111</td></tr><tr><td>microsecond</td><td>2007-01-01 13:10:10.1111121</td></tr><tr><td>nanosecond</td><td>2007-01-01 13:10:10.1111111</td></tr></table>"
                    },
                    "metadata": {}
                }
            ],
            "execution_count": 79
        },
        {
            "cell_type": "markdown",
            "source": [
                "## <mark>DATEDIFF</mark>--Calculates and returns the difference of a date part  between an end date and a start date \r\n",
                "\r\n",
                "\r\n",
                "The first example is comparing the difference between days while the second is comparing months."
            ],
            "metadata": {
                "language": "sql",
                "azdata_cell_guid": "db21bc3b-9ee1-423e-8cd5-6880b532c9e6"
            },
            "attachments": {}
        },
        {
            "cell_type": "code",
            "source": [
                "SELECT DATEDIFF(day, '2022-11-13', '2022-12-12');\r\n",
                "\r\n",
                "\r\n",
                "\r\n",
                "SELECT DATEDIFF(month, '2022-11-13', '2022-12-12');\r\n",
                "\r\n",
                "\r\n",
                "\r\n",
                "SELECT DATEDIFF(year, '1984-11-13', '2022-12-12');\r\n",
                "\r\n",
                "\r\n",
                "-- SELECT DATEDIFF(year,        '2005-12-31 23:59:59.9999999', '2006-01-01 00:00:00.0000000');\r\n",
                "-- SELECT DATEDIFF(quarter,     '2005-12-31 23:59:59.9999999', '2006-01-01 00:00:00.0000000');\r\n",
                "-- SELECT DATEDIFF(month,       '2005-12-31 23:59:59.9999999', '2006-01-01 00:00:00.0000000');\r\n",
                "-- SELECT DATEDIFF(dayofyear,   '2005-12-31 23:59:59.9999999', '2006-01-01 00:00:00.0000000');\r\n",
                "-- SELECT DATEDIFF(day,         '2005-12-31 23:59:59.9999999', '2006-01-01 00:00:00.0000000');\r\n",
                "-- SELECT DATEDIFF(week,        '2005-12-31 23:59:59.9999999', '2006-01-01 00:00:00.0000000');\r\n",
                "-- SELECT DATEDIFF(hour,        '2005-12-31 23:59:59.9999999', '2006-01-01 00:00:00.0000000');\r\n",
                "-- SELECT DATEDIFF(minute,      '2005-12-31 23:59:59.9999999', '2006-01-01 00:00:00.0000000');\r\n",
                "-- SELECT DATEDIFF(second,      '2005-12-31 23:59:59.9999999', '2006-01-01 00:00:00.0000000');\r\n",
                "-- SELECT DATEDIFF(millisecond, '2005-12-31 23:59:59.9999999', '2006-01-01 00:00:00.0000000');\r\n",
                "-- SELECT DATEDIFF(microsecond, '2005-12-31 23:59:59.9999999', '2006-01-01 00:00:00.0000000');\r\n",
                "\r\n",
                ""
            ],
            "metadata": {
                "language": "sql",
                "azdata_cell_guid": "2e501d1c-e61e-40fc-86ea-108ce542f64f"
            },
            "outputs": [
                {
                    "output_type": "display_data",
                    "data": {
                        "text/html": "(1 row affected)"
                    },
                    "metadata": {}
                },
                {
                    "output_type": "display_data",
                    "data": {
                        "text/html": "(1 row affected)"
                    },
                    "metadata": {}
                },
                {
                    "output_type": "display_data",
                    "data": {
                        "text/html": "(1 row affected)"
                    },
                    "metadata": {}
                },
                {
                    "output_type": "display_data",
                    "data": {
                        "text/html": "Total execution time: 00:00:00.085"
                    },
                    "metadata": {}
                },
                {
                    "output_type": "execute_result",
                    "execution_count": 82,
                    "data": {
                        "application/vnd.dataresource+json": {
                            "schema": {
                                "fields": [
                                    {
                                        "name": "(No column name)"
                                    }
                                ]
                            },
                            "data": [
                                {
                                    "0": "29"
                                }
                            ]
                        },
                        "text/html": "<table><tr><th>(No column name)</th></tr><tr><td>29</td></tr></table>"
                    },
                    "metadata": {}
                },
                {
                    "output_type": "execute_result",
                    "execution_count": 82,
                    "data": {
                        "application/vnd.dataresource+json": {
                            "schema": {
                                "fields": [
                                    {
                                        "name": "(No column name)"
                                    }
                                ]
                            },
                            "data": [
                                {
                                    "0": "1"
                                }
                            ]
                        },
                        "text/html": "<table><tr><th>(No column name)</th></tr><tr><td>1</td></tr></table>"
                    },
                    "metadata": {}
                },
                {
                    "output_type": "execute_result",
                    "execution_count": 82,
                    "data": {
                        "application/vnd.dataresource+json": {
                            "schema": {
                                "fields": [
                                    {
                                        "name": "(No column name)"
                                    }
                                ]
                            },
                            "data": [
                                {
                                    "0": "38"
                                }
                            ]
                        },
                        "text/html": "<table><tr><th>(No column name)</th></tr><tr><td>38</td></tr></table>"
                    },
                    "metadata": {}
                }
            ],
            "execution_count": 82
        },
        {
            "cell_type": "markdown",
            "source": [
                "## <mark>DATENAME</mark>--Returns a string representing the desired date part."
            ],
            "metadata": {
                "language": "sql",
                "azdata_cell_guid": "e4f18f1b-f518-4051-bc41-5f11b688edb3"
            },
            "attachments": {}
        },
        {
            "cell_type": "code",
            "source": [
                "SELECT DATENAME(year, '12:10:30.123') AS 'YEAR' \r\n",
                "    ,DATENAME(month, '12:10:30.123')  AS 'MONTH'\r\n",
                "    ,DATENAME(day, '12:10:30.123')  AS 'DAY'\r\n",
                "    ,DATENAME(dayofyear, '12:10:30.123')  AS 'DAY OF YEAR'\r\n",
                "    ,DATENAME(weekday, '12:10:30.123') AS 'WEEKDAY';\r\n",
                "\r\n",
                "\r\n",
                "\r\n",
                "SELECT DATENAME(DAYOFYEAR, '2022-07-25') AS 'DAY OF YEAR';\r\n",
                "\r\n",
                ""
            ],
            "metadata": {
                "language": "sql",
                "azdata_cell_guid": "f78d0bfb-2845-4d7b-a5cd-241477a7d347"
            },
            "outputs": [
                {
                    "output_type": "display_data",
                    "data": {
                        "text/html": "(1 row affected)"
                    },
                    "metadata": {}
                },
                {
                    "output_type": "display_data",
                    "data": {
                        "text/html": "(1 row affected)"
                    },
                    "metadata": {}
                },
                {
                    "output_type": "display_data",
                    "data": {
                        "text/html": "Total execution time: 00:00:00.080"
                    },
                    "metadata": {}
                },
                {
                    "output_type": "execute_result",
                    "execution_count": 87,
                    "data": {
                        "application/vnd.dataresource+json": {
                            "schema": {
                                "fields": [
                                    {
                                        "name": "YEAR"
                                    },
                                    {
                                        "name": "MONTH"
                                    },
                                    {
                                        "name": "DAY"
                                    },
                                    {
                                        "name": "DAY OF YEAR"
                                    },
                                    {
                                        "name": "WEEKDAY"
                                    }
                                ]
                            },
                            "data": [
                                {
                                    "0": "1900",
                                    "1": "January",
                                    "2": "1",
                                    "3": "1",
                                    "4": "Monday"
                                }
                            ]
                        },
                        "text/html": "<table><tr><th>YEAR</th><th>MONTH</th><th>DAY</th><th>DAY OF YEAR</th><th>WEEKDAY</th></tr><tr><td>1900</td><td>January</td><td>1</td><td>1</td><td>Monday</td></tr></table>"
                    },
                    "metadata": {}
                },
                {
                    "output_type": "execute_result",
                    "execution_count": 87,
                    "data": {
                        "application/vnd.dataresource+json": {
                            "schema": {
                                "fields": [
                                    {
                                        "name": "DAY OF YEAR"
                                    }
                                ]
                            },
                            "data": [
                                {
                                    "0": "206"
                                }
                            ]
                        },
                        "text/html": "<table><tr><th>DAY OF YEAR</th></tr><tr><td>206</td></tr></table>"
                    },
                    "metadata": {}
                }
            ],
            "execution_count": 87
        },
        {
            "cell_type": "markdown",
            "source": [
                "## <mark>DATEPART</mark>--Returns an integer representing the desired date part"
            ],
            "metadata": {
                "language": "sql",
                "azdata_cell_guid": "2a5c7adb-1177-49ff-ae0a-3670ec889aa6"
            },
            "attachments": {}
        },
        {
            "cell_type": "code",
            "source": [
                "SELECT DATEPART(day, '2022-08-21');\r\n",
                "\r\n",
                "SELECT DATEPART(year, '2022-08-21')  \r\n",
                "    ,DATEPART(month, '2022-08-21')  \r\n",
                "    ,DATEPART(day, '2022-08-21')  \r\n",
                "    ,DATEPART(dayofyear, '2022-08-21')  \r\n",
                "    ,DATEPART(weekday, '2022-08-21');  "
            ],
            "metadata": {
                "language": "sql",
                "azdata_cell_guid": "ac290ee6-eb4d-403f-8ef6-bd03ed89a693"
            },
            "outputs": [
                {
                    "output_type": "display_data",
                    "data": {
                        "text/html": "(1 row affected)"
                    },
                    "metadata": {}
                },
                {
                    "output_type": "display_data",
                    "data": {
                        "text/html": "(1 row affected)"
                    },
                    "metadata": {}
                },
                {
                    "output_type": "display_data",
                    "data": {
                        "text/html": "Total execution time: 00:00:00.072"
                    },
                    "metadata": {}
                },
                {
                    "output_type": "execute_result",
                    "execution_count": 89,
                    "data": {
                        "application/vnd.dataresource+json": {
                            "schema": {
                                "fields": [
                                    {
                                        "name": "(No column name)"
                                    }
                                ]
                            },
                            "data": [
                                {
                                    "0": "21"
                                }
                            ]
                        },
                        "text/html": "<table><tr><th>(No column name)</th></tr><tr><td>21</td></tr></table>"
                    },
                    "metadata": {}
                },
                {
                    "output_type": "execute_result",
                    "execution_count": 89,
                    "data": {
                        "application/vnd.dataresource+json": {
                            "schema": {
                                "fields": [
                                    {
                                        "name": "(No column name)"
                                    },
                                    {
                                        "name": "(No column name)"
                                    },
                                    {
                                        "name": "(No column name)"
                                    },
                                    {
                                        "name": "(No column name)"
                                    },
                                    {
                                        "name": "(No column name)"
                                    }
                                ]
                            },
                            "data": [
                                {
                                    "0": "2022",
                                    "1": "8",
                                    "2": "21",
                                    "3": "233",
                                    "4": "1"
                                }
                            ]
                        },
                        "text/html": "<table><tr><th>(No column name)</th><th>(No column name)</th><th>(No column name)</th><th>(No column name)</th><th>(No column name)</th></tr><tr><td>2022</td><td>8</td><td>21</td><td>233</td><td>1</td></tr></table>"
                    },
                    "metadata": {}
                }
            ],
            "execution_count": 89
        },
        {
            "cell_type": "markdown",
            "source": [
                "## <mark>DAY MONTH YEAR</mark>"
            ],
            "metadata": {
                "language": "sql",
                "azdata_cell_guid": "29c22ed0-445c-4c05-b38d-80ccaf7105ae"
            },
            "attachments": {}
        },
        {
            "cell_type": "code",
            "source": [
                "SELECT DAY( '2022-08-21') AS 'DAY';\r\n",
                "\r\n",
                "\r\n",
                "SELECT MONTH( '2022-08-21') AS 'MONTH';\r\n",
                "\r\n",
                "\r\n",
                "SELECT YEAR( '2022-08-21') AS 'YEAR';\r\n",
                "\r\n",
                ""
            ],
            "metadata": {
                "language": "sql",
                "azdata_cell_guid": "0dc14513-10b1-4aa4-85e1-1d7b96735680"
            },
            "outputs": [
                {
                    "output_type": "display_data",
                    "data": {
                        "text/html": "(1 row affected)"
                    },
                    "metadata": {}
                },
                {
                    "output_type": "display_data",
                    "data": {
                        "text/html": "(1 row affected)"
                    },
                    "metadata": {}
                },
                {
                    "output_type": "display_data",
                    "data": {
                        "text/html": "(1 row affected)"
                    },
                    "metadata": {}
                },
                {
                    "output_type": "display_data",
                    "data": {
                        "text/html": "Total execution time: 00:00:00.076"
                    },
                    "metadata": {}
                },
                {
                    "output_type": "execute_result",
                    "execution_count": 90,
                    "data": {
                        "application/vnd.dataresource+json": {
                            "schema": {
                                "fields": [
                                    {
                                        "name": "DAY"
                                    }
                                ]
                            },
                            "data": [
                                {
                                    "0": "21"
                                }
                            ]
                        },
                        "text/html": "<table><tr><th>DAY</th></tr><tr><td>21</td></tr></table>"
                    },
                    "metadata": {}
                },
                {
                    "output_type": "execute_result",
                    "execution_count": 90,
                    "data": {
                        "application/vnd.dataresource+json": {
                            "schema": {
                                "fields": [
                                    {
                                        "name": "MONTH"
                                    }
                                ]
                            },
                            "data": [
                                {
                                    "0": "8"
                                }
                            ]
                        },
                        "text/html": "<table><tr><th>MONTH</th></tr><tr><td>8</td></tr></table>"
                    },
                    "metadata": {}
                },
                {
                    "output_type": "execute_result",
                    "execution_count": 90,
                    "data": {
                        "application/vnd.dataresource+json": {
                            "schema": {
                                "fields": [
                                    {
                                        "name": "YEAR"
                                    }
                                ]
                            },
                            "data": [
                                {
                                    "0": "2022"
                                }
                            ]
                        },
                        "text/html": "<table><tr><th>YEAR</th></tr><tr><td>2022</td></tr></table>"
                    },
                    "metadata": {}
                }
            ],
            "execution_count": 90
        },
        {
            "cell_type": "markdown",
            "source": [
                "## <mark>CONVERT DATE/TIME</mark>--Paired with GETDATE to convert other data types into dates and times (Links to an external site.) based on the desired format.\r\n",
                "\r\n",
                "\r\n",
                "These examples convert the server date into various formats.  The first example is the default format, the second example is format number 7"
            ],
            "metadata": {
                "language": "sql",
                "azdata_cell_guid": "2797d217-428d-4a65-b711-a06e68483153"
            },
            "attachments": {}
        },
        {
            "cell_type": "code",
            "source": [
                "SELECT CONVERT(varchar, GETDATE());\r\n",
                "\r\n",
                "SELECT CONVERT(varchar, GETDATE(), 7);"
            ],
            "metadata": {
                "language": "sql",
                "azdata_cell_guid": "2bc20a85-1214-4c71-b1cd-7820022473a2"
            },
            "outputs": [
                {
                    "output_type": "display_data",
                    "data": {
                        "text/html": "(1 row affected)"
                    },
                    "metadata": {}
                },
                {
                    "output_type": "display_data",
                    "data": {
                        "text/html": "(1 row affected)"
                    },
                    "metadata": {}
                },
                {
                    "output_type": "display_data",
                    "data": {
                        "text/html": "Total execution time: 00:00:00.071"
                    },
                    "metadata": {}
                },
                {
                    "output_type": "execute_result",
                    "execution_count": 91,
                    "data": {
                        "application/vnd.dataresource+json": {
                            "schema": {
                                "fields": [
                                    {
                                        "name": "(No column name)"
                                    }
                                ]
                            },
                            "data": [
                                {
                                    "0": "Jun  6 2022  8:48PM"
                                }
                            ]
                        },
                        "text/html": "<table><tr><th>(No column name)</th></tr><tr><td>Jun  6 2022  8:48PM</td></tr></table>"
                    },
                    "metadata": {}
                },
                {
                    "output_type": "execute_result",
                    "execution_count": 91,
                    "data": {
                        "application/vnd.dataresource+json": {
                            "schema": {
                                "fields": [
                                    {
                                        "name": "(No column name)"
                                    }
                                ]
                            },
                            "data": [
                                {
                                    "0": "Jun 06, 22"
                                }
                            ]
                        },
                        "text/html": "<table><tr><th>(No column name)</th></tr><tr><td>Jun 06, 22</td></tr></table>"
                    },
                    "metadata": {}
                }
            ],
            "execution_count": 91
        },
        {
            "cell_type": "markdown",
            "source": [
                "## <mark>FORMAT</mark>--Used to set the format or reformat dates \r\n",
                "\r\n",
                "\r\n",
                "This example is using the following date information: Jan  5, 2022,  7:38PM.\r\n",
                "\r\n",
                "\r\n",
                "The first example the server date is formatted day, month, year. The time is not requested, so it is not returned.\r\n",
                "\r\n",
                "\r\n",
                "The second example requests only the time in hours and minutes.\r\n",
                "\r\n",
                "\r\n",
                "Note that ‘MM’ is used for months and ‘mm’ is used for minutes"
            ],
            "metadata": {
                "language": "sql",
                "azdata_cell_guid": "044fab43-088d-46d4-bbdf-b53a74c58bfd"
            },
            "attachments": {}
        },
        {
            "cell_type": "code",
            "source": [
                "SELECT FORMAT(GETDATE(), 'dd/MM/yyyy');\r\n",
                "\r\n",
                "\r\n",
                "\r\n",
                "SELECT FORMAT(GETDATE(), 'hh:mm');\r\n",
                "\r\n",
                "\r\n",
                "--FORMAT( value, format [, culture ] )  \r\n",
                "DECLARE @d DATE = '11/22/2020';\r\n",
                "SELECT FORMAT( @d, 'd', 'en-US' ) 'US English'  \r\n",
                "      ,FORMAT( @d, 'd', 'en-gb' ) 'Great Britain English'  \r\n",
                "      ,FORMAT( @d, 'd', 'de-de' ) 'German'  \r\n",
                "      ,FORMAT( @d, 'd', 'zh-cn' ) 'Simplified Chinese (PRC)';  \r\n",
                "  \r\n",
                "SELECT FORMAT( @d, 'D', 'en-US' ) 'US English'  \r\n",
                "      ,FORMAT( @d, 'D', 'en-gb' ) 'Great Britain English'  \r\n",
                "      ,FORMAT( @d, 'D', 'de-de' ) 'German'  \r\n",
                "      ,FORMAT( @d, 'D', 'zh-cn' ) 'Chinese (Simplified PRC)';  \r\n",
                "\r\n",
                "USE AdventureWorks2019\r\n",
                "SELECT TOP(5) CurrencyRateID, EndOfDayRate  \r\n",
                "            ,FORMAT(EndOfDayRate, 'N', 'en-us') AS 'Number Format'  \r\n",
                "            ,FORMAT(EndOfDayRate, 'G', 'en-us') AS 'General Format'  \r\n",
                "            ,FORMAT(EndOfDayRate, 'C', 'en-us') AS 'Currency Format'  \r\n",
                "FROM Sales.CurrencyRate  \r\n",
                "ORDER BY CurrencyRateID; \r\n",
                "\r\n",
                ""
            ],
            "metadata": {
                "language": "sql",
                "azdata_cell_guid": "bb96bb3f-f345-4047-a4cb-f9405b9d3596"
            },
            "outputs": [
                {
                    "output_type": "display_data",
                    "data": {
                        "text/html": "(1 row affected)"
                    },
                    "metadata": {}
                },
                {
                    "output_type": "display_data",
                    "data": {
                        "text/html": "(1 row affected)"
                    },
                    "metadata": {}
                },
                {
                    "output_type": "display_data",
                    "data": {
                        "text/html": "(1 row affected)"
                    },
                    "metadata": {}
                },
                {
                    "output_type": "display_data",
                    "data": {
                        "text/html": "(1 row affected)"
                    },
                    "metadata": {}
                },
                {
                    "output_type": "display_data",
                    "data": {
                        "text/html": "(5 rows affected)"
                    },
                    "metadata": {}
                },
                {
                    "output_type": "display_data",
                    "data": {
                        "text/html": "Total execution time: 00:00:00.143"
                    },
                    "metadata": {}
                },
                {
                    "output_type": "execute_result",
                    "execution_count": 94,
                    "data": {
                        "application/vnd.dataresource+json": {
                            "schema": {
                                "fields": [
                                    {
                                        "name": "(No column name)"
                                    }
                                ]
                            },
                            "data": [
                                {
                                    "0": "06/06/2022"
                                }
                            ]
                        },
                        "text/html": "<table><tr><th>(No column name)</th></tr><tr><td>06/06/2022</td></tr></table>"
                    },
                    "metadata": {}
                },
                {
                    "output_type": "execute_result",
                    "execution_count": 94,
                    "data": {
                        "application/vnd.dataresource+json": {
                            "schema": {
                                "fields": [
                                    {
                                        "name": "(No column name)"
                                    }
                                ]
                            },
                            "data": [
                                {
                                    "0": "08:52"
                                }
                            ]
                        },
                        "text/html": "<table><tr><th>(No column name)</th></tr><tr><td>08:52</td></tr></table>"
                    },
                    "metadata": {}
                },
                {
                    "output_type": "execute_result",
                    "execution_count": 94,
                    "data": {
                        "application/vnd.dataresource+json": {
                            "schema": {
                                "fields": [
                                    {
                                        "name": "US English"
                                    },
                                    {
                                        "name": "Great Britain English"
                                    },
                                    {
                                        "name": "German"
                                    },
                                    {
                                        "name": "Simplified Chinese (PRC)"
                                    }
                                ]
                            },
                            "data": [
                                {
                                    "0": "11/22/2020",
                                    "1": "22/11/2020",
                                    "2": "22.11.2020",
                                    "3": "2020/11/22"
                                }
                            ]
                        },
                        "text/html": "<table><tr><th>US English</th><th>Great Britain English</th><th>German</th><th>Simplified Chinese (PRC)</th></tr><tr><td>11/22/2020</td><td>22/11/2020</td><td>22.11.2020</td><td>2020/11/22</td></tr></table>"
                    },
                    "metadata": {}
                },
                {
                    "output_type": "execute_result",
                    "execution_count": 94,
                    "data": {
                        "application/vnd.dataresource+json": {
                            "schema": {
                                "fields": [
                                    {
                                        "name": "US English"
                                    },
                                    {
                                        "name": "Great Britain English"
                                    },
                                    {
                                        "name": "German"
                                    },
                                    {
                                        "name": "Chinese (Simplified PRC)"
                                    }
                                ]
                            },
                            "data": [
                                {
                                    "0": "Sunday, November 22, 2020",
                                    "1": "22 November 2020",
                                    "2": "Sonntag, 22. November 2020",
                                    "3": "2020年11月22日"
                                }
                            ]
                        },
                        "text/html": "<table><tr><th>US English</th><th>Great Britain English</th><th>German</th><th>Chinese (Simplified PRC)</th></tr><tr><td>Sunday, November 22, 2020</td><td>22 November 2020</td><td>Sonntag, 22. November 2020</td><td>2020年11月22日</td></tr></table>"
                    },
                    "metadata": {}
                },
                {
                    "output_type": "execute_result",
                    "execution_count": 94,
                    "data": {
                        "application/vnd.dataresource+json": {
                            "schema": {
                                "fields": [
                                    {
                                        "name": "CurrencyRateID"
                                    },
                                    {
                                        "name": "EndOfDayRate"
                                    },
                                    {
                                        "name": "Number Format"
                                    },
                                    {
                                        "name": "General Format"
                                    },
                                    {
                                        "name": "Currency Format"
                                    }
                                ]
                            },
                            "data": [
                                {
                                    "0": "1",
                                    "1": "1.0002",
                                    "2": "1.00",
                                    "3": "1.0002",
                                    "4": "$1.00"
                                },
                                {
                                    "0": "2",
                                    "1": "1.55",
                                    "2": "1.55",
                                    "3": "1.5500",
                                    "4": "$1.55"
                                },
                                {
                                    "0": "3",
                                    "1": "1.9419",
                                    "2": "1.94",
                                    "3": "1.9419",
                                    "4": "$1.94"
                                },
                                {
                                    "0": "4",
                                    "1": "1.4683",
                                    "2": "1.47",
                                    "3": "1.4683",
                                    "4": "$1.47"
                                },
                                {
                                    "0": "5",
                                    "1": "8.2784",
                                    "2": "8.28",
                                    "3": "8.2784",
                                    "4": "$8.28"
                                }
                            ]
                        },
                        "text/html": "<table><tr><th>CurrencyRateID</th><th>EndOfDayRate</th><th>Number Format</th><th>General Format</th><th>Currency Format</th></tr><tr><td>1</td><td>1.0002</td><td>1.00</td><td>1.0002</td><td>$1.00</td></tr><tr><td>2</td><td>1.55</td><td>1.55</td><td>1.5500</td><td>$1.55</td></tr><tr><td>3</td><td>1.9419</td><td>1.94</td><td>1.9419</td><td>$1.94</td></tr><tr><td>4</td><td>1.4683</td><td>1.47</td><td>1.4683</td><td>$1.47</td></tr><tr><td>5</td><td>8.2784</td><td>8.28</td><td>8.2784</td><td>$8.28</td></tr></table>"
                    },
                    "metadata": {}
                }
            ],
            "execution_count": 94
        },
        {
            "cell_type": "markdown",
            "source": [
                "# <mark>AGGREGATIONS</mark>\r\n",
                "\r\n",
                "## SUM"
            ],
            "metadata": {
                "language": "sql",
                "azdata_cell_guid": "062fd52a-8a09-4614-9094-80cb448f861c"
            },
            "attachments": {}
        },
        {
            "cell_type": "code",
            "source": [
                "USE BooksDB\r\n",
                "\r\n",
                "SELECT SUM(ratings_2) AS 'SUM OF RATINGS 2 COL'\r\n",
                "\r\n",
                "FROM books ;\r\n",
                "\r\n",
                "USE AdventureWorks2019\r\n",
                "SELECT Color, SUM(ListPrice), SUM(StandardCost)  \r\n",
                "FROM Production.Product  \r\n",
                "WHERE Color IS NOT NULL   \r\n",
                "    AND ListPrice != 0.00   \r\n",
                "    AND Name LIKE 'Mountain%'  \r\n",
                "GROUP BY Color  \r\n",
                "ORDER BY Color;  \r\n",
                "GO  \r\n",
                "\r\n",
                ""
            ],
            "metadata": {
                "language": "sql",
                "azdata_cell_guid": "d10874e3-6588-49a3-b2e7-58f00b811a3b",
                "tags": [
                    "hide_input"
                ]
            },
            "outputs": [
                {
                    "output_type": "display_data",
                    "data": {
                        "text/html": "(1 row affected)"
                    },
                    "metadata": {}
                },
                {
                    "output_type": "display_data",
                    "data": {
                        "text/html": "(3 rows affected)"
                    },
                    "metadata": {}
                },
                {
                    "output_type": "display_data",
                    "data": {
                        "text/html": "Total execution time: 00:00:00.091"
                    },
                    "metadata": {}
                },
                {
                    "output_type": "execute_result",
                    "execution_count": 98,
                    "data": {
                        "application/vnd.dataresource+json": {
                            "schema": {
                                "fields": [
                                    {
                                        "name": "SUM OF RATINGS 2 COL"
                                    }
                                ]
                            },
                            "data": [
                                {
                                    "0": "31108850"
                                }
                            ]
                        },
                        "text/html": "<table><tr><th>SUM OF RATINGS 2 COL</th></tr><tr><td>31108850</td></tr></table>"
                    },
                    "metadata": {}
                },
                {
                    "output_type": "execute_result",
                    "execution_count": 98,
                    "data": {
                        "application/vnd.dataresource+json": {
                            "schema": {
                                "fields": [
                                    {
                                        "name": "Color"
                                    },
                                    {
                                        "name": "(No column name)"
                                    },
                                    {
                                        "name": "(No column name)"
                                    }
                                ]
                            },
                            "data": [
                                {
                                    "0": "Black",
                                    "1": "27404.84",
                                    "2": "15214.9616"
                                },
                                {
                                    "0": "Silver",
                                    "1": "26462.84",
                                    "2": "14665.6792"
                                },
                                {
                                    "0": "White",
                                    "1": "19.00",
                                    "2": "6.7926"
                                }
                            ]
                        },
                        "text/html": "<table><tr><th>Color</th><th>(No column name)</th><th>(No column name)</th></tr><tr><td>Black</td><td>27404.84</td><td>15214.9616</td></tr><tr><td>Silver</td><td>26462.84</td><td>14665.6792</td></tr><tr><td>White</td><td>19.00</td><td>6.7926</td></tr></table>"
                    },
                    "metadata": {}
                }
            ],
            "execution_count": 98
        },
        {
            "cell_type": "markdown",
            "source": [
                "## <mark>MAX AND MIN</mark>"
            ],
            "metadata": {
                "language": "sql",
                "azdata_cell_guid": "3251258f-ba3a-4805-b1e1-d56704461dc9"
            },
            "attachments": {}
        },
        {
            "cell_type": "code",
            "source": [
                "USE AdventureWorks2019\r\n",
                "\r\n",
                "SELECT MAX(TaxRate) AS 'MAX TAX RATE' \r\n",
                "FROM Sales.SalesTaxRate;  \r\n",
                "GO  \r\n",
                "\r\n",
                "SELECT DISTINCT Name  \r\n",
                "       , MIN(Rate) OVER (PARTITION BY edh.DepartmentID) AS MinSalary  \r\n",
                "       , MAX(Rate) OVER (PARTITION BY edh.DepartmentID) AS MaxSalary  \r\n",
                "       , AVG(Rate) OVER (PARTITION BY edh.DepartmentID) AS AvgSalary  \r\n",
                "       ,COUNT(edh.BusinessEntityID) OVER (PARTITION BY edh.DepartmentID) AS EmployeesPerDept  \r\n",
                "FROM HumanResources.EmployeePayHistory AS eph  \r\n",
                "JOIN HumanResources.EmployeeDepartmentHistory AS edh  \r\n",
                "     ON eph.BusinessEntityID = edh.BusinessEntityID  \r\n",
                "JOIN HumanResources.Department AS d  \r\n",
                " ON d.DepartmentID = edh.DepartmentID  \r\n",
                "WHERE edh.EndDate IS NULL  \r\n",
                "ORDER BY Name;\r\n",
                "\r\n",
                "\r\n",
                "\r\n",
                "USE BooksDB \r\n",
                "SELECT MAX(ratings_2) AS 'MAX BOOK RATING 2' FROM books\r\n",
                "\r\n",
                "SELECT MIN(ratings_2) AS 'MIN BOOK RATINGS 2 COL' FROM books;\r\n",
                "\r\n",
                "USE AdventureWorks2019\r\n",
                "SELECT MIN(TaxRate) AS 'MIN TAX RATE' \r\n",
                "FROM Sales.SalesTaxRate;  \r\n",
                "GO  \r\n",
                "\r\n",
                "\r\n",
                ""
            ],
            "metadata": {
                "language": "sql",
                "azdata_cell_guid": "675de903-3e86-4546-a9c6-506e8769359b"
            },
            "outputs": [
                {
                    "output_type": "display_data",
                    "data": {
                        "text/html": "(1 row affected)"
                    },
                    "metadata": {}
                },
                {
                    "output_type": "display_data",
                    "data": {
                        "text/html": "(16 rows affected)"
                    },
                    "metadata": {}
                },
                {
                    "output_type": "display_data",
                    "data": {
                        "text/html": "(1 row affected)"
                    },
                    "metadata": {}
                },
                {
                    "output_type": "display_data",
                    "data": {
                        "text/html": "(1 row affected)"
                    },
                    "metadata": {}
                },
                {
                    "output_type": "display_data",
                    "data": {
                        "text/html": "(1 row affected)"
                    },
                    "metadata": {}
                },
                {
                    "output_type": "display_data",
                    "data": {
                        "text/html": "Total execution time: 00:00:00.189"
                    },
                    "metadata": {}
                },
                {
                    "output_type": "execute_result",
                    "execution_count": 109,
                    "data": {
                        "application/vnd.dataresource+json": {
                            "schema": {
                                "fields": [
                                    {
                                        "name": "MAX TAX RATE"
                                    }
                                ]
                            },
                            "data": [
                                {
                                    "0": "19.60"
                                }
                            ]
                        },
                        "text/html": "<table><tr><th>MAX TAX RATE</th></tr><tr><td>19.60</td></tr></table>"
                    },
                    "metadata": {}
                },
                {
                    "output_type": "execute_result",
                    "execution_count": 109,
                    "data": {
                        "application/vnd.dataresource+json": {
                            "schema": {
                                "fields": [
                                    {
                                        "name": "Name"
                                    },
                                    {
                                        "name": "MinSalary"
                                    },
                                    {
                                        "name": "MaxSalary"
                                    },
                                    {
                                        "name": "AvgSalary"
                                    },
                                    {
                                        "name": "EmployeesPerDept"
                                    }
                                ]
                            },
                            "data": [
                                {
                                    "0": "Document Control",
                                    "1": "10.25",
                                    "2": "17.7885",
                                    "3": "14.3884",
                                    "4": "5"
                                },
                                {
                                    "0": "Engineering",
                                    "1": "32.6923",
                                    "2": "63.4615",
                                    "3": "40.1442",
                                    "4": "6"
                                },
                                {
                                    "0": "Executive",
                                    "1": "39.06",
                                    "2": "125.50",
                                    "3": "68.3034",
                                    "4": "4"
                                },
                                {
                                    "0": "Facilities and Maintenance",
                                    "1": "9.25",
                                    "2": "24.0385",
                                    "3": "13.0316",
                                    "4": "7"
                                },
                                {
                                    "0": "Finance",
                                    "1": "13.4615",
                                    "2": "43.2692",
                                    "3": "23.935",
                                    "4": "10"
                                },
                                {
                                    "0": "Human Resources",
                                    "1": "13.9423",
                                    "2": "27.1394",
                                    "3": "18.0248",
                                    "4": "6"
                                },
                                {
                                    "0": "Information Services",
                                    "1": "27.4038",
                                    "2": "50.4808",
                                    "3": "34.1586",
                                    "4": "10"
                                },
                                {
                                    "0": "Marketing",
                                    "1": "13.4615",
                                    "2": "37.50",
                                    "3": "18.4318",
                                    "4": "11"
                                },
                                {
                                    "0": "Production",
                                    "1": "6.50",
                                    "2": "84.1346",
                                    "3": "13.5537",
                                    "4": "195"
                                },
                                {
                                    "0": "Production Control",
                                    "1": "8.62",
                                    "2": "24.5192",
                                    "3": "16.7746",
                                    "4": "8"
                                },
                                {
                                    "0": "Purchasing",
                                    "1": "9.86",
                                    "2": "30.00",
                                    "3": "18.0202",
                                    "4": "14"
                                },
                                {
                                    "0": "Quality Assurance",
                                    "1": "10.5769",
                                    "2": "28.8462",
                                    "3": "15.4647",
                                    "4": "6"
                                },
                                {
                                    "0": "Research and Development",
                                    "1": "40.8654",
                                    "2": "50.4808",
                                    "3": "43.6731",
                                    "4": "4"
                                },
                                {
                                    "0": "Sales",
                                    "1": "23.0769",
                                    "2": "72.1154",
                                    "3": "29.9719",
                                    "4": "18"
                                },
                                {
                                    "0": "Shipping and Receiving",
                                    "1": "9.00",
                                    "2": "19.2308",
                                    "3": "10.8718",
                                    "4": "6"
                                },
                                {
                                    "0": "Tool Design",
                                    "1": "8.62",
                                    "2": "29.8462",
                                    "3": "23.5054",
                                    "4": "6"
                                }
                            ]
                        },
                        "text/html": "<table><tr><th>Name</th><th>MinSalary</th><th>MaxSalary</th><th>AvgSalary</th><th>EmployeesPerDept</th></tr><tr><td>Document Control</td><td>10.25</td><td>17.7885</td><td>14.3884</td><td>5</td></tr><tr><td>Engineering</td><td>32.6923</td><td>63.4615</td><td>40.1442</td><td>6</td></tr><tr><td>Executive</td><td>39.06</td><td>125.50</td><td>68.3034</td><td>4</td></tr><tr><td>Facilities and Maintenance</td><td>9.25</td><td>24.0385</td><td>13.0316</td><td>7</td></tr><tr><td>Finance</td><td>13.4615</td><td>43.2692</td><td>23.935</td><td>10</td></tr><tr><td>Human Resources</td><td>13.9423</td><td>27.1394</td><td>18.0248</td><td>6</td></tr><tr><td>Information Services</td><td>27.4038</td><td>50.4808</td><td>34.1586</td><td>10</td></tr><tr><td>Marketing</td><td>13.4615</td><td>37.50</td><td>18.4318</td><td>11</td></tr><tr><td>Production</td><td>6.50</td><td>84.1346</td><td>13.5537</td><td>195</td></tr><tr><td>Production Control</td><td>8.62</td><td>24.5192</td><td>16.7746</td><td>8</td></tr><tr><td>Purchasing</td><td>9.86</td><td>30.00</td><td>18.0202</td><td>14</td></tr><tr><td>Quality Assurance</td><td>10.5769</td><td>28.8462</td><td>15.4647</td><td>6</td></tr><tr><td>Research and Development</td><td>40.8654</td><td>50.4808</td><td>43.6731</td><td>4</td></tr><tr><td>Sales</td><td>23.0769</td><td>72.1154</td><td>29.9719</td><td>18</td></tr><tr><td>Shipping and Receiving</td><td>9.00</td><td>19.2308</td><td>10.8718</td><td>6</td></tr><tr><td>Tool Design</td><td>8.62</td><td>29.8462</td><td>23.5054</td><td>6</td></tr></table>"
                    },
                    "metadata": {}
                },
                {
                    "output_type": "execute_result",
                    "execution_count": 109,
                    "data": {
                        "application/vnd.dataresource+json": {
                            "schema": {
                                "fields": [
                                    {
                                        "name": "MAX BOOK RATING 2"
                                    }
                                ]
                            },
                            "data": [
                                {
                                    "0": "436802"
                                }
                            ]
                        },
                        "text/html": "<table><tr><th>MAX BOOK RATING 2</th></tr><tr><td>436802</td></tr></table>"
                    },
                    "metadata": {}
                },
                {
                    "output_type": "execute_result",
                    "execution_count": 109,
                    "data": {
                        "application/vnd.dataresource+json": {
                            "schema": {
                                "fields": [
                                    {
                                        "name": "MIN BOOK RATINGS 2 COL"
                                    }
                                ]
                            },
                            "data": [
                                {
                                    "0": "30"
                                }
                            ]
                        },
                        "text/html": "<table><tr><th>MIN BOOK RATINGS 2 COL</th></tr><tr><td>30</td></tr></table>"
                    },
                    "metadata": {}
                },
                {
                    "output_type": "execute_result",
                    "execution_count": 109,
                    "data": {
                        "application/vnd.dataresource+json": {
                            "schema": {
                                "fields": [
                                    {
                                        "name": "MIN TAX RATE"
                                    }
                                ]
                            },
                            "data": [
                                {
                                    "0": "5.00"
                                }
                            ]
                        },
                        "text/html": "<table><tr><th>MIN TAX RATE</th></tr><tr><td>5.00</td></tr></table>"
                    },
                    "metadata": {}
                }
            ],
            "execution_count": 109
        },
        {
            "cell_type": "markdown",
            "source": [
                "## <mark>IS NULL</mark>--Determines whether value is null, often used as a condition with WHERE"
            ],
            "metadata": {
                "language": "sql",
                "azdata_cell_guid": "07ad5bf8-2c7d-411b-b6c7-fba177780818"
            },
            "attachments": {}
        },
        {
            "cell_type": "code",
            "source": [
                "USE BooksDB\r\n",
                "SELECT  TOP 5 title, isbn, original_publication_year FROM books WHERE isbn IS NULL AND original_publication_year IS NULL;\r\n",
                "\r\n",
                "\r\n",
                "SELECT title, original_title FROM books WHERE authors LIKE 'Sophocles%' AND original_title IS NULL;\r\n",
                "\r\n",
                "--NOT NULL\r\n",
                "SELECT  TOP 5 title, isbn, original_publication_year FROM books WHERE isbn IS NOT NULL AND original_publication_year IS NOT NULL;\r\n",
                "\r\n",
                "\r\n",
                "SELECT title, original_title FROM books WHERE authors LIKE 'Sophocles%' AND original_title IS NOT NULL;\r\n",
                "\r\n",
                "\r\n",
                "\r\n",
                "\r\n",
                "-- USE AdventureWorks2019 \r\n",
                "-- SELECT FirstName, LastName, MiddleName  \r\n",
                "-- FROM Person.Person  \r\n",
                "-- WHERE MiddleName IS NOT NULL  \r\n",
                "-- ORDER BY LastName DESC;  \r\n",
                "\r\n",
                "-- USE AdventureWorks2019 \r\n",
                "-- SELECT FirstName, LastName, MiddleName  \r\n",
                "-- FROM Person.Person  \r\n",
                "-- WHERE MiddleName IS NULL  \r\n",
                "-- ORDER BY LastName DESC;  \r\n",
                ""
            ],
            "metadata": {
                "language": "sql",
                "azdata_cell_guid": "b17c866a-eef2-4d11-9461-37f60e93a40e"
            },
            "outputs": [
                {
                    "output_type": "display_data",
                    "data": {
                        "text/html": "(3 rows affected)"
                    },
                    "metadata": {}
                },
                {
                    "output_type": "display_data",
                    "data": {
                        "text/html": "(1 row affected)"
                    },
                    "metadata": {}
                },
                {
                    "output_type": "display_data",
                    "data": {
                        "text/html": "(5 rows affected)"
                    },
                    "metadata": {}
                },
                {
                    "output_type": "display_data",
                    "data": {
                        "text/html": "(2 rows affected)"
                    },
                    "metadata": {}
                },
                {
                    "output_type": "display_data",
                    "data": {
                        "text/html": "Total execution time: 00:00:00.110"
                    },
                    "metadata": {}
                },
                {
                    "output_type": "execute_result",
                    "execution_count": 116,
                    "data": {
                        "application/vnd.dataresource+json": {
                            "schema": {
                                "fields": [
                                    {
                                        "name": "title"
                                    },
                                    {
                                        "name": "isbn"
                                    },
                                    {
                                        "name": "original_publication_year"
                                    }
                                ]
                            },
                            "data": [
                                {
                                    "0": "BookRags Summary:  A Storm of Swords",
                                    "1": "NULL",
                                    "2": "NULL"
                                },
                                {
                                    "0": "A Shade of Blood (A Shade of Vampire, #2)",
                                    "1": "NULL",
                                    "2": "NULL"
                                },
                                {
                                    "0": "زغازيغ",
                                    "1": "NULL",
                                    "2": "NULL"
                                }
                            ]
                        },
                        "text/html": "<table><tr><th>title</th><th>isbn</th><th>original_publication_year</th></tr><tr><td>BookRags Summary:  A Storm of Swords</td><td>NULL</td><td>NULL</td></tr><tr><td>A Shade of Blood (A Shade of Vampire, #2)</td><td>NULL</td><td>NULL</td></tr><tr><td>زغازيغ</td><td>NULL</td><td>NULL</td></tr></table>"
                    },
                    "metadata": {}
                },
                {
                    "output_type": "execute_result",
                    "execution_count": 116,
                    "data": {
                        "application/vnd.dataresource+json": {
                            "schema": {
                                "fields": [
                                    {
                                        "name": "title"
                                    },
                                    {
                                        "name": "original_title"
                                    }
                                ]
                            },
                            "data": [
                                {
                                    "0": "The Oedipus Cycle: Oedipus Rex/Oedipus at Colonus/Antigone (The Theban Plays, #1–3)",
                                    "1": "NULL"
                                }
                            ]
                        },
                        "text/html": "<table><tr><th>title</th><th>original_title</th></tr><tr><td>The Oedipus Cycle: Oedipus Rex/Oedipus at Colonus/Antigone (The Theban Plays, #1–3)</td><td>NULL</td></tr></table>"
                    },
                    "metadata": {}
                },
                {
                    "output_type": "execute_result",
                    "execution_count": 116,
                    "data": {
                        "application/vnd.dataresource+json": {
                            "schema": {
                                "fields": [
                                    {
                                        "name": "title"
                                    },
                                    {
                                        "name": "isbn"
                                    },
                                    {
                                        "name": "original_publication_year"
                                    }
                                ]
                            },
                            "data": [
                                {
                                    "0": "The Hunger Games (The Hunger Games, #1)",
                                    "1": "439023483",
                                    "2": "2008"
                                },
                                {
                                    "0": "Harry Potter and the Sorcerer's Stone (Harry Potter, #1)",
                                    "1": "439554934",
                                    "2": "1997"
                                },
                                {
                                    "0": "Twilight (Twilight, #1)",
                                    "1": "316015849",
                                    "2": "2005"
                                },
                                {
                                    "0": "To Kill a Mockingbird",
                                    "1": "61120081",
                                    "2": "1960"
                                },
                                {
                                    "0": "The Great Gatsby",
                                    "1": "743273567",
                                    "2": "1925"
                                }
                            ]
                        },
                        "text/html": "<table><tr><th>title</th><th>isbn</th><th>original_publication_year</th></tr><tr><td>The Hunger Games (The Hunger Games, #1)</td><td>439023483</td><td>2008</td></tr><tr><td>Harry Potter and the Sorcerer's Stone (Harry Potter, #1)</td><td>439554934</td><td>1997</td></tr><tr><td>Twilight (Twilight, #1)</td><td>316015849</td><td>2005</td></tr><tr><td>To Kill a Mockingbird</td><td>61120081</td><td>1960</td></tr><tr><td>The Great Gatsby</td><td>743273567</td><td>1925</td></tr></table>"
                    },
                    "metadata": {}
                },
                {
                    "output_type": "execute_result",
                    "execution_count": 116,
                    "data": {
                        "application/vnd.dataresource+json": {
                            "schema": {
                                "fields": [
                                    {
                                        "name": "title"
                                    },
                                    {
                                        "name": "original_title"
                                    }
                                ]
                            },
                            "data": [
                                {
                                    "0": "Oedipus Rex  (The Theban Plays, #1)",
                                    "1": "Οἰδίπους Τύραννος"
                                },
                                {
                                    "0": "Antigone (The Theban Plays, #3)",
                                    "1": "Ἀντιγόνη"
                                }
                            ]
                        },
                        "text/html": "<table><tr><th>title</th><th>original_title</th></tr><tr><td>Oedipus Rex  (The Theban Plays, #1)</td><td>Οἰδίπους Τύραννος</td></tr><tr><td>Antigone (The Theban Plays, #3)</td><td>Ἀντιγόνη</td></tr></table>"
                    },
                    "metadata": {}
                }
            ],
            "execution_count": 116
        },
        {
            "cell_type": "markdown",
            "source": [
                "\\# <mark>REPLACING IS NULL VALUES</mark>"
            ],
            "metadata": {
                "language": "sql",
                "azdata_cell_guid": "ba2f5f84-c6df-4f4d-a569-b35deec8bdaa"
            },
            "attachments": {}
        },
        {
            "cell_type": "code",
            "source": [
                "--The following example finds the average of the weight of all products.\r\n",
                "-- It substitutes the value 50 for all NULL entries in the Weight column of the Product table.\r\n",
                "\r\n",
                "USE AdventureWorks2019;  \r\n",
                "GO  \r\n",
                "SELECT AVG(ISNULL(Weight, 50))  \r\n",
                "FROM Production.Product;  \r\n",
                "GO  \r\n",
                "\r\n",
                "--The following example selects the description, discount percentage, minimum quantity, and maximum quantity for all special offers in AdventureWorks2012. \r\n",
                "--If the maximum quantity for a particular special offer is NULL, the MaxQty shown in the result set is 0.00.\r\n",
                "SELECT Description, DiscountPct, MinQty, ISNULL(MaxQty, 0.00) AS 'Max Quantity'  \r\n",
                "FROM Sales.SpecialOffer;  \r\n",
                "GO  \r\n",
                "\r\n",
                "\r\n",
                "SELECT original_title, ISNULL(original_title, title) AS UpdatedOriginalTitle FROM BooksDB.dbo.books WHERE authors LIKE 'Sophocles%';"
            ],
            "metadata": {
                "language": "sql",
                "azdata_cell_guid": "289719af-07a5-4568-9fe6-0b9d80658e87"
            },
            "outputs": [
                {
                    "output_type": "display_data",
                    "data": {
                        "text/html": "Commands completed successfully."
                    },
                    "metadata": {}
                },
                {
                    "output_type": "display_data",
                    "data": {
                        "text/html": "(1 row affected)"
                    },
                    "metadata": {}
                },
                {
                    "output_type": "display_data",
                    "data": {
                        "text/html": "(16 rows affected)"
                    },
                    "metadata": {}
                },
                {
                    "output_type": "display_data",
                    "data": {
                        "text/html": "(3 rows affected)"
                    },
                    "metadata": {}
                },
                {
                    "output_type": "display_data",
                    "data": {
                        "text/html": "Total execution time: 00:00:00.277"
                    },
                    "metadata": {}
                },
                {
                    "output_type": "execute_result",
                    "execution_count": 120,
                    "data": {
                        "application/vnd.dataresource+json": {
                            "schema": {
                                "fields": [
                                    {
                                        "name": "(No column name)"
                                    }
                                ]
                            },
                            "data": [
                                {
                                    "0": "59.790059"
                                }
                            ]
                        },
                        "text/html": "<table><tr><th>(No column name)</th></tr><tr><td>59.790059</td></tr></table>"
                    },
                    "metadata": {}
                },
                {
                    "output_type": "execute_result",
                    "execution_count": 120,
                    "data": {
                        "application/vnd.dataresource+json": {
                            "schema": {
                                "fields": [
                                    {
                                        "name": "Description"
                                    },
                                    {
                                        "name": "DiscountPct"
                                    },
                                    {
                                        "name": "MinQty"
                                    },
                                    {
                                        "name": "Max Quantity"
                                    }
                                ]
                            },
                            "data": [
                                {
                                    "0": "No Discount",
                                    "1": "0.00",
                                    "2": "0",
                                    "3": "0"
                                },
                                {
                                    "0": "Volume Discount 11 to 14",
                                    "1": "0.02",
                                    "2": "11",
                                    "3": "14"
                                },
                                {
                                    "0": "Volume Discount 15 to 24",
                                    "1": "0.05",
                                    "2": "15",
                                    "3": "24"
                                },
                                {
                                    "0": "Volume Discount 25 to 40",
                                    "1": "0.10",
                                    "2": "25",
                                    "3": "40"
                                },
                                {
                                    "0": "Volume Discount 41 to 60",
                                    "1": "0.15",
                                    "2": "41",
                                    "3": "60"
                                },
                                {
                                    "0": "Volume Discount over 60",
                                    "1": "0.20",
                                    "2": "61",
                                    "3": "0"
                                },
                                {
                                    "0": "Mountain-100 Clearance Sale",
                                    "1": "0.35",
                                    "2": "0",
                                    "3": "0"
                                },
                                {
                                    "0": "Sport Helmet Discount-2002",
                                    "1": "0.10",
                                    "2": "0",
                                    "3": "0"
                                },
                                {
                                    "0": "Road-650 Overstock",
                                    "1": "0.30",
                                    "2": "0",
                                    "3": "0"
                                },
                                {
                                    "0": "Mountain Tire Sale",
                                    "1": "0.50",
                                    "2": "0",
                                    "3": "0"
                                },
                                {
                                    "0": "Sport Helmet Discount-2003",
                                    "1": "0.15",
                                    "2": "0",
                                    "3": "0"
                                },
                                {
                                    "0": "LL Road Frame Sale",
                                    "1": "0.35",
                                    "2": "0",
                                    "3": "0"
                                },
                                {
                                    "0": "Touring-3000 Promotion",
                                    "1": "0.15",
                                    "2": "0",
                                    "3": "0"
                                },
                                {
                                    "0": "Touring-1000 Promotion",
                                    "1": "0.20",
                                    "2": "0",
                                    "3": "0"
                                },
                                {
                                    "0": "Half-Price Pedal Sale",
                                    "1": "0.50",
                                    "2": "0",
                                    "3": "0"
                                },
                                {
                                    "0": "Mountain-500 Silver Clearance Sale",
                                    "1": "0.40",
                                    "2": "0",
                                    "3": "0"
                                }
                            ]
                        },
                        "text/html": "<table><tr><th>Description</th><th>DiscountPct</th><th>MinQty</th><th>Max Quantity</th></tr><tr><td>No Discount</td><td>0.00</td><td>0</td><td>0</td></tr><tr><td>Volume Discount 11 to 14</td><td>0.02</td><td>11</td><td>14</td></tr><tr><td>Volume Discount 15 to 24</td><td>0.05</td><td>15</td><td>24</td></tr><tr><td>Volume Discount 25 to 40</td><td>0.10</td><td>25</td><td>40</td></tr><tr><td>Volume Discount 41 to 60</td><td>0.15</td><td>41</td><td>60</td></tr><tr><td>Volume Discount over 60</td><td>0.20</td><td>61</td><td>0</td></tr><tr><td>Mountain-100 Clearance Sale</td><td>0.35</td><td>0</td><td>0</td></tr><tr><td>Sport Helmet Discount-2002</td><td>0.10</td><td>0</td><td>0</td></tr><tr><td>Road-650 Overstock</td><td>0.30</td><td>0</td><td>0</td></tr><tr><td>Mountain Tire Sale</td><td>0.50</td><td>0</td><td>0</td></tr><tr><td>Sport Helmet Discount-2003</td><td>0.15</td><td>0</td><td>0</td></tr><tr><td>LL Road Frame Sale</td><td>0.35</td><td>0</td><td>0</td></tr><tr><td>Touring-3000 Promotion</td><td>0.15</td><td>0</td><td>0</td></tr><tr><td>Touring-1000 Promotion</td><td>0.20</td><td>0</td><td>0</td></tr><tr><td>Half-Price Pedal Sale</td><td>0.50</td><td>0</td><td>0</td></tr><tr><td>Mountain-500 Silver Clearance Sale</td><td>0.40</td><td>0</td><td>0</td></tr></table>"
                    },
                    "metadata": {}
                },
                {
                    "output_type": "execute_result",
                    "execution_count": 120,
                    "data": {
                        "application/vnd.dataresource+json": {
                            "schema": {
                                "fields": [
                                    {
                                        "name": "original_title"
                                    },
                                    {
                                        "name": "UpdatedOriginalTitle"
                                    }
                                ]
                            },
                            "data": [
                                {
                                    "0": "Οἰδίπους Τύραννος",
                                    "1": "Οἰδίπους Τύραννος"
                                },
                                {
                                    "0": "Ἀντιγόνη",
                                    "1": "Ἀντιγόνη"
                                },
                                {
                                    "0": "NULL",
                                    "1": "The Oedipus Cycle: Oedipus Rex/Oedipus at Colonus/Antigone (The Theban Plays, #1–3)"
                                }
                            ]
                        },
                        "text/html": "<table><tr><th>original_title</th><th>UpdatedOriginalTitle</th></tr><tr><td>Οἰδίπους Τύραννος</td><td>Οἰδίπους Τύραννος</td></tr><tr><td>Ἀντιγόνη</td><td>Ἀντιγόνη</td></tr><tr><td>NULL</td><td>The Oedipus Cycle: Oedipus Rex/Oedipus at Colonus/Antigone (The Theban Plays, #1–3)</td></tr></table>"
                    },
                    "metadata": {}
                }
            ],
            "execution_count": 120
        },
        {
            "cell_type": "markdown",
            "source": [
                "## <mark>IS NULL VS ISNULL</mark>"
            ],
            "metadata": {
                "language": "sql",
                "azdata_cell_guid": "2d54dbf7-75a1-4a3a-a25a-1bf31173284a"
            },
            "attachments": {}
        },
        {
            "cell_type": "code",
            "source": [
                "--Do not use ISNULL to find NULL values. Use IS NULL instead. \r\n",
                "--The following example finds all products that have NULL in the weight column. Note the space between IS and NULL.\r\n",
                "\r\n",
                "USE AdventureWorks2019;  \r\n",
                "GO  \r\n",
                "SELECT Name, Weight  \r\n",
                "FROM Production.Product  \r\n",
                "WHERE Weight IS NULL;  \r\n",
                "GO  "
            ],
            "metadata": {
                "language": "sql",
                "azdata_cell_guid": "1887792e-1fc6-480d-9237-89e03d72c99c"
            },
            "outputs": [
                {
                    "output_type": "display_data",
                    "data": {
                        "text/html": "Commands completed successfully."
                    },
                    "metadata": {}
                },
                {
                    "output_type": "display_data",
                    "data": {
                        "text/html": "(299 rows affected)"
                    },
                    "metadata": {}
                },
                {
                    "output_type": "display_data",
                    "data": {
                        "text/html": "Total execution time: 00:00:00.160"
                    },
                    "metadata": {}
                },
                {
                    "output_type": "execute_result",
                    "execution_count": 119,
                    "data": {
                        "application/vnd.dataresource+json": {
                            "schema": {
                                "fields": [
                                    {
                                        "name": "Name"
                                    },
                                    {
                                        "name": "Weight"
                                    }
                                ]
                            },
                            "data": [
                                {
                                    "0": "Adjustable Race",
                                    "1": "NULL"
                                },
                                {
                                    "0": "Bearing Ball",
                                    "1": "NULL"
                                },
                                {
                                    "0": "BB Ball Bearing",
                                    "1": "NULL"
                                },
                                {
                                    "0": "Headset Ball Bearings",
                                    "1": "NULL"
                                },
                                {
                                    "0": "Blade",
                                    "1": "NULL"
                                },
                                {
                                    "0": "LL Crankarm",
                                    "1": "NULL"
                                },
                                {
                                    "0": "ML Crankarm",
                                    "1": "NULL"
                                },
                                {
                                    "0": "HL Crankarm",
                                    "1": "NULL"
                                },
                                {
                                    "0": "Chainring Bolts",
                                    "1": "NULL"
                                },
                                {
                                    "0": "Chainring Nut",
                                    "1": "NULL"
                                },
                                {
                                    "0": "Chainring",
                                    "1": "NULL"
                                },
                                {
                                    "0": "Crown Race",
                                    "1": "NULL"
                                },
                                {
                                    "0": "Chain Stays",
                                    "1": "NULL"
                                },
                                {
                                    "0": "Decal 1",
                                    "1": "NULL"
                                },
                                {
                                    "0": "Decal 2",
                                    "1": "NULL"
                                },
                                {
                                    "0": "Down Tube",
                                    "1": "NULL"
                                },
                                {
                                    "0": "Mountain End Caps",
                                    "1": "NULL"
                                },
                                {
                                    "0": "Road End Caps",
                                    "1": "NULL"
                                },
                                {
                                    "0": "Touring End Caps",
                                    "1": "NULL"
                                },
                                {
                                    "0": "Fork End",
                                    "1": "NULL"
                                },
                                {
                                    "0": "Freewheel",
                                    "1": "NULL"
                                },
                                {
                                    "0": "Flat Washer 1",
                                    "1": "NULL"
                                },
                                {
                                    "0": "Flat Washer 6",
                                    "1": "NULL"
                                },
                                {
                                    "0": "Flat Washer 2",
                                    "1": "NULL"
                                },
                                {
                                    "0": "Flat Washer 9",
                                    "1": "NULL"
                                },
                                {
                                    "0": "Flat Washer 4",
                                    "1": "NULL"
                                },
                                {
                                    "0": "Flat Washer 3",
                                    "1": "NULL"
                                },
                                {
                                    "0": "Flat Washer 8",
                                    "1": "NULL"
                                },
                                {
                                    "0": "Flat Washer 5",
                                    "1": "NULL"
                                },
                                {
                                    "0": "Flat Washer 7",
                                    "1": "NULL"
                                },
                                {
                                    "0": "Fork Crown",
                                    "1": "NULL"
                                },
                                {
                                    "0": "Front Derailleur Cage",
                                    "1": "NULL"
                                },
                                {
                                    "0": "Front Derailleur Linkage",
                                    "1": "NULL"
                                },
                                {
                                    "0": "Guide Pulley",
                                    "1": "NULL"
                                },
                                {
                                    "0": "LL Grip Tape",
                                    "1": "NULL"
                                },
                                {
                                    "0": "ML Grip Tape",
                                    "1": "NULL"
                                },
                                {
                                    "0": "HL Grip Tape",
                                    "1": "NULL"
                                },
                                {
                                    "0": "Thin-Jam Hex Nut 9",
                                    "1": "NULL"
                                },
                                {
                                    "0": "Thin-Jam Hex Nut 10",
                                    "1": "NULL"
                                },
                                {
                                    "0": "Thin-Jam Hex Nut 1",
                                    "1": "NULL"
                                },
                                {
                                    "0": "Thin-Jam Hex Nut 2",
                                    "1": "NULL"
                                },
                                {
                                    "0": "Thin-Jam Hex Nut 15",
                                    "1": "NULL"
                                },
                                {
                                    "0": "Thin-Jam Hex Nut 16",
                                    "1": "NULL"
                                },
                                {
                                    "0": "Thin-Jam Hex Nut 5",
                                    "1": "NULL"
                                },
                                {
                                    "0": "Thin-Jam Hex Nut 6",
                                    "1": "NULL"
                                },
                                {
                                    "0": "Thin-Jam Hex Nut 3",
                                    "1": "NULL"
                                },
                                {
                                    "0": "Thin-Jam Hex Nut 4",
                                    "1": "NULL"
                                },
                                {
                                    "0": "Thin-Jam Hex Nut 13",
                                    "1": "NULL"
                                },
                                {
                                    "0": "Thin-Jam Hex Nut 14",
                                    "1": "NULL"
                                },
                                {
                                    "0": "Thin-Jam Hex Nut 7",
                                    "1": "NULL"
                                },
                                {
                                    "0": "Thin-Jam Hex Nut 8",
                                    "1": "NULL"
                                },
                                {
                                    "0": "Thin-Jam Hex Nut 12",
                                    "1": "NULL"
                                },
                                {
                                    "0": "Thin-Jam Hex Nut 11",
                                    "1": "NULL"
                                },
                                {
                                    "0": "Hex Nut 5",
                                    "1": "NULL"
                                },
                                {
                                    "0": "Hex Nut 6",
                                    "1": "NULL"
                                },
                                {
                                    "0": "Hex Nut 16",
                                    "1": "NULL"
                                },
                                {
                                    "0": "Hex Nut 17",
                                    "1": "NULL"
                                },
                                {
                                    "0": "Hex Nut 7",
                                    "1": "NULL"
                                },
                                {
                                    "0": "Hex Nut 8",
                                    "1": "NULL"
                                },
                                {
                                    "0": "Hex Nut 9",
                                    "1": "NULL"
                                },
                                {
                                    "0": "Hex Nut 22",
                                    "1": "NULL"
                                },
                                {
                                    "0": "Hex Nut 23",
                                    "1": "NULL"
                                },
                                {
                                    "0": "Hex Nut 12",
                                    "1": "NULL"
                                },
                                {
                                    "0": "Hex Nut 13",
                                    "1": "NULL"
                                },
                                {
                                    "0": "Hex Nut 1",
                                    "1": "NULL"
                                },
                                {
                                    "0": "Hex Nut 10",
                                    "1": "NULL"
                                },
                                {
                                    "0": "Hex Nut 11",
                                    "1": "NULL"
                                },
                                {
                                    "0": "Hex Nut 2",
                                    "1": "NULL"
                                },
                                {
                                    "0": "Hex Nut 20",
                                    "1": "NULL"
                                },
                                {
                                    "0": "Hex Nut 21",
                                    "1": "NULL"
                                },
                                {
                                    "0": "Hex Nut 3",
                                    "1": "NULL"
                                },
                                {
                                    "0": "Hex Nut 14",
                                    "1": "NULL"
                                },
                                {
                                    "0": "Hex Nut 15",
                                    "1": "NULL"
                                },
                                {
                                    "0": "Hex Nut 4",
                                    "1": "NULL"
                                },
                                {
                                    "0": "Hex Nut 18",
                                    "1": "NULL"
                                },
                                {
                                    "0": "Hex Nut 19",
                                    "1": "NULL"
                                },
                                {
                                    "0": "Handlebar Tube",
                                    "1": "NULL"
                                },
                                {
                                    "0": "Head Tube",
                                    "1": "NULL"
                                },
                                {
                                    "0": "LL Hub",
                                    "1": "NULL"
                                },
                                {
                                    "0": "HL Hub",
                                    "1": "NULL"
                                },
                                {
                                    "0": "Keyed Washer",
                                    "1": "NULL"
                                },
                                {
                                    "0": "External Lock Washer 3",
                                    "1": "NULL"
                                },
                                {
                                    "0": "External Lock Washer 4",
                                    "1": "NULL"
                                },
                                {
                                    "0": "External Lock Washer 9",
                                    "1": "NULL"
                                },
                                {
                                    "0": "External Lock Washer 5",
                                    "1": "NULL"
                                },
                                {
                                    "0": "External Lock Washer 7",
                                    "1": "NULL"
                                },
                                {
                                    "0": "External Lock Washer 6",
                                    "1": "NULL"
                                },
                                {
                                    "0": "External Lock Washer 1",
                                    "1": "NULL"
                                },
                                {
                                    "0": "External Lock Washer 8",
                                    "1": "NULL"
                                },
                                {
                                    "0": "External Lock Washer 2",
                                    "1": "NULL"
                                },
                                {
                                    "0": "Internal Lock Washer 3",
                                    "1": "NULL"
                                },
                                {
                                    "0": "Internal Lock Washer 4",
                                    "1": "NULL"
                                },
                                {
                                    "0": "Internal Lock Washer 9",
                                    "1": "NULL"
                                },
                                {
                                    "0": "Internal Lock Washer 5",
                                    "1": "NULL"
                                },
                                {
                                    "0": "Internal Lock Washer 7",
                                    "1": "NULL"
                                },
                                {
                                    "0": "Internal Lock Washer 6",
                                    "1": "NULL"
                                },
                                {
                                    "0": "Internal Lock Washer 10",
                                    "1": "NULL"
                                },
                                {
                                    "0": "Internal Lock Washer 1",
                                    "1": "NULL"
                                },
                                {
                                    "0": "Internal Lock Washer 8",
                                    "1": "NULL"
                                },
                                {
                                    "0": "Internal Lock Washer 2",
                                    "1": "NULL"
                                },
                                {
                                    "0": "Thin-Jam Lock Nut 9",
                                    "1": "NULL"
                                },
                                {
                                    "0": "Thin-Jam Lock Nut 10",
                                    "1": "NULL"
                                },
                                {
                                    "0": "Thin-Jam Lock Nut 1",
                                    "1": "NULL"
                                },
                                {
                                    "0": "Thin-Jam Lock Nut 2",
                                    "1": "NULL"
                                },
                                {
                                    "0": "Thin-Jam Lock Nut 15",
                                    "1": "NULL"
                                },
                                {
                                    "0": "Thin-Jam Lock Nut 16",
                                    "1": "NULL"
                                },
                                {
                                    "0": "Thin-Jam Lock Nut 5",
                                    "1": "NULL"
                                },
                                {
                                    "0": "Thin-Jam Lock Nut 6",
                                    "1": "NULL"
                                },
                                {
                                    "0": "Thin-Jam Lock Nut 3",
                                    "1": "NULL"
                                },
                                {
                                    "0": "Thin-Jam Lock Nut 4",
                                    "1": "NULL"
                                },
                                {
                                    "0": "Thin-Jam Lock Nut 13",
                                    "1": "NULL"
                                },
                                {
                                    "0": "Thin-Jam Lock Nut 14",
                                    "1": "NULL"
                                },
                                {
                                    "0": "Thin-Jam Lock Nut 7",
                                    "1": "NULL"
                                },
                                {
                                    "0": "Thin-Jam Lock Nut 8",
                                    "1": "NULL"
                                },
                                {
                                    "0": "Thin-Jam Lock Nut 12",
                                    "1": "NULL"
                                },
                                {
                                    "0": "Thin-Jam Lock Nut 11",
                                    "1": "NULL"
                                },
                                {
                                    "0": "Lock Nut 5",
                                    "1": "NULL"
                                },
                                {
                                    "0": "Lock Nut 6",
                                    "1": "NULL"
                                },
                                {
                                    "0": "Lock Nut 16",
                                    "1": "NULL"
                                },
                                {
                                    "0": "Lock Nut 17",
                                    "1": "NULL"
                                },
                                {
                                    "0": "Lock Nut 7",
                                    "1": "NULL"
                                },
                                {
                                    "0": "Lock Nut 8",
                                    "1": "NULL"
                                },
                                {
                                    "0": "Lock Nut 9",
                                    "1": "NULL"
                                },
                                {
                                    "0": "Lock Nut 22",
                                    "1": "NULL"
                                },
                                {
                                    "0": "Lock Nut 23",
                                    "1": "NULL"
                                },
                                {
                                    "0": "Lock Nut 12",
                                    "1": "NULL"
                                },
                                {
                                    "0": "Lock Nut 13",
                                    "1": "NULL"
                                },
                                {
                                    "0": "Lock Nut 1",
                                    "1": "NULL"
                                },
                                {
                                    "0": "Lock Nut 10",
                                    "1": "NULL"
                                },
                                {
                                    "0": "Lock Nut 11",
                                    "1": "NULL"
                                },
                                {
                                    "0": "Lock Nut 2",
                                    "1": "NULL"
                                },
                                {
                                    "0": "Lock Nut 20",
                                    "1": "NULL"
                                },
                                {
                                    "0": "Lock Nut 21",
                                    "1": "NULL"
                                },
                                {
                                    "0": "Lock Nut 3",
                                    "1": "NULL"
                                },
                                {
                                    "0": "Lock Nut 14",
                                    "1": "NULL"
                                },
                                {
                                    "0": "Lock Nut 15",
                                    "1": "NULL"
                                },
                                {
                                    "0": "Lock Nut 4",
                                    "1": "NULL"
                                },
                                {
                                    "0": "Lock Nut 19",
                                    "1": "NULL"
                                },
                                {
                                    "0": "Lock Nut 18",
                                    "1": "NULL"
                                },
                                {
                                    "0": "Lock Ring",
                                    "1": "NULL"
                                },
                                {
                                    "0": "Lower Head Race",
                                    "1": "NULL"
                                },
                                {
                                    "0": "Lock Washer 4",
                                    "1": "NULL"
                                },
                                {
                                    "0": "Lock Washer 5",
                                    "1": "NULL"
                                },
                                {
                                    "0": "Lock Washer 10",
                                    "1": "NULL"
                                },
                                {
                                    "0": "Lock Washer 6",
                                    "1": "NULL"
                                },
                                {
                                    "0": "Lock Washer 13",
                                    "1": "NULL"
                                },
                                {
                                    "0": "Lock Washer 8",
                                    "1": "NULL"
                                },
                                {
                                    "0": "Lock Washer 1",
                                    "1": "NULL"
                                },
                                {
                                    "0": "Lock Washer 7",
                                    "1": "NULL"
                                },
                                {
                                    "0": "Lock Washer 12",
                                    "1": "NULL"
                                },
                                {
                                    "0": "Lock Washer 2",
                                    "1": "NULL"
                                },
                                {
                                    "0": "Lock Washer 9",
                                    "1": "NULL"
                                },
                                {
                                    "0": "Lock Washer 3",
                                    "1": "NULL"
                                },
                                {
                                    "0": "Lock Washer 11",
                                    "1": "NULL"
                                },
                                {
                                    "0": "Metal Angle",
                                    "1": "NULL"
                                },
                                {
                                    "0": "Metal Bar 1",
                                    "1": "NULL"
                                },
                                {
                                    "0": "Metal Bar 2",
                                    "1": "NULL"
                                },
                                {
                                    "0": "Metal Plate 2",
                                    "1": "NULL"
                                },
                                {
                                    "0": "Metal Plate 1",
                                    "1": "NULL"
                                },
                                {
                                    "0": "Metal Plate 3",
                                    "1": "NULL"
                                },
                                {
                                    "0": "Metal Sheet 2",
                                    "1": "NULL"
                                },
                                {
                                    "0": "Metal Sheet 3",
                                    "1": "NULL"
                                },
                                {
                                    "0": "Metal Sheet 7",
                                    "1": "NULL"
                                },
                                {
                                    "0": "Metal Sheet 4",
                                    "1": "NULL"
                                },
                                {
                                    "0": "Metal Sheet 5",
                                    "1": "NULL"
                                },
                                {
                                    "0": "Metal Sheet 6",
                                    "1": "NULL"
                                },
                                {
                                    "0": "Metal Sheet 1",
                                    "1": "NULL"
                                },
                                {
                                    "0": "Metal Tread Plate",
                                    "1": "NULL"
                                },
                                {
                                    "0": "LL Nipple",
                                    "1": "NULL"
                                },
                                {
                                    "0": "HL Nipple",
                                    "1": "NULL"
                                },
                                {
                                    "0": "Paint - Black",
                                    "1": "NULL"
                                },
                                {
                                    "0": "Paint - Red",
                                    "1": "NULL"
                                },
                                {
                                    "0": "Paint - Silver",
                                    "1": "NULL"
                                },
                                {
                                    "0": "Paint - Blue",
                                    "1": "NULL"
                                },
                                {
                                    "0": "Paint - Yellow",
                                    "1": "NULL"
                                },
                                {
                                    "0": "Pinch Bolt",
                                    "1": "NULL"
                                },
                                {
                                    "0": "Cup-Shaped Race",
                                    "1": "NULL"
                                },
                                {
                                    "0": "Cone-Shaped Race",
                                    "1": "NULL"
                                },
                                {
                                    "0": "Reflector",
                                    "1": "NULL"
                                },
                                {
                                    "0": "LL Mountain Seat Assembly",
                                    "1": "NULL"
                                },
                                {
                                    "0": "ML Mountain Seat Assembly",
                                    "1": "NULL"
                                },
                                {
                                    "0": "HL Mountain Seat Assembly",
                                    "1": "NULL"
                                },
                                {
                                    "0": "LL Road Seat Assembly",
                                    "1": "NULL"
                                },
                                {
                                    "0": "ML Road Seat Assembly",
                                    "1": "NULL"
                                },
                                {
                                    "0": "HL Road Seat Assembly",
                                    "1": "NULL"
                                },
                                {
                                    "0": "LL Touring Seat Assembly",
                                    "1": "NULL"
                                },
                                {
                                    "0": "ML Touring Seat Assembly",
                                    "1": "NULL"
                                },
                                {
                                    "0": "HL Touring Seat Assembly",
                                    "1": "NULL"
                                },
                                {
                                    "0": "LL Spindle/Axle",
                                    "1": "NULL"
                                },
                                {
                                    "0": "HL Spindle/Axle",
                                    "1": "NULL"
                                },
                                {
                                    "0": "LL Shell",
                                    "1": "NULL"
                                },
                                {
                                    "0": "HL Shell",
                                    "1": "NULL"
                                },
                                {
                                    "0": "Spokes",
                                    "1": "NULL"
                                },
                                {
                                    "0": "Seat Lug",
                                    "1": "NULL"
                                },
                                {
                                    "0": "Stem",
                                    "1": "NULL"
                                },
                                {
                                    "0": "Seat Post",
                                    "1": "NULL"
                                },
                                {
                                    "0": "Steerer",
                                    "1": "NULL"
                                },
                                {
                                    "0": "Seat Stays",
                                    "1": "NULL"
                                },
                                {
                                    "0": "Seat Tube",
                                    "1": "NULL"
                                },
                                {
                                    "0": "Top Tube",
                                    "1": "NULL"
                                },
                                {
                                    "0": "Tension Pulley",
                                    "1": "NULL"
                                },
                                {
                                    "0": "Rear Derailleur Cage",
                                    "1": "NULL"
                                },
                                {
                                    "0": "Sport-100 Helmet, Red",
                                    "1": "NULL"
                                },
                                {
                                    "0": "Sport-100 Helmet, Black",
                                    "1": "NULL"
                                },
                                {
                                    "0": "Mountain Bike Socks, M",
                                    "1": "NULL"
                                },
                                {
                                    "0": "Mountain Bike Socks, L",
                                    "1": "NULL"
                                },
                                {
                                    "0": "Sport-100 Helmet, Blue",
                                    "1": "NULL"
                                },
                                {
                                    "0": "AWC Logo Cap",
                                    "1": "NULL"
                                },
                                {
                                    "0": "Long-Sleeve Logo Jersey, S",
                                    "1": "NULL"
                                },
                                {
                                    "0": "Long-Sleeve Logo Jersey, M",
                                    "1": "NULL"
                                },
                                {
                                    "0": "Long-Sleeve Logo Jersey, L",
                                    "1": "NULL"
                                },
                                {
                                    "0": "Long-Sleeve Logo Jersey, XL",
                                    "1": "NULL"
                                },
                                {
                                    "0": "LL Fork",
                                    "1": "NULL"
                                },
                                {
                                    "0": "ML Fork",
                                    "1": "NULL"
                                },
                                {
                                    "0": "HL Fork",
                                    "1": "NULL"
                                },
                                {
                                    "0": "LL Headset",
                                    "1": "NULL"
                                },
                                {
                                    "0": "ML Headset",
                                    "1": "NULL"
                                },
                                {
                                    "0": "HL Headset",
                                    "1": "NULL"
                                },
                                {
                                    "0": "LL Mountain Handlebars",
                                    "1": "NULL"
                                },
                                {
                                    "0": "ML Mountain Handlebars",
                                    "1": "NULL"
                                },
                                {
                                    "0": "HL Mountain Handlebars",
                                    "1": "NULL"
                                },
                                {
                                    "0": "LL Road Handlebars",
                                    "1": "NULL"
                                },
                                {
                                    "0": "ML Road Handlebars",
                                    "1": "NULL"
                                },
                                {
                                    "0": "HL Road Handlebars",
                                    "1": "NULL"
                                },
                                {
                                    "0": "LL Mountain Front Wheel",
                                    "1": "NULL"
                                },
                                {
                                    "0": "ML Mountain Front Wheel",
                                    "1": "NULL"
                                },
                                {
                                    "0": "HL Mountain Front Wheel",
                                    "1": "NULL"
                                },
                                {
                                    "0": "Touring Front Wheel",
                                    "1": "NULL"
                                },
                                {
                                    "0": "LL Mountain Rear Wheel",
                                    "1": "NULL"
                                },
                                {
                                    "0": "ML Mountain Rear Wheel",
                                    "1": "NULL"
                                },
                                {
                                    "0": "HL Mountain Rear Wheel",
                                    "1": "NULL"
                                },
                                {
                                    "0": "Touring Rear Wheel",
                                    "1": "NULL"
                                },
                                {
                                    "0": "Men's Sports Shorts, S",
                                    "1": "NULL"
                                },
                                {
                                    "0": "Touring-Panniers, Large",
                                    "1": "NULL"
                                },
                                {
                                    "0": "Cable Lock",
                                    "1": "NULL"
                                },
                                {
                                    "0": "Minipump",
                                    "1": "NULL"
                                },
                                {
                                    "0": "Mountain Pump",
                                    "1": "NULL"
                                },
                                {
                                    "0": "Taillights - Battery-Powered",
                                    "1": "NULL"
                                },
                                {
                                    "0": "Headlights - Dual-Beam",
                                    "1": "NULL"
                                },
                                {
                                    "0": "Headlights - Weatherproof",
                                    "1": "NULL"
                                },
                                {
                                    "0": "Men's Sports Shorts, M",
                                    "1": "NULL"
                                },
                                {
                                    "0": "Men's Sports Shorts, L",
                                    "1": "NULL"
                                },
                                {
                                    "0": "Men's Sports Shorts, XL",
                                    "1": "NULL"
                                },
                                {
                                    "0": "Women's Tights, S",
                                    "1": "NULL"
                                },
                                {
                                    "0": "Women's Tights, M",
                                    "1": "NULL"
                                },
                                {
                                    "0": "Women's Tights, L",
                                    "1": "NULL"
                                },
                                {
                                    "0": "Men's Bib-Shorts, S",
                                    "1": "NULL"
                                },
                                {
                                    "0": "Men's Bib-Shorts, M",
                                    "1": "NULL"
                                },
                                {
                                    "0": "Men's Bib-Shorts, L",
                                    "1": "NULL"
                                },
                                {
                                    "0": "Half-Finger Gloves, S",
                                    "1": "NULL"
                                },
                                {
                                    "0": "Half-Finger Gloves, M",
                                    "1": "NULL"
                                },
                                {
                                    "0": "Half-Finger Gloves, L",
                                    "1": "NULL"
                                },
                                {
                                    "0": "Full-Finger Gloves, S",
                                    "1": "NULL"
                                },
                                {
                                    "0": "Full-Finger Gloves, M",
                                    "1": "NULL"
                                },
                                {
                                    "0": "Full-Finger Gloves, L",
                                    "1": "NULL"
                                },
                                {
                                    "0": "Classic Vest, S",
                                    "1": "NULL"
                                },
                                {
                                    "0": "Classic Vest, M",
                                    "1": "NULL"
                                },
                                {
                                    "0": "Classic Vest, L",
                                    "1": "NULL"
                                },
                                {
                                    "0": "Women's Mountain Shorts, S",
                                    "1": "NULL"
                                },
                                {
                                    "0": "Women's Mountain Shorts, M",
                                    "1": "NULL"
                                },
                                {
                                    "0": "Women's Mountain Shorts, L",
                                    "1": "NULL"
                                },
                                {
                                    "0": "Water Bottle - 30 oz.",
                                    "1": "NULL"
                                },
                                {
                                    "0": "Mountain Bottle Cage",
                                    "1": "NULL"
                                },
                                {
                                    "0": "Road Bottle Cage",
                                    "1": "NULL"
                                },
                                {
                                    "0": "Patch Kit/8 Patches",
                                    "1": "NULL"
                                },
                                {
                                    "0": "Racing Socks, M",
                                    "1": "NULL"
                                },
                                {
                                    "0": "Racing Socks, L",
                                    "1": "NULL"
                                },
                                {
                                    "0": "Hitch Rack - 4-Bike",
                                    "1": "NULL"
                                },
                                {
                                    "0": "Bike Wash - Dissolver",
                                    "1": "NULL"
                                },
                                {
                                    "0": "Fender Set - Mountain",
                                    "1": "NULL"
                                },
                                {
                                    "0": "All-Purpose Bike Stand",
                                    "1": "NULL"
                                },
                                {
                                    "0": "Hydration Pack - 70 oz.",
                                    "1": "NULL"
                                },
                                {
                                    "0": "Short-Sleeve Classic Jersey, S",
                                    "1": "NULL"
                                },
                                {
                                    "0": "Short-Sleeve Classic Jersey, M",
                                    "1": "NULL"
                                },
                                {
                                    "0": "Short-Sleeve Classic Jersey, L",
                                    "1": "NULL"
                                },
                                {
                                    "0": "Short-Sleeve Classic Jersey, XL",
                                    "1": "NULL"
                                },
                                {
                                    "0": "LL Mountain Seat/Saddle",
                                    "1": "NULL"
                                },
                                {
                                    "0": "ML Mountain Seat/Saddle",
                                    "1": "NULL"
                                },
                                {
                                    "0": "HL Mountain Seat/Saddle",
                                    "1": "NULL"
                                },
                                {
                                    "0": "LL Road Seat/Saddle",
                                    "1": "NULL"
                                },
                                {
                                    "0": "ML Road Seat/Saddle",
                                    "1": "NULL"
                                },
                                {
                                    "0": "HL Road Seat/Saddle",
                                    "1": "NULL"
                                },
                                {
                                    "0": "LL Touring Seat/Saddle",
                                    "1": "NULL"
                                },
                                {
                                    "0": "ML Touring Seat/Saddle",
                                    "1": "NULL"
                                },
                                {
                                    "0": "HL Touring Seat/Saddle",
                                    "1": "NULL"
                                },
                                {
                                    "0": "Mountain Tire Tube",
                                    "1": "NULL"
                                },
                                {
                                    "0": "Road Tire Tube",
                                    "1": "NULL"
                                },
                                {
                                    "0": "Touring Tire Tube",
                                    "1": "NULL"
                                },
                                {
                                    "0": "LL Mountain Tire",
                                    "1": "NULL"
                                },
                                {
                                    "0": "ML Mountain Tire",
                                    "1": "NULL"
                                },
                                {
                                    "0": "HL Mountain Tire",
                                    "1": "NULL"
                                },
                                {
                                    "0": "LL Road Tire",
                                    "1": "NULL"
                                },
                                {
                                    "0": "ML Road Tire",
                                    "1": "NULL"
                                },
                                {
                                    "0": "HL Road Tire",
                                    "1": "NULL"
                                },
                                {
                                    "0": "Touring Tire",
                                    "1": "NULL"
                                },
                                {
                                    "0": "Touring Pedal",
                                    "1": "NULL"
                                },
                                {
                                    "0": "LL Touring Handlebars",
                                    "1": "NULL"
                                },
                                {
                                    "0": "HL Touring Handlebars",
                                    "1": "NULL"
                                },
                                {
                                    "0": "Chain",
                                    "1": "NULL"
                                }
                            ]
                        },
                        "text/html": "<table><tr><th>Name</th><th>Weight</th></tr><tr><td>Adjustable Race</td><td>NULL</td></tr><tr><td>Bearing Ball</td><td>NULL</td></tr><tr><td>BB Ball Bearing</td><td>NULL</td></tr><tr><td>Headset Ball Bearings</td><td>NULL</td></tr><tr><td>Blade</td><td>NULL</td></tr><tr><td>LL Crankarm</td><td>NULL</td></tr><tr><td>ML Crankarm</td><td>NULL</td></tr><tr><td>HL Crankarm</td><td>NULL</td></tr><tr><td>Chainring Bolts</td><td>NULL</td></tr><tr><td>Chainring Nut</td><td>NULL</td></tr><tr><td>Chainring</td><td>NULL</td></tr><tr><td>Crown Race</td><td>NULL</td></tr><tr><td>Chain Stays</td><td>NULL</td></tr><tr><td>Decal 1</td><td>NULL</td></tr><tr><td>Decal 2</td><td>NULL</td></tr><tr><td>Down Tube</td><td>NULL</td></tr><tr><td>Mountain End Caps</td><td>NULL</td></tr><tr><td>Road End Caps</td><td>NULL</td></tr><tr><td>Touring End Caps</td><td>NULL</td></tr><tr><td>Fork End</td><td>NULL</td></tr><tr><td>Freewheel</td><td>NULL</td></tr><tr><td>Flat Washer 1</td><td>NULL</td></tr><tr><td>Flat Washer 6</td><td>NULL</td></tr><tr><td>Flat Washer 2</td><td>NULL</td></tr><tr><td>Flat Washer 9</td><td>NULL</td></tr><tr><td>Flat Washer 4</td><td>NULL</td></tr><tr><td>Flat Washer 3</td><td>NULL</td></tr><tr><td>Flat Washer 8</td><td>NULL</td></tr><tr><td>Flat Washer 5</td><td>NULL</td></tr><tr><td>Flat Washer 7</td><td>NULL</td></tr><tr><td>Fork Crown</td><td>NULL</td></tr><tr><td>Front Derailleur Cage</td><td>NULL</td></tr><tr><td>Front Derailleur Linkage</td><td>NULL</td></tr><tr><td>Guide Pulley</td><td>NULL</td></tr><tr><td>LL Grip Tape</td><td>NULL</td></tr><tr><td>ML Grip Tape</td><td>NULL</td></tr><tr><td>HL Grip Tape</td><td>NULL</td></tr><tr><td>Thin-Jam Hex Nut 9</td><td>NULL</td></tr><tr><td>Thin-Jam Hex Nut 10</td><td>NULL</td></tr><tr><td>Thin-Jam Hex Nut 1</td><td>NULL</td></tr><tr><td>Thin-Jam Hex Nut 2</td><td>NULL</td></tr><tr><td>Thin-Jam Hex Nut 15</td><td>NULL</td></tr><tr><td>Thin-Jam Hex Nut 16</td><td>NULL</td></tr><tr><td>Thin-Jam Hex Nut 5</td><td>NULL</td></tr><tr><td>Thin-Jam Hex Nut 6</td><td>NULL</td></tr><tr><td>Thin-Jam Hex Nut 3</td><td>NULL</td></tr><tr><td>Thin-Jam Hex Nut 4</td><td>NULL</td></tr><tr><td>Thin-Jam Hex Nut 13</td><td>NULL</td></tr><tr><td>Thin-Jam Hex Nut 14</td><td>NULL</td></tr><tr><td>Thin-Jam Hex Nut 7</td><td>NULL</td></tr><tr><td>Thin-Jam Hex Nut 8</td><td>NULL</td></tr><tr><td>Thin-Jam Hex Nut 12</td><td>NULL</td></tr><tr><td>Thin-Jam Hex Nut 11</td><td>NULL</td></tr><tr><td>Hex Nut 5</td><td>NULL</td></tr><tr><td>Hex Nut 6</td><td>NULL</td></tr><tr><td>Hex Nut 16</td><td>NULL</td></tr><tr><td>Hex Nut 17</td><td>NULL</td></tr><tr><td>Hex Nut 7</td><td>NULL</td></tr><tr><td>Hex Nut 8</td><td>NULL</td></tr><tr><td>Hex Nut 9</td><td>NULL</td></tr><tr><td>Hex Nut 22</td><td>NULL</td></tr><tr><td>Hex Nut 23</td><td>NULL</td></tr><tr><td>Hex Nut 12</td><td>NULL</td></tr><tr><td>Hex Nut 13</td><td>NULL</td></tr><tr><td>Hex Nut 1</td><td>NULL</td></tr><tr><td>Hex Nut 10</td><td>NULL</td></tr><tr><td>Hex Nut 11</td><td>NULL</td></tr><tr><td>Hex Nut 2</td><td>NULL</td></tr><tr><td>Hex Nut 20</td><td>NULL</td></tr><tr><td>Hex Nut 21</td><td>NULL</td></tr><tr><td>Hex Nut 3</td><td>NULL</td></tr><tr><td>Hex Nut 14</td><td>NULL</td></tr><tr><td>Hex Nut 15</td><td>NULL</td></tr><tr><td>Hex Nut 4</td><td>NULL</td></tr><tr><td>Hex Nut 18</td><td>NULL</td></tr><tr><td>Hex Nut 19</td><td>NULL</td></tr><tr><td>Handlebar Tube</td><td>NULL</td></tr><tr><td>Head Tube</td><td>NULL</td></tr><tr><td>LL Hub</td><td>NULL</td></tr><tr><td>HL Hub</td><td>NULL</td></tr><tr><td>Keyed Washer</td><td>NULL</td></tr><tr><td>External Lock Washer 3</td><td>NULL</td></tr><tr><td>External Lock Washer 4</td><td>NULL</td></tr><tr><td>External Lock Washer 9</td><td>NULL</td></tr><tr><td>External Lock Washer 5</td><td>NULL</td></tr><tr><td>External Lock Washer 7</td><td>NULL</td></tr><tr><td>External Lock Washer 6</td><td>NULL</td></tr><tr><td>External Lock Washer 1</td><td>NULL</td></tr><tr><td>External Lock Washer 8</td><td>NULL</td></tr><tr><td>External Lock Washer 2</td><td>NULL</td></tr><tr><td>Internal Lock Washer 3</td><td>NULL</td></tr><tr><td>Internal Lock Washer 4</td><td>NULL</td></tr><tr><td>Internal Lock Washer 9</td><td>NULL</td></tr><tr><td>Internal Lock Washer 5</td><td>NULL</td></tr><tr><td>Internal Lock Washer 7</td><td>NULL</td></tr><tr><td>Internal Lock Washer 6</td><td>NULL</td></tr><tr><td>Internal Lock Washer 10</td><td>NULL</td></tr><tr><td>Internal Lock Washer 1</td><td>NULL</td></tr><tr><td>Internal Lock Washer 8</td><td>NULL</td></tr><tr><td>Internal Lock Washer 2</td><td>NULL</td></tr><tr><td>Thin-Jam Lock Nut 9</td><td>NULL</td></tr><tr><td>Thin-Jam Lock Nut 10</td><td>NULL</td></tr><tr><td>Thin-Jam Lock Nut 1</td><td>NULL</td></tr><tr><td>Thin-Jam Lock Nut 2</td><td>NULL</td></tr><tr><td>Thin-Jam Lock Nut 15</td><td>NULL</td></tr><tr><td>Thin-Jam Lock Nut 16</td><td>NULL</td></tr><tr><td>Thin-Jam Lock Nut 5</td><td>NULL</td></tr><tr><td>Thin-Jam Lock Nut 6</td><td>NULL</td></tr><tr><td>Thin-Jam Lock Nut 3</td><td>NULL</td></tr><tr><td>Thin-Jam Lock Nut 4</td><td>NULL</td></tr><tr><td>Thin-Jam Lock Nut 13</td><td>NULL</td></tr><tr><td>Thin-Jam Lock Nut 14</td><td>NULL</td></tr><tr><td>Thin-Jam Lock Nut 7</td><td>NULL</td></tr><tr><td>Thin-Jam Lock Nut 8</td><td>NULL</td></tr><tr><td>Thin-Jam Lock Nut 12</td><td>NULL</td></tr><tr><td>Thin-Jam Lock Nut 11</td><td>NULL</td></tr><tr><td>Lock Nut 5</td><td>NULL</td></tr><tr><td>Lock Nut 6</td><td>NULL</td></tr><tr><td>Lock Nut 16</td><td>NULL</td></tr><tr><td>Lock Nut 17</td><td>NULL</td></tr><tr><td>Lock Nut 7</td><td>NULL</td></tr><tr><td>Lock Nut 8</td><td>NULL</td></tr><tr><td>Lock Nut 9</td><td>NULL</td></tr><tr><td>Lock Nut 22</td><td>NULL</td></tr><tr><td>Lock Nut 23</td><td>NULL</td></tr><tr><td>Lock Nut 12</td><td>NULL</td></tr><tr><td>Lock Nut 13</td><td>NULL</td></tr><tr><td>Lock Nut 1</td><td>NULL</td></tr><tr><td>Lock Nut 10</td><td>NULL</td></tr><tr><td>Lock Nut 11</td><td>NULL</td></tr><tr><td>Lock Nut 2</td><td>NULL</td></tr><tr><td>Lock Nut 20</td><td>NULL</td></tr><tr><td>Lock Nut 21</td><td>NULL</td></tr><tr><td>Lock Nut 3</td><td>NULL</td></tr><tr><td>Lock Nut 14</td><td>NULL</td></tr><tr><td>Lock Nut 15</td><td>NULL</td></tr><tr><td>Lock Nut 4</td><td>NULL</td></tr><tr><td>Lock Nut 19</td><td>NULL</td></tr><tr><td>Lock Nut 18</td><td>NULL</td></tr><tr><td>Lock Ring</td><td>NULL</td></tr><tr><td>Lower Head Race</td><td>NULL</td></tr><tr><td>Lock Washer 4</td><td>NULL</td></tr><tr><td>Lock Washer 5</td><td>NULL</td></tr><tr><td>Lock Washer 10</td><td>NULL</td></tr><tr><td>Lock Washer 6</td><td>NULL</td></tr><tr><td>Lock Washer 13</td><td>NULL</td></tr><tr><td>Lock Washer 8</td><td>NULL</td></tr><tr><td>Lock Washer 1</td><td>NULL</td></tr><tr><td>Lock Washer 7</td><td>NULL</td></tr><tr><td>Lock Washer 12</td><td>NULL</td></tr><tr><td>Lock Washer 2</td><td>NULL</td></tr><tr><td>Lock Washer 9</td><td>NULL</td></tr><tr><td>Lock Washer 3</td><td>NULL</td></tr><tr><td>Lock Washer 11</td><td>NULL</td></tr><tr><td>Metal Angle</td><td>NULL</td></tr><tr><td>Metal Bar 1</td><td>NULL</td></tr><tr><td>Metal Bar 2</td><td>NULL</td></tr><tr><td>Metal Plate 2</td><td>NULL</td></tr><tr><td>Metal Plate 1</td><td>NULL</td></tr><tr><td>Metal Plate 3</td><td>NULL</td></tr><tr><td>Metal Sheet 2</td><td>NULL</td></tr><tr><td>Metal Sheet 3</td><td>NULL</td></tr><tr><td>Metal Sheet 7</td><td>NULL</td></tr><tr><td>Metal Sheet 4</td><td>NULL</td></tr><tr><td>Metal Sheet 5</td><td>NULL</td></tr><tr><td>Metal Sheet 6</td><td>NULL</td></tr><tr><td>Metal Sheet 1</td><td>NULL</td></tr><tr><td>Metal Tread Plate</td><td>NULL</td></tr><tr><td>LL Nipple</td><td>NULL</td></tr><tr><td>HL Nipple</td><td>NULL</td></tr><tr><td>Paint - Black</td><td>NULL</td></tr><tr><td>Paint - Red</td><td>NULL</td></tr><tr><td>Paint - Silver</td><td>NULL</td></tr><tr><td>Paint - Blue</td><td>NULL</td></tr><tr><td>Paint - Yellow</td><td>NULL</td></tr><tr><td>Pinch Bolt</td><td>NULL</td></tr><tr><td>Cup-Shaped Race</td><td>NULL</td></tr><tr><td>Cone-Shaped Race</td><td>NULL</td></tr><tr><td>Reflector</td><td>NULL</td></tr><tr><td>LL Mountain Seat Assembly</td><td>NULL</td></tr><tr><td>ML Mountain Seat Assembly</td><td>NULL</td></tr><tr><td>HL Mountain Seat Assembly</td><td>NULL</td></tr><tr><td>LL Road Seat Assembly</td><td>NULL</td></tr><tr><td>ML Road Seat Assembly</td><td>NULL</td></tr><tr><td>HL Road Seat Assembly</td><td>NULL</td></tr><tr><td>LL Touring Seat Assembly</td><td>NULL</td></tr><tr><td>ML Touring Seat Assembly</td><td>NULL</td></tr><tr><td>HL Touring Seat Assembly</td><td>NULL</td></tr><tr><td>LL Spindle/Axle</td><td>NULL</td></tr><tr><td>HL Spindle/Axle</td><td>NULL</td></tr><tr><td>LL Shell</td><td>NULL</td></tr><tr><td>HL Shell</td><td>NULL</td></tr><tr><td>Spokes</td><td>NULL</td></tr><tr><td>Seat Lug</td><td>NULL</td></tr><tr><td>Stem</td><td>NULL</td></tr><tr><td>Seat Post</td><td>NULL</td></tr><tr><td>Steerer</td><td>NULL</td></tr><tr><td>Seat Stays</td><td>NULL</td></tr><tr><td>Seat Tube</td><td>NULL</td></tr><tr><td>Top Tube</td><td>NULL</td></tr><tr><td>Tension Pulley</td><td>NULL</td></tr><tr><td>Rear Derailleur Cage</td><td>NULL</td></tr><tr><td>Sport-100 Helmet, Red</td><td>NULL</td></tr><tr><td>Sport-100 Helmet, Black</td><td>NULL</td></tr><tr><td>Mountain Bike Socks, M</td><td>NULL</td></tr><tr><td>Mountain Bike Socks, L</td><td>NULL</td></tr><tr><td>Sport-100 Helmet, Blue</td><td>NULL</td></tr><tr><td>AWC Logo Cap</td><td>NULL</td></tr><tr><td>Long-Sleeve Logo Jersey, S</td><td>NULL</td></tr><tr><td>Long-Sleeve Logo Jersey, M</td><td>NULL</td></tr><tr><td>Long-Sleeve Logo Jersey, L</td><td>NULL</td></tr><tr><td>Long-Sleeve Logo Jersey, XL</td><td>NULL</td></tr><tr><td>LL Fork</td><td>NULL</td></tr><tr><td>ML Fork</td><td>NULL</td></tr><tr><td>HL Fork</td><td>NULL</td></tr><tr><td>LL Headset</td><td>NULL</td></tr><tr><td>ML Headset</td><td>NULL</td></tr><tr><td>HL Headset</td><td>NULL</td></tr><tr><td>LL Mountain Handlebars</td><td>NULL</td></tr><tr><td>ML Mountain Handlebars</td><td>NULL</td></tr><tr><td>HL Mountain Handlebars</td><td>NULL</td></tr><tr><td>LL Road Handlebars</td><td>NULL</td></tr><tr><td>ML Road Handlebars</td><td>NULL</td></tr><tr><td>HL Road Handlebars</td><td>NULL</td></tr><tr><td>LL Mountain Front Wheel</td><td>NULL</td></tr><tr><td>ML Mountain Front Wheel</td><td>NULL</td></tr><tr><td>HL Mountain Front Wheel</td><td>NULL</td></tr><tr><td>Touring Front Wheel</td><td>NULL</td></tr><tr><td>LL Mountain Rear Wheel</td><td>NULL</td></tr><tr><td>ML Mountain Rear Wheel</td><td>NULL</td></tr><tr><td>HL Mountain Rear Wheel</td><td>NULL</td></tr><tr><td>Touring Rear Wheel</td><td>NULL</td></tr><tr><td>Men's Sports Shorts, S</td><td>NULL</td></tr><tr><td>Touring-Panniers, Large</td><td>NULL</td></tr><tr><td>Cable Lock</td><td>NULL</td></tr><tr><td>Minipump</td><td>NULL</td></tr><tr><td>Mountain Pump</td><td>NULL</td></tr><tr><td>Taillights - Battery-Powered</td><td>NULL</td></tr><tr><td>Headlights - Dual-Beam</td><td>NULL</td></tr><tr><td>Headlights - Weatherproof</td><td>NULL</td></tr><tr><td>Men's Sports Shorts, M</td><td>NULL</td></tr><tr><td>Men's Sports Shorts, L</td><td>NULL</td></tr><tr><td>Men's Sports Shorts, XL</td><td>NULL</td></tr><tr><td>Women's Tights, S</td><td>NULL</td></tr><tr><td>Women's Tights, M</td><td>NULL</td></tr><tr><td>Women's Tights, L</td><td>NULL</td></tr><tr><td>Men's Bib-Shorts, S</td><td>NULL</td></tr><tr><td>Men's Bib-Shorts, M</td><td>NULL</td></tr><tr><td>Men's Bib-Shorts, L</td><td>NULL</td></tr><tr><td>Half-Finger Gloves, S</td><td>NULL</td></tr><tr><td>Half-Finger Gloves, M</td><td>NULL</td></tr><tr><td>Half-Finger Gloves, L</td><td>NULL</td></tr><tr><td>Full-Finger Gloves, S</td><td>NULL</td></tr><tr><td>Full-Finger Gloves, M</td><td>NULL</td></tr><tr><td>Full-Finger Gloves, L</td><td>NULL</td></tr><tr><td>Classic Vest, S</td><td>NULL</td></tr><tr><td>Classic Vest, M</td><td>NULL</td></tr><tr><td>Classic Vest, L</td><td>NULL</td></tr><tr><td>Women's Mountain Shorts, S</td><td>NULL</td></tr><tr><td>Women's Mountain Shorts, M</td><td>NULL</td></tr><tr><td>Women's Mountain Shorts, L</td><td>NULL</td></tr><tr><td>Water Bottle - 30 oz.</td><td>NULL</td></tr><tr><td>Mountain Bottle Cage</td><td>NULL</td></tr><tr><td>Road Bottle Cage</td><td>NULL</td></tr><tr><td>Patch Kit/8 Patches</td><td>NULL</td></tr><tr><td>Racing Socks, M</td><td>NULL</td></tr><tr><td>Racing Socks, L</td><td>NULL</td></tr><tr><td>Hitch Rack - 4-Bike</td><td>NULL</td></tr><tr><td>Bike Wash - Dissolver</td><td>NULL</td></tr><tr><td>Fender Set - Mountain</td><td>NULL</td></tr><tr><td>All-Purpose Bike Stand</td><td>NULL</td></tr><tr><td>Hydration Pack - 70 oz.</td><td>NULL</td></tr><tr><td>Short-Sleeve Classic Jersey, S</td><td>NULL</td></tr><tr><td>Short-Sleeve Classic Jersey, M</td><td>NULL</td></tr><tr><td>Short-Sleeve Classic Jersey, L</td><td>NULL</td></tr><tr><td>Short-Sleeve Classic Jersey, XL</td><td>NULL</td></tr><tr><td>LL Mountain Seat/Saddle</td><td>NULL</td></tr><tr><td>ML Mountain Seat/Saddle</td><td>NULL</td></tr><tr><td>HL Mountain Seat/Saddle</td><td>NULL</td></tr><tr><td>LL Road Seat/Saddle</td><td>NULL</td></tr><tr><td>ML Road Seat/Saddle</td><td>NULL</td></tr><tr><td>HL Road Seat/Saddle</td><td>NULL</td></tr><tr><td>LL Touring Seat/Saddle</td><td>NULL</td></tr><tr><td>ML Touring Seat/Saddle</td><td>NULL</td></tr><tr><td>HL Touring Seat/Saddle</td><td>NULL</td></tr><tr><td>Mountain Tire Tube</td><td>NULL</td></tr><tr><td>Road Tire Tube</td><td>NULL</td></tr><tr><td>Touring Tire Tube</td><td>NULL</td></tr><tr><td>LL Mountain Tire</td><td>NULL</td></tr><tr><td>ML Mountain Tire</td><td>NULL</td></tr><tr><td>HL Mountain Tire</td><td>NULL</td></tr><tr><td>LL Road Tire</td><td>NULL</td></tr><tr><td>ML Road Tire</td><td>NULL</td></tr><tr><td>HL Road Tire</td><td>NULL</td></tr><tr><td>Touring Tire</td><td>NULL</td></tr><tr><td>Touring Pedal</td><td>NULL</td></tr><tr><td>LL Touring Handlebars</td><td>NULL</td></tr><tr><td>HL Touring Handlebars</td><td>NULL</td></tr><tr><td>Chain</td><td>NULL</td></tr></table>"
                    },
                    "metadata": {}
                }
            ],
            "execution_count": 119
        },
        {
            "cell_type": "markdown",
            "source": [
                "## <mark>COALESCE</mark>--Returns the first value that is not null.\r\n",
                "\r\n",
                "Can also be used to test multiple expressions unlike ISNULL\r\n",
                "\r\n",
                "Can be used to address null values when paired with string concatenation"
            ],
            "metadata": {
                "language": "sql",
                "azdata_cell_guid": "466e0acb-362a-4854-9ba3-383ba79f67fc"
            },
            "attachments": {}
        },
        {
            "cell_type": "code",
            "source": [
                "USE AdventureWorks2019\r\n",
                "\r\n",
                "-- SELECT Name, Class, Color, ProductNumber,  \r\n",
                "-- COALESCE(Class, Color, ProductNumber) AS FirstNotNull  \r\n",
                "-- FROM Production.Product;  \r\n",
                "\r\n",
                "\r\n",
                "SELECT COALESCE(NULL, 'cat', 'bird');\r\n",
                "\r\n",
                "SELECT COALESCE('cat', NULL, 'bird');\r\n",
                "\r\n",
                "\r\n",
                "\r\n",
                "SELECT COALESCE(original_title, title) + ' by ' + authors AS 'Reading List'\r\n",
                "\r\n",
                "FROM BooksDB.dbo.books\r\n",
                "\r\n",
                "WHERE authors LIKE 'Sophocles%'"
            ],
            "metadata": {
                "language": "sql",
                "azdata_cell_guid": "71af8b57-018a-4235-a9ea-cd385883c701"
            },
            "outputs": [
                {
                    "output_type": "display_data",
                    "data": {
                        "text/html": "(1 row affected)"
                    },
                    "metadata": {}
                },
                {
                    "output_type": "display_data",
                    "data": {
                        "text/html": "(1 row affected)"
                    },
                    "metadata": {}
                },
                {
                    "output_type": "display_data",
                    "data": {
                        "text/html": "(3 rows affected)"
                    },
                    "metadata": {}
                },
                {
                    "output_type": "display_data",
                    "data": {
                        "text/html": "Total execution time: 00:00:00.083"
                    },
                    "metadata": {}
                },
                {
                    "output_type": "execute_result",
                    "execution_count": 123,
                    "data": {
                        "application/vnd.dataresource+json": {
                            "schema": {
                                "fields": [
                                    {
                                        "name": "(No column name)"
                                    }
                                ]
                            },
                            "data": [
                                {
                                    "0": "cat"
                                }
                            ]
                        },
                        "text/html": "<table><tr><th>(No column name)</th></tr><tr><td>cat</td></tr></table>"
                    },
                    "metadata": {}
                },
                {
                    "output_type": "execute_result",
                    "execution_count": 123,
                    "data": {
                        "application/vnd.dataresource+json": {
                            "schema": {
                                "fields": [
                                    {
                                        "name": "(No column name)"
                                    }
                                ]
                            },
                            "data": [
                                {
                                    "0": "cat"
                                }
                            ]
                        },
                        "text/html": "<table><tr><th>(No column name)</th></tr><tr><td>cat</td></tr></table>"
                    },
                    "metadata": {}
                },
                {
                    "output_type": "execute_result",
                    "execution_count": 123,
                    "data": {
                        "application/vnd.dataresource+json": {
                            "schema": {
                                "fields": [
                                    {
                                        "name": "Reading List"
                                    }
                                ]
                            },
                            "data": [
                                {
                                    "0": "Οἰδίπους Τύραννος by Sophocles, J.E. Thomas"
                                },
                                {
                                    "0": "Ἀντιγόνη by Sophocles, J.E. Thomas"
                                },
                                {
                                    "0": "The Oedipus Cycle: Oedipus Rex/Oedipus at Colonus/Antigone (The Theban Plays, #1–3) by Sophocles, Dudley Fitts, Elena Bono, Robert Fitzgerald"
                                }
                            ]
                        },
                        "text/html": "<table><tr><th>Reading List</th></tr><tr><td>Οἰδίπους Τύραννος by Sophocles, J.E. Thomas</td></tr><tr><td>Ἀντιγόνη by Sophocles, J.E. Thomas</td></tr><tr><td>The Oedipus Cycle: Oedipus Rex/Oedipus at Colonus/Antigone (The Theban Plays, #1–3) by Sophocles, Dudley Fitts, Elena Bono, Robert Fitzgerald</td></tr></table>"
                    },
                    "metadata": {}
                }
            ],
            "execution_count": 123
        }
    ]
}