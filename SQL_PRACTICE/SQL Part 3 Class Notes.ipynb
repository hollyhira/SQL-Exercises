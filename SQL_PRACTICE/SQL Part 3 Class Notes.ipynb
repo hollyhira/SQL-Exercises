{
 "cells": [
  {
   "cell_type": "code",
   "execution_count": 1,
   "id": "f0fca2bf-780e-456e-b513-a39ea0cf2dbb",
   "metadata": {},
   "outputs": [],
   "source": [
    "from IPython.display import Image"
   ]
  },
  {
   "cell_type": "markdown",
   "id": "c24e305b-2d7b-4c50-b8fc-40dd8d12bbef",
   "metadata": {},
   "source": [
    "# SQL Part 3"
   ]
  },
  {
   "cell_type": "markdown",
   "id": "8af946ad-9f8f-4bf6-956f-86b7be5fd7fd",
   "metadata": {},
   "source": [
    "# Plan for Today"
   ]
  },
  {
   "cell_type": "markdown",
   "id": "d08449a9-bee9-49fe-9399-506ee497dc86",
   "metadata": {},
   "source": [
    "* Review\n",
    "* Table relationships\n",
    "* JOIN clauses\n",
    "* HAVING clauses"
   ]
  },
  {
   "cell_type": "markdown",
   "id": "3a48c727-98bd-496d-b53d-bd5b798c32e0",
   "metadata": {},
   "source": [
    "# Review"
   ]
  },
  {
   "cell_type": "markdown",
   "id": "4673114c-d862-48c0-98ec-39995c8b792c",
   "metadata": {},
   "source": [
    "Review what SQL is, why we are learning it, the basic structure of a query, relational databases, tables:\n",
    "* We are working with **structured data** "
   ]
  },
  {
   "cell_type": "markdown",
   "id": "68b777b5-f56a-40b4-a485-7efa3b6e41e2",
   "metadata": {},
   "source": [
    "* This data is stored in a **relational database** : a database that contains a series of tables that relate to each other and can be connected (how do we connect them?) to show relationships"
   ]
  },
  {
   "cell_type": "markdown",
   "id": "ec2a2539-a62f-46c3-ac60-91950b78e12b",
   "metadata": {},
   "source": [
    "* The anatomy of a **database table** :  "
   ]
  },
  {
   "cell_type": "markdown",
   "id": "f8ab850a-41a8-4693-a40d-c889f5e95f77",
   "metadata": {},
   "source": [
    "<img src=\"Anatomy of a Table.png\" width=\"400\" height=\"400\" />"
   ]
  },
  {
   "cell_type": "markdown",
   "id": "e8a52236-479e-4778-9a08-6451e6c5097b",
   "metadata": {},
   "source": [
    "# Working with Multiple Tables"
   ]
  },
  {
   "cell_type": "markdown",
   "id": "cd88d62e-2301-478a-8f71-ceb696b326b3",
   "metadata": {},
   "source": [
    "**Data Aggregation** : The process of gathering data from multiple sources in order to combine it into a single, summarized collection."
   ]
  },
  {
   "cell_type": "markdown",
   "id": "4a757215-a6da-46f9-a359-08ef227ff227",
   "metadata": {},
   "source": [
    "The way that a relational database is set up, data is often spread across multiple tables. In a well-organized database a single table will usually only apply to a single thing, but the information that we often want as analysts comes from the relationships between tables. \n",
    "\n",
    "Why do they make tables that way? It is called **database normalization**, and it keeps you from having to change things in multiple places. For instance, if I had a table containing all the students and their classes, then wanted to change a student’s name, I would have to change it multiple times, once for each class the student enrolled in. This makes databases more efficient and helps ensure data quality, but the drawback is that it becomes less human readable and data can be spread out. JOINs are how we stitch the data back together. "
   ]
  },
  {
   "cell_type": "markdown",
   "id": "ee07818a-b373-47cd-bc58-1c00c6df4195",
   "metadata": {},
   "source": [
    "<img src=\"Table Relationships.png\" width=\"700\" height=\"700\" />"
   ]
  },
  {
   "cell_type": "markdown",
   "id": "19750617-8b92-423a-a574-978bb3207ec3",
   "metadata": {},
   "source": [
    "To get data from multiple sources, we have to use the JOIN clause"
   ]
  },
  {
   "cell_type": "markdown",
   "id": "a60f956c-d14f-418e-9977-2ae4b1981192",
   "metadata": {},
   "source": [
    "<img src=\"https://c.tenor.com/5zNA2C94itMAAAAd/kitty-join-us.gif\" width=\"300\" height=\"300\" />"
   ]
  },
  {
   "cell_type": "markdown",
   "id": "c46d6025-4d8c-4c0b-b1d5-fbcd48283f8c",
   "metadata": {},
   "source": [
    "Can only join on tables that have attributes/columns in common"
   ]
  },
  {
   "cell_type": "markdown",
   "id": "426696a7-4ecf-4625-a02e-951ceb6587c4",
   "metadata": {},
   "source": [
    "# The Keys to It All "
   ]
  },
  {
   "cell_type": "markdown",
   "id": "b4ebf776-ffa1-453d-bbfe-6ab484c60992",
   "metadata": {},
   "source": [
    "<img src=\"https://bestanimations.com/media/keys/28804563key-animated-gif-3.gif#.Yqo8R2ZAC3Y.link\" width=\"300\" height=\"300\" />"
   ]
  },
  {
   "cell_type": "markdown",
   "id": "7584255f-b06f-482f-9c99-fb4f446c5a07",
   "metadata": {},
   "source": [
    "When you want to join tables, there must be something in common between the tables that you can join on! Otherwise you are basically concating them without regards to the relationships between the two. These columns with common values are usually the primary and foreign keys"
   ]
  },
  {
   "cell_type": "markdown",
   "id": "fbd56d31-5f4d-4ae4-824d-2e18bb681d91",
   "metadata": {},
   "source": [
    "**<span style=\"color:red\">Jargon Alert</span>** : People often say that they columns that have values in common between tables are the columns you are 'joining on', because of the ON clause in the query"
   ]
  },
  {
   "cell_type": "markdown",
   "id": "9b1c122d-00e0-4fc8-a73c-cfca49129296",
   "metadata": {},
   "source": [
    "# Primary Keys"
   ]
  },
  {
   "cell_type": "markdown",
   "id": "54fc2fdd-3505-4076-928a-e2c1c049e6c5",
   "metadata": {},
   "source": [
    "**Primary Key** : The column that has a unique value for every record/row. A lot of times you will find that this primary key is an 'ID' that ensures that the value is unique"
   ]
  },
  {
   "cell_type": "markdown",
   "id": "6bb92799-e41c-408f-a2ec-745b1c935902",
   "metadata": {},
   "source": [
    "# Foreign Keys"
   ]
  },
  {
   "cell_type": "markdown",
   "id": "068c366a-563f-4aba-a338-417332f29b0c",
   "metadata": {},
   "source": [
    "**Foreign Key** : A column in a table that have values from the primary key column in another table. These are not necessarily unique for every row. A table can include multiple foreign keys"
   ]
  },
  {
   "cell_type": "markdown",
   "id": "4c9438b2-85b2-461e-8c9f-9c056fd56591",
   "metadata": {},
   "source": [
    "# Together"
   ]
  },
  {
   "cell_type": "markdown",
   "id": "ac63b311-3bdc-49e4-bf99-6570a3784970",
   "metadata": {},
   "source": [
    "In order to understand how the tables of a database work together, sometimes you will use a database diagram like this:"
   ]
  },
  {
   "cell_type": "markdown",
   "id": "d5709a0e-f2eb-43a3-9404-a42012c7aad4",
   "metadata": {},
   "source": [
    "<img src=\"Database Diagram.png\" width=\"500\" height=\"500\" />"
   ]
  },
  {
   "cell_type": "markdown",
   "id": "496b40d0-5758-4c3d-ab2c-d8695b654646",
   "metadata": {},
   "source": [
    "In this diagram, the lines connecting tables indicate which table has the primary key (key side) and which table has the foreign key (infinity symbol). "
   ]
  },
  {
   "cell_type": "markdown",
   "id": "2c518036-762d-496a-8d9f-bbe8b3d740de",
   "metadata": {},
   "source": [
    "BookAuthor is an example of a **composite key** : BookID is not unique, and AuthorID is not unique, but the combination of BookID and AuthorID is unique"
   ]
  },
  {
   "cell_type": "markdown",
   "id": "6387fd3f-2be7-44f5-81c7-2312d16d9fb1",
   "metadata": {},
   "source": [
    "# All the Joins"
   ]
  },
  {
   "cell_type": "markdown",
   "id": "012bf054-b6e3-4b59-a1db-a938ea0b871c",
   "metadata": {},
   "source": [
    "<img src=\"All Join Types.png\" width=\"700\" height=\"700\" />"
   ]
  },
  {
   "cell_type": "markdown",
   "id": "cdbd35e8-fc57-493c-8988-598ad38e3440",
   "metadata": {},
   "source": [
    "Image from *https://www.sqlshack.com/internals-of-physical-join-operators-nested-loops-join-hash-match-join-merge-join-in-sql-server/*"
   ]
  },
  {
   "cell_type": "markdown",
   "id": "81f02334-5a88-4df5-856f-a21a8a19345f",
   "metadata": {},
   "source": [
    "**<span style=\"color:orange\">NOTE</span>** : the 'OUTER' part of these JOIN clauses is optional "
   ]
  },
  {
   "cell_type": "markdown",
   "id": "b04350a7-d769-4e1e-b109-f59e977bc625",
   "metadata": {},
   "source": [
    "# Inner Join"
   ]
  },
  {
   "cell_type": "markdown",
   "id": "22b33b3d-e002-4f33-96e2-7c9353e31d04",
   "metadata": {},
   "source": [
    "Gets only the records/rows that share the same values for the columns you are joining on"
   ]
  },
  {
   "cell_type": "markdown",
   "id": "d8742614-829f-4d8d-9af1-061556c4f0ae",
   "metadata": {},
   "source": [
    "<img src=\"Inner Join.png\" width=\"700\" height=\"700\" />"
   ]
  },
  {
   "cell_type": "code",
   "execution_count": null,
   "id": "4e547541-cf31-4d82-921c-ef2f3930a458",
   "metadata": {},
   "outputs": [],
   "source": [
    "SELECT\n",
    "    # desired table columns from both tables are inserted here\n",
    "    table_name1.column_names\n",
    "    table_nmae2.column_names\n",
    "FROM\n",
    "    table_name1\n",
    "INNER JOIN \n",
    "    table_name2\n",
    "ON \n",
    "    # indicate which columns have shared values that can be matched\n",
    "    table_name1.column_name = table_name2.column_name"
   ]
  },
  {
   "cell_type": "markdown",
   "id": "ddf13e3a-245e-46b3-8b2c-bbaa30cea137",
   "metadata": {},
   "source": [
    "# Full Join"
   ]
  },
  {
   "cell_type": "markdown",
   "id": "ba35ddcc-86cd-4e90-ada7-b64e8210e2c7",
   "metadata": {},
   "source": [
    "Gets all of the rows from both tables, and matches them up when possible based on having the same value in the columns that were joined on. If there is no match those values from the other table are left blank"
   ]
  },
  {
   "cell_type": "markdown",
   "id": "bc77b3b6-aaba-4e39-a5a0-62ad2f90d519",
   "metadata": {},
   "source": [
    "<img src=\"Outer Join.png\" width=\"700\" height=\"700\" />"
   ]
  },
  {
   "cell_type": "code",
   "execution_count": null,
   "id": "00129268-1091-429b-9bdf-2350c66ed299",
   "metadata": {},
   "outputs": [],
   "source": [
    "SELECT\n",
    "    # desired table columns from both tables are inserted here\n",
    "    table_name1.column_names\n",
    "    table_name2.column_names\n",
    "FROM\n",
    "    table_name1\n",
    "FULL JOIN \n",
    "    table_name2\n",
    "ON \n",
    "    # indicate which columns have shared values that can be matched\n",
    "    table_name1.column_name = table_name2.column_name"
   ]
  },
  {
   "cell_type": "markdown",
   "id": "158b388a-4a10-4218-ba2c-7d17e18aa8ce",
   "metadata": {},
   "source": [
    "# Left Join"
   ]
  },
  {
   "cell_type": "markdown",
   "id": "a861262c-1f79-462d-b62c-3dd7ee6fc874",
   "metadata": {},
   "source": [
    "All of the records/rows from one table (the 'left' one) are returned, and then only the records from the other table (the 'right' one) that match up to rows on the first table are included"
   ]
  },
  {
   "cell_type": "markdown",
   "id": "944b2b3e-f35d-4fb0-a59b-77649c30a015",
   "metadata": {},
   "source": [
    "<img src=\"Left Join.png\" width=\"700\" height=\"700\" />"
   ]
  },
  {
   "cell_type": "code",
   "execution_count": null,
   "id": "f3d00c89-d602-4be3-a7c0-0bc28db651c6",
   "metadata": {},
   "outputs": [],
   "source": [
    "SELECT\n",
    "    # desired table columns from both tables are inserted here\n",
    "    table_name1.column_names\n",
    "    table_name2.column_names\n",
    "FROM\n",
    "    table_name1 # the 'left' table\n",
    "LEFT JOIN \n",
    "    table_name2 # the 'right' table\n",
    "ON \n",
    "    # indicate which columns have shared values that can be matched\n",
    "    table_name1.column_name = table_name2.column_name"
   ]
  },
  {
   "cell_type": "markdown",
   "id": "4a15a8e1-5b05-493d-84e3-4653d6a2ab4e",
   "metadata": {},
   "source": [
    "# Right Join"
   ]
  },
  {
   "cell_type": "markdown",
   "id": "35c235d0-090f-4b42-a26d-5ad3248f86ae",
   "metadata": {},
   "source": [
    "All of the records/rows from the 'right' table are returned, and then only the records from the 'left' table that match up to rows on the 'right' table are included."
   ]
  },
  {
   "cell_type": "markdown",
   "id": "a965540c-aaf8-4b46-abf0-deceff141221",
   "metadata": {},
   "source": [
    "Rarely used - most of the time people just switch the order of the tables and stick with the left join. For instance the following two queries are equivalent:"
   ]
  },
  {
   "cell_type": "code",
   "execution_count": null,
   "id": "f4d6017b-26a9-4d66-b976-757dcb4cd145",
   "metadata": {},
   "outputs": [],
   "source": [
    "SELECT\n",
    "    # desired table columns from both tables are inserted here\n",
    "    customers.customer_name\n",
    "    sales.sales_rep\n",
    "FROM\n",
    "    customers # the 'left' table\n",
    "LEFT JOIN \n",
    "    sales # the 'right' table\n",
    "ON \n",
    "    # indicate which columns have shared values that can be matched\n",
    "    customers.customer_id = sales.customer_id"
   ]
  },
  {
   "cell_type": "code",
   "execution_count": null,
   "id": "59f09db8-98b1-4354-a949-0cfd1e4fe301",
   "metadata": {},
   "outputs": [],
   "source": [
    "SELECT\n",
    "    # desired table columns from both tables are inserted here\n",
    "    table_name1.column_names\n",
    "    table_name2.column_names\n",
    "FROM\n",
    "    sales # the 'left' table\n",
    "RIGHT JOIN \n",
    "    customers # the 'right' table\n",
    "ON \n",
    "    # indicate which columns have shared values that can be matched\n",
    "    sales.customer_id = customers.customer_id"
   ]
  },
  {
   "cell_type": "markdown",
   "id": "561cb1ff-8d83-4e3f-bddb-7e345dc8d2e3",
   "metadata": {},
   "source": [
    "# HAVING vs. WHERE Clause"
   ]
  },
  {
   "cell_type": "markdown",
   "id": "8231de32-71d4-440d-b29a-c61ca120636b",
   "metadata": {},
   "source": [
    "**WHERE** : used to filter based on an original column; applies the condition before the rows are grouped\n",
    "\n",
    "**HAVING** : used to filter based on a column that is created with an aggregate function; applies the condition after the rows are grouped, therefore is always used with a GROUP BY clause (if used without a GROUP BY clause it acts just like WHERE, so to avoid confusion avoid doing that)"
   ]
  },
  {
   "cell_type": "markdown",
   "id": "efdaf590-e161-41ed-817d-1dcf249b9d2f",
   "metadata": {},
   "source": [
    "# All Together Now"
   ]
  },
  {
   "cell_type": "markdown",
   "id": "316989e6-ff4d-4d6d-bcdd-03197e15bd36",
   "metadata": {},
   "source": [
    "The order of clauses when writing a SQL query:\n",
    "1. SELECT\n",
    "2. FROM\n",
    "3. JOIN\n",
    "4. ON\n",
    "5. WHERE\n",
    "6. GROUP BY\n",
    "7. HAVING\n",
    "8. ORDER BY"
   ]
  },
  {
   "cell_type": "markdown",
   "id": "bf9dc688-b6df-4389-86e8-4def88bd30a0",
   "metadata": {
    "slideshow": {
     "slide_type": "slide"
    },
    "tags": []
   },
   "source": [
    "# General Order of Execution"
   ]
  },
  {
   "cell_type": "markdown",
   "id": "7cc79e8b-b21d-441c-b3ba-5423ea5b4105",
   "metadata": {},
   "source": [
    "This is not necessarily guaranteed (may depend on the RDBMS), but a general rule of thumb"
   ]
  },
  {
   "cell_type": "markdown",
   "id": "beed21e6-2faf-430b-ac6f-9de6b9ed5ddb",
   "metadata": {},
   "source": [
    "Why do we care? Because it can help explain behavior understand results (e.g. no aliases in the HAVING clause except in MySQL)"
   ]
  },
  {
   "cell_type": "markdown",
   "id": "c4503b8e-6d55-447b-bcf0-74bf4f3dbe8f",
   "metadata": {},
   "source": [
    "1. FROM + JOIN - you have to know where it is coming from before you get it!\n",
    "2. WHERE - filter early so that later functions are applied to as few records as possible\n",
    "3. GROUP BY - need to know what the groups are before you apply any functions to it\n",
    "4. HAVING - filter based on the results of the GROUP BY, so has to come after it\n",
    "5. SELECT - what specifically you want from the data determined by the above clauses\n",
    "6. DISTINCT - pick out only the unique values for a certain column\n",
    "7. ORDER BY - organize the data\n",
    "8. TOP - grab the first couple"
   ]
  },
  {
   "cell_type": "code",
   "execution_count": null,
   "id": "05af9f7c-662e-47a2-a8cc-2047999df96f",
   "metadata": {},
   "outputs": [],
   "source": []
  }
 ],
 "metadata": {
  "kernelspec": {
   "display_name": "Python 3 (ipykernel)",
   "language": "python",
   "name": "python3"
  },
  "language_info": {
   "codemirror_mode": {
    "name": "ipython",
    "version": 3
   },
   "file_extension": ".py",
   "mimetype": "text/x-python",
   "name": "python",
   "nbconvert_exporter": "python",
   "pygments_lexer": "ipython3",
   "version": "3.8.8"
  }
 },
 "nbformat": 4,
 "nbformat_minor": 5
}
