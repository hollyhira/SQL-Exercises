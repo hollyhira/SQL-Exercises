{
    "metadata": {
        "kernelspec": {
            "name": "SQL",
            "display_name": "SQL",
            "language": "sql"
        },
        "language_info": {
            "name": "sql",
            "version": ""
        }
    },
    "nbformat_minor": 2,
    "nbformat": 4,
    "cells": [
        {
            "cell_type": "code",
            "source": [
                "from IPython.display import Image"
            ],
            "metadata": {
                "azdata_cell_guid": "e262cc9c-4780-4833-80bd-9278743d17a8",
                "language": "sql"
            },
            "outputs": [],
            "execution_count": 1
        },
        {
            "cell_type": "markdown",
            "source": [
                "# SQL Part 3"
            ],
            "metadata": {
                "azdata_cell_guid": "e4d9ed0f-8c70-4a95-8f08-20bc42b49d0d"
            }
        },
        {
            "cell_type": "markdown",
            "source": [
                "# Plan for Today"
            ],
            "metadata": {
                "azdata_cell_guid": "4b92d349-67c3-4919-a2c5-65dfe0f8780b"
            }
        },
        {
            "cell_type": "markdown",
            "source": [
                "* Review\n",
                "* Table relationships\n",
                "* JOIN clauses\n",
                "* HAVING clauses"
            ],
            "metadata": {
                "azdata_cell_guid": "ba58704b-55a6-40fb-9825-ea4637a296fb"
            }
        },
        {
            "cell_type": "markdown",
            "source": [
                "# Review"
            ],
            "metadata": {
                "azdata_cell_guid": "8bcdf466-de18-4b9b-8396-ef62e6ae9940"
            }
        },
        {
            "cell_type": "markdown",
            "source": [
                "Review what SQL is, why we are learning it, the basic structure of a query, relational databases, tables:\n",
                "* We are working with **structured data** "
            ],
            "metadata": {
                "azdata_cell_guid": "c8b5dc90-2993-407f-94e8-1d3451b87ec4"
            }
        },
        {
            "cell_type": "markdown",
            "source": [
                "* This data is stored in a **relational database** : a database that contains a series of tables that relate to each other and can be connected (how do we connect them?) to show relationships"
            ],
            "metadata": {
                "azdata_cell_guid": "bbffb814-1859-4eb5-b9cd-7fcb4a877414"
            }
        },
        {
            "cell_type": "markdown",
            "source": [
                "* The anatomy of a **database table** :  "
            ],
            "metadata": {
                "azdata_cell_guid": "7832e43e-e575-4b1b-af27-68cf6cede403"
            }
        },
        {
            "cell_type": "markdown",
            "source": [
                "<img src=\"Anatomy of a Table.png\" width=\"400\" height=\"400\" />"
            ],
            "metadata": {
                "azdata_cell_guid": "0fcccb1e-43bc-4cd6-831e-b438d8f1a25e"
            }
        },
        {
            "cell_type": "markdown",
            "source": [
                "# Working with Multiple Tables"
            ],
            "metadata": {
                "azdata_cell_guid": "4089d5c6-e4ef-4bfe-b56e-90eaf3931b31"
            }
        },
        {
            "cell_type": "markdown",
            "source": [
                "**Data Aggregation** : The process of gathering data from multiple sources in order to combine it into a single, summarized collection."
            ],
            "metadata": {
                "azdata_cell_guid": "1529dc96-a1c8-453d-bc74-526765528ea1"
            }
        },
        {
            "cell_type": "markdown",
            "source": [
                "The way that a relational database is set up, data is often spread across multiple tables. In a well-organized database a single table will usually only apply to a single thing, but the information that we often want as analysts comes from the relationships between tables. \n",
                "\n",
                "Why do they make tables that way? It is called **database normalization**, and it keeps you from having to change things in multiple places. For instance, if I had a table containing all the students and their classes, then wanted to change a student’s name, I would have to change it multiple times, once for each class the student enrolled in. This makes databases more efficient and helps ensure data quality, but the drawback is that it becomes less human readable and data can be spread out. JOINs are how we stitch the data back together. "
            ],
            "metadata": {
                "azdata_cell_guid": "db37136c-507b-4cff-9492-de2e2127dafd"
            }
        },
        {
            "cell_type": "markdown",
            "source": [
                "<img src=\"Table Relationships.png\" width=\"700\" height=\"700\" />"
            ],
            "metadata": {
                "azdata_cell_guid": "4f67fbcf-865d-4f4c-ad05-e653316874cc"
            }
        },
        {
            "cell_type": "markdown",
            "source": [
                "To get data from multiple sources, we have to use the JOIN clause"
            ],
            "metadata": {
                "azdata_cell_guid": "c02c0e64-f3fa-474b-9b27-e4a815322876"
            }
        },
        {
            "cell_type": "markdown",
            "source": [
                "<img src=\"https://c.tenor.com/5zNA2C94itMAAAAd/kitty-join-us.gif\" width=\"300\" height=\"300\" />"
            ],
            "metadata": {
                "azdata_cell_guid": "36bb899a-88f0-427d-af73-d042f5d3803f"
            }
        },
        {
            "cell_type": "markdown",
            "source": [
                "Can only join on tables that have attributes/columns in common"
            ],
            "metadata": {
                "azdata_cell_guid": "8fbb7a95-518e-4164-9585-3c370b7fb4c5"
            }
        },
        {
            "cell_type": "markdown",
            "source": [
                "# The Keys to It All "
            ],
            "metadata": {
                "azdata_cell_guid": "7893f2ca-20db-41e8-bff0-20400a8f1a6a"
            }
        },
        {
            "cell_type": "markdown",
            "source": [
                "<img src=\"https://bestanimations.com/media/keys/28804563key-animated-gif-3.gif#.Yqo8R2ZAC3Y.link\" width=\"300\" height=\"300\" />"
            ],
            "metadata": {
                "azdata_cell_guid": "74eafbdb-3eaa-4a46-ab0f-ef0824d18d73"
            }
        },
        {
            "cell_type": "markdown",
            "source": [
                "When you want to join tables, there must be something in common between the tables that you can join on! Otherwise you are basically concating them without regards to the relationships between the two. These columns with common values are usually the primary and foreign keys"
            ],
            "metadata": {
                "azdata_cell_guid": "32720a63-f23d-45a2-a74e-bb2ff964883d"
            }
        },
        {
            "cell_type": "markdown",
            "source": [
                "**<span style=\"color:red\">Jargon Alert</span>** : People often say that they columns that have values in common between tables are the columns you are 'joining on', because of the ON clause in the query"
            ],
            "metadata": {
                "azdata_cell_guid": "be95879e-9143-4ea1-8fe3-a74ea66b2d0d"
            }
        },
        {
            "cell_type": "markdown",
            "source": [
                "# Primary Keys"
            ],
            "metadata": {
                "azdata_cell_guid": "bddecb1f-f3a2-444e-9c05-86e8197aad62"
            }
        },
        {
            "cell_type": "markdown",
            "source": [
                "**Primary Key** : The column that has a unique value for every record/row. A lot of times you will find that this primary key is an 'ID' that ensures that the value is unique"
            ],
            "metadata": {
                "azdata_cell_guid": "3cbe9be0-ce3e-4663-b1a7-17f2ae77d9ce"
            }
        },
        {
            "cell_type": "markdown",
            "source": [
                "# Foreign Keys"
            ],
            "metadata": {
                "azdata_cell_guid": "20b8153a-ca00-4da7-8fd4-da73d7e2a1d2"
            }
        },
        {
            "cell_type": "markdown",
            "source": [
                "**Foreign Key** : A column in a table that have values from the primary key column in another table. These are not necessarily unique for every row. A table can include multiple foreign keys"
            ],
            "metadata": {
                "azdata_cell_guid": "fa8b4204-4c99-42f2-8c16-23e1ef2723d8"
            }
        },
        {
            "cell_type": "markdown",
            "source": [
                "# Together"
            ],
            "metadata": {
                "azdata_cell_guid": "b0da4962-0787-420a-8f2e-e6853c965501"
            }
        },
        {
            "cell_type": "markdown",
            "source": [
                "In order to understand how the tables of a database work together, sometimes you will use a database diagram like this:"
            ],
            "metadata": {
                "azdata_cell_guid": "22276cd8-3927-474f-a4b0-9093bdae1ccf"
            }
        },
        {
            "cell_type": "markdown",
            "source": [
                "<img src=\"Database Diagram.png\" width=\"500\" height=\"500\" />"
            ],
            "metadata": {
                "azdata_cell_guid": "12d13ba8-a5ef-4838-9878-c200f70165d8"
            }
        },
        {
            "cell_type": "markdown",
            "source": [
                "In this diagram, the lines connecting tables indicate which table has the primary key (key side) and which table has the foreign key (infinity symbol). "
            ],
            "metadata": {
                "azdata_cell_guid": "7dc0150c-6512-4fdb-bb13-60e54f5e9982"
            }
        },
        {
            "cell_type": "markdown",
            "source": [
                "BookAuthor is an example of a **composite key** : BookID is not unique, and AuthorID is not unique, but the combination of BookID and AuthorID is unique"
            ],
            "metadata": {
                "azdata_cell_guid": "3766106f-c831-43ec-97d9-546985df544e"
            }
        },
        {
            "cell_type": "markdown",
            "source": [
                "# All the Joins"
            ],
            "metadata": {
                "azdata_cell_guid": "0296c05b-2137-41f9-a5ca-f7089fe42a6b"
            }
        },
        {
            "cell_type": "markdown",
            "source": [
                "<img src=\"All Join Types.png\" width=\"700\" height=\"700\" />"
            ],
            "metadata": {
                "azdata_cell_guid": "6623e46e-b3d7-4dfe-a9fb-4017cb60f94f"
            }
        },
        {
            "cell_type": "markdown",
            "source": [
                "Image from *https://www.sqlshack.com/internals-of-physical-join-operators-nested-loops-join-hash-match-join-merge-join-in-sql-server/*"
            ],
            "metadata": {
                "azdata_cell_guid": "04c0ff50-9be3-4c55-9d31-81e59b6b974c"
            }
        },
        {
            "cell_type": "markdown",
            "source": [
                "**<span style=\"color:orange\">NOTE</span>** : the 'OUTER' part of these JOIN clauses is optional "
            ],
            "metadata": {
                "azdata_cell_guid": "c4c34509-798c-46c2-994f-6f84e6b41720"
            }
        },
        {
            "cell_type": "markdown",
            "source": [
                "# Inner Join"
            ],
            "metadata": {
                "azdata_cell_guid": "b2c1be51-914a-4b4d-bbc6-6acbe19b13e2"
            }
        },
        {
            "cell_type": "markdown",
            "source": [
                "Gets only the records/rows that share the same values for the columns you are joining on"
            ],
            "metadata": {
                "azdata_cell_guid": "41c1639f-b86d-4404-85f0-e7aa95627dd0"
            }
        },
        {
            "cell_type": "markdown",
            "source": [
                "<img src=\"Inner Join.png\" width=\"700\" height=\"700\" />"
            ],
            "metadata": {
                "azdata_cell_guid": "765a93b7-ad21-4471-9e70-5c4e7ae8239e"
            }
        },
        {
            "cell_type": "code",
            "source": [
                "SELECT\n",
                "    # desired table columns from both tables are inserted here\n",
                "    table_name1.column_names\n",
                "    table_nmae2.column_names\n",
                "FROM\n",
                "    table_name1\n",
                "INNER JOIN \n",
                "    table_name2\n",
                "ON \n",
                "    # indicate which columns have shared values that can be matched\n",
                "    table_name1.column_name = table_name2.column_name"
            ],
            "metadata": {
                "azdata_cell_guid": "cc2d7a5d-46c1-4883-9ccc-5191267bc6dd",
                "language": "sql"
            },
            "outputs": [],
            "execution_count": null
        },
        {
            "cell_type": "markdown",
            "source": [
                "# Full Join"
            ],
            "metadata": {
                "azdata_cell_guid": "35f7adf2-5077-432a-b77c-f8f6fc8b1f0b"
            }
        },
        {
            "cell_type": "markdown",
            "source": [
                "Gets all of the rows from both tables, and matches them up when possible based on having the same value in the columns that were joined on. If there is no match those values from the other table are left blank"
            ],
            "metadata": {
                "azdata_cell_guid": "5e437a3e-59c6-4f0d-9fd6-abffd5163423"
            }
        },
        {
            "cell_type": "markdown",
            "source": [
                "<img src=\"Outer Join.png\" width=\"700\" height=\"700\" />"
            ],
            "metadata": {
                "azdata_cell_guid": "bc0e1c37-fcee-459d-b587-fc496838abbb"
            }
        },
        {
            "cell_type": "code",
            "source": [
                "SELECT\n",
                "    # desired table columns from both tables are inserted here\n",
                "    table_name1.column_names\n",
                "    table_name2.column_names\n",
                "FROM\n",
                "    table_name1\n",
                "FULL JOIN \n",
                "    table_name2\n",
                "ON \n",
                "    # indicate which columns have shared values that can be matched\n",
                "    table_name1.column_name = table_name2.column_name"
            ],
            "metadata": {
                "azdata_cell_guid": "ca910b3b-546d-4016-979a-99ec2c6dc3fa",
                "language": "sql"
            },
            "outputs": [],
            "execution_count": null
        },
        {
            "cell_type": "markdown",
            "source": [
                "# Left Join"
            ],
            "metadata": {
                "azdata_cell_guid": "c69aef22-cca2-4ed1-9727-bc5adda8b9c2"
            }
        },
        {
            "cell_type": "markdown",
            "source": [
                "All of the records/rows from one table (the 'left' one) are returned, and then only the records from the other table (the 'right' one) that match up to rows on the first table are included"
            ],
            "metadata": {
                "azdata_cell_guid": "477e6d88-bfa2-44df-9e16-2903f16cd926"
            }
        },
        {
            "cell_type": "markdown",
            "source": [
                "<img src=\"Left Join.png\" width=\"700\" height=\"700\" />"
            ],
            "metadata": {
                "azdata_cell_guid": "8ac66fcd-b8e7-4a2c-affc-0fbf6876a7e3"
            }
        },
        {
            "cell_type": "code",
            "source": [
                "SELECT\n",
                "    # desired table columns from both tables are inserted here\n",
                "    table_name1.column_names\n",
                "    table_name2.column_names\n",
                "FROM\n",
                "    table_name1 # the 'left' table\n",
                "LEFT JOIN \n",
                "    table_name2 # the 'right' table\n",
                "ON \n",
                "    # indicate which columns have shared values that can be matched\n",
                "    table_name1.column_name = table_name2.column_name"
            ],
            "metadata": {
                "azdata_cell_guid": "55d744df-c5d0-4011-875e-727b25693c6a",
                "language": "sql"
            },
            "outputs": [],
            "execution_count": null
        },
        {
            "cell_type": "markdown",
            "source": [
                "# Right Join"
            ],
            "metadata": {
                "azdata_cell_guid": "cb69765a-8a88-4185-84b0-3fa9d7bf7403"
            }
        },
        {
            "cell_type": "markdown",
            "source": [
                "All of the records/rows from the 'right' table are returned, and then only the records from the 'left' table that match up to rows on the 'right' table are included."
            ],
            "metadata": {
                "azdata_cell_guid": "f19961ea-8761-4d57-9492-d9af6c103e46"
            }
        },
        {
            "cell_type": "markdown",
            "source": [
                "Rarely used - most of the time people just switch the order of the tables and stick with the left join. For instance the following two queries are equivalent:"
            ],
            "metadata": {
                "azdata_cell_guid": "9d3292c7-0bc5-4067-aeea-2ded5574da71"
            }
        },
        {
            "cell_type": "code",
            "source": [
                "SELECT\n",
                "    # desired table columns from both tables are inserted here\n",
                "    customers.customer_name\n",
                "    sales.sales_rep\n",
                "FROM\n",
                "    customers # the 'left' table\n",
                "LEFT JOIN \n",
                "    sales # the 'right' table\n",
                "ON \n",
                "    # indicate which columns have shared values that can be matched\n",
                "    customers.customer_id = sales.customer_id"
            ],
            "metadata": {
                "azdata_cell_guid": "c2af352d-3ecd-4e36-9d89-9dfa5810d63a",
                "language": "sql"
            },
            "outputs": [],
            "execution_count": null
        },
        {
            "cell_type": "code",
            "source": [
                "SELECT\n",
                "    # desired table columns from both tables are inserted here\n",
                "    table_name1.column_names\n",
                "    table_name2.column_names\n",
                "FROM\n",
                "    sales # the 'left' table\n",
                "RIGHT JOIN \n",
                "    customers # the 'right' table\n",
                "ON \n",
                "    # indicate which columns have shared values that can be matched\n",
                "    sales.customer_id = customers.customer_id"
            ],
            "metadata": {
                "azdata_cell_guid": "8bec66ac-aa25-4e33-8d85-1a8f9e5a77aa",
                "language": "sql"
            },
            "outputs": [],
            "execution_count": null
        },
        {
            "cell_type": "markdown",
            "source": [
                "# HAVING vs. WHERE Clause"
            ],
            "metadata": {
                "azdata_cell_guid": "f34866f0-0180-4116-9df9-a02eb9f7eb55"
            }
        },
        {
            "cell_type": "markdown",
            "source": [
                "**WHERE** : used to filter based on an original column; applies the condition before the rows are grouped\n",
                "\n",
                "**HAVING** : used to filter based on a column that is created with an aggregate function; applies the condition after the rows are grouped, therefore is always used with a GROUP BY clause (if used without a GROUP BY clause it acts just like WHERE, so to avoid confusion avoid doing that)"
            ],
            "metadata": {
                "azdata_cell_guid": "a242be60-abbe-4412-9f3e-2c8b4726949a"
            }
        },
        {
            "cell_type": "markdown",
            "source": [
                "# All Together Now"
            ],
            "metadata": {
                "azdata_cell_guid": "3f96f9a5-b74d-4314-9354-3cc0642ff7d9"
            }
        },
        {
            "cell_type": "markdown",
            "source": [
                "The order of clauses when writing a SQL query:\n",
                "1. SELECT\n",
                "2. FROM\n",
                "3. JOIN\n",
                "4. ON\n",
                "5. WHERE\n",
                "6. GROUP BY\n",
                "7. HAVING\n",
                "8. ORDER BY"
            ],
            "metadata": {
                "azdata_cell_guid": "d07adbc9-d805-4bd4-88c9-2a33fe328f94"
            }
        },
        {
            "cell_type": "markdown",
            "source": [
                "# General Order of Execution"
            ],
            "metadata": {
                "slideshow": {
                    "slide_type": "slide"
                },
                "tags": [],
                "azdata_cell_guid": "097a49ac-f1a9-404a-a9f8-6ad6044b1ed8"
            }
        },
        {
            "cell_type": "markdown",
            "source": [
                "This is not necessarily guaranteed (may depend on the RDBMS), but a general rule of thumb"
            ],
            "metadata": {
                "azdata_cell_guid": "e6dcd0ee-b512-4d06-b445-01c728adcf05"
            }
        },
        {
            "cell_type": "markdown",
            "source": [
                "Why do we care? Because it can help explain behavior understand results (e.g. no aliases in the HAVING clause except in MySQL)"
            ],
            "metadata": {
                "azdata_cell_guid": "fb8c2454-c451-4113-b909-8b41a3877885"
            }
        },
        {
            "cell_type": "markdown",
            "source": [
                "1. FROM + JOIN - you have to know where it is coming from before you get it!\n",
                "2. WHERE - filter early so that later functions are applied to as few records as possible\n",
                "3. GROUP BY - need to know what the groups are before you apply any functions to it\n",
                "4. HAVING - filter based on the results of the GROUP BY, so has to come after it\n",
                "5. SELECT - what specifically you want from the data determined by the above clauses\n",
                "6. DISTINCT - pick out only the unique values for a certain column\n",
                "7. ORDER BY - organize the data\n",
                "8. TOP - grab the first couple"
            ],
            "metadata": {
                "azdata_cell_guid": "a7fa23d2-661f-4a26-9bfd-d519addba346"
            }
        },
        {
            "cell_type": "code",
            "source": [],
            "metadata": {
                "azdata_cell_guid": "d50c44df-afdb-4b90-af19-b97b25bbca13",
                "language": "sql"
            },
            "outputs": [],
            "execution_count": null
        }
    ]
}