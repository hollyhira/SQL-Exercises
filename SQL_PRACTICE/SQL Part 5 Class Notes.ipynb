{
 "cells": [
  {
   "cell_type": "markdown",
   "id": "3da6e05b-2865-4edd-981c-debcd13b78f8",
   "metadata": {},
   "source": [
    "# SQL Part 5"
   ]
  },
  {
   "cell_type": "markdown",
   "id": "e0acb053-b92b-4f4c-b160-7891bcf5fde2",
   "metadata": {},
   "source": [
    "<img src=\"https://media3.giphy.com/media/UqeH2KKx0U65oETdDR/source.gif\" width=\"300\" height=\"300\" />"
   ]
  },
  {
   "cell_type": "markdown",
   "id": "13dace4a-09ca-452f-a3d8-aa1902719db9",
   "metadata": {},
   "source": [
    "**What is a record in a table?**"
   ]
  },
  {
   "cell_type": "markdown",
   "id": "2a38d5ab-f753-4c93-89ed-c2697a585fbe",
   "metadata": {},
   "source": [
    "*A row of data*"
   ]
  },
  {
   "cell_type": "markdown",
   "id": "aa592d3a-9f29-47e8-b4e1-8e6b83347dd5",
   "metadata": {},
   "source": [
    "**What is a primary key?**"
   ]
  },
  {
   "cell_type": "markdown",
   "id": "09294bfc-a6f3-49f5-925f-1effd976b4fc",
   "metadata": {},
   "source": [
    "*The column in a table that has a unique value for every record/row*"
   ]
  },
  {
   "cell_type": "markdown",
   "id": "e6bfa4d1-12dc-46b6-9a7a-b6e45440a3bf",
   "metadata": {},
   "source": [
    "**What is a foreign key?**"
   ]
  },
  {
   "cell_type": "markdown",
   "id": "5222517f-f523-40ce-9f05-3a214b0b4840",
   "metadata": {},
   "source": [
    "*A column in a table that has values from the primary key column in another table. A column in one table that uniquely identifies a row of another table*"
   ]
  },
  {
   "cell_type": "markdown",
   "id": "ef547036-9e2d-4ebc-a51f-110525a8bb97",
   "metadata": {},
   "source": [
    "**What is a composite key?**"
   ]
  },
  {
   "cell_type": "markdown",
   "id": "5d149761-ea69-4e38-ab44-21e38db3951b",
   "metadata": {},
   "source": [
    "*A primary key that is made up of the combination of 2 or more columns*"
   ]
  },
  {
   "cell_type": "markdown",
   "id": "bc775b31-cd6a-4035-98de-ae544ffad34f",
   "metadata": {},
   "source": [
    "# Schemas"
   ]
  },
  {
   "cell_type": "markdown",
   "id": "88644915-c0a0-4705-8d7e-476de3d5da4d",
   "metadata": {},
   "source": [
    "A schema is a collection of database objects (e.g. tables, indexes, views, stored procedures, function, etc.). A few things to remember about schemas:\n",
    "* A database may have multiple schemas\n",
    "* To reference an object, you will need to use schema_name.object_name (e.g. schema_name.table_name)\n",
    "* Tables from different schemas may have the same name (e.g. sales.employees and hr.employees)\n",
    "* The default schema for a newly created database id 'dbo'\n",
    "* You can think of schemas like separate folders or namespaces\n",
    "\n",
    "Schemas are used to group tables into logical groups within the database. They also allow the database managers to allow people to only access the schemas that they need (e.g. you are doing analysis on sales and only need to access the 'Sales' schema), which is the best practice of 'least privilege'"
   ]
  },
  {
   "cell_type": "markdown",
   "id": "316cc539-d273-4858-90aa-3737a5d9b442",
   "metadata": {},
   "source": [
    "Organization often use schema diagrams to visualize the relationships between different table in the database:"
   ]
  },
  {
   "cell_type": "markdown",
   "id": "8f83ce40-5396-4fcb-b050-122974976eba",
   "metadata": {},
   "source": [
    "<img src=\"Schema Visualization.png\" width=\"700\" height=\"700\" />"
   ]
  },
  {
   "cell_type": "markdown",
   "id": "6e2e6477-40d3-4424-a7bf-4676d1ddda50",
   "metadata": {},
   "source": [
    "*visual from https://www.sqlservertutorial.net/sql-server-sample-database/*"
   ]
  },
  {
   "cell_type": "markdown",
   "id": "e8e972c3-0273-445e-aea1-5d3e27639632",
   "metadata": {},
   "source": [
    "# Creating a New Table"
   ]
  },
  {
   "cell_type": "markdown",
   "id": "fa126a6c-d801-4043-916f-10239e1df11e",
   "metadata": {},
   "source": [
    "### Syntax"
   ]
  },
  {
   "cell_type": "code",
   "execution_count": null,
   "id": "245cff39-84c8-4123-9c47-9262954985a2",
   "metadata": {},
   "outputs": [],
   "source": [
    "CREATE TABLE database_name*.schema_name.table_name(\n",
    "    column_name1 data_type PRIMARY KEY column_constraint,\n",
    "    column_name2 data_type column_constraint,\n",
    "    ...\n",
    "    column_nameN, data_type column_constraint,\n",
    "    table_constraints\n",
    ")"
   ]
  },
  {
   "cell_type": "markdown",
   "id": "4feb109b-d653-48b5-ac68-e152b0d59776",
   "metadata": {},
   "source": [
    "*If no database name is specified, the database_name defaults to the current database"
   ]
  },
  {
   "cell_type": "markdown",
   "id": "3119e2ca-567f-4811-a55c-e3b487ba6bb8",
   "metadata": {},
   "source": [
    "### Primary Key "
   ]
  },
  {
   "cell_type": "markdown",
   "id": "4d8dd47e-8f2a-4164-a173-ad709b908344",
   "metadata": {},
   "source": [
    "**When the primary key is made up of one column** : You just have to add 'PRIMARY KEY' keywords after the datatype when specifying that column\n",
    "* To have the table automatically generate a unique primary key id whenever a new record is added, use 'IDENTITY(first_value, increment_value)' in the column_constraint section of this column. If you don't specify a first_value and increment_value, they will both default to 1.\n",
    "* **<span style=\"color:orange\">NOTE</span>** : If someone tries to insert a record into the table and the operation fails for some reason, that value generated by IDENTITY will still be 'used up' and will not be generated again\n",
    "\n",
    "**When the primary key is made up of more than one column** : In the table_constraints use 'PRIMARY KEY (columnA, columnB)'. In this case columnA doesn't have to be made up of unique values and columnB doesn't have to be made up of unique values, but the combination of columnA + columnB must be unique. *Remember this is also called a ***composite primary key****"
   ]
  },
  {
   "cell_type": "markdown",
   "id": "9a833075-584e-4030-9402-64fb4ef7bf69",
   "metadata": {},
   "source": [
    "**<span style=\"color:orange\">NOTE</span>** : All columns that participate in the primary key are automatically defined to have a NOT NULL column constraint."
   ]
  },
  {
   "cell_type": "markdown",
   "id": "8c499545-8bbb-424a-accc-e16672f7a142",
   "metadata": {},
   "source": [
    "A table doesn't *have* to have a primary key defined, and one can be specified later instead using ALTER TABLE"
   ]
  },
  {
   "cell_type": "code",
   "execution_count": null,
   "id": "d74bf49a-661a-47e4-b990-ff9a9c016ec8",
   "metadata": {},
   "outputs": [],
   "source": [
    "ALTER TABLE database_name.schema_name.table_name\n",
    "ADD PRIMARY KEY (column_name)"
   ]
  },
  {
   "cell_type": "markdown",
   "id": "20175c33-29aa-48da-93fb-6c5309a5c502",
   "metadata": {},
   "source": [
    "### Data Types"
   ]
  },
  {
   "cell_type": "markdown",
   "id": "cabde929-0e94-4e0f-8253-e1ce0a807bca",
   "metadata": {},
   "source": [
    "* **INT** : stores an integer value (e.g. 50)\n",
    "* **DECIMAL/DEC/NUMERIC(p,s)** : stores a float value (e.g. 50.5). P is the maximum number of digits (default 38) and s is the maximum number of digits after the decimal point\n",
    "* **VARCHAR(n)** : stores variable-length strings (e.g. 'Abraham Lincoln'), where n is the maximum string length (up to 8,000, default is 1)\n",
    "* **DATE** : stores a date value. The default format is YYYY-MM-DD\n",
    "* **TIME** : stores a time value. The default format is hh:mm:ss\n",
    "* **DATETIME2** : stores a specific time and date. The default format is YYYY-MM-DD hh:mm:ss\n",
    "    - **<span style=\"color:orange\">NOTE</span>** : DATETIME2 is recommended over DATETIME (one reason is that DATETIME only allows you to go back as far as 1753)"
   ]
  },
  {
   "cell_type": "markdown",
   "id": "86229e72-f7bd-471a-872f-ceff662aa6d5",
   "metadata": {},
   "source": [
    "WARNING : if someone tries to add a record with values that do not match the data type or data type requirements (e.g. a string with length longer than the 'n' specified in VARCHAR) they will get an error"
   ]
  },
  {
   "cell_type": "markdown",
   "id": "d88331cb-924a-4a3f-bde2-17b68968a75d",
   "metadata": {},
   "source": [
    "*These are the most common data types. For a complete list of possible data types see https://www.sqlservertutorial.net/sql-server-basics/sql-server-data-types/*"
   ]
  },
  {
   "cell_type": "markdown",
   "id": "5f0c01f9-0b84-4f74-beb8-3dee2d0c7801",
   "metadata": {},
   "source": [
    "### Column Constraints"
   ]
  },
  {
   "cell_type": "markdown",
   "id": "445d3765-25fb-43b1-b5e2-3c33f8ebb9fd",
   "metadata": {},
   "source": [
    "* **NOT NULL** : requires that the values for this column are not NULL\n",
    "    - If someone attempts to add a record with a value for this column that is NULL they will get an error\n",
    "    - **<span style=\"color:orange\">NOTE</span>** : Always written as column constraints and not as table constraints"
   ]
  },
  {
   "cell_type": "markdown",
   "id": "a49014a5-b5fe-4eb5-a805-776bd22847e9",
   "metadata": {},
   "source": [
    "* **UNIQUE** : requires that each value for this column is unique\n",
    "    - If someone attempts to add a record with a value for this column that already exists in another record they will get an error\n",
    "    - Unlike the PRIMARY KEY constraint, UNIQUE allows a NULL value (but only once...)"
   ]
  },
  {
   "cell_type": "markdown",
   "id": "947b6865-63c0-4bbd-933e-9a9b639d10b3",
   "metadata": {},
   "source": [
    "* **CHECK** : allows you to specify a boolean expression that the values for the column must satisfy with the syntax 'CHECK(boolean expression)'\n",
    "    - A 'boolean expression' just mean that the expression must evaluate to either True or False\n",
    "    - With a CHECK constraint, if someone tries to insert a record with a value for this column that would cause the boolean expression to evaluate to False they will get an error\n",
    "    - **<span style=\"color:orange\">NOTE</span>** : adding a record with a NULL value for a column with a CHECK constraint will not cause an error"
   ]
  },
  {
   "cell_type": "markdown",
   "id": "b9b4342b-a054-4bb9-a1f1-4ac3efa7aa9f",
   "metadata": {},
   "source": [
    "### Table Constraints"
   ]
  },
  {
   "cell_type": "markdown",
   "id": "4a184d5a-cc45-4c6f-8d86-c735c5aafcf9",
   "metadata": {},
   "source": [
    "* **FOREIGN KEY** : when you want to specify that a specific column is a foreign key, you use 'FOREIGN KEY (column_nameA) REFERENCES schema.parent_table_name (column_nameB)' \n",
    "    - When you specify a foreign key, you will get an error if you try to add a record with a value for the foreign key column that does not exist in the column that you linked it to\n",
    "    - Foreign key links also allow you to specify what you want to happen to rows in this table that link to a certain primary key in the parent table if that primary key is deleted or updated (to maintain data integrity across tables) \n",
    "    - **<span style=\"color:orange\">NOTE</span>** : Even though column_nameA and column_nameB should refer to columns with the same kinds of value, they do not have to be named the same thing"
   ]
  },
  {
   "cell_type": "markdown",
   "id": "f6fd17ec-28e8-4969-9383-e287e29df206",
   "metadata": {},
   "source": [
    "* **PRIMARY KEY** : see creating a composite primary key in the Primary Key section above"
   ]
  },
  {
   "cell_type": "markdown",
   "id": "629ed6c7-3303-4fff-8f39-7c9fde029aaf",
   "metadata": {},
   "source": [
    "* **UNIQUE** : allows you to specify that a combination of columns must be unique (similar to the idea of a composite key) with 'UNIQUE (column_nameA, column_nameB)'"
   ]
  },
  {
   "cell_type": "markdown",
   "id": "feffbc6f-aacc-4e6a-94b6-c68e0a436d04",
   "metadata": {},
   "source": [
    "* **CHECK** : allows you to specify a boolean expression that applies to more than one column (e.g. 'CHECK(column_nameA > column_nameB)')"
   ]
  },
  {
   "cell_type": "markdown",
   "id": "1de3a6ad-5e47-4dcc-a5eb-08fe049bd301",
   "metadata": {},
   "source": [
    "### Assigning Names to Constraints"
   ]
  },
  {
   "cell_type": "markdown",
   "id": "61aa38d5-53ea-4fd2-b0c2-3cd79dd38742",
   "metadata": {},
   "source": [
    "When a constraint is added to a column or table, it automatically gets assigned a 'constraint name'. This is what will be specified in the error message if someone tries to add a record that violates the constraint (e.g. *'Violation of UNIQUE KEY constraint 'UQ_table_name_AB234958BSDGW'. Cannot insert a duplicate key in object 'schema_name.table_name' The duplicate value is (duplicate_value)'*). If you want to specify a more helpful constraint name you always can by specifying 'CONSTRAINT constraint_name' right before any column or table constraint. This can make it easier to understand error messages and allow you to use that constraint name if you modify the constraint later"
   ]
  },
  {
   "cell_type": "code",
   "execution_count": null,
   "id": "986268e9-40e1-4a6f-a470-83528f8d5491",
   "metadata": {},
   "outputs": [],
   "source": [
    "CREATE TABLE database_name*.schema_name.table_name(\n",
    "    column_name1 data_type PRIMARY KEY column_constraint,\n",
    "    column_name2 data_type CONSTRAINT constraint_name column_constraint,\n",
    "    ...\n",
    "    column_nameN, data_type CONSTRAINT constraint_name column_constraint,\n",
    "    CONSTRAINT constraint_name table_constraint\n",
    ")"
   ]
  },
  {
   "cell_type": "markdown",
   "id": "160aef7b-2381-437d-b17e-f3ff0abc5569",
   "metadata": {},
   "source": [
    "# Creating A Table Based On Another Table"
   ]
  },
  {
   "cell_type": "markdown",
   "id": "7a4f86d0-def6-44bc-8837-6d43f1c825b8",
   "metadata": {},
   "source": [
    "### Syntax"
   ]
  },
  {
   "cell_type": "code",
   "execution_count": null,
   "id": "b4d474ba-891b-414a-90c1-cd9fe5045e1b",
   "metadata": {},
   "outputs": [],
   "source": [
    "SELECT \n",
    "    other_table_name.column_name(s) AS new_column_name(s)\n",
    "INTO\n",
    "    schema_name.new_table_name(s)\n",
    "FROM \n",
    "    other_table(s)\n",
    "WHERE \n",
    "    condition(s)"
   ]
  },
  {
   "cell_type": "markdown",
   "id": "6ecc1874-072f-4bb5-8647-6df156fc65ec",
   "metadata": {},
   "source": [
    "In the SELECT clause you can either specify column names that you want to move over, or use '\\*'."
   ]
  },
  {
   "cell_type": "markdown",
   "id": "a08f6add-177a-4095-847d-1215e6bd2571",
   "metadata": {},
   "source": [
    "If you want to change the name of the columns, use aliases ('AS')"
   ]
  },
  {
   "cell_type": "markdown",
   "id": "4fa4c06c-4215-4368-8b50-4a26aada75a4",
   "metadata": {},
   "source": [
    "**<span style=\"color:orange\">NOTE</span>** : When you create a table from another table it will be populated with the records from the existing table. To avoid this, use 'WHERE 1=2' in the WHERE clause of the SELECT statement:"
   ]
  },
  {
   "cell_type": "code",
   "execution_count": null,
   "id": "ca73ebf9-cdef-4714-888d-51db44fefec4",
   "metadata": {},
   "outputs": [],
   "source": [
    "SELECT \n",
    "    table_name.column_name(s)\n",
    "INTO\n",
    "    new_table_name(s)\n",
    "FROM \n",
    "    other_table_name(s)\n",
    "WHERE \n",
    "    1=2 # Will never evaluate to true, so no row will meet the filter requirement"
   ]
  },
  {
   "cell_type": "markdown",
   "id": "91857948-8405-4a31-a0fb-3a2810e07b50",
   "metadata": {},
   "source": [
    "# Adding Records to a Table"
   ]
  },
  {
   "cell_type": "markdown",
   "id": "b20927fc-c6b1-4616-92ad-fe1de721a3b0",
   "metadata": {},
   "source": [
    "### Syntax"
   ]
  },
  {
   "cell_type": "code",
   "execution_count": null,
   "id": "015e381c-69da-463f-89cb-9141ccefc6ca",
   "metadata": {},
   "outputs": [],
   "source": [
    "INSERT INTO schema_name.table_name (column_name1, column_name2, ...)\n",
    "VALUES (value1, value2, ...)\n",
    "\n",
    "or\n",
    "\n",
    "INSERT INTO schema_name.table_name \n",
    "VALUES (value1, value2, ...) # Must have values for all of the columns and they must be in the same order as the columns they refer to in the table"
   ]
  },
  {
   "cell_type": "markdown",
   "id": "38a0de62-cda2-4e6f-9c59-cd4bad3ede9b",
   "metadata": {},
   "source": [
    "**<span style=\"color:orange\">NOTE</span>** : you won't specify a value for a primary key field that is auto-generated"
   ]
  },
  {
   "cell_type": "markdown",
   "id": "d12eaa77-5f2d-459f-9ff8-24e7c6750bb4",
   "metadata": {},
   "source": [
    "# Editing an Existing Record"
   ]
  },
  {
   "cell_type": "markdown",
   "id": "fdaaa9ef-be81-42ed-82cc-aa13fb7f1887",
   "metadata": {},
   "source": [
    "### Syntax"
   ]
  },
  {
   "cell_type": "code",
   "execution_count": null,
   "id": "bedad418-97e6-4122-b5c6-42b601c1e8d9",
   "metadata": {},
   "outputs": [],
   "source": [
    "UPDATE schema_name.table_name\n",
    "SET column_name1 = value1,\n",
    "    column_name2 = value2,\n",
    "    ...\n",
    "WHERE\n",
    "    condition # specified which rows to update; if it contains a primary key expression, this statement only changes one row. Otherwise it could change multiple rows"
   ]
  },
  {
   "cell_type": "markdown",
   "id": "369efe27-ea88-4885-9682-cd93316a4b9f",
   "metadata": {},
   "source": [
    "**<span style=\"color:red\">Warning</span>** : if you leave out the WHERE clause, an UPDATE statement will modify all of the records/rows in a table"
   ]
  },
  {
   "cell_type": "markdown",
   "id": "23dc7bdb-e13b-4ebb-b9b0-fd430da73f72",
   "metadata": {},
   "source": [
    "# Deleting Records From a Table"
   ]
  },
  {
   "cell_type": "markdown",
   "id": "4581ae31-36be-4ce3-a3d4-1b9e70b8bdee",
   "metadata": {},
   "source": [
    "### Syntax"
   ]
  },
  {
   "cell_type": "code",
   "execution_count": null,
   "id": "82f0d3e4-e83d-408e-9079-8c0f96bc25cc",
   "metadata": {},
   "outputs": [],
   "source": [
    "DELETE FROM schema_name.table_name\n",
    "WHERE \n",
    "    condition # determines which rows to remove; if it contains a primary key expression this statement only changes one row. Otherwise it could change multiple rows"
   ]
  },
  {
   "cell_type": "markdown",
   "id": "0db2141c-3f6f-4e3b-a00b-de1549ab52ef",
   "metadata": {},
   "source": [
    "**<span style=\"color:red\">Warning</span>** : if you leave out the WHERE clause, a DELETE statement will delete all of the records/rows in a table"
   ]
  },
  {
   "cell_type": "markdown",
   "id": "f4750a9b-d895-4ef7-8f37-f4591df4188d",
   "metadata": {},
   "source": [
    "# Deleting a Table"
   ]
  },
  {
   "cell_type": "markdown",
   "id": "2bb9992c-8591-4f4e-b1b1-df57b836ff76",
   "metadata": {},
   "source": [
    "### Syntax"
   ]
  },
  {
   "cell_type": "code",
   "execution_count": null,
   "id": "b6417eed-c7dd-4071-8bad-880e3ed31e63",
   "metadata": {},
   "outputs": [],
   "source": [
    "DROP TABLE schema_name.table_name # deletes the whole table\n",
    "\n",
    "or\n",
    "\n",
    "TRUNCATE TABLE schema_name.table_name # deletes all of the data in a table (all of the records/rows) but not the table itself"
   ]
  },
  {
   "cell_type": "markdown",
   "id": "9161db6e-81d3-4b67-bc72-ccbf75bdc214",
   "metadata": {},
   "source": [
    "**<span style=\"color:orange\">NOTE</span>** : using TRUNCATE is faster than using DELETE without a WHERE clause to delete all of the records in a table"
   ]
  },
  {
   "cell_type": "markdown",
   "id": "be4f6068-fae3-4594-af1a-6f6e9b1852e5",
   "metadata": {},
   "source": [
    "# Temporary Tables"
   ]
  },
  {
   "cell_type": "markdown",
   "id": "97433ec1-779e-45f3-9e3e-823736886be8",
   "metadata": {},
   "source": [
    "Temporary tables exist temporarily on the server. They are useful for storing information that you are going to access multiple times (instead of re-querying for that set of data each time)."
   ]
  },
  {
   "cell_type": "markdown",
   "id": "b3eb9660-9d27-4890-a2aa-67f12769c256",
   "metadata": {},
   "source": [
    "### Syntax"
   ]
  },
  {
   "cell_type": "code",
   "execution_count": null,
   "id": "b360c323-5213-42e1-9c0a-b58095867a8b",
   "metadata": {},
   "outputs": [],
   "source": [
    "SELECT\n",
    "    column_name(s)\n",
    "INTO\n",
    "    #temporary_table_name\n",
    "FROM \n",
    "    existing_table_name\n",
    "WHERE\n",
    "    condition(s)\n",
    "    \n",
    "or\n",
    "\n",
    "CREATE TABLE #temporary_table_name (\n",
    "    column_name1 data_type PRIMARY KEY column_constraint,\n",
    "    column_name2 data_type column_constraint,\n",
    "    ...\n",
    "    column_nameN, data_type column_constraint,\n",
    "    table_constraints\n",
    ")"
   ]
  },
  {
   "cell_type": "markdown",
   "id": "af02c5a4-87f9-4f49-86a0-3398bb24e646",
   "metadata": {},
   "source": [
    "Once you have created a temporary table you can find it under **System Databases > tempdb > Temporary Tables**. You can then perform operations on this table like any other table (e.g. SELECT, INSERT INTO, etc.)"
   ]
  },
  {
   "cell_type": "markdown",
   "id": "b2f70cce-ba58-48c9-b69b-7e5b588edbe5",
   "metadata": {},
   "source": [
    "**<span style=\"color:orange\">NOTE</span>** : A temporary table can only be accessed from the connection that created it. So if you open up a new notebook or query window you won't be able to access the same temporary table and would have to create a new one. For this reason, a temporary table is deleted when you close the connection that created it"
   ]
  }
 ],
 "metadata": {
  "kernelspec": {
   "display_name": "Python 3 (ipykernel)",
   "language": "python",
   "name": "python3"
  },
  "language_info": {
   "codemirror_mode": {
    "name": "ipython",
    "version": 3
   },
   "file_extension": ".py",
   "mimetype": "text/x-python",
   "name": "python",
   "nbconvert_exporter": "python",
   "pygments_lexer": "ipython3",
   "version": "3.8.8"
  }
 },
 "nbformat": 4,
 "nbformat_minor": 5
}
