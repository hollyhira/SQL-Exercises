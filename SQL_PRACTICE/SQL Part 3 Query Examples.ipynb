{
    "metadata": {
        "kernelspec": {
            "name": "SQL",
            "display_name": "SQL",
            "language": "sql"
        },
        "language_info": {
            "name": "sql",
            "version": ""
        }
    },
    "nbformat_minor": 2,
    "nbformat": 4,
    "cells": [
        {
            "cell_type": "markdown",
            "source": [
                "**Inner Join**"
            ],
            "metadata": {
                "azdata_cell_guid": "2653e1b5-426d-48c2-ac5a-3980f65ee377"
            },
            "attachments": {}
        },
        {
            "cell_type": "code",
            "source": [
                "SELECT \r\n",
                "    TOP 30 b.title, b.average_rating, b.books_count, tr.user_id, tr.book_id\r\n",
                "FROM \r\n",
                "    BooksDB.dbo.books AS b --- aliases making out lives easier!\r\n",
                "INNER JOIN \r\n",
                "    BooksDB.dbo.to_read AS tr\r\n",
                "ON \r\n",
                "    b.book_id = tr.book_id"
            ],
            "metadata": {
                "azdata_cell_guid": "f9e43e05-18cf-44bd-b258-8c441ebe5c05",
                "language": "sql",
                "tags": []
            },
            "outputs": [
                {
                    "output_type": "display_data",
                    "data": {
                        "text/html": "(30 rows affected)"
                    },
                    "metadata": {}
                },
                {
                    "output_type": "display_data",
                    "data": {
                        "text/html": "Total execution time: 00:04:11.165"
                    },
                    "metadata": {}
                },
                {
                    "output_type": "execute_result",
                    "metadata": {},
                    "execution_count": 2,
                    "data": {
                        "application/vnd.dataresource+json": {
                            "schema": {
                                "fields": [
                                    {
                                        "name": "title"
                                    },
                                    {
                                        "name": "average_rating"
                                    },
                                    {
                                        "name": "books_count"
                                    },
                                    {
                                        "name": "user_id"
                                    },
                                    {
                                        "name": "book_id"
                                    }
                                ]
                            },
                            "data": [
                                {
                                    "0": "Children of Dune (Dune Chronicles #3)",
                                    "1": "3.9",
                                    "2": "116",
                                    "3": "1",
                                    "4": "112"
                                },
                                {
                                    "0": "The Hitchhiker's Guide to the Galaxy (Hitchhiker's Guide to the Galaxy, #1)",
                                    "1": "4.2",
                                    "2": "257",
                                    "3": "2",
                                    "4": "11"
                                },
                                {
                                    "0": "The Ultimate Hitchhiker's Guide to the Galaxy",
                                    "1": "4.37",
                                    "2": "32",
                                    "3": "2",
                                    "4": "13"
                                },
                                {
                                    "0": "The Pilgrimage",
                                    "1": "3.64",
                                    "2": "171",
                                    "3": "8",
                                    "4": "4004"
                                },
                                {
                                    "0": "Children of Dune (Dune Chronicles #3)",
                                    "1": "3.9",
                                    "2": "116",
                                    "3": "9",
                                    "4": "112"
                                },
                                {
                                    "0": "Atlas Shrugged",
                                    "1": "3.68",
                                    "2": "147",
                                    "3": "10",
                                    "4": "662"
                                },
                                {
                                    "0": "The Thorn Birds",
                                    "1": "4.22",
                                    "2": "201",
                                    "3": "26",
                                    "4": "3412"
                                },
                                {
                                    "0": "The Complete Sherlock Holmes, Vol 2",
                                    "1": "4.46",
                                    "2": "117",
                                    "3": "26",
                                    "4": "3586"
                                },
                                {
                                    "0": "The Lord of the Rings: Weapons and Warfare",
                                    "1": "4.53",
                                    "2": "12",
                                    "3": "29",
                                    "4": "36"
                                },
                                {
                                    "0": "Atlas Shrugged",
                                    "1": "3.68",
                                    "2": "147",
                                    "3": "29",
                                    "4": "662"
                                },
                                {
                                    "0": "The Elegant Universe: Superstrings, Hidden Dimensions, and the Quest for the Ultimate Theory",
                                    "1": "4.06",
                                    "2": "75",
                                    "3": "29",
                                    "4": "771"
                                },
                                {
                                    "0": "The Pilgrimage",
                                    "1": "3.64",
                                    "2": "171",
                                    "3": "30",
                                    "4": "4004"
                                },
                                {
                                    "0": "The Hobbit",
                                    "1": "4.25",
                                    "2": "969",
                                    "3": "30",
                                    "4": "5907"
                                },
                                {
                                    "0": "The Hitchhiker's Guide to the Galaxy (Hitchhiker's Guide to the Galaxy, #1)",
                                    "1": "4.2",
                                    "2": "257",
                                    "3": "32",
                                    "4": "11"
                                },
                                {
                                    "0": "The Richest Man in Babylon",
                                    "1": "4.23",
                                    "2": "187",
                                    "3": "33",
                                    "4": "1052"
                                },
                                {
                                    "0": "Inés of My Soul",
                                    "1": "3.9",
                                    "2": "89",
                                    "3": "33",
                                    "4": "3300"
                                },
                                {
                                    "0": "Lysistrata",
                                    "1": "3.84",
                                    "2": "222",
                                    "3": "34",
                                    "4": "1591"
                                },
                                {
                                    "0": "Heidi",
                                    "1": "3.97",
                                    "2": "771",
                                    "3": "39",
                                    "4": "93"
                                },
                                {
                                    "0": "Heretics of Dune (Dune Chronicles #5)",
                                    "1": "3.83",
                                    "2": "86",
                                    "3": "39",
                                    "4": "117"
                                },
                                {
                                    "0": "Libra",
                                    "1": "3.98",
                                    "2": "65",
                                    "3": "39",
                                    "4": "400"
                                },
                                {
                                    "0": "Hamlet",
                                    "1": "4",
                                    "2": "1929",
                                    "3": "39",
                                    "4": "1420"
                                },
                                {
                                    "0": "Chapterhouse: Dune (Dune Chronicles #6)",
                                    "1": "3.89",
                                    "2": "72",
                                    "3": "46",
                                    "4": "105"
                                },
                                {
                                    "0": "The Elegant Universe: Superstrings, Hidden Dimensions, and the Quest for the Ultimate Theory",
                                    "1": "4.06",
                                    "2": "75",
                                    "3": "46",
                                    "4": "771"
                                },
                                {
                                    "0": "Tunnels of Blood (Cirque Du Freak, #3)",
                                    "1": "4.14",
                                    "2": "66",
                                    "3": "47",
                                    "4": "8957"
                                },
                                {
                                    "0": "Cryptonomicon",
                                    "1": "4.25",
                                    "2": "3",
                                    "3": "51",
                                    "4": "816"
                                },
                                {
                                    "0": "One Fish, Two Fish, Red Fish, Blue Fish",
                                    "1": "4.12",
                                    "2": "49",
                                    "3": "54",
                                    "4": "7770"
                                },
                                {
                                    "0": "Memoirs of a Geisha",
                                    "1": "4.08",
                                    "2": "220",
                                    "3": "55",
                                    "4": "930"
                                },
                                {
                                    "0": "The Thorn Birds",
                                    "1": "4.22",
                                    "2": "201",
                                    "3": "60",
                                    "4": "3412"
                                },
                                {
                                    "0": "The Ultimate Hitchhiker's Guide to the Galaxy",
                                    "1": "4.37",
                                    "2": "32",
                                    "3": "61",
                                    "4": "13"
                                },
                                {
                                    "0": "The Lord of the Rings: Weapons and Warfare",
                                    "1": "4.53",
                                    "2": "12",
                                    "3": "61",
                                    "4": "36"
                                }
                            ]
                        },
                        "text/html": [
                            "<table>",
                            "<tr><th>title</th><th>average_rating</th><th>books_count</th><th>user_id</th><th>book_id</th></tr>",
                            "<tr><td>Children of Dune (Dune Chronicles #3)</td><td>3.9</td><td>116</td><td>1</td><td>112</td></tr>",
                            "<tr><td>The Hitchhiker's Guide to the Galaxy (Hitchhiker's Guide to the Galaxy, #1)</td><td>4.2</td><td>257</td><td>2</td><td>11</td></tr>",
                            "<tr><td>The Ultimate Hitchhiker's Guide to the Galaxy</td><td>4.37</td><td>32</td><td>2</td><td>13</td></tr>",
                            "<tr><td>The Pilgrimage</td><td>3.64</td><td>171</td><td>8</td><td>4004</td></tr>",
                            "<tr><td>Children of Dune (Dune Chronicles #3)</td><td>3.9</td><td>116</td><td>9</td><td>112</td></tr>",
                            "<tr><td>Atlas Shrugged</td><td>3.68</td><td>147</td><td>10</td><td>662</td></tr>",
                            "<tr><td>The Thorn Birds</td><td>4.22</td><td>201</td><td>26</td><td>3412</td></tr>",
                            "<tr><td>The Complete Sherlock Holmes, Vol 2</td><td>4.46</td><td>117</td><td>26</td><td>3586</td></tr>",
                            "<tr><td>The Lord of the Rings: Weapons and Warfare</td><td>4.53</td><td>12</td><td>29</td><td>36</td></tr>",
                            "<tr><td>Atlas Shrugged</td><td>3.68</td><td>147</td><td>29</td><td>662</td></tr>",
                            "<tr><td>The Elegant Universe: Superstrings, Hidden Dimensions, and the Quest for the Ultimate Theory</td><td>4.06</td><td>75</td><td>29</td><td>771</td></tr>",
                            "<tr><td>The Pilgrimage</td><td>3.64</td><td>171</td><td>30</td><td>4004</td></tr>",
                            "<tr><td>The Hobbit</td><td>4.25</td><td>969</td><td>30</td><td>5907</td></tr>",
                            "<tr><td>The Hitchhiker's Guide to the Galaxy (Hitchhiker's Guide to the Galaxy, #1)</td><td>4.2</td><td>257</td><td>32</td><td>11</td></tr>",
                            "<tr><td>The Richest Man in Babylon</td><td>4.23</td><td>187</td><td>33</td><td>1052</td></tr>",
                            "<tr><td>Inés of My Soul</td><td>3.9</td><td>89</td><td>33</td><td>3300</td></tr>",
                            "<tr><td>Lysistrata</td><td>3.84</td><td>222</td><td>34</td><td>1591</td></tr>",
                            "<tr><td>Heidi</td><td>3.97</td><td>771</td><td>39</td><td>93</td></tr>",
                            "<tr><td>Heretics of Dune (Dune Chronicles #5)</td><td>3.83</td><td>86</td><td>39</td><td>117</td></tr>",
                            "<tr><td>Libra</td><td>3.98</td><td>65</td><td>39</td><td>400</td></tr>",
                            "<tr><td>Hamlet</td><td>4</td><td>1929</td><td>39</td><td>1420</td></tr>",
                            "<tr><td>Chapterhouse: Dune (Dune Chronicles #6)</td><td>3.89</td><td>72</td><td>46</td><td>105</td></tr>",
                            "<tr><td>The Elegant Universe: Superstrings, Hidden Dimensions, and the Quest for the Ultimate Theory</td><td>4.06</td><td>75</td><td>46</td><td>771</td></tr>",
                            "<tr><td>Tunnels of Blood (Cirque Du Freak, #3)</td><td>4.14</td><td>66</td><td>47</td><td>8957</td></tr>",
                            "<tr><td>Cryptonomicon</td><td>4.25</td><td>3</td><td>51</td><td>816</td></tr>",
                            "<tr><td>One Fish, Two Fish, Red Fish, Blue Fish</td><td>4.12</td><td>49</td><td>54</td><td>7770</td></tr>",
                            "<tr><td>Memoirs of a Geisha</td><td>4.08</td><td>220</td><td>55</td><td>930</td></tr>",
                            "<tr><td>The Thorn Birds</td><td>4.22</td><td>201</td><td>60</td><td>3412</td></tr>",
                            "<tr><td>The Ultimate Hitchhiker's Guide to the Galaxy</td><td>4.37</td><td>32</td><td>61</td><td>13</td></tr>",
                            "<tr><td>The Lord of the Rings: Weapons and Warfare</td><td>4.53</td><td>12</td><td>61</td><td>36</td></tr>",
                            "</table>"
                        ]
                    }
                }
            ],
            "execution_count": 2
        },
        {
            "cell_type": "markdown",
            "source": [
                "**Full Join**"
            ],
            "metadata": {
                "language": "sql",
                "azdata_cell_guid": "0dbc29c7-3977-41aa-8d0a-9007bca6b407"
            },
            "attachments": {}
        },
        {
            "cell_type": "code",
            "source": [
                "SELECT \r\n",
                "    TOP 30 b.title, tr.user_id, tr.book_id\r\n",
                "FROM \r\n",
                "    BooksDB.dbo.books AS b\r\n",
                "FULL JOIN\r\n",
                "    BooksDB.dbo.to_read AS tr\r\n",
                "ON \r\n",
                "    b.book_id = tr.book_id"
            ],
            "metadata": {
                "language": "sql",
                "azdata_cell_guid": "f8dcb3e5-4cc2-486b-992b-204838e8ea55",
                "tags": [
                    "hide_input"
                ]
            },
            "outputs": [
                {
                    "output_type": "display_data",
                    "data": {
                        "text/html": "(30 rows affected)"
                    },
                    "metadata": {}
                },
                {
                    "output_type": "display_data",
                    "data": {
                        "text/html": "Total execution time: 00:04:10.085"
                    },
                    "metadata": {}
                },
                {
                    "output_type": "execute_result",
                    "metadata": {},
                    "execution_count": 5,
                    "data": {
                        "application/vnd.dataresource+json": {
                            "schema": {
                                "fields": [
                                    {
                                        "name": "title"
                                    },
                                    {
                                        "name": "user_id"
                                    },
                                    {
                                        "name": "book_id"
                                    }
                                ]
                            },
                            "data": [
                                {
                                    "0": "Children of Dune (Dune Chronicles #3)",
                                    "1": "1",
                                    "2": "112"
                                },
                                {
                                    "0": "NULL",
                                    "1": "1",
                                    "2": "533"
                                },
                                {
                                    "0": "NULL",
                                    "1": "1",
                                    "2": "1198"
                                },
                                {
                                    "0": "NULL",
                                    "1": "1",
                                    "2": "1874"
                                },
                                {
                                    "0": "NULL",
                                    "1": "1",
                                    "2": "2058"
                                },
                                {
                                    "0": "NULL",
                                    "1": "2",
                                    "2": "4"
                                },
                                {
                                    "0": "The Hitchhiker's Guide to the Galaxy (Hitchhiker's Guide to the Galaxy, #1)",
                                    "1": "2",
                                    "2": "11"
                                },
                                {
                                    "0": "The Ultimate Hitchhiker's Guide to the Galaxy",
                                    "1": "2",
                                    "2": "13"
                                },
                                {
                                    "0": "NULL",
                                    "1": "2",
                                    "2": "92"
                                },
                                {
                                    "0": "Dune Messiah (Dune Chronicles #2)",
                                    "1": "2",
                                    "2": "106"
                                },
                                {
                                    "0": "NULL",
                                    "1": "2",
                                    "2": "113"
                                },
                                {
                                    "0": "NULL",
                                    "1": "2",
                                    "2": "233"
                                },
                                {
                                    "0": "NULL",
                                    "1": "2",
                                    "2": "247"
                                },
                                {
                                    "0": "NULL",
                                    "1": "2",
                                    "2": "380"
                                },
                                {
                                    "0": "NULL",
                                    "1": "2",
                                    "2": "408"
                                },
                                {
                                    "0": "NULL",
                                    "1": "2",
                                    "2": "439"
                                },
                                {
                                    "0": "NULL",
                                    "1": "2",
                                    "2": "479"
                                },
                                {
                                    "0": "NULL",
                                    "1": "2",
                                    "2": "516"
                                },
                                {
                                    "0": "NULL",
                                    "1": "2",
                                    "2": "619"
                                },
                                {
                                    "0": "NULL",
                                    "1": "2",
                                    "2": "1384"
                                },
                                {
                                    "0": "NULL",
                                    "1": "2",
                                    "2": "1926"
                                },
                                {
                                    "0": "NULL",
                                    "1": "2",
                                    "2": "1967"
                                },
                                {
                                    "0": "NULL",
                                    "1": "2",
                                    "2": "1969"
                                },
                                {
                                    "0": "NULL",
                                    "1": "2",
                                    "2": "2220"
                                },
                                {
                                    "0": "NULL",
                                    "1": "2",
                                    "2": "3222"
                                },
                                {
                                    "0": "NULL",
                                    "1": "2",
                                    "2": "3733"
                                },
                                {
                                    "0": "NULL",
                                    "1": "2",
                                    "2": "5418"
                                },
                                {
                                    "0": "NULL",
                                    "1": "2",
                                    "2": "6937"
                                },
                                {
                                    "0": "NULL",
                                    "1": "2",
                                    "2": "7146"
                                },
                                {
                                    "0": "NULL",
                                    "1": "2",
                                    "2": "7873"
                                }
                            ]
                        },
                        "text/html": [
                            "<table>",
                            "<tr><th>title</th><th>user_id</th><th>book_id</th></tr>",
                            "<tr><td>Children of Dune (Dune Chronicles #3)</td><td>1</td><td>112</td></tr>",
                            "<tr><td>NULL</td><td>1</td><td>533</td></tr>",
                            "<tr><td>NULL</td><td>1</td><td>1198</td></tr>",
                            "<tr><td>NULL</td><td>1</td><td>1874</td></tr>",
                            "<tr><td>NULL</td><td>1</td><td>2058</td></tr>",
                            "<tr><td>NULL</td><td>2</td><td>4</td></tr>",
                            "<tr><td>The Hitchhiker's Guide to the Galaxy (Hitchhiker's Guide to the Galaxy, #1)</td><td>2</td><td>11</td></tr>",
                            "<tr><td>The Ultimate Hitchhiker's Guide to the Galaxy</td><td>2</td><td>13</td></tr>",
                            "<tr><td>NULL</td><td>2</td><td>92</td></tr>",
                            "<tr><td>Dune Messiah (Dune Chronicles #2)</td><td>2</td><td>106</td></tr>",
                            "<tr><td>NULL</td><td>2</td><td>113</td></tr>",
                            "<tr><td>NULL</td><td>2</td><td>233</td></tr>",
                            "<tr><td>NULL</td><td>2</td><td>247</td></tr>",
                            "<tr><td>NULL</td><td>2</td><td>380</td></tr>",
                            "<tr><td>NULL</td><td>2</td><td>408</td></tr>",
                            "<tr><td>NULL</td><td>2</td><td>439</td></tr>",
                            "<tr><td>NULL</td><td>2</td><td>479</td></tr>",
                            "<tr><td>NULL</td><td>2</td><td>516</td></tr>",
                            "<tr><td>NULL</td><td>2</td><td>619</td></tr>",
                            "<tr><td>NULL</td><td>2</td><td>1384</td></tr>",
                            "<tr><td>NULL</td><td>2</td><td>1926</td></tr>",
                            "<tr><td>NULL</td><td>2</td><td>1967</td></tr>",
                            "<tr><td>NULL</td><td>2</td><td>1969</td></tr>",
                            "<tr><td>NULL</td><td>2</td><td>2220</td></tr>",
                            "<tr><td>NULL</td><td>2</td><td>3222</td></tr>",
                            "<tr><td>NULL</td><td>2</td><td>3733</td></tr>",
                            "<tr><td>NULL</td><td>2</td><td>5418</td></tr>",
                            "<tr><td>NULL</td><td>2</td><td>6937</td></tr>",
                            "<tr><td>NULL</td><td>2</td><td>7146</td></tr>",
                            "<tr><td>NULL</td><td>2</td><td>7873</td></tr>",
                            "</table>"
                        ]
                    }
                }
            ],
            "execution_count": 5
        },
        {
            "cell_type": "code",
            "source": [
                "SELECT \r\n",
                "    TOP 30 b.title, tr.user_id, tr.book_id\r\n",
                "FROM \r\n",
                "    BooksDB.dbo.books AS b\r\n",
                "FULL JOIN\r\n",
                "    BooksDB.dbo.to_read AS tr\r\n",
                "ON \r\n",
                "    b.book_id = tr.book_id\r\n",
                "WHERE \r\n",
                "    tr.user_id IS NULL"
            ],
            "metadata": {
                "language": "sql",
                "azdata_cell_guid": "362a765a-0b60-4f12-af02-219b873c9bd2",
                "tags": [
                    "hide_input"
                ]
            },
            "outputs": [
                {
                    "output_type": "display_data",
                    "data": {
                        "text/html": "(30 rows affected)"
                    },
                    "metadata": {}
                },
                {
                    "output_type": "display_data",
                    "data": {
                        "text/html": "Total execution time: 00:04:11.479"
                    },
                    "metadata": {}
                },
                {
                    "output_type": "execute_result",
                    "metadata": {},
                    "execution_count": 6,
                    "data": {
                        "application/vnd.dataresource+json": {
                            "schema": {
                                "fields": [
                                    {
                                        "name": "title"
                                    },
                                    {
                                        "name": "user_id"
                                    },
                                    {
                                        "name": "book_id"
                                    }
                                ]
                            },
                            "data": [
                                {
                                    "0": "The Last Wish (The Witcher, #1)",
                                    "1": "NULL",
                                    "2": "NULL"
                                },
                                {
                                    "0": "Five Weeks in a Balloon (Extraordinary Voyages, #1)",
                                    "1": "NULL",
                                    "2": "NULL"
                                },
                                {
                                    "0": "美少女戦士セーラームーン新装版 1 [Bishōjo Senshi Sailor Moon Shinsōban 1]",
                                    "1": "NULL",
                                    "2": "NULL"
                                },
                                {
                                    "0": "Spark Joy: An Illustrated Master Class on the Art of Organizing and Tidying Up",
                                    "1": "NULL",
                                    "2": "NULL"
                                },
                                {
                                    "0": "Orange Is the New Black",
                                    "1": "NULL",
                                    "2": "NULL"
                                },
                                {
                                    "0": "Braveheart",
                                    "1": "NULL",
                                    "2": "NULL"
                                },
                                {
                                    "0": "Lover Enshrined (Black Dagger Brotherhood, #6)",
                                    "1": "NULL",
                                    "2": "NULL"
                                },
                                {
                                    "0": "Seduction and Snacks (Chocolate Lovers, #1)",
                                    "1": "NULL",
                                    "2": "NULL"
                                },
                                {
                                    "0": "The Other Typist",
                                    "1": "NULL",
                                    "2": "NULL"
                                },
                                {
                                    "0": "Reliquary (Pendergast, #2)",
                                    "1": "NULL",
                                    "2": "NULL"
                                },
                                {
                                    "0": "Close Your Eyes, Hold Hands",
                                    "1": "NULL",
                                    "2": "NULL"
                                },
                                {
                                    "0": "Burned (House of Night, #7)",
                                    "1": "NULL",
                                    "2": "NULL"
                                },
                                {
                                    "0": "Track of the Cat (Anna Pigeon, #1)",
                                    "1": "NULL",
                                    "2": "NULL"
                                },
                                {
                                    "0": "The Saggy Baggy Elephant (A Little Golden Book)",
                                    "1": "NULL",
                                    "2": "NULL"
                                },
                                {
                                    "0": "The Age of Miracles",
                                    "1": "NULL",
                                    "2": "NULL"
                                },
                                {
                                    "0": "A Streetcar Named Desire",
                                    "1": "NULL",
                                    "2": "NULL"
                                },
                                {
                                    "0": "Mutant Message Down Under",
                                    "1": "NULL",
                                    "2": "NULL"
                                },
                                {
                                    "0": "For You (The 'Burg, #1)",
                                    "1": "NULL",
                                    "2": "NULL"
                                },
                                {
                                    "0": "Lover Revealed (Black Dagger Brotherhood, #4)",
                                    "1": "NULL",
                                    "2": "NULL"
                                },
                                {
                                    "0": "Passion and Purity: Learning to Bring Your Love Life Under Christ's Control",
                                    "1": "NULL",
                                    "2": "NULL"
                                },
                                {
                                    "0": "The Serpent of Venice (The Fool, #2)",
                                    "1": "NULL",
                                    "2": "NULL"
                                },
                                {
                                    "0": "Pinkalicious",
                                    "1": "NULL",
                                    "2": "NULL"
                                },
                                {
                                    "0": "The Uncommon Reader",
                                    "1": "NULL",
                                    "2": "NULL"
                                },
                                {
                                    "0": "Shakespeare: The World as Stage",
                                    "1": "NULL",
                                    "2": "NULL"
                                },
                                {
                                    "0": "Rock Chick Revenge (Rock Chick, #5)",
                                    "1": "NULL",
                                    "2": "NULL"
                                },
                                {
                                    "0": "The Martian",
                                    "1": "NULL",
                                    "2": "NULL"
                                },
                                {
                                    "0": "The Circle",
                                    "1": "NULL",
                                    "2": "NULL"
                                },
                                {
                                    "0": "The Prestige",
                                    "1": "NULL",
                                    "2": "NULL"
                                },
                                {
                                    "0": "My Ántonia",
                                    "1": "NULL",
                                    "2": "NULL"
                                },
                                {
                                    "0": "El túnel",
                                    "1": "NULL",
                                    "2": "NULL"
                                }
                            ]
                        },
                        "text/html": [
                            "<table>",
                            "<tr><th>title</th><th>user_id</th><th>book_id</th></tr>",
                            "<tr><td>The Last Wish (The Witcher, #1)</td><td>NULL</td><td>NULL</td></tr>",
                            "<tr><td>Five Weeks in a Balloon (Extraordinary Voyages, #1)</td><td>NULL</td><td>NULL</td></tr>",
                            "<tr><td>美少女戦士セーラームーン新装版 1 [Bishōjo Senshi Sailor Moon Shinsōban 1]</td><td>NULL</td><td>NULL</td></tr>",
                            "<tr><td>Spark Joy: An Illustrated Master Class on the Art of Organizing and Tidying Up</td><td>NULL</td><td>NULL</td></tr>",
                            "<tr><td>Orange Is the New Black</td><td>NULL</td><td>NULL</td></tr>",
                            "<tr><td>Braveheart</td><td>NULL</td><td>NULL</td></tr>",
                            "<tr><td>Lover Enshrined (Black Dagger Brotherhood, #6)</td><td>NULL</td><td>NULL</td></tr>",
                            "<tr><td>Seduction and Snacks (Chocolate Lovers, #1)</td><td>NULL</td><td>NULL</td></tr>",
                            "<tr><td>The Other Typist</td><td>NULL</td><td>NULL</td></tr>",
                            "<tr><td>Reliquary (Pendergast, #2)</td><td>NULL</td><td>NULL</td></tr>",
                            "<tr><td>Close Your Eyes, Hold Hands</td><td>NULL</td><td>NULL</td></tr>",
                            "<tr><td>Burned (House of Night, #7)</td><td>NULL</td><td>NULL</td></tr>",
                            "<tr><td>Track of the Cat (Anna Pigeon, #1)</td><td>NULL</td><td>NULL</td></tr>",
                            "<tr><td>The Saggy Baggy Elephant (A Little Golden Book)</td><td>NULL</td><td>NULL</td></tr>",
                            "<tr><td>The Age of Miracles</td><td>NULL</td><td>NULL</td></tr>",
                            "<tr><td>A Streetcar Named Desire</td><td>NULL</td><td>NULL</td></tr>",
                            "<tr><td>Mutant Message Down Under</td><td>NULL</td><td>NULL</td></tr>",
                            "<tr><td>For You (The 'Burg, #1)</td><td>NULL</td><td>NULL</td></tr>",
                            "<tr><td>Lover Revealed (Black Dagger Brotherhood, #4)</td><td>NULL</td><td>NULL</td></tr>",
                            "<tr><td>Passion and Purity: Learning to Bring Your Love Life Under Christ's Control</td><td>NULL</td><td>NULL</td></tr>",
                            "<tr><td>The Serpent of Venice (The Fool, #2)</td><td>NULL</td><td>NULL</td></tr>",
                            "<tr><td>Pinkalicious</td><td>NULL</td><td>NULL</td></tr>",
                            "<tr><td>The Uncommon Reader</td><td>NULL</td><td>NULL</td></tr>",
                            "<tr><td>Shakespeare: The World as Stage</td><td>NULL</td><td>NULL</td></tr>",
                            "<tr><td>Rock Chick Revenge (Rock Chick, #5)</td><td>NULL</td><td>NULL</td></tr>",
                            "<tr><td>The Martian</td><td>NULL</td><td>NULL</td></tr>",
                            "<tr><td>The Circle</td><td>NULL</td><td>NULL</td></tr>",
                            "<tr><td>The Prestige</td><td>NULL</td><td>NULL</td></tr>",
                            "<tr><td>My Ántonia</td><td>NULL</td><td>NULL</td></tr>",
                            "<tr><td>El túnel</td><td>NULL</td><td>NULL</td></tr>",
                            "</table>"
                        ]
                    }
                }
            ],
            "execution_count": 6
        },
        {
            "cell_type": "markdown",
            "source": [
                "**Left Join**"
            ],
            "metadata": {
                "language": "sql",
                "azdata_cell_guid": "f6223d2c-115c-4a4c-8a85-5c0128ec3e2f"
            },
            "attachments": {}
        },
        {
            "cell_type": "code",
            "source": [
                "SELECT \r\n",
                "    TOP 10 b.title, b.average_rating, tr.user_id, tr.book_id\r\n",
                "FROM \r\n",
                "    BooksDB.dbo.books AS b\r\n",
                "LEFT JOIN \r\n",
                "    BooksDB.dbo.to_read AS tr\r\n",
                "ON \r\n",
                "    b.best_book_id = tr.book_id\r\n",
                "ORDER BY \r\n",
                "    b.average_rating"
            ],
            "metadata": {
                "language": "sql",
                "azdata_cell_guid": "f8b11564-e1ad-4270-97b7-8921e857b89f",
                "tags": [
                    "hide_input"
                ]
            },
            "outputs": [
                {
                    "output_type": "display_data",
                    "data": {
                        "text/html": "(10 rows affected)"
                    },
                    "metadata": {}
                },
                {
                    "output_type": "display_data",
                    "data": {
                        "text/html": "Total execution time: 00:02:32.112"
                    },
                    "metadata": {}
                },
                {
                    "output_type": "execute_result",
                    "metadata": {},
                    "execution_count": 7,
                    "data": {
                        "application/vnd.dataresource+json": {
                            "schema": {
                                "fields": [
                                    {
                                        "name": "title"
                                    },
                                    {
                                        "name": "average_rating"
                                    },
                                    {
                                        "name": "user_id"
                                    },
                                    {
                                        "name": "book_id"
                                    }
                                ]
                            },
                            "data": [
                                {
                                    "0": "One Night at the Call Center",
                                    "1": "2.47",
                                    "2": "NULL",
                                    "3": "NULL"
                                },
                                {
                                    "0": "The Almost Moon",
                                    "1": "2.67",
                                    "2": "NULL",
                                    "3": "NULL"
                                },
                                {
                                    "0": "The Finkler Question",
                                    "1": "2.76",
                                    "2": "NULL",
                                    "3": "NULL"
                                },
                                {
                                    "0": "Four Blondes",
                                    "1": "2.8",
                                    "2": "449",
                                    "3": "6613"
                                },
                                {
                                    "0": "Four Blondes",
                                    "1": "2.8",
                                    "2": "1378",
                                    "3": "6613"
                                },
                                {
                                    "0": "Four Blondes",
                                    "1": "2.8",
                                    "2": "6465",
                                    "3": "6613"
                                },
                                {
                                    "0": "Four Blondes",
                                    "1": "2.8",
                                    "2": "6700",
                                    "3": "6613"
                                },
                                {
                                    "0": "Four Blondes",
                                    "1": "2.8",
                                    "2": "7830",
                                    "3": "6613"
                                },
                                {
                                    "0": "Four Blondes",
                                    "1": "2.8",
                                    "2": "10085",
                                    "3": "6613"
                                },
                                {
                                    "0": "Four Blondes",
                                    "1": "2.8",
                                    "2": "16298",
                                    "3": "6613"
                                }
                            ]
                        },
                        "text/html": [
                            "<table>",
                            "<tr><th>title</th><th>average_rating</th><th>user_id</th><th>book_id</th></tr>",
                            "<tr><td>One Night at the Call Center</td><td>2.47</td><td>NULL</td><td>NULL</td></tr>",
                            "<tr><td>The Almost Moon</td><td>2.67</td><td>NULL</td><td>NULL</td></tr>",
                            "<tr><td>The Finkler Question</td><td>2.76</td><td>NULL</td><td>NULL</td></tr>",
                            "<tr><td>Four Blondes</td><td>2.8</td><td>449</td><td>6613</td></tr>",
                            "<tr><td>Four Blondes</td><td>2.8</td><td>1378</td><td>6613</td></tr>",
                            "<tr><td>Four Blondes</td><td>2.8</td><td>6465</td><td>6613</td></tr>",
                            "<tr><td>Four Blondes</td><td>2.8</td><td>6700</td><td>6613</td></tr>",
                            "<tr><td>Four Blondes</td><td>2.8</td><td>7830</td><td>6613</td></tr>",
                            "<tr><td>Four Blondes</td><td>2.8</td><td>10085</td><td>6613</td></tr>",
                            "<tr><td>Four Blondes</td><td>2.8</td><td>16298</td><td>6613</td></tr>",
                            "</table>"
                        ]
                    }
                }
            ],
            "execution_count": 7
        },
        {
            "cell_type": "markdown",
            "source": [
                "**Joining Multiple Tables**"
            ],
            "metadata": {
                "language": "sql",
                "azdata_cell_guid": "f8eacb57-6e45-4504-8642-b4741b2e5c15"
            },
            "attachments": {}
        },
        {
            "cell_type": "code",
            "source": [
                "SELECT \r\n",
                "    TOP 10 b.title, t.tag_name\r\n",
                "FROM \r\n",
                "    BooksDB.dbo.books AS b \r\n",
                "INNER JOIN \r\n",
                "    BooksDB.dbo.book_tags AS bt\r\n",
                "ON \r\n",
                "    b.book_id = bt.goodreads_book_id\r\n",
                "INNER JOIN \r\n",
                "    BooksDB.dbo.tags AS t \r\n",
                "ON \r\n",
                "    bt.tag_id = t.tag_id"
            ],
            "metadata": {
                "language": "sql",
                "azdata_cell_guid": "912700e7-b18a-4154-81dc-3fc158fe9aba",
                "tags": [
                    "hide_input"
                ]
            },
            "outputs": [
                {
                    "output_type": "display_data",
                    "data": {
                        "text/html": "(10 rows affected)"
                    },
                    "metadata": {}
                },
                {
                    "output_type": "display_data",
                    "data": {
                        "text/html": "Total execution time: 00:00:03.068"
                    },
                    "metadata": {}
                },
                {
                    "output_type": "execute_result",
                    "metadata": {},
                    "execution_count": 15,
                    "data": {
                        "application/vnd.dataresource+json": {
                            "schema": {
                                "fields": [
                                    {
                                        "name": "title"
                                    },
                                    {
                                        "name": "tag_name"
                                    }
                                ]
                            },
                            "data": [
                                {
                                    "0": "The Hunger Games (The Hunger Games, #1)",
                                    "1": "favorites"
                                },
                                {
                                    "0": "The Hunger Games (The Hunger Games, #1)",
                                    "1": "currently-reading"
                                },
                                {
                                    "0": "The Hunger Games (The Hunger Games, #1)",
                                    "1": "young-adult"
                                },
                                {
                                    "0": "The Hunger Games (The Hunger Games, #1)",
                                    "1": "fiction"
                                },
                                {
                                    "0": "The Hunger Games (The Hunger Games, #1)",
                                    "1": "dystopian"
                                },
                                {
                                    "0": "The Hunger Games (The Hunger Games, #1)",
                                    "1": "to-read"
                                },
                                {
                                    "0": "The Hunger Games (The Hunger Games, #1)",
                                    "1": "dystopia"
                                },
                                {
                                    "0": "The Hunger Games (The Hunger Games, #1)",
                                    "1": "fantasy"
                                },
                                {
                                    "0": "The Hunger Games (The Hunger Games, #1)",
                                    "1": "ya"
                                },
                                {
                                    "0": "The Hunger Games (The Hunger Games, #1)",
                                    "1": "science-fiction"
                                }
                            ]
                        },
                        "text/html": [
                            "<table>",
                            "<tr><th>title</th><th>tag_name</th></tr>",
                            "<tr><td>The Hunger Games (The Hunger Games, #1)</td><td>favorites</td></tr>",
                            "<tr><td>The Hunger Games (The Hunger Games, #1)</td><td>currently-reading</td></tr>",
                            "<tr><td>The Hunger Games (The Hunger Games, #1)</td><td>young-adult</td></tr>",
                            "<tr><td>The Hunger Games (The Hunger Games, #1)</td><td>fiction</td></tr>",
                            "<tr><td>The Hunger Games (The Hunger Games, #1)</td><td>dystopian</td></tr>",
                            "<tr><td>The Hunger Games (The Hunger Games, #1)</td><td>to-read</td></tr>",
                            "<tr><td>The Hunger Games (The Hunger Games, #1)</td><td>dystopia</td></tr>",
                            "<tr><td>The Hunger Games (The Hunger Games, #1)</td><td>fantasy</td></tr>",
                            "<tr><td>The Hunger Games (The Hunger Games, #1)</td><td>ya</td></tr>",
                            "<tr><td>The Hunger Games (The Hunger Games, #1)</td><td>science-fiction</td></tr>",
                            "</table>"
                        ]
                    }
                }
            ],
            "execution_count": 15
        },
        {
            "cell_type": "markdown",
            "source": [
                "**HAVING vs. WHERE**"
            ],
            "metadata": {
                "language": "sql",
                "azdata_cell_guid": "61439154-23bc-478c-b205-383f51275606"
            },
            "attachments": {}
        },
        {
            "cell_type": "code",
            "source": [
                "SELECT \r\n",
                "    original_publication_year, \r\n",
                "    COUNT(*) AS num_books_published\r\n",
                "FROM \r\n",
                "    BooksDB.dbo.books\r\n",
                "WHERE \r\n",
                "    original_publication_year > 2010\r\n",
                "GROUP BY \r\n",
                "    original_publication_year\r\n",
                "ORDER BY   \r\n",
                "    original_publication_year DESC"
            ],
            "metadata": {
                "language": "sql",
                "azdata_cell_guid": "39fd4dff-b5d5-45e6-abea-0545b9af8a9a",
                "tags": [
                    "hide_input"
                ]
            },
            "outputs": [
                {
                    "output_type": "display_data",
                    "data": {
                        "text/html": "(7 rows affected)"
                    },
                    "metadata": {}
                },
                {
                    "output_type": "display_data",
                    "data": {
                        "text/html": "Total execution time: 00:00:00.060"
                    },
                    "metadata": {}
                },
                {
                    "output_type": "execute_result",
                    "metadata": {},
                    "execution_count": 30,
                    "data": {
                        "application/vnd.dataresource+json": {
                            "schema": {
                                "fields": [
                                    {
                                        "name": "original_publication_year"
                                    },
                                    {
                                        "name": "num_books_published"
                                    }
                                ]
                            },
                            "data": [
                                {
                                    "0": "2017",
                                    "1": "11"
                                },
                                {
                                    "0": "2016",
                                    "1": "198"
                                },
                                {
                                    "0": "2015",
                                    "1": "306"
                                },
                                {
                                    "0": "2014",
                                    "1": "437"
                                },
                                {
                                    "0": "2013",
                                    "1": "518"
                                },
                                {
                                    "0": "2012",
                                    "1": "568"
                                },
                                {
                                    "0": "2011",
                                    "1": "556"
                                }
                            ]
                        },
                        "text/html": [
                            "<table>",
                            "<tr><th>original_publication_year</th><th>num_books_published</th></tr>",
                            "<tr><td>2017</td><td>11</td></tr>",
                            "<tr><td>2016</td><td>198</td></tr>",
                            "<tr><td>2015</td><td>306</td></tr>",
                            "<tr><td>2014</td><td>437</td></tr>",
                            "<tr><td>2013</td><td>518</td></tr>",
                            "<tr><td>2012</td><td>568</td></tr>",
                            "<tr><td>2011</td><td>556</td></tr>",
                            "</table>"
                        ]
                    }
                }
            ],
            "execution_count": 30
        },
        {
            "cell_type": "code",
            "source": [
                "SELECT \r\n",
                "    original_publication_year, \r\n",
                "    COUNT(*) AS num_books_published\r\n",
                "FROM \r\n",
                "    BooksDB.dbo.books\r\n",
                "GROUP BY \r\n",
                "    original_publication_year\r\n",
                "HAVING\r\n",
                "    COUNT(*) BETWEEN 400 AND 450\r\n",
                "ORDER BY   \r\n",
                "    original_publication_year DESC\r\n",
                ""
            ],
            "metadata": {
                "language": "sql",
                "azdata_cell_guid": "d164ec31-cdbd-4d4f-90d9-a7772e0ca0b3",
                "tags": [
                    "hide_input"
                ]
            },
            "outputs": [
                {
                    "output_type": "display_data",
                    "data": {
                        "text/html": "(2 rows affected)"
                    },
                    "metadata": {}
                },
                {
                    "output_type": "display_data",
                    "data": {
                        "text/html": "Total execution time: 00:00:00.059"
                    },
                    "metadata": {}
                },
                {
                    "output_type": "execute_result",
                    "metadata": {},
                    "execution_count": 28,
                    "data": {
                        "application/vnd.dataresource+json": {
                            "schema": {
                                "fields": [
                                    {
                                        "name": "original_publication_year"
                                    },
                                    {
                                        "name": "num_books_published"
                                    }
                                ]
                            },
                            "data": [
                                {
                                    "0": "2014",
                                    "1": "437"
                                },
                                {
                                    "0": "2009",
                                    "1": "432"
                                }
                            ]
                        },
                        "text/html": [
                            "<table>",
                            "<tr><th>original_publication_year</th><th>num_books_published</th></tr>",
                            "<tr><td>2014</td><td>437</td></tr>",
                            "<tr><td>2009</td><td>432</td></tr>",
                            "</table>"
                        ]
                    }
                }
            ],
            "execution_count": 28
        }
    ]
}