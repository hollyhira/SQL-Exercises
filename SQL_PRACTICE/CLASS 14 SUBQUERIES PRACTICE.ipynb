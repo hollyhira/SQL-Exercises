{
    "metadata": {
        "kernelspec": {
            "name": "SQL",
            "display_name": "SQL",
            "language": "sql"
        },
        "language_info": {
            "name": "sql",
            "version": ""
        }
    },
    "nbformat_minor": 2,
    "nbformat": 4,
    "cells": [
        {
            "cell_type": "markdown",
            "source": [
                "## The following is an example showing both a subquery SELECT & JOIN SELECT that return the same result set and execution plan"
            ],
            "metadata": {
                "language": "sql",
                "azdata_cell_guid": "10dd19d7-4eb9-4c59-a41e-fee60b6082aa"
            },
            "attachments": {}
        },
        {
            "cell_type": "code",
            "source": [
                "-- USE AdventureWorks2019;\r\n",
                "-- GO\r\n",
                "\r\n",
                "-- /* SELECT statement built using a subquery. */\r\n",
                "-- SELECT [Name]\r\n",
                "-- FROM Production.Product\r\n",
                "-- WHERE ListPrice =\r\n",
                "--     (SELECT ListPrice\r\n",
                "--      FROM Production.Product\r\n",
                "--      WHERE [Name] = 'Chainring Bolts' );\r\n",
                "-- GO\r\n",
                "\r\n",
                "-- /* SELECT statement built using a join that returns\r\n",
                "--    the same result set. */\r\n",
                "-- SELECT Prd1.[Name]\r\n",
                "-- FROM Production.Product AS Prd1\r\n",
                "--      JOIN Production.Product AS Prd2\r\n",
                "--        ON (Prd1.ListPrice = Prd2.ListPrice)\r\n",
                "-- WHERE Prd2.[Name] = 'Chainring Bolts';\r\n",
                "-- GO"
            ],
            "metadata": {
                "language": "sql",
                "azdata_cell_guid": "2ea7fcf0-643a-4381-bf7f-03d783385732"
            },
            "outputs": [
                {
                    "output_type": "display_data",
                    "data": {
                        "text/html": "Commands completed successfully."
                    },
                    "metadata": {}
                },
                {
                    "output_type": "display_data",
                    "data": {
                        "text/html": "Total execution time: 00:00:00.063"
                    },
                    "metadata": {}
                }
            ],
            "execution_count": 6
        },
        {
            "cell_type": "markdown",
            "source": [
                "In the following example, the BusinessEntityID column in the WHERE clause of the outer query is\n",
                "\n",
                "implicitly qualified by the table name in the outer query FROM clause (Sales.Store). The reference\n",
                "\n",
                "to CustomerID in the select list of the subquery is qualified by the subquery FROM clause, that is, by\n",
                "\n",
                "the Sales.Customer table."
            ],
            "metadata": {
                "language": "sql",
                "azdata_cell_guid": "7d3b4409-3281-4021-be82-a6fe41a45241"
            },
            "attachments": {}
        },
        {
            "cell_type": "code",
            "source": [
                "-- USE AdventureWorks2019;\r\n",
                "-- GO\r\n",
                "-- SELECT [Name]\r\n",
                "-- FROM Sales.Store\r\n",
                "-- WHERE BusinessEntityID NOT IN\r\n",
                "-- (SELECT CustomerID\r\n",
                "-- FROM Sales.Customer\r\n",
                "-- WHERE TerritoryID = 5);\r\n",
                "-- GO"
            ],
            "metadata": {
                "language": "sql",
                "azdata_cell_guid": "2695f6bb-cc37-4e27-a6b3-60b95dae5be0"
            },
            "outputs": [
                {
                    "output_type": "display_data",
                    "data": {
                        "text/html": "Commands completed successfully."
                    },
                    "metadata": {}
                },
                {
                    "output_type": "display_data",
                    "data": {
                        "text/html": "Total execution time: 00:00:00.063"
                    },
                    "metadata": {}
                }
            ],
            "execution_count": 5
        },
        {
            "cell_type": "markdown",
            "source": [
                "# Multiple levels of nesting:\r\n",
                "\r\n",
                "**The following query finds the names of employees who are also sales persons.**\r\n",
                "\r\n",
                "- The innermost query returns the sales person IDs. \r\n",
                "\r\n",
                "- The query at the next higher level is evaluated with these sales person IDs and returns the contact ID numbers of the employees. \r\n",
                "\r\n",
                "- Finally, the outer query uses the contact IDs to find the names of the employees."
            ],
            "metadata": {
                "language": "sql",
                "azdata_cell_guid": "a72c09be-d05a-4ad9-b114-f25373ef40d9"
            },
            "attachments": {}
        },
        {
            "cell_type": "code",
            "source": [
                "USE AdventureWorks2019;\r\n",
                "GO\r\n",
                "SELECT LastName, FirstName\r\n",
                "FROM Person.Person\r\n",
                "WHERE BusinessEntityID IN\r\n",
                "(SELECT BusinessEntityID\r\n",
                "FROM HumanResources.Employee\r\n",
                "WHERE BusinessEntityID IN\r\n",
                "(SELECT BusinessEntityID\r\n",
                "FROM Sales.SalesPerson)\r\n",
                ");"
            ],
            "metadata": {
                "language": "sql",
                "azdata_cell_guid": "dfa3940c-d484-48a6-8b38-ac90748a466b"
            },
            "outputs": [
                {
                    "output_type": "display_data",
                    "data": {
                        "text/html": "Commands completed successfully."
                    },
                    "metadata": {}
                },
                {
                    "output_type": "display_data",
                    "data": {
                        "text/html": "(17 rows affected)"
                    },
                    "metadata": {}
                },
                {
                    "output_type": "display_data",
                    "data": {
                        "text/html": "Total execution time: 00:00:00.264"
                    },
                    "metadata": {}
                },
                {
                    "output_type": "execute_result",
                    "metadata": {},
                    "execution_count": 7,
                    "data": {
                        "application/vnd.dataresource+json": {
                            "schema": {
                                "fields": [
                                    {
                                        "name": "LastName"
                                    },
                                    {
                                        "name": "FirstName"
                                    }
                                ]
                            },
                            "data": [
                                {
                                    "0": "Jiang",
                                    "1": "Stephen"
                                },
                                {
                                    "0": "Blythe",
                                    "1": "Michael"
                                },
                                {
                                    "0": "Mitchell",
                                    "1": "Linda"
                                },
                                {
                                    "0": "Carson",
                                    "1": "Jillian"
                                },
                                {
                                    "0": "Vargas",
                                    "1": "Garrett"
                                },
                                {
                                    "0": "Reiter",
                                    "1": "Tsvi"
                                },
                                {
                                    "0": "Ansman-Wolfe",
                                    "1": "Pamela"
                                },
                                {
                                    "0": "Ito",
                                    "1": "Shu"
                                },
                                {
                                    "0": "Saraiva",
                                    "1": "José"
                                },
                                {
                                    "0": "Campbell",
                                    "1": "David"
                                },
                                {
                                    "0": "Mensa-Annan",
                                    "1": "Tete"
                                },
                                {
                                    "0": "Abbas",
                                    "1": "Syed"
                                },
                                {
                                    "0": "Tsoflias",
                                    "1": "Lynn"
                                },
                                {
                                    "0": "Alberts",
                                    "1": "Amy"
                                },
                                {
                                    "0": "Valdez",
                                    "1": "Rachel"
                                },
                                {
                                    "0": "Pak",
                                    "1": "Jae"
                                },
                                {
                                    "0": "Varkey Chudukatil",
                                    "1": "Ranjit"
                                }
                            ]
                        },
                        "text/html": [
                            "<table>",
                            "<tr><th>LastName</th><th>FirstName</th></tr>",
                            "<tr><td>Jiang</td><td>Stephen</td></tr>",
                            "<tr><td>Blythe</td><td>Michael</td></tr>",
                            "<tr><td>Mitchell</td><td>Linda</td></tr>",
                            "<tr><td>Carson</td><td>Jillian</td></tr>",
                            "<tr><td>Vargas</td><td>Garrett</td></tr>",
                            "<tr><td>Reiter</td><td>Tsvi</td></tr>",
                            "<tr><td>Ansman-Wolfe</td><td>Pamela</td></tr>",
                            "<tr><td>Ito</td><td>Shu</td></tr>",
                            "<tr><td>Saraiva</td><td>José</td></tr>",
                            "<tr><td>Campbell</td><td>David</td></tr>",
                            "<tr><td>Mensa-Annan</td><td>Tete</td></tr>",
                            "<tr><td>Abbas</td><td>Syed</td></tr>",
                            "<tr><td>Tsoflias</td><td>Lynn</td></tr>",
                            "<tr><td>Alberts</td><td>Amy</td></tr>",
                            "<tr><td>Valdez</td><td>Rachel</td></tr>",
                            "<tr><td>Pak</td><td>Jae</td></tr>",
                            "<tr><td>Varkey Chudukatil</td><td>Ranjit</td></tr>",
                            "</table>"
                        ]
                    }
                }
            ],
            "execution_count": 7
        },
        {
            "cell_type": "markdown",
            "source": [
                "## You can also express this query as a join:"
            ],
            "metadata": {
                "language": "sql",
                "azdata_cell_guid": "fecbf2b0-f103-420a-9d77-2e6c96a5b8aa"
            },
            "attachments": {}
        },
        {
            "cell_type": "code",
            "source": [
                "USE AdventureWorks2019;\r\n",
                "GO\r\n",
                "SELECT LastName, FirstName\r\n",
                "FROM Person.Person c\r\n",
                "INNER JOIN HumanResources.Employee e\r\n",
                "ON c.BusinessEntityID = e.BusinessEntityID\r\n",
                "JOIN Sales.SalesPerson s\r\n",
                "ON e.BusinessEntityID = s.BusinessEntityID;\r\n",
                "GO"
            ],
            "metadata": {
                "language": "sql",
                "azdata_cell_guid": "583ebee7-14d2-4ed6-b65a-a04136f888ea"
            },
            "outputs": [
                {
                    "output_type": "display_data",
                    "data": {
                        "text/html": "Commands completed successfully."
                    },
                    "metadata": {}
                },
                {
                    "output_type": "display_data",
                    "data": {
                        "text/html": "(17 rows affected)"
                    },
                    "metadata": {}
                },
                {
                    "output_type": "display_data",
                    "data": {
                        "text/html": "Total execution time: 00:00:00.144"
                    },
                    "metadata": {}
                },
                {
                    "output_type": "execute_result",
                    "metadata": {},
                    "execution_count": 8,
                    "data": {
                        "application/vnd.dataresource+json": {
                            "schema": {
                                "fields": [
                                    {
                                        "name": "LastName"
                                    },
                                    {
                                        "name": "FirstName"
                                    }
                                ]
                            },
                            "data": [
                                {
                                    "0": "Abbas",
                                    "1": "Syed"
                                },
                                {
                                    "0": "Campbell",
                                    "1": "David"
                                },
                                {
                                    "0": "Vargas",
                                    "1": "Garrett"
                                },
                                {
                                    "0": "Reiter",
                                    "1": "Tsvi"
                                },
                                {
                                    "0": "Carson",
                                    "1": "Jillian"
                                },
                                {
                                    "0": "Blythe",
                                    "1": "Michael"
                                },
                                {
                                    "0": "Valdez",
                                    "1": "Rachel"
                                },
                                {
                                    "0": "Alberts",
                                    "1": "Amy"
                                },
                                {
                                    "0": "Mitchell",
                                    "1": "Linda"
                                },
                                {
                                    "0": "Saraiva",
                                    "1": "José"
                                },
                                {
                                    "0": "Pak",
                                    "1": "Jae"
                                },
                                {
                                    "0": "Varkey Chudukatil",
                                    "1": "Ranjit"
                                },
                                {
                                    "0": "Jiang",
                                    "1": "Stephen"
                                },
                                {
                                    "0": "Tsoflias",
                                    "1": "Lynn"
                                },
                                {
                                    "0": "Ansman-Wolfe",
                                    "1": "Pamela"
                                },
                                {
                                    "0": "Mensa-Annan",
                                    "1": "Tete"
                                },
                                {
                                    "0": "Ito",
                                    "1": "Shu"
                                }
                            ]
                        },
                        "text/html": [
                            "<table>",
                            "<tr><th>LastName</th><th>FirstName</th></tr>",
                            "<tr><td>Abbas</td><td>Syed</td></tr>",
                            "<tr><td>Campbell</td><td>David</td></tr>",
                            "<tr><td>Vargas</td><td>Garrett</td></tr>",
                            "<tr><td>Reiter</td><td>Tsvi</td></tr>",
                            "<tr><td>Carson</td><td>Jillian</td></tr>",
                            "<tr><td>Blythe</td><td>Michael</td></tr>",
                            "<tr><td>Valdez</td><td>Rachel</td></tr>",
                            "<tr><td>Alberts</td><td>Amy</td></tr>",
                            "<tr><td>Mitchell</td><td>Linda</td></tr>",
                            "<tr><td>Saraiva</td><td>José</td></tr>",
                            "<tr><td>Pak</td><td>Jae</td></tr>",
                            "<tr><td>Varkey Chudukatil</td><td>Ranjit</td></tr>",
                            "<tr><td>Jiang</td><td>Stephen</td></tr>",
                            "<tr><td>Tsoflias</td><td>Lynn</td></tr>",
                            "<tr><td>Ansman-Wolfe</td><td>Pamela</td></tr>",
                            "<tr><td>Mensa-Annan</td><td>Tete</td></tr>",
                            "<tr><td>Ito</td><td>Shu</td></tr>",
                            "</table>"
                        ]
                    }
                }
            ],
            "execution_count": 8
        },
        {
            "cell_type": "markdown",
            "source": [
                "## Correlated subqueries\r\n",
                "\r\n",
                "Many queries can be evaluated by executing the subquery once and substituting the resulting value or values into the WHERE clause of the outer query. In queries that include a correlated subquery (also known as a repeating subquery), the subquery depends on the outer query for its values. This means that the subquery is executed repeatedly, once for each row that might be selected by the outer query. This query retrieves one instance of each employee's first and last name for which the bonus in the SalesPerson table is 5000 and for which the employee identification numbers match in the Employee and SalesPerson tables."
            ],
            "metadata": {
                "language": "sql",
                "azdata_cell_guid": "a450586c-8423-4472-a0e7-ebf346827be1"
            },
            "attachments": {}
        },
        {
            "cell_type": "code",
            "source": [
                "USE AdventureWorks2019;\r\n",
                "GO\r\n",
                "SELECT DISTINCT c.LastName, c.FirstName, e.BusinessEntityID \r\n",
                "FROM Person.Person AS c JOIN HumanResources.Employee AS e\r\n",
                "ON e.BusinessEntityID = c.BusinessEntityID \r\n",
                "WHERE 5000.00 IN\r\n",
                "    (SELECT Bonus\r\n",
                "    FROM Sales.SalesPerson sp\r\n",
                "    WHERE e.BusinessEntityID = sp.BusinessEntityID) ;\r\n",
                "GO"
            ],
            "metadata": {
                "language": "sql",
                "azdata_cell_guid": "f065d010-0a40-4c09-a202-6959674a30ca"
            },
            "outputs": [
                {
                    "output_type": "display_data",
                    "data": {
                        "text/html": "Commands completed successfully."
                    },
                    "metadata": {}
                },
                {
                    "output_type": "display_data",
                    "data": {
                        "text/html": "(2 rows affected)"
                    },
                    "metadata": {}
                },
                {
                    "output_type": "display_data",
                    "data": {
                        "text/html": "Total execution time: 00:00:00.157"
                    },
                    "metadata": {}
                },
                {
                    "output_type": "execute_result",
                    "metadata": {},
                    "execution_count": 9,
                    "data": {
                        "application/vnd.dataresource+json": {
                            "schema": {
                                "fields": [
                                    {
                                        "name": "LastName"
                                    },
                                    {
                                        "name": "FirstName"
                                    },
                                    {
                                        "name": "BusinessEntityID"
                                    }
                                ]
                            },
                            "data": [
                                {
                                    "0": "Ansman-Wolfe",
                                    "1": "Pamela",
                                    "2": "280"
                                },
                                {
                                    "0": "Saraiva",
                                    "1": "José",
                                    "2": "282"
                                }
                            ]
                        },
                        "text/html": [
                            "<table>",
                            "<tr><th>LastName</th><th>FirstName</th><th>BusinessEntityID</th></tr>",
                            "<tr><td>Ansman-Wolfe</td><td>Pamela</td><td>280</td></tr>",
                            "<tr><td>Saraiva</td><td>José</td><td>282</td></tr>",
                            "</table>"
                        ]
                    }
                }
            ],
            "execution_count": 9
        },
        {
            "cell_type": "markdown",
            "source": [
                "## Subqueries with table aliases\r\n",
                "\r\n",
                "Many statements in which the subquery and the outer query refer to the same table can be stated as self-joins (joining a table to itself). For example, you can find addresses of employees from a particular state using a subquery:"
            ],
            "metadata": {
                "language": "sql",
                "azdata_cell_guid": "e8c24fbe-3c66-4855-8af3-1bb431047f22"
            },
            "attachments": {}
        },
        {
            "cell_type": "code",
            "source": [
                "USE AdventureWorks2019;\r\n",
                "GO\r\n",
                "SELECT StateProvinceID, AddressID\r\n",
                "FROM Person.Address\r\n",
                "WHERE AddressID IN\r\n",
                "    (SELECT AddressID\r\n",
                "     FROM Person.Address\r\n",
                "     WHERE StateProvinceID = 39);\r\n",
                "GO\r\n",
                "\r\n",
                "--SELF JOIN\r\n",
                "\r\n",
                "USE AdventureWorks2019;\r\n",
                "GO\r\n",
                "SELECT e1.StateProvinceID, e1.AddressID\r\n",
                "FROM Person.Address AS e1\r\n",
                "INNER JOIN Person.Address AS e2\r\n",
                "ON e1.AddressID = e2.AddressID\r\n",
                "AND e2.StateProvinceID = 39;\r\n",
                "GO\r\n",
                "\r\n",
                "\r\n",
                "--Table aliases e1 and e2 are required because the table being joined to itself appears in two different roles. \r\n",
                "--Aliases can also be used in nested queries that refer to the same table in an inner and outer query.\r\n",
                "\r\n",
                "USE AdventureWorks2019;\r\n",
                "GO\r\n",
                "SELECT e1.StateProvinceID, e1.AddressID\r\n",
                "FROM Person.Address AS e1\r\n",
                "WHERE e1.AddressID IN\r\n",
                "    (SELECT e2.AddressID\r\n",
                "     FROM Person.Address AS e2\r\n",
                "     WHERE e2.StateProvinceID = 39);\r\n",
                "GO"
            ],
            "metadata": {
                "language": "sql",
                "azdata_cell_guid": "12f8c300-ac10-41d1-aabc-1c62c74bcbd7"
            },
            "outputs": [
                {
                    "output_type": "display_data",
                    "data": {
                        "text/html": "Commands completed successfully."
                    },
                    "metadata": {}
                },
                {
                    "output_type": "display_data",
                    "data": {
                        "text/html": "(4 rows affected)"
                    },
                    "metadata": {}
                },
                {
                    "output_type": "display_data",
                    "data": {
                        "text/html": "Commands completed successfully."
                    },
                    "metadata": {}
                },
                {
                    "output_type": "display_data",
                    "data": {
                        "text/html": "(4 rows affected)"
                    },
                    "metadata": {}
                },
                {
                    "output_type": "display_data",
                    "data": {
                        "text/html": "Commands completed successfully."
                    },
                    "metadata": {}
                },
                {
                    "output_type": "display_data",
                    "data": {
                        "text/html": "(4 rows affected)"
                    },
                    "metadata": {}
                },
                {
                    "output_type": "display_data",
                    "data": {
                        "text/html": "Total execution time: 00:00:00.386"
                    },
                    "metadata": {}
                },
                {
                    "output_type": "execute_result",
                    "metadata": {},
                    "execution_count": 10,
                    "data": {
                        "application/vnd.dataresource+json": {
                            "schema": {
                                "fields": [
                                    {
                                        "name": "StateProvinceID"
                                    },
                                    {
                                        "name": "AddressID"
                                    }
                                ]
                            },
                            "data": [
                                {
                                    "0": "39",
                                    "1": "942"
                                },
                                {
                                    "0": "39",
                                    "1": "955"
                                },
                                {
                                    "0": "39",
                                    "1": "972"
                                },
                                {
                                    "0": "39",
                                    "1": "22660"
                                }
                            ]
                        },
                        "text/html": [
                            "<table>",
                            "<tr><th>StateProvinceID</th><th>AddressID</th></tr>",
                            "<tr><td>39</td><td>942</td></tr>",
                            "<tr><td>39</td><td>955</td></tr>",
                            "<tr><td>39</td><td>972</td></tr>",
                            "<tr><td>39</td><td>22660</td></tr>",
                            "</table>"
                        ]
                    }
                },
                {
                    "output_type": "execute_result",
                    "metadata": {},
                    "execution_count": 10,
                    "data": {
                        "application/vnd.dataresource+json": {
                            "schema": {
                                "fields": [
                                    {
                                        "name": "StateProvinceID"
                                    },
                                    {
                                        "name": "AddressID"
                                    }
                                ]
                            },
                            "data": [
                                {
                                    "0": "39",
                                    "1": "942"
                                },
                                {
                                    "0": "39",
                                    "1": "955"
                                },
                                {
                                    "0": "39",
                                    "1": "972"
                                },
                                {
                                    "0": "39",
                                    "1": "22660"
                                }
                            ]
                        },
                        "text/html": [
                            "<table>",
                            "<tr><th>StateProvinceID</th><th>AddressID</th></tr>",
                            "<tr><td>39</td><td>942</td></tr>",
                            "<tr><td>39</td><td>955</td></tr>",
                            "<tr><td>39</td><td>972</td></tr>",
                            "<tr><td>39</td><td>22660</td></tr>",
                            "</table>"
                        ]
                    }
                },
                {
                    "output_type": "execute_result",
                    "metadata": {},
                    "execution_count": 10,
                    "data": {
                        "application/vnd.dataresource+json": {
                            "schema": {
                                "fields": [
                                    {
                                        "name": "StateProvinceID"
                                    },
                                    {
                                        "name": "AddressID"
                                    }
                                ]
                            },
                            "data": [
                                {
                                    "0": "39",
                                    "1": "942"
                                },
                                {
                                    "0": "39",
                                    "1": "955"
                                },
                                {
                                    "0": "39",
                                    "1": "972"
                                },
                                {
                                    "0": "39",
                                    "1": "22660"
                                }
                            ]
                        },
                        "text/html": [
                            "<table>",
                            "<tr><th>StateProvinceID</th><th>AddressID</th></tr>",
                            "<tr><td>39</td><td>942</td></tr>",
                            "<tr><td>39</td><td>955</td></tr>",
                            "<tr><td>39</td><td>972</td></tr>",
                            "<tr><td>39</td><td>22660</td></tr>",
                            "</table>"
                        ]
                    }
                }
            ],
            "execution_count": 10
        },
        {
            "cell_type": "markdown",
            "source": [
                "## Subqueries with IN\n",
                "\n",
                "The result of a subquery introduced with IN (or with NOT IN) is a list of zero or more values. After the subquery returns results, the outer query makes use of them. The following query finds the names of all the wheel products that Adventure Works Cycles makes.\n",
                "\n",
                "  \n",
                "This statement is evaluated in two steps. First, the inner query returns the subcategory identification number that matches the name 'Wheel' (17). Second, this value is substituted into the outer query, which finds the product names that go with the subcategory identification numbers in Production.Product."
            ],
            "metadata": {
                "language": "sql",
                "azdata_cell_guid": "2e9c4f9b-bdc9-49fa-864a-267a5d8bb547"
            },
            "attachments": {}
        },
        {
            "cell_type": "code",
            "source": [
                "USE AdventureWorks2019;\r\n",
                "GO\r\n",
                "SELECT [Name]\r\n",
                "FROM Production.Product\r\n",
                "WHERE ProductSubcategoryID IN\r\n",
                "    (SELECT ProductSubcategoryID\r\n",
                "     FROM Production.ProductSubcategory\r\n",
                "     WHERE [Name] = 'Wheels');\r\n",
                "GO\r\n",
                "\r\n",
                "\r\n",
                "-- USE AdventureWorks2019;\r\n",
                "-- GO\r\n",
                "-- SELECT [Name]\r\n",
                "-- FROM Production.Product\r\n",
                "-- WHERE ProductSubcategoryID IN ('17');\r\n",
                "-- GO\r\n",
                "\r\n",
                "\r\n",
                "--One difference in using a join rather than a subquery for this and similar problems is that the join lets you show columns from more than one table in the result. \r\n",
                "--For example, if you want to include the name of the product subcategory in the result, you must use a join version.\r\n",
                "\r\n",
                "USE AdventureWorks2019;\r\n",
                "GO\r\n",
                "SELECT p.[Name], s.[Name]\r\n",
                "FROM Production.Product p\r\n",
                "INNER JOIN Production.ProductSubcategory s\r\n",
                "ON p.ProductSubcategoryID = s.ProductSubcategoryID\r\n",
                "AND s.[Name] = 'Wheels';\r\n",
                "GO"
            ],
            "metadata": {
                "language": "sql",
                "azdata_cell_guid": "9810ab28-7a73-4fc8-8fca-e39c8eca4231"
            },
            "outputs": [
                {
                    "output_type": "display_data",
                    "data": {
                        "text/html": "Commands completed successfully."
                    },
                    "metadata": {}
                },
                {
                    "output_type": "display_data",
                    "data": {
                        "text/html": "(14 rows affected)"
                    },
                    "metadata": {}
                },
                {
                    "output_type": "display_data",
                    "data": {
                        "text/html": "Commands completed successfully."
                    },
                    "metadata": {}
                },
                {
                    "output_type": "display_data",
                    "data": {
                        "text/html": "(14 rows affected)"
                    },
                    "metadata": {}
                },
                {
                    "output_type": "display_data",
                    "data": {
                        "text/html": "Total execution time: 00:00:00.286"
                    },
                    "metadata": {}
                },
                {
                    "output_type": "execute_result",
                    "metadata": {},
                    "execution_count": 14,
                    "data": {
                        "application/vnd.dataresource+json": {
                            "schema": {
                                "fields": [
                                    {
                                        "name": "Name"
                                    }
                                ]
                            },
                            "data": [
                                {
                                    "0": "LL Mountain Front Wheel"
                                },
                                {
                                    "0": "ML Mountain Front Wheel"
                                },
                                {
                                    "0": "HL Mountain Front Wheel"
                                },
                                {
                                    "0": "LL Road Front Wheel"
                                },
                                {
                                    "0": "ML Road Front Wheel"
                                },
                                {
                                    "0": "HL Road Front Wheel"
                                },
                                {
                                    "0": "Touring Front Wheel"
                                },
                                {
                                    "0": "LL Mountain Rear Wheel"
                                },
                                {
                                    "0": "ML Mountain Rear Wheel"
                                },
                                {
                                    "0": "HL Mountain Rear Wheel"
                                },
                                {
                                    "0": "LL Road Rear Wheel"
                                },
                                {
                                    "0": "ML Road Rear Wheel"
                                },
                                {
                                    "0": "HL Road Rear Wheel"
                                },
                                {
                                    "0": "Touring Rear Wheel"
                                }
                            ]
                        },
                        "text/html": [
                            "<table>",
                            "<tr><th>Name</th></tr>",
                            "<tr><td>LL Mountain Front Wheel</td></tr>",
                            "<tr><td>ML Mountain Front Wheel</td></tr>",
                            "<tr><td>HL Mountain Front Wheel</td></tr>",
                            "<tr><td>LL Road Front Wheel</td></tr>",
                            "<tr><td>ML Road Front Wheel</td></tr>",
                            "<tr><td>HL Road Front Wheel</td></tr>",
                            "<tr><td>Touring Front Wheel</td></tr>",
                            "<tr><td>LL Mountain Rear Wheel</td></tr>",
                            "<tr><td>ML Mountain Rear Wheel</td></tr>",
                            "<tr><td>HL Mountain Rear Wheel</td></tr>",
                            "<tr><td>LL Road Rear Wheel</td></tr>",
                            "<tr><td>ML Road Rear Wheel</td></tr>",
                            "<tr><td>HL Road Rear Wheel</td></tr>",
                            "<tr><td>Touring Rear Wheel</td></tr>",
                            "</table>"
                        ]
                    }
                },
                {
                    "output_type": "execute_result",
                    "metadata": {},
                    "execution_count": 14,
                    "data": {
                        "application/vnd.dataresource+json": {
                            "schema": {
                                "fields": [
                                    {
                                        "name": "Name"
                                    },
                                    {
                                        "name": "Name"
                                    }
                                ]
                            },
                            "data": [
                                {
                                    "0": "LL Mountain Front Wheel",
                                    "1": "Wheels"
                                },
                                {
                                    "0": "ML Mountain Front Wheel",
                                    "1": "Wheels"
                                },
                                {
                                    "0": "HL Mountain Front Wheel",
                                    "1": "Wheels"
                                },
                                {
                                    "0": "LL Road Front Wheel",
                                    "1": "Wheels"
                                },
                                {
                                    "0": "ML Road Front Wheel",
                                    "1": "Wheels"
                                },
                                {
                                    "0": "HL Road Front Wheel",
                                    "1": "Wheels"
                                },
                                {
                                    "0": "Touring Front Wheel",
                                    "1": "Wheels"
                                },
                                {
                                    "0": "LL Mountain Rear Wheel",
                                    "1": "Wheels"
                                },
                                {
                                    "0": "ML Mountain Rear Wheel",
                                    "1": "Wheels"
                                },
                                {
                                    "0": "HL Mountain Rear Wheel",
                                    "1": "Wheels"
                                },
                                {
                                    "0": "LL Road Rear Wheel",
                                    "1": "Wheels"
                                },
                                {
                                    "0": "ML Road Rear Wheel",
                                    "1": "Wheels"
                                },
                                {
                                    "0": "HL Road Rear Wheel",
                                    "1": "Wheels"
                                },
                                {
                                    "0": "Touring Rear Wheel",
                                    "1": "Wheels"
                                }
                            ]
                        },
                        "text/html": [
                            "<table>",
                            "<tr><th>Name</th><th>Name</th></tr>",
                            "<tr><td>LL Mountain Front Wheel</td><td>Wheels</td></tr>",
                            "<tr><td>ML Mountain Front Wheel</td><td>Wheels</td></tr>",
                            "<tr><td>HL Mountain Front Wheel</td><td>Wheels</td></tr>",
                            "<tr><td>LL Road Front Wheel</td><td>Wheels</td></tr>",
                            "<tr><td>ML Road Front Wheel</td><td>Wheels</td></tr>",
                            "<tr><td>HL Road Front Wheel</td><td>Wheels</td></tr>",
                            "<tr><td>Touring Front Wheel</td><td>Wheels</td></tr>",
                            "<tr><td>LL Mountain Rear Wheel</td><td>Wheels</td></tr>",
                            "<tr><td>ML Mountain Rear Wheel</td><td>Wheels</td></tr>",
                            "<tr><td>HL Mountain Rear Wheel</td><td>Wheels</td></tr>",
                            "<tr><td>LL Road Rear Wheel</td><td>Wheels</td></tr>",
                            "<tr><td>ML Road Rear Wheel</td><td>Wheels</td></tr>",
                            "<tr><td>HL Road Rear Wheel</td><td>Wheels</td></tr>",
                            "<tr><td>Touring Rear Wheel</td><td>Wheels</td></tr>",
                            "</table>"
                        ]
                    }
                }
            ],
            "execution_count": 14
        },
        {
            "cell_type": "markdown",
            "source": [
                "**The following query finds the name of all vendors whose credit rating is good, from whom Adventure Works Cycles orders at least 20 items, and whose average lead time to deliver is less than 16 days.**"
            ],
            "metadata": {
                "language": "sql",
                "azdata_cell_guid": "1b9354a3-3dbb-4048-90d5-5385704712d9"
            },
            "attachments": {}
        },
        {
            "cell_type": "code",
            "source": [
                "USE AdventureWorks2019;\r\n",
                "GO\r\n",
                "SELECT [Name]\r\n",
                "FROM Purchasing.Vendor\r\n",
                "WHERE CreditRating = 1\r\n",
                "AND BusinessEntityID IN\r\n",
                "    (SELECT BusinessEntityID\r\n",
                "     FROM Purchasing.ProductVendor\r\n",
                "     WHERE MinOrderQty >= 20\r\n",
                "     AND AverageLeadTime < 16);\r\n",
                "GO\r\n",
                "\r\n",
                "---USING JOIN TO EXPRESS THE SAME STATEMENT\r\n",
                "USE AdventureWorks2019;\r\n",
                "GO\r\n",
                "SELECT DISTINCT [Name]\r\n",
                "FROM Purchasing.Vendor v\r\n",
                "INNER JOIN Purchasing.ProductVendor p\r\n",
                "ON v.BusinessEntityID = p.BusinessEntityID\r\n",
                "WHERE CreditRating = 1\r\n",
                "  AND MinOrderQty >= 20\r\n",
                "  AND AverageLeadTime < 16;\r\n",
                "GO"
            ],
            "metadata": {
                "language": "sql",
                "azdata_cell_guid": "5fe3ee43-4dc4-4d86-a6de-cf6a516846d3",
                "tags": []
            },
            "outputs": [
                {
                    "output_type": "display_data",
                    "data": {
                        "text/html": "Commands completed successfully."
                    },
                    "metadata": {}
                },
                {
                    "output_type": "display_data",
                    "data": {
                        "text/html": "(13 rows affected)"
                    },
                    "metadata": {}
                },
                {
                    "output_type": "display_data",
                    "data": {
                        "text/html": "Total execution time: 00:00:00.143"
                    },
                    "metadata": {}
                },
                {
                    "output_type": "execute_result",
                    "metadata": {},
                    "execution_count": 15,
                    "data": {
                        "application/vnd.dataresource+json": {
                            "schema": {
                                "fields": [
                                    {
                                        "name": "Name"
                                    }
                                ]
                            },
                            "data": [
                                {
                                    "0": "Compete Enterprises, Inc"
                                },
                                {
                                    "0": "International Trek Center"
                                },
                                {
                                    "0": "First National Sport Co."
                                },
                                {
                                    "0": "Comfort Road Bicycles"
                                },
                                {
                                    "0": "Circuit Cycles"
                                },
                                {
                                    "0": "First Rate Bicycles"
                                },
                                {
                                    "0": "Jeff's Sporting Goods"
                                },
                                {
                                    "0": "Competition Bike Training Systems"
                                },
                                {
                                    "0": "Electronic Bike Repair & Supplies"
                                },
                                {
                                    "0": "Crowley Sport"
                                },
                                {
                                    "0": "Expert Bike Co"
                                },
                                {
                                    "0": "Team Athletic Co."
                                },
                                {
                                    "0": "Compete, Inc."
                                }
                            ]
                        },
                        "text/html": [
                            "<table>",
                            "<tr><th>Name</th></tr>",
                            "<tr><td>Compete Enterprises, Inc</td></tr>",
                            "<tr><td>International Trek Center</td></tr>",
                            "<tr><td>First National Sport Co.</td></tr>",
                            "<tr><td>Comfort Road Bicycles</td></tr>",
                            "<tr><td>Circuit Cycles</td></tr>",
                            "<tr><td>First Rate Bicycles</td></tr>",
                            "<tr><td>Jeff's Sporting Goods</td></tr>",
                            "<tr><td>Competition Bike Training Systems</td></tr>",
                            "<tr><td>Electronic Bike Repair &amp; Supplies</td></tr>",
                            "<tr><td>Crowley Sport</td></tr>",
                            "<tr><td>Expert Bike Co</td></tr>",
                            "<tr><td>Team Athletic Co.</td></tr>",
                            "<tr><td>Compete, Inc.</td></tr>",
                            "</table>"
                        ]
                    }
                }
            ],
            "execution_count": 15
        },
        {
            "cell_type": "markdown",
            "source": [
                "## **Subqueries with NOT IN**\r\n",
                "\r\n",
                "Subqueries introduced with the keyword NOT IN also return a list of zero or more values.\r\n",
                "The following query finds the names of the products that are not finished bicycles.\r\n",
                "\r\n",
                "This statement cannot be converted to a join. The analogous not-equal join has a different meaning: It finds the names of products that are in some subcategory that is not a finished bicycle."
            ],
            "metadata": {
                "language": "sql",
                "azdata_cell_guid": "5a6017a4-f5a2-4b1b-b846-f4286c1d9b95"
            },
            "attachments": {}
        },
        {
            "cell_type": "code",
            "source": [
                "-- USE AdventureWorks2019;\r\n",
                "-- GO\r\n",
                "-- SELECT [Name]\r\n",
                "-- FROM Production.Product\r\n",
                "-- WHERE ProductSubcategoryID NOT IN\r\n",
                "--     (SELECT ProductSubcategoryID\r\n",
                "--      FROM Production.ProductSubcategory\r\n",
                "--      WHERE [Name] = 'Mountain Bikes' \r\n",
                "--         OR [Name] = 'Road Bikes'\r\n",
                "--         OR [Name] = 'Touring Bikes');\r\n",
                "-- GO"
            ],
            "metadata": {
                "language": "sql",
                "azdata_cell_guid": "e0deb3ca-de4a-4528-9bb5-2da81d772d32",
                "tags": [
                    "hide_input"
                ]
            },
            "outputs": [
                {
                    "output_type": "display_data",
                    "data": {
                        "text/html": "Commands completed successfully."
                    },
                    "metadata": {}
                },
                {
                    "output_type": "display_data",
                    "data": {
                        "text/html": "Total execution time: 00:00:00.061"
                    },
                    "metadata": {}
                }
            ],
            "execution_count": 17
        },
        {
            "cell_type": "markdown",
            "source": [
                "### Subqueries in UPDATE, DELETE, and INSERT statements\r\n",
                "\r\n",
                "**Subqueries can be nested in the UPDATE, DELETE, INSERT and SELECT data manipulation (DML) statements.**\r\n",
                "\r\n",
                "The following example doubles the value in the ListPrice column in the Production.Product table. The subquery in the WHERE clause references the Purchasing.ProductVendor table to restrict the rows updated in the Product table to just those supplied by BusinessEntity 1540."
            ],
            "metadata": {
                "language": "sql",
                "azdata_cell_guid": "f9152ced-eba5-4ab2-9804-6b5cd93851fd"
            },
            "attachments": {}
        },
        {
            "cell_type": "code",
            "source": [
                "-- USE AdventureWorks2019;\r\n",
                "-- GO \r\n",
                "-- UPDATE Production.Product\r\n",
                "-- SET ListPrice = ListPrice * 2\r\n",
                "-- WHERE ProductID IN\r\n",
                "--     (SELECT ProductID \r\n",
                "--      FROM Purchasing.ProductVendor\r\n",
                "--      WHERE BusinessEntityID = 1540);\r\n",
                "-- GO\r\n",
                "\r\n",
                "-- UPDATE Production.Product\r\n",
                "-- SET ListPrice = ListPrice * 2\r\n",
                "-- FROM Production.Product AS p\r\n",
                "-- INNER JOIN Purchasing.ProductVendor AS pv\r\n",
                "--     ON p.ProductID = pv.ProductID AND BusinessEntityID = 1540;\r\n",
                "-- GO   \r\n",
                "\r\n",
                "\r\n",
                "--NOT WORKING-ERROR MESSAGE"
            ],
            "metadata": {
                "language": "sql",
                "azdata_cell_guid": "e5a53b97-52ee-42e0-929e-527b03a6d04d"
            },
            "outputs": [
                {
                    "output_type": "display_data",
                    "data": {
                        "text/html": "Commands completed successfully."
                    },
                    "metadata": {}
                },
                {
                    "output_type": "display_data",
                    "data": {
                        "text/html": "Total execution time: 00:00:00.067"
                    },
                    "metadata": {}
                }
            ],
            "execution_count": 21
        },
        {
            "cell_type": "markdown",
            "source": [
                "## Subqueries with comparison operators"
            ],
            "metadata": {
                "language": "sql",
                "azdata_cell_guid": "b4e9dc89-9720-4cbb-a93b-e9ef39394f70"
            },
            "attachments": {}
        },
        {
            "cell_type": "code",
            "source": [
                "-- USE AdventureWorks2019;\r\n",
                "-- GO\r\n",
                "-- SELECT CustomerID\r\n",
                "-- FROM Sales.Customer\r\n",
                "-- WHERE TerritoryID =\r\n",
                "--     (SELECT TerritoryID\r\n",
                "--      FROM Sales.SalesPerson\r\n",
                "--      WHERE BusinessEntityID = 276);\r\n",
                "-- GO"
            ],
            "metadata": {
                "language": "sql",
                "azdata_cell_guid": "0b650c4e-40aa-43ca-9e80-d70fbb5e56ee"
            },
            "outputs": [
                {
                    "output_type": "display_data",
                    "data": {
                        "text/html": "Commands completed successfully."
                    },
                    "metadata": {}
                },
                {
                    "output_type": "display_data",
                    "data": {
                        "text/html": "Total execution time: 00:00:00.062"
                    },
                    "metadata": {}
                }
            ],
            "execution_count": 23
        },
        {
            "cell_type": "markdown",
            "source": [
                "# GROUP BY-HAVING"
            ],
            "metadata": {
                "language": "sql",
                "azdata_cell_guid": "e750a1e2-90cb-4aab-9606-96a7bfb3e28d"
            },
            "attachments": {}
        },
        {
            "cell_type": "code",
            "source": [
                "-- USE AdventureWorks2019;\r\n",
                "-- GO\r\n",
                "-- SELECT [Name]\r\n",
                "-- FROM Production.Product\r\n",
                "-- WHERE ListPrice >\r\n",
                "--     (SELECT MIN (ListPrice)\r\n",
                "--      FROM Production.Product\r\n",
                "--      GROUP BY ProductSubcategoryID\r\n",
                "--      HAVING ProductSubcategoryID = 14);\r\n",
                "-- GO"
            ],
            "metadata": {
                "language": "sql",
                "azdata_cell_guid": "6a9de958-eb08-4335-94ed-855ff624b908"
            },
            "outputs": [
                {
                    "output_type": "display_data",
                    "data": {
                        "text/html": "Commands completed successfully."
                    },
                    "metadata": {}
                },
                {
                    "output_type": "display_data",
                    "data": {
                        "text/html": "Total execution time: 00:00:00.063"
                    },
                    "metadata": {}
                }
            ],
            "execution_count": 25
        },
        {
            "cell_type": "markdown",
            "source": [
                "## Comparison operators modified by ANY, SOME, or ALL\r\n",
                "\r\n",
                "**The =ANY operator is equivalent to IN. For example, to find the names of all the wheel products that Adventure Works Cycles makes, you can use either IN or =ANY.**\r\n",
                "\r\n",
                "\r\n",
                "The <>ANY operator, however, differs from NOT IN:\r\n",
                "\r\n",
                "<>ANY means not = a, or not = b, or not = c\r\n",
                "NOT IN means not = a, and not = b, and not = c\r\n",
                "<>ALL means the same as NOT IN"
            ],
            "metadata": {
                "language": "sql",
                "azdata_cell_guid": "b27b7ca2-e3dc-4b56-b810-6b35740c436b"
            },
            "attachments": {}
        },
        {
            "cell_type": "code",
            "source": [
                "--comparison operator modified by ANY. \r\n",
                "--It finds the products whose list prices are greater than or equal to the maximum list price of any product subcategory.\r\n",
                "\r\n",
                "-- USE AdventureWorks2019;\r\n",
                "-- GO\r\n",
                "-- SELECT [Name]\r\n",
                "-- FROM Production.Product\r\n",
                "-- WHERE ListPrice >= ANY\r\n",
                "--     (SELECT MAX (ListPrice)\r\n",
                "--      FROM Production.Product\r\n",
                "--      GROUP BY ProductSubcategoryID);\r\n",
                "-- GO\r\n",
                "\r\n",
                "--Using =ANY\r\n",
                "USE AdventureWorks2019;\r\n",
                "GO\r\n",
                "SELECT [Name]\r\n",
                "FROM Production.Product\r\n",
                "WHERE ProductSubcategoryID =ANY\r\n",
                "    (SELECT ProductSubcategoryID\r\n",
                "     FROM Production.ProductSubcategory\r\n",
                "     WHERE Name = 'Wheels');\r\n",
                "GO\r\n",
                "\r\n",
                "--Using IN\r\n",
                "USE AdventureWorks2019;\r\n",
                "GO\r\n",
                "SELECT [Name]\r\n",
                "FROM Production.Product\r\n",
                "WHERE ProductSubcategoryID IN\r\n",
                "    (SELECT ProductSubcategoryID\r\n",
                "     FROM Production.ProductSubcategory\r\n",
                "     WHERE Name = 'Wheels');\r\n",
                "GO\r\n",
                "\r\n",
                "-- the following query finds customers located in a territory not covered by any sales persons.\r\n",
                "USE AdventureWorks2019;\r\n",
                "GO\r\n",
                "SELECT CustomerID\r\n",
                "FROM Sales.Customer\r\n",
                "WHERE TerritoryID <> ANY\r\n",
                "    (SELECT TerritoryID\r\n",
                "     FROM Sales.SalesPerson);\r\n",
                "GO"
            ],
            "metadata": {
                "language": "sql",
                "azdata_cell_guid": "473cd36e-1f70-4ded-9349-700d957ef642"
            },
            "outputs": [
                {
                    "output_type": "display_data",
                    "data": {
                        "text/html": "Commands completed successfully."
                    },
                    "metadata": {}
                },
                {
                    "output_type": "display_data",
                    "data": {
                        "text/html": "(14 rows affected)"
                    },
                    "metadata": {}
                },
                {
                    "output_type": "display_data",
                    "data": {
                        "text/html": "Commands completed successfully."
                    },
                    "metadata": {}
                },
                {
                    "output_type": "display_data",
                    "data": {
                        "text/html": "(14 rows affected)"
                    },
                    "metadata": {}
                },
                {
                    "output_type": "display_data",
                    "data": {
                        "text/html": "Total execution time: 00:00:00.262"
                    },
                    "metadata": {}
                },
                {
                    "output_type": "execute_result",
                    "metadata": {},
                    "execution_count": 28,
                    "data": {
                        "application/vnd.dataresource+json": {
                            "schema": {
                                "fields": [
                                    {
                                        "name": "Name"
                                    }
                                ]
                            },
                            "data": [
                                {
                                    "0": "LL Mountain Front Wheel"
                                },
                                {
                                    "0": "ML Mountain Front Wheel"
                                },
                                {
                                    "0": "HL Mountain Front Wheel"
                                },
                                {
                                    "0": "LL Road Front Wheel"
                                },
                                {
                                    "0": "ML Road Front Wheel"
                                },
                                {
                                    "0": "HL Road Front Wheel"
                                },
                                {
                                    "0": "Touring Front Wheel"
                                },
                                {
                                    "0": "LL Mountain Rear Wheel"
                                },
                                {
                                    "0": "ML Mountain Rear Wheel"
                                },
                                {
                                    "0": "HL Mountain Rear Wheel"
                                },
                                {
                                    "0": "LL Road Rear Wheel"
                                },
                                {
                                    "0": "ML Road Rear Wheel"
                                },
                                {
                                    "0": "HL Road Rear Wheel"
                                },
                                {
                                    "0": "Touring Rear Wheel"
                                }
                            ]
                        },
                        "text/html": [
                            "<table>",
                            "<tr><th>Name</th></tr>",
                            "<tr><td>LL Mountain Front Wheel</td></tr>",
                            "<tr><td>ML Mountain Front Wheel</td></tr>",
                            "<tr><td>HL Mountain Front Wheel</td></tr>",
                            "<tr><td>LL Road Front Wheel</td></tr>",
                            "<tr><td>ML Road Front Wheel</td></tr>",
                            "<tr><td>HL Road Front Wheel</td></tr>",
                            "<tr><td>Touring Front Wheel</td></tr>",
                            "<tr><td>LL Mountain Rear Wheel</td></tr>",
                            "<tr><td>ML Mountain Rear Wheel</td></tr>",
                            "<tr><td>HL Mountain Rear Wheel</td></tr>",
                            "<tr><td>LL Road Rear Wheel</td></tr>",
                            "<tr><td>ML Road Rear Wheel</td></tr>",
                            "<tr><td>HL Road Rear Wheel</td></tr>",
                            "<tr><td>Touring Rear Wheel</td></tr>",
                            "</table>"
                        ]
                    }
                },
                {
                    "output_type": "execute_result",
                    "metadata": {},
                    "execution_count": 28,
                    "data": {
                        "application/vnd.dataresource+json": {
                            "schema": {
                                "fields": [
                                    {
                                        "name": "Name"
                                    }
                                ]
                            },
                            "data": [
                                {
                                    "0": "LL Mountain Front Wheel"
                                },
                                {
                                    "0": "ML Mountain Front Wheel"
                                },
                                {
                                    "0": "HL Mountain Front Wheel"
                                },
                                {
                                    "0": "LL Road Front Wheel"
                                },
                                {
                                    "0": "ML Road Front Wheel"
                                },
                                {
                                    "0": "HL Road Front Wheel"
                                },
                                {
                                    "0": "Touring Front Wheel"
                                },
                                {
                                    "0": "LL Mountain Rear Wheel"
                                },
                                {
                                    "0": "ML Mountain Rear Wheel"
                                },
                                {
                                    "0": "HL Mountain Rear Wheel"
                                },
                                {
                                    "0": "LL Road Rear Wheel"
                                },
                                {
                                    "0": "ML Road Rear Wheel"
                                },
                                {
                                    "0": "HL Road Rear Wheel"
                                },
                                {
                                    "0": "Touring Rear Wheel"
                                }
                            ]
                        },
                        "text/html": [
                            "<table>",
                            "<tr><th>Name</th></tr>",
                            "<tr><td>LL Mountain Front Wheel</td></tr>",
                            "<tr><td>ML Mountain Front Wheel</td></tr>",
                            "<tr><td>HL Mountain Front Wheel</td></tr>",
                            "<tr><td>LL Road Front Wheel</td></tr>",
                            "<tr><td>ML Road Front Wheel</td></tr>",
                            "<tr><td>HL Road Front Wheel</td></tr>",
                            "<tr><td>Touring Front Wheel</td></tr>",
                            "<tr><td>LL Mountain Rear Wheel</td></tr>",
                            "<tr><td>ML Mountain Rear Wheel</td></tr>",
                            "<tr><td>HL Mountain Rear Wheel</td></tr>",
                            "<tr><td>LL Road Rear Wheel</td></tr>",
                            "<tr><td>ML Road Rear Wheel</td></tr>",
                            "<tr><td>HL Road Rear Wheel</td></tr>",
                            "<tr><td>Touring Rear Wheel</td></tr>",
                            "</table>"
                        ]
                    }
                }
            ],
            "execution_count": 28
        },
        {
            "cell_type": "markdown",
            "source": [
                "## Subqueries with EXISTS\r\n",
                "\r\n",
                "When a subquery is introduced with the keyword EXISTS, the subquery functions as an existence test. The WHERE clause of the outer query tests whether the rows that are returned by the subquery exist. The subquery does not actually produce any data; it returns a value of TRUE or FALSE.\r\n",
                "\r\n",
                "A subquery introduced with EXISTS has the following syntax:\r\n",
                "\r\n",
                "WHERE [NOT] EXISTS (subquery)"
            ],
            "metadata": {
                "language": "sql",
                "azdata_cell_guid": "8bc76342-1d80-4d0c-9245-270180828335"
            },
            "attachments": {}
        },
        {
            "cell_type": "code",
            "source": [
                "USE AdventureWorks2019;\r\n",
                "GO\r\n",
                "SELECT [Name]\r\n",
                "FROM Production.Product\r\n",
                "WHERE EXISTS\r\n",
                "    (SELECT * \r\n",
                "     FROM Production.ProductSubcategory\r\n",
                "     WHERE ProductSubcategoryID = \r\n",
                "            Production.Product.ProductSubcategoryID\r\n",
                "        AND [Name] = 'Wheels');\r\n",
                "GO\r\n",
                "\r\n",
                "--USING IN INSTEAD OF EXISTS\r\n",
                "-- USE AdventureWorks2019;\r\n",
                "-- GO\r\n",
                "-- SELECT [Name]\r\n",
                "-- FROM Production.Product\r\n",
                "-- WHERE ProductSubcategoryID IN\r\n",
                "--     (SELECT ProductSubcategoryID\r\n",
                "--      FROM Production.ProductSubcategory\r\n",
                "--      WHERE [Name] = 'Wheels');\r\n",
                "-- GO"
            ],
            "metadata": {
                "language": "sql",
                "azdata_cell_guid": "2ec17f5c-07b6-4998-9e85-c833c5b60cbd"
            },
            "outputs": [
                {
                    "output_type": "display_data",
                    "data": {
                        "text/html": "Commands completed successfully."
                    },
                    "metadata": {}
                },
                {
                    "output_type": "display_data",
                    "data": {
                        "text/html": "(14 rows affected)"
                    },
                    "metadata": {}
                },
                {
                    "output_type": "display_data",
                    "data": {
                        "text/html": "Total execution time: 00:00:00.138"
                    },
                    "metadata": {}
                },
                {
                    "output_type": "execute_result",
                    "metadata": {},
                    "execution_count": 29,
                    "data": {
                        "application/vnd.dataresource+json": {
                            "schema": {
                                "fields": [
                                    {
                                        "name": "Name"
                                    }
                                ]
                            },
                            "data": [
                                {
                                    "0": "LL Mountain Front Wheel"
                                },
                                {
                                    "0": "ML Mountain Front Wheel"
                                },
                                {
                                    "0": "HL Mountain Front Wheel"
                                },
                                {
                                    "0": "LL Road Front Wheel"
                                },
                                {
                                    "0": "ML Road Front Wheel"
                                },
                                {
                                    "0": "HL Road Front Wheel"
                                },
                                {
                                    "0": "Touring Front Wheel"
                                },
                                {
                                    "0": "LL Mountain Rear Wheel"
                                },
                                {
                                    "0": "ML Mountain Rear Wheel"
                                },
                                {
                                    "0": "HL Mountain Rear Wheel"
                                },
                                {
                                    "0": "LL Road Rear Wheel"
                                },
                                {
                                    "0": "ML Road Rear Wheel"
                                },
                                {
                                    "0": "HL Road Rear Wheel"
                                },
                                {
                                    "0": "Touring Rear Wheel"
                                }
                            ]
                        },
                        "text/html": [
                            "<table>",
                            "<tr><th>Name</th></tr>",
                            "<tr><td>LL Mountain Front Wheel</td></tr>",
                            "<tr><td>ML Mountain Front Wheel</td></tr>",
                            "<tr><td>HL Mountain Front Wheel</td></tr>",
                            "<tr><td>LL Road Front Wheel</td></tr>",
                            "<tr><td>ML Road Front Wheel</td></tr>",
                            "<tr><td>HL Road Front Wheel</td></tr>",
                            "<tr><td>Touring Front Wheel</td></tr>",
                            "<tr><td>LL Mountain Rear Wheel</td></tr>",
                            "<tr><td>ML Mountain Rear Wheel</td></tr>",
                            "<tr><td>HL Mountain Rear Wheel</td></tr>",
                            "<tr><td>LL Road Rear Wheel</td></tr>",
                            "<tr><td>ML Road Rear Wheel</td></tr>",
                            "<tr><td>HL Road Rear Wheel</td></tr>",
                            "<tr><td>Touring Rear Wheel</td></tr>",
                            "</table>"
                        ]
                    }
                }
            ],
            "execution_count": 29
        },
        {
            "cell_type": "markdown",
            "source": [
                "## Subqueries with NOT EXISTS\r\n",
                "\r\n",
                "NOT EXISTS works like EXISTS, except the WHERE clause in which it is used is satisfied if no rows are returned by the subquery.\r\n",
                "\r\n",
                "For example, to find the names of products that are not in the wheels subcategory:"
            ],
            "metadata": {
                "language": "sql",
                "azdata_cell_guid": "ce728229-7431-46d4-8839-c78483680e70"
            },
            "attachments": {}
        },
        {
            "cell_type": "code",
            "source": [
                "-- USE AdventureWorks2019;\r\n",
                "-- GO\r\n",
                "-- SELECT [Name]\r\n",
                "-- FROM Production.Product\r\n",
                "-- WHERE NOT EXISTS\r\n",
                "--     (SELECT * \r\n",
                "--      FROM Production.ProductSubcategory\r\n",
                "--      WHERE ProductSubcategoryID = \r\n",
                "--             Production.Product.ProductSubcategoryID\r\n",
                "--         AND [Name] = 'Wheels');\r\n",
                "-- GO"
            ],
            "metadata": {
                "language": "sql",
                "azdata_cell_guid": "e2872cc7-2379-4020-81d4-f6c932df2a3e"
            },
            "outputs": [
                {
                    "output_type": "display_data",
                    "data": {
                        "text/html": "Commands completed successfully."
                    },
                    "metadata": {}
                },
                {
                    "output_type": "display_data",
                    "data": {
                        "text/html": "Total execution time: 00:00:00.063"
                    },
                    "metadata": {}
                }
            ],
            "execution_count": 31
        },
        {
            "cell_type": "markdown",
            "source": [
                "## Subqueries used in place of an expression\r\n",
                "\r\n",
                "In Transact-SQL, a subquery can be substituted anywhere an expression can be used in SELECT, UPDATE, INSERT, and DELETE statements, except in an ORDER BY list.\r\n",
                "\r\n",
                "The following example illustrates how you might use this enhancement. This query finds the prices of all mountain bike products, their average price, and the difference between the price of each mountain bike and the average price."
            ],
            "metadata": {
                "language": "sql",
                "azdata_cell_guid": "dddae903-1076-4785-bd69-b5dd71f60e68"
            },
            "attachments": {}
        },
        {
            "cell_type": "code",
            "source": [
                "USE AdventureWorks2019;\r\n",
                "GO\r\n",
                "SELECT [Name], ListPrice, \r\n",
                "(SELECT AVG(ListPrice) FROM Production.Product) AS Average, \r\n",
                "    ListPrice - (SELECT AVG(ListPrice) FROM Production.Product)\r\n",
                "    AS Difference\r\n",
                "FROM Production.Product\r\n",
                "WHERE ProductSubcategoryID = 1;\r\n",
                "GO"
            ],
            "metadata": {
                "language": "sql",
                "azdata_cell_guid": "45457868-8e2e-420c-b887-a10bb1dfef04"
            },
            "outputs": [
                {
                    "output_type": "display_data",
                    "data": {
                        "text/html": "Commands completed successfully."
                    },
                    "metadata": {}
                },
                {
                    "output_type": "display_data",
                    "data": {
                        "text/html": "(32 rows affected)"
                    },
                    "metadata": {}
                },
                {
                    "output_type": "display_data",
                    "data": {
                        "text/html": "Total execution time: 00:00:00.263"
                    },
                    "metadata": {}
                },
                {
                    "output_type": "execute_result",
                    "metadata": {},
                    "execution_count": 32,
                    "data": {
                        "application/vnd.dataresource+json": {
                            "schema": {
                                "fields": [
                                    {
                                        "name": "Name"
                                    },
                                    {
                                        "name": "ListPrice"
                                    },
                                    {
                                        "name": "Average"
                                    },
                                    {
                                        "name": "Difference"
                                    }
                                ]
                            },
                            "data": [
                                {
                                    "0": "Mountain-100 Silver, 38",
                                    "1": "3399.99",
                                    "2": "438.6662",
                                    "3": "2961.3238"
                                },
                                {
                                    "0": "Mountain-100 Silver, 42",
                                    "1": "3399.99",
                                    "2": "438.6662",
                                    "3": "2961.3238"
                                },
                                {
                                    "0": "Mountain-100 Silver, 44",
                                    "1": "3399.99",
                                    "2": "438.6662",
                                    "3": "2961.3238"
                                },
                                {
                                    "0": "Mountain-100 Silver, 48",
                                    "1": "3399.99",
                                    "2": "438.6662",
                                    "3": "2961.3238"
                                },
                                {
                                    "0": "Mountain-100 Black, 38",
                                    "1": "3374.99",
                                    "2": "438.6662",
                                    "3": "2936.3238"
                                },
                                {
                                    "0": "Mountain-100 Black, 42",
                                    "1": "3374.99",
                                    "2": "438.6662",
                                    "3": "2936.3238"
                                },
                                {
                                    "0": "Mountain-100 Black, 44",
                                    "1": "3374.99",
                                    "2": "438.6662",
                                    "3": "2936.3238"
                                },
                                {
                                    "0": "Mountain-100 Black, 48",
                                    "1": "3374.99",
                                    "2": "438.6662",
                                    "3": "2936.3238"
                                },
                                {
                                    "0": "Mountain-200 Silver, 38",
                                    "1": "2319.99",
                                    "2": "438.6662",
                                    "3": "1881.3238"
                                },
                                {
                                    "0": "Mountain-200 Silver, 42",
                                    "1": "2319.99",
                                    "2": "438.6662",
                                    "3": "1881.3238"
                                },
                                {
                                    "0": "Mountain-200 Silver, 46",
                                    "1": "2319.99",
                                    "2": "438.6662",
                                    "3": "1881.3238"
                                },
                                {
                                    "0": "Mountain-200 Black, 38",
                                    "1": "2294.99",
                                    "2": "438.6662",
                                    "3": "1856.3238"
                                },
                                {
                                    "0": "Mountain-200 Black, 42",
                                    "1": "2294.99",
                                    "2": "438.6662",
                                    "3": "1856.3238"
                                },
                                {
                                    "0": "Mountain-200 Black, 46",
                                    "1": "2294.99",
                                    "2": "438.6662",
                                    "3": "1856.3238"
                                },
                                {
                                    "0": "Mountain-300 Black, 38",
                                    "1": "1079.99",
                                    "2": "438.6662",
                                    "3": "641.3238"
                                },
                                {
                                    "0": "Mountain-300 Black, 40",
                                    "1": "1079.99",
                                    "2": "438.6662",
                                    "3": "641.3238"
                                },
                                {
                                    "0": "Mountain-300 Black, 44",
                                    "1": "1079.99",
                                    "2": "438.6662",
                                    "3": "641.3238"
                                },
                                {
                                    "0": "Mountain-300 Black, 48",
                                    "1": "1079.99",
                                    "2": "438.6662",
                                    "3": "641.3238"
                                },
                                {
                                    "0": "Mountain-400-W Silver, 38",
                                    "1": "769.49",
                                    "2": "438.6662",
                                    "3": "330.8238"
                                },
                                {
                                    "0": "Mountain-400-W Silver, 40",
                                    "1": "769.49",
                                    "2": "438.6662",
                                    "3": "330.8238"
                                },
                                {
                                    "0": "Mountain-400-W Silver, 42",
                                    "1": "769.49",
                                    "2": "438.6662",
                                    "3": "330.8238"
                                },
                                {
                                    "0": "Mountain-400-W Silver, 46",
                                    "1": "769.49",
                                    "2": "438.6662",
                                    "3": "330.8238"
                                },
                                {
                                    "0": "Mountain-500 Silver, 40",
                                    "1": "564.99",
                                    "2": "438.6662",
                                    "3": "126.3238"
                                },
                                {
                                    "0": "Mountain-500 Silver, 42",
                                    "1": "564.99",
                                    "2": "438.6662",
                                    "3": "126.3238"
                                },
                                {
                                    "0": "Mountain-500 Silver, 44",
                                    "1": "564.99",
                                    "2": "438.6662",
                                    "3": "126.3238"
                                },
                                {
                                    "0": "Mountain-500 Silver, 48",
                                    "1": "564.99",
                                    "2": "438.6662",
                                    "3": "126.3238"
                                },
                                {
                                    "0": "Mountain-500 Silver, 52",
                                    "1": "564.99",
                                    "2": "438.6662",
                                    "3": "126.3238"
                                },
                                {
                                    "0": "Mountain-500 Black, 40",
                                    "1": "539.99",
                                    "2": "438.6662",
                                    "3": "101.3238"
                                },
                                {
                                    "0": "Mountain-500 Black, 42",
                                    "1": "539.99",
                                    "2": "438.6662",
                                    "3": "101.3238"
                                },
                                {
                                    "0": "Mountain-500 Black, 44",
                                    "1": "539.99",
                                    "2": "438.6662",
                                    "3": "101.3238"
                                },
                                {
                                    "0": "Mountain-500 Black, 48",
                                    "1": "539.99",
                                    "2": "438.6662",
                                    "3": "101.3238"
                                },
                                {
                                    "0": "Mountain-500 Black, 52",
                                    "1": "539.99",
                                    "2": "438.6662",
                                    "3": "101.3238"
                                }
                            ]
                        },
                        "text/html": [
                            "<table>",
                            "<tr><th>Name</th><th>ListPrice</th><th>Average</th><th>Difference</th></tr>",
                            "<tr><td>Mountain-100 Silver, 38</td><td>3399.99</td><td>438.6662</td><td>2961.3238</td></tr>",
                            "<tr><td>Mountain-100 Silver, 42</td><td>3399.99</td><td>438.6662</td><td>2961.3238</td></tr>",
                            "<tr><td>Mountain-100 Silver, 44</td><td>3399.99</td><td>438.6662</td><td>2961.3238</td></tr>",
                            "<tr><td>Mountain-100 Silver, 48</td><td>3399.99</td><td>438.6662</td><td>2961.3238</td></tr>",
                            "<tr><td>Mountain-100 Black, 38</td><td>3374.99</td><td>438.6662</td><td>2936.3238</td></tr>",
                            "<tr><td>Mountain-100 Black, 42</td><td>3374.99</td><td>438.6662</td><td>2936.3238</td></tr>",
                            "<tr><td>Mountain-100 Black, 44</td><td>3374.99</td><td>438.6662</td><td>2936.3238</td></tr>",
                            "<tr><td>Mountain-100 Black, 48</td><td>3374.99</td><td>438.6662</td><td>2936.3238</td></tr>",
                            "<tr><td>Mountain-200 Silver, 38</td><td>2319.99</td><td>438.6662</td><td>1881.3238</td></tr>",
                            "<tr><td>Mountain-200 Silver, 42</td><td>2319.99</td><td>438.6662</td><td>1881.3238</td></tr>",
                            "<tr><td>Mountain-200 Silver, 46</td><td>2319.99</td><td>438.6662</td><td>1881.3238</td></tr>",
                            "<tr><td>Mountain-200 Black, 38</td><td>2294.99</td><td>438.6662</td><td>1856.3238</td></tr>",
                            "<tr><td>Mountain-200 Black, 42</td><td>2294.99</td><td>438.6662</td><td>1856.3238</td></tr>",
                            "<tr><td>Mountain-200 Black, 46</td><td>2294.99</td><td>438.6662</td><td>1856.3238</td></tr>",
                            "<tr><td>Mountain-300 Black, 38</td><td>1079.99</td><td>438.6662</td><td>641.3238</td></tr>",
                            "<tr><td>Mountain-300 Black, 40</td><td>1079.99</td><td>438.6662</td><td>641.3238</td></tr>",
                            "<tr><td>Mountain-300 Black, 44</td><td>1079.99</td><td>438.6662</td><td>641.3238</td></tr>",
                            "<tr><td>Mountain-300 Black, 48</td><td>1079.99</td><td>438.6662</td><td>641.3238</td></tr>",
                            "<tr><td>Mountain-400-W Silver, 38</td><td>769.49</td><td>438.6662</td><td>330.8238</td></tr>",
                            "<tr><td>Mountain-400-W Silver, 40</td><td>769.49</td><td>438.6662</td><td>330.8238</td></tr>",
                            "<tr><td>Mountain-400-W Silver, 42</td><td>769.49</td><td>438.6662</td><td>330.8238</td></tr>",
                            "<tr><td>Mountain-400-W Silver, 46</td><td>769.49</td><td>438.6662</td><td>330.8238</td></tr>",
                            "<tr><td>Mountain-500 Silver, 40</td><td>564.99</td><td>438.6662</td><td>126.3238</td></tr>",
                            "<tr><td>Mountain-500 Silver, 42</td><td>564.99</td><td>438.6662</td><td>126.3238</td></tr>",
                            "<tr><td>Mountain-500 Silver, 44</td><td>564.99</td><td>438.6662</td><td>126.3238</td></tr>",
                            "<tr><td>Mountain-500 Silver, 48</td><td>564.99</td><td>438.6662</td><td>126.3238</td></tr>",
                            "<tr><td>Mountain-500 Silver, 52</td><td>564.99</td><td>438.6662</td><td>126.3238</td></tr>",
                            "<tr><td>Mountain-500 Black, 40</td><td>539.99</td><td>438.6662</td><td>101.3238</td></tr>",
                            "<tr><td>Mountain-500 Black, 42</td><td>539.99</td><td>438.6662</td><td>101.3238</td></tr>",
                            "<tr><td>Mountain-500 Black, 44</td><td>539.99</td><td>438.6662</td><td>101.3238</td></tr>",
                            "<tr><td>Mountain-500 Black, 48</td><td>539.99</td><td>438.6662</td><td>101.3238</td></tr>",
                            "<tr><td>Mountain-500 Black, 52</td><td>539.99</td><td>438.6662</td><td>101.3238</td></tr>",
                            "</table>"
                        ]
                    }
                }
            ],
            "execution_count": 32
        },
        {
            "cell_type": "code",
            "source": [
                "-- CREATE TABLE charms_class (\r\n",
                "--     student_name varchar(255),\r\n",
                "--     charms_grade varchar(255)\r\n",
                "-- );\r\n",
                "-- INSERT INTO charms_class (student_name, charms_grade)\r\n",
                "-- VALUES\r\n",
                "--     ('Harry', 'C'),\r\n",
                "--     ('Ron', 'D'),\r\n",
                "--     ('Hermione', 'A'),\r\n",
                "--     ('Luna', 'B'),\r\n",
                "--     ('Neville', 'B')\r\n",
                "-- ;\r\n",
                "-- CREATE TABLE potions_class (\r\n",
                "--     student_name varchar(255),\r\n",
                "--     potions_grade varchar(255)\r\n",
                "-- );\r\n",
                "-- INSERT INTO potions_class (student_name, potions_grade)\r\n",
                "-- VALUES \r\n",
                "--     ('Harry', 'A'),\r\n",
                "--     ('Ron', 'C'),\r\n",
                "--     ('Hermione', 'B'),\r\n",
                "--     ('Ginny', 'A'),\r\n",
                "--     ('Draco', 'D')\r\n",
                ";"
            ],
            "metadata": {
                "azdata_cell_guid": "449b76eb-ac81-4016-bfe3-73f9dfb772f2",
                "language": "sql"
            },
            "outputs": [
                {
                    "output_type": "display_data",
                    "data": {
                        "text/html": "Commands completed successfully."
                    },
                    "metadata": {}
                },
                {
                    "output_type": "display_data",
                    "data": {
                        "text/html": "Total execution time: 00:00:00.064"
                    },
                    "metadata": {}
                }
            ],
            "execution_count": 2
        },
        {
            "cell_type": "code",
            "source": [
                "-- --INNER JOIN\r\n",
                "-- select * \r\n",
                "-- from \r\n",
                "-- charms_class INNER JOIN potions_class \r\n",
                "-- on \r\n",
                "-- charms_class.student_name=potions_class.student_name;\r\n",
                "\r\n",
                "\r\n",
                "-- --OUTER JOIN\r\n",
                "-- select * \r\n",
                "-- from \r\n",
                "-- charms_class FULL OUTER JOIN potions_class \r\n",
                "-- on \r\n",
                "-- charms_class.student_name=potions_class.student_name;\r\n",
                "\r\n",
                "\r\n",
                "-- --LEFT OUTER JOIN\r\n",
                "-- select * \r\n",
                "-- from \r\n",
                "-- charms_class LEFT OUTER JOIN potions_class \r\n",
                "-- on \r\n",
                "-- charms_class.student_name=potions_class.student_name;\r\n",
                "\r\n",
                "\r\n",
                "-- --RIGHT OUTER JOIN\r\n",
                "-- select * \r\n",
                "-- from \r\n",
                "-- charms_class RIGHT OUTER JOIN potions_class \r\n",
                "-- on \r\n",
                "-- charms_class.student_name=potions_class.student_name;"
            ],
            "metadata": {
                "language": "sql",
                "azdata_cell_guid": "a3ed859b-623d-46e5-baa0-f8be8968ef79"
            },
            "outputs": [],
            "execution_count": null
        }
    ]
}