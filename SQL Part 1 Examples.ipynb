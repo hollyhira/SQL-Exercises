{
    "metadata": {
        "kernelspec": {
            "name": "SQL",
            "display_name": "SQL",
            "language": "sql"
        },
        "language_info": {
            "name": "sql",
            "version": ""
        }
    },
    "nbformat_minor": 2,
    "nbformat": 4,
    "cells": [
        {
            "cell_type": "markdown",
            "source": [
                "**SELECT and FROM**"
            ],
            "metadata": {
                "azdata_cell_guid": "8504103e-5d8b-46ff-a0f0-87ad8ca33a5e"
            },
            "attachments": {}
        },
        {
            "cell_type": "code",
            "source": [
                "SELECT \r\n",
                "    authors,\r\n",
                "    title\r\n",
                "FROM \r\n",
                "    BooksDB.dbo.books"
            ],
            "metadata": {
                "azdata_cell_guid": "f493307e-4c35-4784-b5c5-17250ff0bb4f",
                "language": "sql",
                "tags": []
            },
            "outputs": [],
            "execution_count": null
        },
        {
            "cell_type": "markdown",
            "source": [
                "**SELECT \\***"
            ],
            "metadata": {
                "language": "sql",
                "azdata_cell_guid": "abf0d405-d897-4823-82f6-83c6fa5198c3"
            },
            "attachments": {}
        },
        {
            "cell_type": "code",
            "source": [
                "SELECT \r\n",
                "    *\r\n",
                "FROM \r\n",
                "    BooksDB.dbo.books"
            ],
            "metadata": {
                "language": "sql",
                "azdata_cell_guid": "2a2b9074-5c56-4ee5-aaee-f9e00947adaf",
                "tags": []
            },
            "outputs": [],
            "execution_count": null
        },
        {
            "cell_type": "markdown",
            "source": [
                "**TOP**"
            ],
            "metadata": {
                "language": "sql",
                "azdata_cell_guid": "f879b376-7602-497f-b6ab-b192e4ee7848"
            },
            "attachments": {}
        },
        {
            "cell_type": "code",
            "source": [
                "SELECT \r\n",
                "    TOP 5 authors\r\n",
                "FROM \r\n",
                "    BooksDB.dbo.books"
            ],
            "metadata": {
                "azdata_cell_guid": "985d44c0-1e24-4a06-a68e-d6627e66126d",
                "language": "sql",
                "tags": []
            },
            "outputs": [],
            "execution_count": null
        },
        {
            "cell_type": "code",
            "source": [
                "SELECT \r\n",
                "    TOP 5 *\r\n",
                "FROM \r\n",
                "    BooksDB.dbo.books"
            ],
            "metadata": {
                "language": "sql",
                "azdata_cell_guid": "bfb2527e-a6f3-454e-b905-0e34ab7675b7",
                "tags": []
            },
            "outputs": [],
            "execution_count": null
        },
        {
            "cell_type": "code",
            "source": [
                "-- HW Question 1: Select the top 1000 rows from the books table. Make sure you are able to see all of the cols\r\n",
                "SELECT\r\n",
                "    TOP 1000 *\r\n",
                "FROM\r\n",
                "    BooksDB.dbo.books"
            ],
            "metadata": {
                "language": "sql",
                "azdata_cell_guid": "a491fab4-1128-4332-8b79-10ba39f279fa",
                "tags": []
            },
            "outputs": [],
            "execution_count": null
        },
        {
            "cell_type": "markdown",
            "source": [
                "**AS**"
            ],
            "metadata": {
                "language": "sql",
                "azdata_cell_guid": "8a3ba447-7bdc-41e4-ae22-ab6c039298f3"
            },
            "attachments": {}
        },
        {
            "cell_type": "code",
            "source": [
                "SELECT \r\n",
                "    TOP 5 books_count AS 'Number of Editions'\r\n",
                "FROM \r\n",
                "    BooksDB.dbo.books"
            ],
            "metadata": {
                "language": "sql",
                "azdata_cell_guid": "22a3bdbf-4beb-4b46-8306-9657f2b28ca4",
                "tags": []
            },
            "outputs": [],
            "execution_count": null
        },
        {
            "cell_type": "markdown",
            "source": [
                "**DISTINCT**"
            ],
            "metadata": {
                "language": "sql",
                "azdata_cell_guid": "239dc134-97a5-4c86-ac1a-2a7f0a1cf654"
            },
            "attachments": {}
        },
        {
            "cell_type": "code",
            "source": [
                "SELECT \r\n",
                "    DISTINCT language_code\r\n",
                "FROM \r\n",
                "    BooksDB.dbo.books"
            ],
            "metadata": {
                "language": "sql",
                "azdata_cell_guid": "afa3c565-0f12-4dfe-bfb2-d1f204d8cb38",
                "tags": []
            },
            "outputs": [],
            "execution_count": null
        },
        {
            "cell_type": "code",
            "source": [
                "-- HW Question 4: Create a query that displays distinct authors from the table\r\n",
                "SELECT\r\n",
                "    DISTINCT authors\r\n",
                "FROM \r\n",
                "    BooksDB.dbo.books"
            ],
            "metadata": {
                "language": "sql",
                "azdata_cell_guid": "0146e813-3dde-4b69-b16e-3d2bc50ae879",
                "tags": []
            },
            "outputs": [],
            "execution_count": null
        },
        {
            "cell_type": "markdown",
            "source": [
                "**COUNT**"
            ],
            "metadata": {
                "language": "sql",
                "azdata_cell_guid": "a26f3723-2510-4e84-9ed6-6f2e2787d0c4"
            },
            "attachments": {}
        },
        {
            "cell_type": "code",
            "source": [
                "SELECT  \r\n",
                "    COUNT(*) AS 'Total Number of Rows'\r\n",
                "FROM\r\n",
                "    BooksDB.dbo.books"
            ],
            "metadata": {
                "language": "sql",
                "azdata_cell_guid": "5c21a775-143e-41ab-a9c6-33a77aee6951",
                "tags": []
            },
            "outputs": [],
            "execution_count": null
        },
        {
            "cell_type": "code",
            "source": [
                "SELECT\r\n",
                "    COUNT(original_publication_year) AS 'Total Number of Rows Where Pub Year is Non-Null'\r\n",
                "FROM\r\n",
                "    BooksDB.dbo.books"
            ],
            "metadata": {
                "language": "sql",
                "azdata_cell_guid": "c8f1a02d-b54c-4dbe-a296-c9ae7c2674af",
                "tags": []
            },
            "outputs": [],
            "execution_count": null
        },
        {
            "cell_type": "code",
            "source": [
                "-- HW Question 2: Count the number of titles. Are there 10,000 titles as promised? \r\n",
                "SELECT\r\n",
                "    COUNT(title) AS 'Total Number of Titles'\r\n",
                "FROM\r\n",
                "    BooksDB.dbo.books"
            ],
            "metadata": {
                "language": "sql",
                "azdata_cell_guid": "2c84c6f3-156d-4025-949c-d57da2a6a62e",
                "tags": []
            },
            "outputs": [],
            "execution_count": null
        },
        {
            "cell_type": "code",
            "source": [
                "SELECT \r\n",
                "    COUNT(DISTINCT original_publication_year) AS 'Total Number of Different Publication Years'\r\n",
                "FROM \r\n",
                "    BooksDB.dbo.books"
            ],
            "metadata": {
                "language": "sql",
                "azdata_cell_guid": "523a7d37-5307-4aa7-a215-0e9c89351782",
                "tags": []
            },
            "outputs": [],
            "execution_count": null
        },
        {
            "cell_type": "markdown",
            "source": [
                "**MIN, MAX, SUM, AVG**"
            ],
            "metadata": {
                "language": "sql",
                "azdata_cell_guid": "6ab99233-86e6-4a7b-bfc5-70d1be24e516"
            },
            "attachments": {}
        },
        {
            "cell_type": "code",
            "source": [
                "SELECT\r\n",
                "    MIN(original_publication_year) AS 'Earliest Publication Year',\r\n",
                "    MAX(original_publication_year) AS 'Latest Publication Year',\r\n",
                "    SUM(ratings_count) AS 'Total Number of Ratings Given to All Books',\r\n",
                "    AVG(books_count) AS 'Avg Number of Editions'\r\n",
                "FROM\r\n",
                "    BooksDB.dbo.books"
            ],
            "metadata": {
                "language": "sql",
                "azdata_cell_guid": "b8a3239e-0a40-43c2-8731-44c66e0633d9",
                "tags": []
            },
            "outputs": [],
            "execution_count": null
        },
        {
            "cell_type": "markdown",
            "source": [
                "**GROUP BY**"
            ],
            "metadata": {
                "language": "sql",
                "azdata_cell_guid": "507aba20-494a-4db2-9ed5-010694c5a0a2"
            },
            "attachments": {}
        },
        {
            "cell_type": "code",
            "source": [
                "SELECT \r\n",
                "    original_publication_year, \r\n",
                "    COUNT(*) AS 'Number of Books Published this Year'\r\n",
                "FROM \r\n",
                "    BooksDB.dbo.books\r\n",
                "GROUP BY \r\n",
                "    original_publication_year"
            ],
            "metadata": {
                "language": "sql",
                "azdata_cell_guid": "f02e854c-2503-4378-9b0b-8f163c90884a",
                "tags": []
            },
            "outputs": [],
            "execution_count": null
        },
        {
            "cell_type": "markdown",
            "source": [
                "Why are there more rows than indicated when we previously counted the number of distinct values?"
            ],
            "metadata": {
                "language": "sql",
                "azdata_cell_guid": "aaf7150e-182c-49d0-b3a5-f576b2755fa4"
            },
            "attachments": {}
        },
        {
            "cell_type": "code",
            "source": [
                "SELECT \r\n",
                "    *\r\n",
                "FROM \r\n",
                "    BooksDB.dbo.books\r\n",
                "WHERE \r\n",
                "    original_publication_year IS NULL -- FYI 'IS' is usually interchangeable with '=' except when referencing NULL values"
            ],
            "metadata": {
                "language": "sql",
                "azdata_cell_guid": "0872088e-206d-431e-a55a-2eae7d6492c4",
                "tags": []
            },
            "outputs": [],
            "execution_count": null
        },
        {
            "cell_type": "code",
            "source": [
                "-- HW Question B2: Create a query that counts the number of goodreads_book_ids grouped by the tag_id\r\n",
                "SELECT \r\n",
                "    COUNT(goodreads_book_id) AS 'Number of Books with This Tag',\r\n",
                "    tag_id\r\n",
                "FROM \r\n",
                "    BooksDB.dbo.book_tags\r\n",
                "GROUP BY tag_id\r\n",
                ""
            ],
            "metadata": {
                "language": "sql",
                "azdata_cell_guid": "b4eda1e9-5fbe-4cd4-beca-a855dddc8c12",
                "tags": []
            },
            "outputs": [],
            "execution_count": null
        },
        {
            "cell_type": "code",
            "source": [
                "-- HW Question B3: In the last query we create a new, unnamed column. Using AS create an alias\r\n",
                "-- to provide a name of your choice to this new column"
            ],
            "metadata": {
                "language": "sql",
                "azdata_cell_guid": "ca75190e-4a93-446f-a0ad-514af08559aa",
                "tags": [
                    "hide_input"
                ]
            },
            "outputs": [],
            "execution_count": null
        },
        {
            "cell_type": "markdown",
            "source": [
                "**ORDER BY**"
            ],
            "metadata": {
                "language": "sql",
                "azdata_cell_guid": "9056ac67-62c7-45f2-ae6b-b1d6b6dd3894"
            },
            "attachments": {}
        },
        {
            "cell_type": "code",
            "source": [
                "SELECT\r\n",
                "    TOP 5 \r\n",
                "    title, \r\n",
                "    average_rating \r\n",
                "FROM\r\n",
                "    BooksDB.dbo.books\r\n",
                "ORDER BY \r\n",
                "    average_rating DESC"
            ],
            "metadata": {
                "language": "sql",
                "azdata_cell_guid": "437bd201-6009-4bb4-b9ac-506ddbfc29a6",
                "tags": []
            },
            "outputs": [],
            "execution_count": null
        },
        {
            "cell_type": "code",
            "source": [
                "-- HW Question B1: SELECT the TOP 1000 table items ordered by the tag_id (from Book Tags Table)\r\n",
                "SELECT \r\n",
                "    TOP 1000 *\r\n",
                "FROM \r\n",
                "    BooksDB.dbo.book_tags\r\n",
                "ORDER BY tag_id"
            ],
            "metadata": {
                "language": "sql",
                "azdata_cell_guid": "5da9952a-439a-4877-8a37-0d643a97477c",
                "tags": []
            },
            "outputs": [],
            "execution_count": null
        },
        {
            "cell_type": "code",
            "source": [
                "-- HW Question C1: Create a query that displays the top 1000 items in the table in descending order\r\n",
                "SELECT\r\n",
                "    TOP 1000 * \r\n",
                "FROM\r\n",
                "    BooksDB.dbo.ratings\r\n",
                "ORDER BY rating DESC"
            ],
            "metadata": {
                "language": "sql",
                "azdata_cell_guid": "a8e03839-de6c-42f6-8038-3f37c5b4ab19"
            },
            "outputs": [],
            "execution_count": null
        },
        {
            "cell_type": "markdown",
            "source": [
                "**WHERE**"
            ],
            "metadata": {
                "language": "sql",
                "azdata_cell_guid": "be05d38d-f2c1-4ad1-94ea-60305658fdb5"
            },
            "attachments": {}
        },
        {
            "cell_type": "code",
            "source": [
                "SELECT\r\n",
                "    title, \r\n",
                "    average_rating\r\n",
                "FROM\r\n",
                "    BooksDB.dbo.books\r\n",
                "WHERE  \r\n",
                "    average_rating > 4.7"
            ],
            "metadata": {
                "language": "sql",
                "azdata_cell_guid": "8c74292d-611a-47c9-a5c0-e2f756f94ddf",
                "tags": []
            },
            "outputs": [],
            "execution_count": null
        },
        {
            "cell_type": "code",
            "source": [
                "SELECT\r\n",
                "    COUNT(*)\r\n",
                "FROM\r\n",
                "    BooksDB.dbo.books\r\n",
                "WHERE\r\n",
                "    average_rating > 4.7"
            ],
            "metadata": {
                "language": "sql",
                "azdata_cell_guid": "bfa8265c-1ffc-4c32-93df-d92e246fa907",
                "tags": []
            },
            "outputs": [],
            "execution_count": null
        },
        {
            "cell_type": "code",
            "source": [
                "-- HW Question 3: Count the number of books where the original_publication_year is earlier than 1800\r\n",
                "SELECT\r\n",
                "    COUNT(*)\r\n",
                "FROM\r\n",
                "    BooksDB.dbo.books\r\n",
                "WHERE original_publication_year < 1800"
            ],
            "metadata": {
                "language": "sql",
                "azdata_cell_guid": "b71f10d1-ff66-46ed-b25a-f149e3acabd0",
                "tags": []
            },
            "outputs": [],
            "execution_count": null
        },
        {
            "cell_type": "code",
            "source": [
                "SELECT\r\n",
                "    authors,\r\n",
                "    title, \r\n",
                "    average_rating,\r\n",
                "    original_publication_year\r\n",
                "FROM\r\n",
                "    BooksDB.dbo.books\r\n",
                "WHERE  \r\n",
                "    average_rating <= 3"
            ],
            "metadata": {
                "language": "sql",
                "azdata_cell_guid": "2562a5bd-b5c9-4cb4-8d1c-7d33fe689773",
                "tags": []
            },
            "outputs": [],
            "execution_count": null
        },
        {
            "cell_type": "code",
            "source": [
                "SELECT\r\n",
                "    authors,\r\n",
                "    title, \r\n",
                "    average_rating,\r\n",
                "    original_publication_year\r\n",
                "FROM\r\n",
                "    BooksDB.dbo.books\r\n",
                "WHERE  \r\n",
                "    average_rating <= 3\r\n",
                "    AND original_publication_year < 2005"
            ],
            "metadata": {
                "language": "sql",
                "azdata_cell_guid": "75cf3ad7-393f-4b82-a9d5-ef70e703069a",
                "tags": []
            },
            "outputs": [],
            "execution_count": null
        },
        {
            "cell_type": "code",
            "source": [
                "SELECT\r\n",
                "    authors,\r\n",
                "    title, \r\n",
                "    average_rating,\r\n",
                "    original_publication_year\r\n",
                "FROM\r\n",
                "    BooksDB.dbo.books\r\n",
                "WHERE  \r\n",
                "    average_rating <= 3\r\n",
                "    AND authors NOT IN ('Chetan Bhagat', 'Chuck Palahniuk')"
            ],
            "metadata": {
                "language": "sql",
                "azdata_cell_guid": "49d2f806-7571-4bc3-bb12-ab14e81d40b2",
                "tags": []
            },
            "outputs": [],
            "execution_count": null
        },
        {
            "cell_type": "code",
            "source": [
                "SELECT\r\n",
                "    authors,\r\n",
                "    title, \r\n",
                "    book_id\r\n",
                "FROM\r\n",
                "    BooksDB.dbo.books\r\n",
                "WHERE  \r\n",
                "    book_id BETWEEN 1 and 10"
            ],
            "metadata": {
                "language": "sql",
                "azdata_cell_guid": "a978e020-5c12-403a-bd9d-72c6dceec0e9",
                "tags": []
            },
            "outputs": [],
            "execution_count": null
        },
        {
            "cell_type": "code",
            "source": [
                "-- HW Question 6: Create a query to check how many original title were written during the WWI era\r\n",
                "-- (1914-1921)\r\n",
                "SELECT\r\n",
                "    original_title\r\n",
                "FROM \r\n",
                "    BooksDB.dbo.books\r\n",
                "WHERE \r\n",
                "    original_publication_year BETWEEN 1914 AND 1921"
            ],
            "metadata": {
                "language": "sql",
                "azdata_cell_guid": "99ba438a-3f0c-478b-a2e8-c146c6b14cac",
                "tags": []
            },
            "outputs": [],
            "execution_count": null
        },
        {
            "cell_type": "code",
            "source": [
                "SELECT\r\n",
                "    authors,\r\n",
                "    title\r\n",
                "FROM\r\n",
                "    BooksDB.dbo.books\r\n",
                "WHERE  \r\n",
                "    authors LIKE '_k%'"
            ],
            "metadata": {
                "language": "sql",
                "azdata_cell_guid": "df62578f-446e-4093-8e6e-b2e471cae73c",
                "tags": []
            },
            "outputs": [],
            "execution_count": null
        },
        {
            "cell_type": "code",
            "source": [
                "-- HW Question 5: Create a query that displays a count of all the books that contain a language code for\r\n",
                "-- English. This could be represented in the table as 'eng' or 'en-'\r\n",
                "SELECT\r\n",
                "    COUNT(language_code)\r\n",
                "FROM\r\n",
                "    BooksDB.dbo.books\r\n",
                "WHERE\r\n",
                "    language_code LIKE 'en%'"
            ],
            "metadata": {
                "language": "sql",
                "azdata_cell_guid": "b3c2eb01-857a-42c9-bb39-f3a26229c454",
                "tags": []
            },
            "outputs": [],
            "execution_count": null
        },
        {
            "cell_type": "code",
            "source": [
                "-- HW Question D1 (Tags Table): Create a query that returns table items where the tag_name \r\n",
                "-- describes the book as a mystery\r\n",
                "SELECT\r\n",
                "    *\r\n",
                "FROM\r\n",
                "    BooksDB.dbo.tags\r\n",
                "WHERE \r\n",
                "    tag_name LIKE 'mystery%'\r\n",
                "    OR tag_name LIKE '%mystery'\r\n",
                "    OR tag_name LIKE '%mystery%'"
            ],
            "metadata": {
                "language": "sql",
                "azdata_cell_guid": "26deadbb-8f59-4716-8020-ecf16946d734",
                "tags": []
            },
            "outputs": [],
            "execution_count": null
        }
    ]
}